{
  "nbformat": 4,
  "nbformat_minor": 0,
  "metadata": {
    "colab": {
      "provenance": [],
      "authorship_tag": "ABX9TyPJSOVNKNsbmIjXNc52syfk",
      "include_colab_link": true
    },
    "kernelspec": {
      "name": "python3",
      "display_name": "Python 3"
    },
    "language_info": {
      "name": "python"
    }
  },
  "cells": [
    {
      "cell_type": "markdown",
      "metadata": {
        "id": "view-in-github",
        "colab_type": "text"
      },
      "source": [
        "<a href=\"https://colab.research.google.com/github/sheikhrakib0/RAGHSC/blob/main/10MRAGPipeline.ipynb\" target=\"_parent\"><img src=\"https://colab.research.google.com/assets/colab-badge.svg\" alt=\"Open In Colab\"/></a>"
      ]
    },
    {
      "cell_type": "code",
      "source": [
        "import numpy as np\n",
        "import pandas as pd"
      ],
      "metadata": {
        "id": "XsgB9Cm8fVK-"
      },
      "execution_count": 3,
      "outputs": []
    },
    {
      "cell_type": "code",
      "metadata": {
        "colab": {
          "base_uri": "https://localhost:8080/"
        },
        "id": "D_Fm-QHEDjx9",
        "outputId": "108aa3ef-7172-44bd-cb24-48161970b695"
      },
      "source": [
        "# Load the text from the .txt file\n",
        "try:\n",
        "    with open(\"cleaned.txt\", \"r\", encoding=\"utf-8\") as f:\n",
        "        cleaned_text = f.read()\n",
        "    print(\"Successfully loaded text from ocr_text_pymupdf.txt\")\n",
        "except FileNotFoundError:\n",
        "    print(\"Error: ocr_text_pymupdf.txt not found.\")\n",
        "    cleaned_text = None\n",
        "\n",
        "# Display the first 1000 characters to verify\n",
        "if cleaned_text:\n",
        "    print(cleaned_text[:1000])"
      ],
      "execution_count": 7,
      "outputs": [
        {
          "output_type": "stream",
          "name": "stdout",
          "text": [
            "Successfully loaded text from ocr_text_pymupdf.txt\n",
            "অপরিচিতা\n",
            "\n",
            "অনলাইন ব্যাচ সম্পর্কিত যেকোনো জিজ্ঞাসায়,\n",
            "\n",
            "কল করো 16919\n",
            "\n",
            "আনলাইন ব্যাচ”\n",
            "\n",
            "শিখনফলঃ \n",
            "1. নিম্নবিত্ত ব্যক্তির হঠাৎ বিত্তশালী হয়ে ওঠার ফলে সমাজে পরিচয় সংকট সম্পর্কে ধারণা লাভ করবে। \n",
            "2. তৎকালীন সমাজ-সভ্যতা ও মানবতার অবমাননা সম্পর্কে জানতে পারবে। \n",
            "3. তৎকালীন সমাজের পণপ্রথার কুপ্রভাব সম্পর্কে জানতে পারবে।\n",
            "4. তৎকালে সমাজে ভদ্রলোকের স্বভাববৈশিষ্ট্য সম্পর্কে জ্ঞানলাভ করবে।\n",
            "5. নারী কোমল ঠিক, কিন্তু দুর্বল নয়- কল্যাণীর জীবনচরিত দ্বারা প্রতিষ্ঠিত এই সত্য অনুধাবন করতে পারবে। \n",
            "6. মানুষ আশা নিয়ে বেঁচে থাকে- অনুপমের দৃষ্টান্তে মানবজীবনের এই চিরন্তন সত্যদর্শন সম্পর্কে জ্ঞানলাভ করবে। \n",
            "\n",
            "প্রাক-মুল্যায়নঃ\n",
            "১। অনুপমের বাবা কী করে জীবিকা নির্বাহ করতেন? \n",
            "ক) ডাক্তারি খ) ওকালতি গ) মাস্টারি ঘ) ব্যবসা \n",
            "২। মামাকে ভাগ্য দেবতার প্রধান এজেন্ট বলার কারণ, তার- \n",
            "ক) প্রতিপত্তি খ) প্রভাব গ) বিচক্ষণতা ঘ) কুট বুদ্ধি\n",
            "\n",
            "নিচের অনুচ্ছেদটি পড়ে ৩ ও ৪ সংখ্যক প্রশ্নের উত্তর দাও।\n",
            "\n",
            "পিতৃহীন দীপুর চাচাই ছিলেন পরিবারের কর্তা। দীপু শিক্ষিত হলেও তার সিদ্ধান্ত নেওয়ার ক্ষমতা ছিল না। চাচা তার বিয়ের উদ্যোগ নিলেও যৌতুক নিয়ে বাড়াবা\n"
          ]
        }
      ]
    },
    {
      "cell_type": "code",
      "source": [
        "!pip install PyPDF2\n",
        "#!pip install gdown"
      ],
      "metadata": {
        "colab": {
          "base_uri": "https://localhost:8080/"
        },
        "id": "c_lm3rby_v2n",
        "outputId": "53dac950-aa0e-476f-e93c-cd7ce66f80fb"
      },
      "execution_count": 6,
      "outputs": [
        {
          "output_type": "stream",
          "name": "stdout",
          "text": [
            "Collecting PyPDF2\n",
            "  Downloading pypdf2-3.0.1-py3-none-any.whl.metadata (6.8 kB)\n",
            "Downloading pypdf2-3.0.1-py3-none-any.whl (232 kB)\n",
            "\u001b[2K   \u001b[90m━━━━━━━━━━━━━━━━━━━━━━━━━━━━━━━━━━━━━━━━\u001b[0m \u001b[32m232.6/232.6 kB\u001b[0m \u001b[31m2.9 MB/s\u001b[0m eta \u001b[36m0:00:00\u001b[0m\n",
            "\u001b[?25hInstalling collected packages: PyPDF2\n",
            "Successfully installed PyPDF2-3.0.1\n"
          ]
        }
      ]
    },
    {
      "cell_type": "code",
      "execution_count": 7,
      "metadata": {
        "id": "XB4dPvun_d8K"
      },
      "outputs": [],
      "source": [
        "import os\n",
        "from PyPDF2 import PdfReader"
      ]
    },
    {
      "cell_type": "code",
      "metadata": {
        "colab": {
          "base_uri": "https://localhost:8080/",
          "height": 110
        },
        "id": "d5f446ca",
        "outputId": "7fe1f5cb-7126-4f28-c33a-e3184c0f6711"
      },
      "source": [
        "import gdown\n",
        "\n",
        "# Replacing with Google Drive file ID\n",
        "google_drive_file_id = '19h7t3xVNBS5KR9o2sLMh3i2uaje7ww7n'\n",
        "output_filename = 'downloaded_pdf.pdf'\n",
        "\n",
        "gdown.download(f'https://drive.google.com/uc?id={google_drive_file_id}', output_filename, quiet=False)"
      ],
      "execution_count": 3,
      "outputs": [
        {
          "output_type": "stream",
          "name": "stderr",
          "text": [
            "Downloading...\n",
            "From: https://drive.google.com/uc?id=19h7t3xVNBS5KR9o2sLMh3i2uaje7ww7n\n",
            "To: /content/downloaded_pdf.pdf\n",
            "100%|██████████| 1.26M/1.26M [00:00<00:00, 13.5MB/s]\n"
          ]
        },
        {
          "output_type": "execute_result",
          "data": {
            "text/plain": [
              "'downloaded_pdf.pdf'"
            ],
            "application/vnd.google.colaboratory.intrinsic+json": {
              "type": "string"
            }
          },
          "metadata": {},
          "execution_count": 3
        }
      ]
    },
    {
      "cell_type": "markdown",
      "metadata": {
        "id": "8c51f813"
      },
      "source": [
        "Now, creating a function to accept a single file path and extract text from it."
      ]
    },
    {
      "cell_type": "code",
      "metadata": {
        "id": "95a2a87f"
      },
      "source": [
        "def extract_text_from_pdfs(file_path):\n",
        "\n",
        "    if file_path.endswith('.pdf') and os.path.exists(file_path):\n",
        "        reader = PdfReader(file_path)\n",
        "        text = ''\n",
        "        for page in reader.pages:\n",
        "            text += page.extract_text()\n",
        "    else:\n",
        "        print(f\"Error: File not found or not a PDF at {file_path}\")\n",
        "    return text"
      ],
      "execution_count": null,
      "outputs": []
    },
    {
      "cell_type": "markdown",
      "metadata": {
        "id": "792fa628"
      },
      "source": [
        "Now we can use the function with the downloaded file path to analyse the pdf file."
      ]
    },
    {
      "cell_type": "code",
      "metadata": {
        "id": "f086fca1"
      },
      "source": [
        "all_text = extract_text_from_pdfs(output_filename)"
      ],
      "execution_count": null,
      "outputs": []
    },
    {
      "cell_type": "code",
      "source": [
        "len(all_text)"
      ],
      "metadata": {
        "colab": {
          "base_uri": "https://localhost:8080/"
        },
        "id": "_SULyaRvFe_Y",
        "outputId": "d8700666-c347-42d6-a34b-8c20bc7e1ac1"
      },
      "execution_count": null,
      "outputs": [
        {
          "output_type": "execute_result",
          "data": {
            "text/plain": [
              "83621"
            ]
          },
          "metadata": {},
          "execution_count": 43
        }
      ]
    },
    {
      "cell_type": "markdown",
      "source": [
        "Now we need to make chunks for retrieval process\n",
        "\n",
        "N.B: ekhane split kora hoyeche character onujaie. aro onek splitter ache jemon\n",
        "\n",
        "How to: recursively split text\n",
        "How to: split HTML\n",
        "How to: split by character\n",
        "How to: split code\n",
        "How to: split Markdown by headers\n",
        "How to: recursively split JSON\n",
        "How to: split text into semantic chunks\n",
        "How to: split by tokens"
      ],
      "metadata": {
        "id": "8wEXAhHtG9MT"
      }
    },
    {
      "cell_type": "code",
      "source": [
        "# as a text splitter we are using CharacterTextSplitter from Langchain framework\n",
        "from langchain.text_splitter import RecursiveCharacterTextSplitter"
      ],
      "metadata": {
        "id": "m1w7WVK6HCtU"
      },
      "execution_count": 8,
      "outputs": []
    },
    {
      "cell_type": "code",
      "source": [
        "def split_docs(docs):\n",
        "    text_splitter = RecursiveCharacterTextSplitter(chunk_size=1000, chunk_overlap=100)\n",
        "    chunks = text_splitter.create_documents([docs])\n",
        "    return chunks"
      ],
      "metadata": {
        "id": "Z31Yuz1BHFGf"
      },
      "execution_count": 9,
      "outputs": []
    },
    {
      "cell_type": "code",
      "source": [
        "# testing the function\n",
        "all_chunks = split_docs(cleaned_text)"
      ],
      "metadata": {
        "id": "dBBXU54qH3xl"
      },
      "execution_count": 10,
      "outputs": []
    },
    {
      "cell_type": "code",
      "source": [
        "all_chunks[0].page_content"
      ],
      "metadata": {
        "colab": {
          "base_uri": "https://localhost:8080/",
          "height": 128
        },
        "id": "TjwllH7pbvmp",
        "outputId": "606efea9-6c65-4732-e8c4-0499b87fc50d"
      },
      "execution_count": 11,
      "outputs": [
        {
          "output_type": "execute_result",
          "data": {
            "text/plain": [
              "'অপরিচিতা\\n\\nঅনলাইন ব্যাচ সম্পর্কিত যেকোনো জিজ্ঞাসায়,\\n\\nকল করো 16919\\n\\nআনলাইন ব্যাচ”\\n\\nশিখনফলঃ \\n1. নিম্নবিত্ত ব্যক্তির হঠাৎ বিত্তশালী হয়ে ওঠার ফলে সমাজে পরিচয় সংকট সম্পর্কে ধারণা লাভ করবে। \\n2. তৎকালীন সমাজ-সভ্যতা ও মানবতার অবমাননা সম্পর্কে জানতে পারবে। \\n3. তৎকালীন সমাজের পণপ্রথার কুপ্রভাব সম্পর্কে জানতে পারবে।\\n4. তৎকালে সমাজে ভদ্রলোকের স্বভাববৈশিষ্ট্য সম্পর্কে জ্ঞানলাভ করবে।\\n5. নারী কোমল ঠিক, কিন্তু দুর্বল নয়- কল্যাণীর জীবনচরিত দ্বারা প্রতিষ্ঠিত এই সত্য অনুধাবন করতে পারবে। \\n6. মানুষ আশা নিয়ে বেঁচে থাকে- অনুপমের দৃষ্টান্তে মানবজীবনের এই চিরন্তন সত্যদর্শন সম্পর্কে জ্ঞানলাভ করবে। \\n\\nপ্রাক-মুল্যায়নঃ\\n১। অনুপমের বাবা কী করে জীবিকা নির্বাহ করতেন? \\nক) ডাক্তারি খ) ওকালতি গ) মাস্টারি ঘ) ব্যবসা \\n২। মামাকে ভাগ্য দেবতার প্রধান এজেন্ট বলার কারণ, তার- \\nক) প্রতিপত্তি খ) প্রভাব গ) বিচক্ষণতা ঘ) কুট বুদ্ধি\\n\\nনিচের অনুচ্ছেদটি পড়ে ৩ ও ৪ সংখ্যক প্রশ্নের উত্তর দাও।'"
            ],
            "application/vnd.google.colaboratory.intrinsic+json": {
              "type": "string"
            }
          },
          "metadata": {},
          "execution_count": 11
        }
      ]
    },
    {
      "cell_type": "code",
      "source": [
        "len(all_chunks)"
      ],
      "metadata": {
        "colab": {
          "base_uri": "https://localhost:8080/"
        },
        "id": "65rJpUc3IEpR",
        "outputId": "d6ab42e3-54ca-4024-98b3-1f445e5fa6ca"
      },
      "execution_count": 12,
      "outputs": [
        {
          "output_type": "execute_result",
          "data": {
            "text/plain": [
              "100"
            ]
          },
          "metadata": {},
          "execution_count": 12
        }
      ]
    },
    {
      "cell_type": "markdown",
      "source": [
        "**Next Step Embedding**"
      ],
      "metadata": {
        "id": "VMF-0oh5Sdy1"
      }
    },
    {
      "cell_type": "code",
      "source": [
        "!pip install langchain_openai"
      ],
      "metadata": {
        "id": "T-lalfrxUgs3",
        "colab": {
          "base_uri": "https://localhost:8080/"
        },
        "outputId": "e3a1aac2-f8d0-4c9e-ac4a-18731279effe"
      },
      "execution_count": 76,
      "outputs": [
        {
          "output_type": "stream",
          "name": "stdout",
          "text": [
            "Collecting langchain_openai\n",
            "  Downloading langchain_openai-0.3.28-py3-none-any.whl.metadata (2.3 kB)\n",
            "Requirement already satisfied: langchain-core<1.0.0,>=0.3.68 in /usr/local/lib/python3.11/dist-packages (from langchain_openai) (0.3.70)\n",
            "Requirement already satisfied: openai<2.0.0,>=1.86.0 in /usr/local/lib/python3.11/dist-packages (from langchain_openai) (1.97.0)\n",
            "Requirement already satisfied: tiktoken<1,>=0.7 in /usr/local/lib/python3.11/dist-packages (from langchain_openai) (0.9.0)\n",
            "Requirement already satisfied: langsmith>=0.3.45 in /usr/local/lib/python3.11/dist-packages (from langchain-core<1.0.0,>=0.3.68->langchain_openai) (0.4.8)\n",
            "Requirement already satisfied: tenacity!=8.4.0,<10.0.0,>=8.1.0 in /usr/local/lib/python3.11/dist-packages (from langchain-core<1.0.0,>=0.3.68->langchain_openai) (8.5.0)\n",
            "Requirement already satisfied: jsonpatch<2.0,>=1.33 in /usr/local/lib/python3.11/dist-packages (from langchain-core<1.0.0,>=0.3.68->langchain_openai) (1.33)\n",
            "Requirement already satisfied: PyYAML>=5.3 in /usr/local/lib/python3.11/dist-packages (from langchain-core<1.0.0,>=0.3.68->langchain_openai) (6.0.2)\n",
            "Requirement already satisfied: typing-extensions>=4.7 in /usr/local/lib/python3.11/dist-packages (from langchain-core<1.0.0,>=0.3.68->langchain_openai) (4.14.1)\n",
            "Requirement already satisfied: packaging>=23.2 in /usr/local/lib/python3.11/dist-packages (from langchain-core<1.0.0,>=0.3.68->langchain_openai) (25.0)\n",
            "Requirement already satisfied: pydantic>=2.7.4 in /usr/local/lib/python3.11/dist-packages (from langchain-core<1.0.0,>=0.3.68->langchain_openai) (2.11.7)\n",
            "Requirement already satisfied: anyio<5,>=3.5.0 in /usr/local/lib/python3.11/dist-packages (from openai<2.0.0,>=1.86.0->langchain_openai) (4.9.0)\n",
            "Requirement already satisfied: distro<2,>=1.7.0 in /usr/local/lib/python3.11/dist-packages (from openai<2.0.0,>=1.86.0->langchain_openai) (1.9.0)\n",
            "Requirement already satisfied: httpx<1,>=0.23.0 in /usr/local/lib/python3.11/dist-packages (from openai<2.0.0,>=1.86.0->langchain_openai) (0.28.1)\n",
            "Requirement already satisfied: jiter<1,>=0.4.0 in /usr/local/lib/python3.11/dist-packages (from openai<2.0.0,>=1.86.0->langchain_openai) (0.10.0)\n",
            "Requirement already satisfied: sniffio in /usr/local/lib/python3.11/dist-packages (from openai<2.0.0,>=1.86.0->langchain_openai) (1.3.1)\n",
            "Requirement already satisfied: tqdm>4 in /usr/local/lib/python3.11/dist-packages (from openai<2.0.0,>=1.86.0->langchain_openai) (4.67.1)\n",
            "Requirement already satisfied: regex>=2022.1.18 in /usr/local/lib/python3.11/dist-packages (from tiktoken<1,>=0.7->langchain_openai) (2024.11.6)\n",
            "Requirement already satisfied: requests>=2.26.0 in /usr/local/lib/python3.11/dist-packages (from tiktoken<1,>=0.7->langchain_openai) (2.32.3)\n",
            "Requirement already satisfied: idna>=2.8 in /usr/local/lib/python3.11/dist-packages (from anyio<5,>=3.5.0->openai<2.0.0,>=1.86.0->langchain_openai) (3.10)\n",
            "Requirement already satisfied: certifi in /usr/local/lib/python3.11/dist-packages (from httpx<1,>=0.23.0->openai<2.0.0,>=1.86.0->langchain_openai) (2025.7.14)\n",
            "Requirement already satisfied: httpcore==1.* in /usr/local/lib/python3.11/dist-packages (from httpx<1,>=0.23.0->openai<2.0.0,>=1.86.0->langchain_openai) (1.0.9)\n",
            "Requirement already satisfied: h11>=0.16 in /usr/local/lib/python3.11/dist-packages (from httpcore==1.*->httpx<1,>=0.23.0->openai<2.0.0,>=1.86.0->langchain_openai) (0.16.0)\n",
            "Requirement already satisfied: jsonpointer>=1.9 in /usr/local/lib/python3.11/dist-packages (from jsonpatch<2.0,>=1.33->langchain-core<1.0.0,>=0.3.68->langchain_openai) (3.0.0)\n",
            "Requirement already satisfied: orjson<4.0.0,>=3.9.14 in /usr/local/lib/python3.11/dist-packages (from langsmith>=0.3.45->langchain-core<1.0.0,>=0.3.68->langchain_openai) (3.11.0)\n",
            "Requirement already satisfied: requests-toolbelt<2.0.0,>=1.0.0 in /usr/local/lib/python3.11/dist-packages (from langsmith>=0.3.45->langchain-core<1.0.0,>=0.3.68->langchain_openai) (1.0.0)\n",
            "Requirement already satisfied: zstandard<0.24.0,>=0.23.0 in /usr/local/lib/python3.11/dist-packages (from langsmith>=0.3.45->langchain-core<1.0.0,>=0.3.68->langchain_openai) (0.23.0)\n",
            "Requirement already satisfied: annotated-types>=0.6.0 in /usr/local/lib/python3.11/dist-packages (from pydantic>=2.7.4->langchain-core<1.0.0,>=0.3.68->langchain_openai) (0.7.0)\n",
            "Requirement already satisfied: pydantic-core==2.33.2 in /usr/local/lib/python3.11/dist-packages (from pydantic>=2.7.4->langchain-core<1.0.0,>=0.3.68->langchain_openai) (2.33.2)\n",
            "Requirement already satisfied: typing-inspection>=0.4.0 in /usr/local/lib/python3.11/dist-packages (from pydantic>=2.7.4->langchain-core<1.0.0,>=0.3.68->langchain_openai) (0.4.1)\n",
            "Requirement already satisfied: charset-normalizer<4,>=2 in /usr/local/lib/python3.11/dist-packages (from requests>=2.26.0->tiktoken<1,>=0.7->langchain_openai) (3.4.2)\n",
            "Requirement already satisfied: urllib3<3,>=1.21.1 in /usr/local/lib/python3.11/dist-packages (from requests>=2.26.0->tiktoken<1,>=0.7->langchain_openai) (2.5.0)\n",
            "Downloading langchain_openai-0.3.28-py3-none-any.whl (70 kB)\n",
            "\u001b[2K   \u001b[90m━━━━━━━━━━━━━━━━━━━━━━━━━━━━━━━━━━━━━━━━\u001b[0m \u001b[32m70.6/70.6 kB\u001b[0m \u001b[31m2.3 MB/s\u001b[0m eta \u001b[36m0:00:00\u001b[0m\n",
            "\u001b[?25hInstalling collected packages: langchain_openai\n",
            "Successfully installed langchain_openai-0.3.28\n"
          ]
        }
      ]
    },
    {
      "cell_type": "code",
      "source": [
        "from langchain_openai import OpenAIEmbeddings"
      ],
      "metadata": {
        "id": "WaXL9XYqNJmp"
      },
      "execution_count": 13,
      "outputs": []
    },
    {
      "cell_type": "code",
      "source": [
        "import getpass\n",
        "import os\n",
        "\n",
        "if not os.environ.get(\"OPENAI_API_KEY\"):\n",
        "  os.environ[\"OPENAI_API_KEY\"] = getpass.getpass(\"Enter API key for OpenAI: \")\n",
        "\n",
        "from langchain_openai import OpenAIEmbeddings\n",
        "\n",
        "embeddings = OpenAIEmbeddings()"
      ],
      "metadata": {
        "id": "7_ZszAFzVIeq",
        "colab": {
          "base_uri": "https://localhost:8080/",
          "height": 372
        },
        "outputId": "b6934ff5-b572-4764-acfd-597f611e1799"
      },
      "execution_count": 14,
      "outputs": [
        {
          "output_type": "error",
          "ename": "KeyboardInterrupt",
          "evalue": "Interrupted by user",
          "traceback": [
            "\u001b[0;31m---------------------------------------------------------------------------\u001b[0m",
            "\u001b[0;31mKeyboardInterrupt\u001b[0m                         Traceback (most recent call last)",
            "\u001b[0;32m/tmp/ipython-input-14-498677918.py\u001b[0m in \u001b[0;36m<cell line: 0>\u001b[0;34m()\u001b[0m\n\u001b[1;32m      3\u001b[0m \u001b[0;34m\u001b[0m\u001b[0m\n\u001b[1;32m      4\u001b[0m \u001b[0;32mif\u001b[0m \u001b[0;32mnot\u001b[0m \u001b[0mos\u001b[0m\u001b[0;34m.\u001b[0m\u001b[0menviron\u001b[0m\u001b[0;34m.\u001b[0m\u001b[0mget\u001b[0m\u001b[0;34m(\u001b[0m\u001b[0;34m\"OPENAI_API_KEY\"\u001b[0m\u001b[0;34m)\u001b[0m\u001b[0;34m:\u001b[0m\u001b[0;34m\u001b[0m\u001b[0;34m\u001b[0m\u001b[0m\n\u001b[0;32m----> 5\u001b[0;31m   \u001b[0mos\u001b[0m\u001b[0;34m.\u001b[0m\u001b[0menviron\u001b[0m\u001b[0;34m[\u001b[0m\u001b[0;34m\"OPENAI_API_KEY\"\u001b[0m\u001b[0;34m]\u001b[0m \u001b[0;34m=\u001b[0m \u001b[0mgetpass\u001b[0m\u001b[0;34m.\u001b[0m\u001b[0mgetpass\u001b[0m\u001b[0;34m(\u001b[0m\u001b[0;34m\"Enter API key for OpenAI: \"\u001b[0m\u001b[0;34m)\u001b[0m\u001b[0;34m\u001b[0m\u001b[0;34m\u001b[0m\u001b[0m\n\u001b[0m\u001b[1;32m      6\u001b[0m \u001b[0;34m\u001b[0m\u001b[0m\n\u001b[1;32m      7\u001b[0m \u001b[0;32mfrom\u001b[0m \u001b[0mlangchain_openai\u001b[0m \u001b[0;32mimport\u001b[0m \u001b[0mOpenAIEmbeddings\u001b[0m\u001b[0;34m\u001b[0m\u001b[0;34m\u001b[0m\u001b[0m\n",
            "\u001b[0;32m/usr/local/lib/python3.11/dist-packages/ipykernel/kernelbase.py\u001b[0m in \u001b[0;36mgetpass\u001b[0;34m(self, prompt, stream)\u001b[0m\n\u001b[1;32m   1157\u001b[0m                 \u001b[0mstacklevel\u001b[0m\u001b[0;34m=\u001b[0m\u001b[0;36m2\u001b[0m\u001b[0;34m,\u001b[0m\u001b[0;34m\u001b[0m\u001b[0;34m\u001b[0m\u001b[0m\n\u001b[1;32m   1158\u001b[0m             )\n\u001b[0;32m-> 1159\u001b[0;31m         return self._input_request(\n\u001b[0m\u001b[1;32m   1160\u001b[0m             \u001b[0mprompt\u001b[0m\u001b[0;34m,\u001b[0m\u001b[0;34m\u001b[0m\u001b[0;34m\u001b[0m\u001b[0m\n\u001b[1;32m   1161\u001b[0m             \u001b[0mself\u001b[0m\u001b[0;34m.\u001b[0m\u001b[0m_parent_ident\u001b[0m\u001b[0;34m[\u001b[0m\u001b[0;34m\"shell\"\u001b[0m\u001b[0;34m]\u001b[0m\u001b[0;34m,\u001b[0m\u001b[0;34m\u001b[0m\u001b[0;34m\u001b[0m\u001b[0m\n",
            "\u001b[0;32m/usr/local/lib/python3.11/dist-packages/ipykernel/kernelbase.py\u001b[0m in \u001b[0;36m_input_request\u001b[0;34m(self, prompt, ident, parent, password)\u001b[0m\n\u001b[1;32m   1217\u001b[0m             \u001b[0;32mexcept\u001b[0m \u001b[0mKeyboardInterrupt\u001b[0m\u001b[0;34m:\u001b[0m\u001b[0;34m\u001b[0m\u001b[0;34m\u001b[0m\u001b[0m\n\u001b[1;32m   1218\u001b[0m                 \u001b[0;31m# re-raise KeyboardInterrupt, to truncate traceback\u001b[0m\u001b[0;34m\u001b[0m\u001b[0;34m\u001b[0m\u001b[0m\n\u001b[0;32m-> 1219\u001b[0;31m                 \u001b[0;32mraise\u001b[0m \u001b[0mKeyboardInterrupt\u001b[0m\u001b[0;34m(\u001b[0m\u001b[0;34m\"Interrupted by user\"\u001b[0m\u001b[0;34m)\u001b[0m \u001b[0;32mfrom\u001b[0m \u001b[0;32mNone\u001b[0m\u001b[0;34m\u001b[0m\u001b[0;34m\u001b[0m\u001b[0m\n\u001b[0m\u001b[1;32m   1220\u001b[0m             \u001b[0;32mexcept\u001b[0m \u001b[0mException\u001b[0m\u001b[0;34m:\u001b[0m\u001b[0;34m\u001b[0m\u001b[0;34m\u001b[0m\u001b[0m\n\u001b[1;32m   1221\u001b[0m                 \u001b[0mself\u001b[0m\u001b[0;34m.\u001b[0m\u001b[0mlog\u001b[0m\u001b[0;34m.\u001b[0m\u001b[0mwarning\u001b[0m\u001b[0;34m(\u001b[0m\u001b[0;34m\"Invalid Message:\"\u001b[0m\u001b[0;34m,\u001b[0m \u001b[0mexc_info\u001b[0m\u001b[0;34m=\u001b[0m\u001b[0;32mTrue\u001b[0m\u001b[0;34m)\u001b[0m\u001b[0;34m\u001b[0m\u001b[0;34m\u001b[0m\u001b[0m\n",
            "\u001b[0;31mKeyboardInterrupt\u001b[0m: Interrupted by user"
          ]
        }
      ]
    },
    {
      "cell_type": "markdown",
      "source": [
        "WE Need a vector store to store the embedding for future search. There are several vector stores like Chroma, FAISS, Lance. WE are using FAIS"
      ],
      "metadata": {
        "id": "764lPnHrZKQl"
      }
    },
    {
      "cell_type": "code",
      "source": [
        "!pip install faiss-cpu\n",
        "!pip install langchain_community"
      ],
      "metadata": {
        "id": "ZANtIr_TZef0",
        "colab": {
          "base_uri": "https://localhost:8080/"
        },
        "outputId": "52eddce8-aa97-4661-eb4a-b5e57c1681ff"
      },
      "execution_count": 80,
      "outputs": [
        {
          "output_type": "stream",
          "name": "stdout",
          "text": [
            "Collecting faiss-cpu\n",
            "  Downloading faiss_cpu-1.11.0.post1-cp311-cp311-manylinux_2_27_x86_64.manylinux_2_28_x86_64.whl.metadata (5.0 kB)\n",
            "Requirement already satisfied: numpy<3.0,>=1.25.0 in /usr/local/lib/python3.11/dist-packages (from faiss-cpu) (2.0.2)\n",
            "Requirement already satisfied: packaging in /usr/local/lib/python3.11/dist-packages (from faiss-cpu) (25.0)\n",
            "Downloading faiss_cpu-1.11.0.post1-cp311-cp311-manylinux_2_27_x86_64.manylinux_2_28_x86_64.whl (31.3 MB)\n",
            "\u001b[2K   \u001b[90m━━━━━━━━━━━━━━━━━━━━━━━━━━━━━━━━━━━━━━━━\u001b[0m \u001b[32m31.3/31.3 MB\u001b[0m \u001b[31m35.1 MB/s\u001b[0m eta \u001b[36m0:00:00\u001b[0m\n",
            "\u001b[?25hInstalling collected packages: faiss-cpu\n",
            "Successfully installed faiss-cpu-1.11.0.post1\n",
            "Collecting langchain_community\n",
            "  Downloading langchain_community-0.3.27-py3-none-any.whl.metadata (2.9 kB)\n",
            "Requirement already satisfied: langchain-core<1.0.0,>=0.3.66 in /usr/local/lib/python3.11/dist-packages (from langchain_community) (0.3.70)\n",
            "Requirement already satisfied: langchain<1.0.0,>=0.3.26 in /usr/local/lib/python3.11/dist-packages (from langchain_community) (0.3.26)\n",
            "Requirement already satisfied: SQLAlchemy<3,>=1.4 in /usr/local/lib/python3.11/dist-packages (from langchain_community) (2.0.41)\n",
            "Requirement already satisfied: requests<3,>=2 in /usr/local/lib/python3.11/dist-packages (from langchain_community) (2.32.3)\n",
            "Requirement already satisfied: PyYAML>=5.3 in /usr/local/lib/python3.11/dist-packages (from langchain_community) (6.0.2)\n",
            "Requirement already satisfied: aiohttp<4.0.0,>=3.8.3 in /usr/local/lib/python3.11/dist-packages (from langchain_community) (3.11.15)\n",
            "Requirement already satisfied: tenacity!=8.4.0,<10,>=8.1.0 in /usr/local/lib/python3.11/dist-packages (from langchain_community) (8.5.0)\n",
            "Collecting dataclasses-json<0.7,>=0.5.7 (from langchain_community)\n",
            "  Downloading dataclasses_json-0.6.7-py3-none-any.whl.metadata (25 kB)\n",
            "Collecting pydantic-settings<3.0.0,>=2.4.0 (from langchain_community)\n",
            "  Downloading pydantic_settings-2.10.1-py3-none-any.whl.metadata (3.4 kB)\n",
            "Requirement already satisfied: langsmith>=0.1.125 in /usr/local/lib/python3.11/dist-packages (from langchain_community) (0.4.8)\n",
            "Collecting httpx-sse<1.0.0,>=0.4.0 (from langchain_community)\n",
            "  Downloading httpx_sse-0.4.1-py3-none-any.whl.metadata (9.4 kB)\n",
            "Requirement already satisfied: numpy>=1.26.2 in /usr/local/lib/python3.11/dist-packages (from langchain_community) (2.0.2)\n",
            "Requirement already satisfied: aiohappyeyeballs>=2.3.0 in /usr/local/lib/python3.11/dist-packages (from aiohttp<4.0.0,>=3.8.3->langchain_community) (2.6.1)\n",
            "Requirement already satisfied: aiosignal>=1.1.2 in /usr/local/lib/python3.11/dist-packages (from aiohttp<4.0.0,>=3.8.3->langchain_community) (1.4.0)\n",
            "Requirement already satisfied: attrs>=17.3.0 in /usr/local/lib/python3.11/dist-packages (from aiohttp<4.0.0,>=3.8.3->langchain_community) (25.3.0)\n",
            "Requirement already satisfied: frozenlist>=1.1.1 in /usr/local/lib/python3.11/dist-packages (from aiohttp<4.0.0,>=3.8.3->langchain_community) (1.7.0)\n",
            "Requirement already satisfied: multidict<7.0,>=4.5 in /usr/local/lib/python3.11/dist-packages (from aiohttp<4.0.0,>=3.8.3->langchain_community) (6.6.3)\n",
            "Requirement already satisfied: propcache>=0.2.0 in /usr/local/lib/python3.11/dist-packages (from aiohttp<4.0.0,>=3.8.3->langchain_community) (0.3.2)\n",
            "Requirement already satisfied: yarl<2.0,>=1.17.0 in /usr/local/lib/python3.11/dist-packages (from aiohttp<4.0.0,>=3.8.3->langchain_community) (1.20.1)\n",
            "Collecting marshmallow<4.0.0,>=3.18.0 (from dataclasses-json<0.7,>=0.5.7->langchain_community)\n",
            "  Downloading marshmallow-3.26.1-py3-none-any.whl.metadata (7.3 kB)\n",
            "Collecting typing-inspect<1,>=0.4.0 (from dataclasses-json<0.7,>=0.5.7->langchain_community)\n",
            "  Downloading typing_inspect-0.9.0-py3-none-any.whl.metadata (1.5 kB)\n",
            "Requirement already satisfied: langchain-text-splitters<1.0.0,>=0.3.8 in /usr/local/lib/python3.11/dist-packages (from langchain<1.0.0,>=0.3.26->langchain_community) (0.3.8)\n",
            "Requirement already satisfied: pydantic<3.0.0,>=2.7.4 in /usr/local/lib/python3.11/dist-packages (from langchain<1.0.0,>=0.3.26->langchain_community) (2.11.7)\n",
            "Requirement already satisfied: jsonpatch<2.0,>=1.33 in /usr/local/lib/python3.11/dist-packages (from langchain-core<1.0.0,>=0.3.66->langchain_community) (1.33)\n",
            "Requirement already satisfied: typing-extensions>=4.7 in /usr/local/lib/python3.11/dist-packages (from langchain-core<1.0.0,>=0.3.66->langchain_community) (4.14.1)\n",
            "Requirement already satisfied: packaging>=23.2 in /usr/local/lib/python3.11/dist-packages (from langchain-core<1.0.0,>=0.3.66->langchain_community) (25.0)\n",
            "Requirement already satisfied: httpx<1,>=0.23.0 in /usr/local/lib/python3.11/dist-packages (from langsmith>=0.1.125->langchain_community) (0.28.1)\n",
            "Requirement already satisfied: orjson<4.0.0,>=3.9.14 in /usr/local/lib/python3.11/dist-packages (from langsmith>=0.1.125->langchain_community) (3.11.0)\n",
            "Requirement already satisfied: requests-toolbelt<2.0.0,>=1.0.0 in /usr/local/lib/python3.11/dist-packages (from langsmith>=0.1.125->langchain_community) (1.0.0)\n",
            "Requirement already satisfied: zstandard<0.24.0,>=0.23.0 in /usr/local/lib/python3.11/dist-packages (from langsmith>=0.1.125->langchain_community) (0.23.0)\n",
            "Collecting python-dotenv>=0.21.0 (from pydantic-settings<3.0.0,>=2.4.0->langchain_community)\n",
            "  Downloading python_dotenv-1.1.1-py3-none-any.whl.metadata (24 kB)\n",
            "Requirement already satisfied: typing-inspection>=0.4.0 in /usr/local/lib/python3.11/dist-packages (from pydantic-settings<3.0.0,>=2.4.0->langchain_community) (0.4.1)\n",
            "Requirement already satisfied: charset-normalizer<4,>=2 in /usr/local/lib/python3.11/dist-packages (from requests<3,>=2->langchain_community) (3.4.2)\n",
            "Requirement already satisfied: idna<4,>=2.5 in /usr/local/lib/python3.11/dist-packages (from requests<3,>=2->langchain_community) (3.10)\n",
            "Requirement already satisfied: urllib3<3,>=1.21.1 in /usr/local/lib/python3.11/dist-packages (from requests<3,>=2->langchain_community) (2.5.0)\n",
            "Requirement already satisfied: certifi>=2017.4.17 in /usr/local/lib/python3.11/dist-packages (from requests<3,>=2->langchain_community) (2025.7.14)\n",
            "Requirement already satisfied: greenlet>=1 in /usr/local/lib/python3.11/dist-packages (from SQLAlchemy<3,>=1.4->langchain_community) (3.2.3)\n",
            "Requirement already satisfied: anyio in /usr/local/lib/python3.11/dist-packages (from httpx<1,>=0.23.0->langsmith>=0.1.125->langchain_community) (4.9.0)\n",
            "Requirement already satisfied: httpcore==1.* in /usr/local/lib/python3.11/dist-packages (from httpx<1,>=0.23.0->langsmith>=0.1.125->langchain_community) (1.0.9)\n",
            "Requirement already satisfied: h11>=0.16 in /usr/local/lib/python3.11/dist-packages (from httpcore==1.*->httpx<1,>=0.23.0->langsmith>=0.1.125->langchain_community) (0.16.0)\n",
            "Requirement already satisfied: jsonpointer>=1.9 in /usr/local/lib/python3.11/dist-packages (from jsonpatch<2.0,>=1.33->langchain-core<1.0.0,>=0.3.66->langchain_community) (3.0.0)\n",
            "Requirement already satisfied: annotated-types>=0.6.0 in /usr/local/lib/python3.11/dist-packages (from pydantic<3.0.0,>=2.7.4->langchain<1.0.0,>=0.3.26->langchain_community) (0.7.0)\n",
            "Requirement already satisfied: pydantic-core==2.33.2 in /usr/local/lib/python3.11/dist-packages (from pydantic<3.0.0,>=2.7.4->langchain<1.0.0,>=0.3.26->langchain_community) (2.33.2)\n",
            "Collecting mypy-extensions>=0.3.0 (from typing-inspect<1,>=0.4.0->dataclasses-json<0.7,>=0.5.7->langchain_community)\n",
            "  Downloading mypy_extensions-1.1.0-py3-none-any.whl.metadata (1.1 kB)\n",
            "Requirement already satisfied: sniffio>=1.1 in /usr/local/lib/python3.11/dist-packages (from anyio->httpx<1,>=0.23.0->langsmith>=0.1.125->langchain_community) (1.3.1)\n",
            "Downloading langchain_community-0.3.27-py3-none-any.whl (2.5 MB)\n",
            "\u001b[2K   \u001b[90m━━━━━━━━━━━━━━━━━━━━━━━━━━━━━━━━━━━━━━━━\u001b[0m \u001b[32m2.5/2.5 MB\u001b[0m \u001b[31m25.2 MB/s\u001b[0m eta \u001b[36m0:00:00\u001b[0m\n",
            "\u001b[?25hDownloading dataclasses_json-0.6.7-py3-none-any.whl (28 kB)\n",
            "Downloading httpx_sse-0.4.1-py3-none-any.whl (8.1 kB)\n",
            "Downloading pydantic_settings-2.10.1-py3-none-any.whl (45 kB)\n",
            "\u001b[2K   \u001b[90m━━━━━━━━━━━━━━━━━━━━━━━━━━━━━━━━━━━━━━━━\u001b[0m \u001b[32m45.2/45.2 kB\u001b[0m \u001b[31m4.0 MB/s\u001b[0m eta \u001b[36m0:00:00\u001b[0m\n",
            "\u001b[?25hDownloading marshmallow-3.26.1-py3-none-any.whl (50 kB)\n",
            "\u001b[2K   \u001b[90m━━━━━━━━━━━━━━━━━━━━━━━━━━━━━━━━━━━━━━━━\u001b[0m \u001b[32m50.9/50.9 kB\u001b[0m \u001b[31m4.5 MB/s\u001b[0m eta \u001b[36m0:00:00\u001b[0m\n",
            "\u001b[?25hDownloading python_dotenv-1.1.1-py3-none-any.whl (20 kB)\n",
            "Downloading typing_inspect-0.9.0-py3-none-any.whl (8.8 kB)\n",
            "Downloading mypy_extensions-1.1.0-py3-none-any.whl (5.0 kB)\n",
            "Installing collected packages: python-dotenv, mypy-extensions, marshmallow, httpx-sse, typing-inspect, pydantic-settings, dataclasses-json, langchain_community\n",
            "Successfully installed dataclasses-json-0.6.7 httpx-sse-0.4.1 langchain_community-0.3.27 marshmallow-3.26.1 mypy-extensions-1.1.0 pydantic-settings-2.10.1 python-dotenv-1.1.1 typing-inspect-0.9.0\n"
          ]
        }
      ]
    },
    {
      "cell_type": "code",
      "source": [
        "from langchain_community.vectorstores import FAISS\n",
        "\n",
        "vector_store = FAISS.from_documents(all_chunks, embeddings)"
      ],
      "metadata": {
        "colab": {
          "base_uri": "https://localhost:8080/",
          "height": 353
        },
        "id": "CsygfAG2ZkNx",
        "outputId": "296afbec-aaf7-498c-92e0-00c34ff050e8"
      },
      "execution_count": 81,
      "outputs": [
        {
          "output_type": "error",
          "ename": "AuthenticationError",
          "evalue": "Error code: 401 - {'error': {'message': 'Incorrect API key provided: sk-...FC8A. You can find your API key at https://platform.openai.com/account/api-keys.', 'type': 'invalid_request_error', 'param': None, 'code': 'invalid_api_key'}}",
          "traceback": [
            "\u001b[0;31m---------------------------------------------------------------------------\u001b[0m",
            "\u001b[0;31mAuthenticationError\u001b[0m                       Traceback (most recent call last)",
            "\u001b[0;32m/tmp/ipython-input-81-2705692291.py\u001b[0m in \u001b[0;36m<cell line: 0>\u001b[0;34m()\u001b[0m\n\u001b[1;32m      1\u001b[0m \u001b[0;32mfrom\u001b[0m \u001b[0mlangchain_community\u001b[0m\u001b[0;34m.\u001b[0m\u001b[0mvectorstores\u001b[0m \u001b[0;32mimport\u001b[0m \u001b[0mFAISS\u001b[0m\u001b[0;34m\u001b[0m\u001b[0;34m\u001b[0m\u001b[0m\n\u001b[1;32m      2\u001b[0m \u001b[0;34m\u001b[0m\u001b[0m\n\u001b[0;32m----> 3\u001b[0;31m \u001b[0mvector_store\u001b[0m \u001b[0;34m=\u001b[0m \u001b[0mFAISS\u001b[0m\u001b[0;34m.\u001b[0m\u001b[0mfrom_documents\u001b[0m\u001b[0;34m(\u001b[0m\u001b[0mall_chunks\u001b[0m\u001b[0;34m,\u001b[0m \u001b[0membeddings\u001b[0m\u001b[0;34m)\u001b[0m\u001b[0;34m\u001b[0m\u001b[0;34m\u001b[0m\u001b[0m\n\u001b[0m",
            "\u001b[0;32m/usr/local/lib/python3.11/dist-packages/langchain_core/vectorstores/base.py\u001b[0m in \u001b[0;36mfrom_documents\u001b[0;34m(cls, documents, embedding, **kwargs)\u001b[0m\n\u001b[1;32m    846\u001b[0m                 \u001b[0mkwargs\u001b[0m\u001b[0;34m[\u001b[0m\u001b[0;34m\"ids\"\u001b[0m\u001b[0;34m]\u001b[0m \u001b[0;34m=\u001b[0m \u001b[0mids\u001b[0m\u001b[0;34m\u001b[0m\u001b[0;34m\u001b[0m\u001b[0m\n\u001b[1;32m    847\u001b[0m \u001b[0;34m\u001b[0m\u001b[0m\n\u001b[0;32m--> 848\u001b[0;31m         \u001b[0;32mreturn\u001b[0m \u001b[0mcls\u001b[0m\u001b[0;34m.\u001b[0m\u001b[0mfrom_texts\u001b[0m\u001b[0;34m(\u001b[0m\u001b[0mtexts\u001b[0m\u001b[0;34m,\u001b[0m \u001b[0membedding\u001b[0m\u001b[0;34m,\u001b[0m \u001b[0mmetadatas\u001b[0m\u001b[0;34m=\u001b[0m\u001b[0mmetadatas\u001b[0m\u001b[0;34m,\u001b[0m \u001b[0;34m**\u001b[0m\u001b[0mkwargs\u001b[0m\u001b[0;34m)\u001b[0m\u001b[0;34m\u001b[0m\u001b[0;34m\u001b[0m\u001b[0m\n\u001b[0m\u001b[1;32m    849\u001b[0m \u001b[0;34m\u001b[0m\u001b[0m\n\u001b[1;32m    850\u001b[0m     \u001b[0;34m@\u001b[0m\u001b[0mclassmethod\u001b[0m\u001b[0;34m\u001b[0m\u001b[0;34m\u001b[0m\u001b[0m\n",
            "\u001b[0;32m/usr/local/lib/python3.11/dist-packages/langchain_community/vectorstores/faiss.py\u001b[0m in \u001b[0;36mfrom_texts\u001b[0;34m(cls, texts, embedding, metadatas, ids, **kwargs)\u001b[0m\n\u001b[1;32m   1041\u001b[0m                 \u001b[0mfaiss\u001b[0m \u001b[0;34m=\u001b[0m \u001b[0mFAISS\u001b[0m\u001b[0;34m.\u001b[0m\u001b[0mfrom_texts\u001b[0m\u001b[0;34m(\u001b[0m\u001b[0mtexts\u001b[0m\u001b[0;34m,\u001b[0m \u001b[0membeddings\u001b[0m\u001b[0;34m)\u001b[0m\u001b[0;34m\u001b[0m\u001b[0;34m\u001b[0m\u001b[0m\n\u001b[1;32m   1042\u001b[0m         \"\"\"\n\u001b[0;32m-> 1043\u001b[0;31m         \u001b[0membeddings\u001b[0m \u001b[0;34m=\u001b[0m \u001b[0membedding\u001b[0m\u001b[0;34m.\u001b[0m\u001b[0membed_documents\u001b[0m\u001b[0;34m(\u001b[0m\u001b[0mtexts\u001b[0m\u001b[0;34m)\u001b[0m\u001b[0;34m\u001b[0m\u001b[0;34m\u001b[0m\u001b[0m\n\u001b[0m\u001b[1;32m   1044\u001b[0m         return cls.__from(\n\u001b[1;32m   1045\u001b[0m             \u001b[0mtexts\u001b[0m\u001b[0;34m,\u001b[0m\u001b[0;34m\u001b[0m\u001b[0;34m\u001b[0m\u001b[0m\n",
            "\u001b[0;32m/usr/local/lib/python3.11/dist-packages/langchain_openai/embeddings/base.py\u001b[0m in \u001b[0;36membed_documents\u001b[0;34m(self, texts, chunk_size, **kwargs)\u001b[0m\n\u001b[1;32m    588\u001b[0m         \u001b[0;31m#       than the maximum context and use length-safe embedding function.\u001b[0m\u001b[0;34m\u001b[0m\u001b[0;34m\u001b[0m\u001b[0m\n\u001b[1;32m    589\u001b[0m         \u001b[0mengine\u001b[0m \u001b[0;34m=\u001b[0m \u001b[0mcast\u001b[0m\u001b[0;34m(\u001b[0m\u001b[0mstr\u001b[0m\u001b[0;34m,\u001b[0m \u001b[0mself\u001b[0m\u001b[0;34m.\u001b[0m\u001b[0mdeployment\u001b[0m\u001b[0;34m)\u001b[0m\u001b[0;34m\u001b[0m\u001b[0;34m\u001b[0m\u001b[0m\n\u001b[0;32m--> 590\u001b[0;31m         return self._get_len_safe_embeddings(\n\u001b[0m\u001b[1;32m    591\u001b[0m             \u001b[0mtexts\u001b[0m\u001b[0;34m,\u001b[0m \u001b[0mengine\u001b[0m\u001b[0;34m=\u001b[0m\u001b[0mengine\u001b[0m\u001b[0;34m,\u001b[0m \u001b[0mchunk_size\u001b[0m\u001b[0;34m=\u001b[0m\u001b[0mchunk_size\u001b[0m\u001b[0;34m,\u001b[0m \u001b[0;34m**\u001b[0m\u001b[0mkwargs\u001b[0m\u001b[0;34m\u001b[0m\u001b[0;34m\u001b[0m\u001b[0m\n\u001b[1;32m    592\u001b[0m         )\n",
            "\u001b[0;32m/usr/local/lib/python3.11/dist-packages/langchain_openai/embeddings/base.py\u001b[0m in \u001b[0;36m_get_len_safe_embeddings\u001b[0;34m(self, texts, engine, chunk_size, **kwargs)\u001b[0m\n\u001b[1;32m    476\u001b[0m         \u001b[0mbatched_embeddings\u001b[0m\u001b[0;34m:\u001b[0m \u001b[0mlist\u001b[0m\u001b[0;34m[\u001b[0m\u001b[0mlist\u001b[0m\u001b[0;34m[\u001b[0m\u001b[0mfloat\u001b[0m\u001b[0;34m]\u001b[0m\u001b[0;34m]\u001b[0m \u001b[0;34m=\u001b[0m \u001b[0;34m[\u001b[0m\u001b[0;34m]\u001b[0m\u001b[0;34m\u001b[0m\u001b[0;34m\u001b[0m\u001b[0m\n\u001b[1;32m    477\u001b[0m         \u001b[0;32mfor\u001b[0m \u001b[0mi\u001b[0m \u001b[0;32min\u001b[0m \u001b[0m_iter\u001b[0m\u001b[0;34m:\u001b[0m\u001b[0;34m\u001b[0m\u001b[0;34m\u001b[0m\u001b[0m\n\u001b[0;32m--> 478\u001b[0;31m             response = self.client.create(\n\u001b[0m\u001b[1;32m    479\u001b[0m                 \u001b[0minput\u001b[0m\u001b[0;34m=\u001b[0m\u001b[0mtokens\u001b[0m\u001b[0;34m[\u001b[0m\u001b[0mi\u001b[0m \u001b[0;34m:\u001b[0m \u001b[0mi\u001b[0m \u001b[0;34m+\u001b[0m \u001b[0m_chunk_size\u001b[0m\u001b[0;34m]\u001b[0m\u001b[0;34m,\u001b[0m \u001b[0;34m**\u001b[0m\u001b[0mclient_kwargs\u001b[0m\u001b[0;34m\u001b[0m\u001b[0;34m\u001b[0m\u001b[0m\n\u001b[1;32m    480\u001b[0m             )\n",
            "\u001b[0;32m/usr/local/lib/python3.11/dist-packages/openai/resources/embeddings.py\u001b[0m in \u001b[0;36mcreate\u001b[0;34m(self, input, model, dimensions, encoding_format, user, extra_headers, extra_query, extra_body, timeout)\u001b[0m\n\u001b[1;32m    130\u001b[0m             \u001b[0;32mreturn\u001b[0m \u001b[0mobj\u001b[0m\u001b[0;34m\u001b[0m\u001b[0;34m\u001b[0m\u001b[0m\n\u001b[1;32m    131\u001b[0m \u001b[0;34m\u001b[0m\u001b[0m\n\u001b[0;32m--> 132\u001b[0;31m         return self._post(\n\u001b[0m\u001b[1;32m    133\u001b[0m             \u001b[0;34m\"/embeddings\"\u001b[0m\u001b[0;34m,\u001b[0m\u001b[0;34m\u001b[0m\u001b[0;34m\u001b[0m\u001b[0m\n\u001b[1;32m    134\u001b[0m             \u001b[0mbody\u001b[0m\u001b[0;34m=\u001b[0m\u001b[0mmaybe_transform\u001b[0m\u001b[0;34m(\u001b[0m\u001b[0mparams\u001b[0m\u001b[0;34m,\u001b[0m \u001b[0membedding_create_params\u001b[0m\u001b[0;34m.\u001b[0m\u001b[0mEmbeddingCreateParams\u001b[0m\u001b[0;34m)\u001b[0m\u001b[0;34m,\u001b[0m\u001b[0;34m\u001b[0m\u001b[0;34m\u001b[0m\u001b[0m\n",
            "\u001b[0;32m/usr/local/lib/python3.11/dist-packages/openai/_base_client.py\u001b[0m in \u001b[0;36mpost\u001b[0;34m(self, path, cast_to, body, options, files, stream, stream_cls)\u001b[0m\n\u001b[1;32m   1254\u001b[0m             \u001b[0mmethod\u001b[0m\u001b[0;34m=\u001b[0m\u001b[0;34m\"post\"\u001b[0m\u001b[0;34m,\u001b[0m \u001b[0murl\u001b[0m\u001b[0;34m=\u001b[0m\u001b[0mpath\u001b[0m\u001b[0;34m,\u001b[0m \u001b[0mjson_data\u001b[0m\u001b[0;34m=\u001b[0m\u001b[0mbody\u001b[0m\u001b[0;34m,\u001b[0m \u001b[0mfiles\u001b[0m\u001b[0;34m=\u001b[0m\u001b[0mto_httpx_files\u001b[0m\u001b[0;34m(\u001b[0m\u001b[0mfiles\u001b[0m\u001b[0;34m)\u001b[0m\u001b[0;34m,\u001b[0m \u001b[0;34m**\u001b[0m\u001b[0moptions\u001b[0m\u001b[0;34m\u001b[0m\u001b[0;34m\u001b[0m\u001b[0m\n\u001b[1;32m   1255\u001b[0m         )\n\u001b[0;32m-> 1256\u001b[0;31m         \u001b[0;32mreturn\u001b[0m \u001b[0mcast\u001b[0m\u001b[0;34m(\u001b[0m\u001b[0mResponseT\u001b[0m\u001b[0;34m,\u001b[0m \u001b[0mself\u001b[0m\u001b[0;34m.\u001b[0m\u001b[0mrequest\u001b[0m\u001b[0;34m(\u001b[0m\u001b[0mcast_to\u001b[0m\u001b[0;34m,\u001b[0m \u001b[0mopts\u001b[0m\u001b[0;34m,\u001b[0m \u001b[0mstream\u001b[0m\u001b[0;34m=\u001b[0m\u001b[0mstream\u001b[0m\u001b[0;34m,\u001b[0m \u001b[0mstream_cls\u001b[0m\u001b[0;34m=\u001b[0m\u001b[0mstream_cls\u001b[0m\u001b[0;34m)\u001b[0m\u001b[0;34m)\u001b[0m\u001b[0;34m\u001b[0m\u001b[0;34m\u001b[0m\u001b[0m\n\u001b[0m\u001b[1;32m   1257\u001b[0m \u001b[0;34m\u001b[0m\u001b[0m\n\u001b[1;32m   1258\u001b[0m     def patch(\n",
            "\u001b[0;32m/usr/local/lib/python3.11/dist-packages/openai/_base_client.py\u001b[0m in \u001b[0;36mrequest\u001b[0;34m(self, cast_to, options, stream, stream_cls)\u001b[0m\n\u001b[1;32m   1042\u001b[0m \u001b[0;34m\u001b[0m\u001b[0m\n\u001b[1;32m   1043\u001b[0m                 \u001b[0mlog\u001b[0m\u001b[0;34m.\u001b[0m\u001b[0mdebug\u001b[0m\u001b[0;34m(\u001b[0m\u001b[0;34m\"Re-raising status error\"\u001b[0m\u001b[0;34m)\u001b[0m\u001b[0;34m\u001b[0m\u001b[0;34m\u001b[0m\u001b[0m\n\u001b[0;32m-> 1044\u001b[0;31m                 \u001b[0;32mraise\u001b[0m \u001b[0mself\u001b[0m\u001b[0;34m.\u001b[0m\u001b[0m_make_status_error_from_response\u001b[0m\u001b[0;34m(\u001b[0m\u001b[0merr\u001b[0m\u001b[0;34m.\u001b[0m\u001b[0mresponse\u001b[0m\u001b[0;34m)\u001b[0m \u001b[0;32mfrom\u001b[0m \u001b[0;32mNone\u001b[0m\u001b[0;34m\u001b[0m\u001b[0;34m\u001b[0m\u001b[0m\n\u001b[0m\u001b[1;32m   1045\u001b[0m \u001b[0;34m\u001b[0m\u001b[0m\n\u001b[1;32m   1046\u001b[0m             \u001b[0;32mbreak\u001b[0m\u001b[0;34m\u001b[0m\u001b[0;34m\u001b[0m\u001b[0m\n",
            "\u001b[0;31mAuthenticationError\u001b[0m: Error code: 401 - {'error': {'message': 'Incorrect API key provided: sk-...FC8A. You can find your API key at https://platform.openai.com/account/api-keys.', 'type': 'invalid_request_error', 'param': None, 'code': 'invalid_api_key'}}"
          ]
        }
      ]
    },
    {
      "cell_type": "markdown",
      "source": [
        "**It seems OpenAI is limiting our token number due to the free API call**\n",
        "Let's try a new embedding system"
      ],
      "metadata": {
        "id": "c6DJkU2DbBpn"
      }
    },
    {
      "cell_type": "code",
      "source": [
        "from sentence_transformers import SentenceTransformer"
      ],
      "metadata": {
        "id": "7QR0pd3JYcK1"
      },
      "execution_count": 15,
      "outputs": []
    },
    {
      "cell_type": "code",
      "source": [
        "embed_model = SentenceTransformer(\"intfloat/multilingual-e5-base\")  # Supports Bengali & English\n"
      ],
      "metadata": {
        "colab": {
          "base_uri": "https://localhost:8080/"
        },
        "id": "FlOs925DdL8s",
        "outputId": "6e9ed621-cf78-42bb-95dd-8504a6fbd1b2"
      },
      "execution_count": 16,
      "outputs": [
        {
          "output_type": "stream",
          "name": "stderr",
          "text": [
            "/usr/local/lib/python3.11/dist-packages/huggingface_hub/utils/_auth.py:94: UserWarning: \n",
            "The secret `HF_TOKEN` does not exist in your Colab secrets.\n",
            "To authenticate with the Hugging Face Hub, create a token in your settings tab (https://huggingface.co/settings/tokens), set it as secret in your Google Colab and restart your session.\n",
            "You will be able to reuse this secret in all of your notebooks.\n",
            "Please note that authentication is recommended but still optional to access public models or datasets.\n",
            "  warnings.warn(\n"
          ]
        }
      ]
    },
    {
      "cell_type": "code",
      "source": [
        "def embed_chunks(chunks):\n",
        "    texts = [chunk.page_content for chunk in chunks]\n",
        "    embeddings = embed_model.encode(texts, convert_to_tensor=True)\n",
        "    return embeddings"
      ],
      "metadata": {
        "id": "mznnj-XlbmUV"
      },
      "execution_count": 17,
      "outputs": []
    },
    {
      "cell_type": "code",
      "source": [
        "embedded_chunks = embed_chunks(all_chunks)"
      ],
      "metadata": {
        "id": "bysCrYtFdxLx"
      },
      "execution_count": 18,
      "outputs": []
    },
    {
      "cell_type": "code",
      "source": [
        "embedded_chunks"
      ],
      "metadata": {
        "colab": {
          "base_uri": "https://localhost:8080/"
        },
        "id": "1cobiiqiei2i",
        "outputId": "080510b2-220b-4b92-dde2-0bfd77fa95a1"
      },
      "execution_count": 19,
      "outputs": [
        {
          "output_type": "execute_result",
          "data": {
            "text/plain": [
              "tensor([[ 0.0189,  0.0551, -0.0086,  ..., -0.0371, -0.0353,  0.0294],\n",
              "        [ 0.0162,  0.0368,  0.0157,  ..., -0.0399, -0.0317,  0.0387],\n",
              "        [ 0.0262,  0.0545, -0.0054,  ..., -0.0530, -0.0550,  0.0540],\n",
              "        ...,\n",
              "        [ 0.0323,  0.0487, -0.0054,  ..., -0.0343, -0.0591,  0.0128],\n",
              "        [ 0.0047,  0.0288,  0.0093,  ..., -0.0684, -0.0565,  0.0256],\n",
              "        [ 0.0429,  0.0350,  0.0151,  ..., -0.0648, -0.0397,  0.0091]])"
            ]
          },
          "metadata": {},
          "execution_count": 19
        }
      ]
    },
    {
      "cell_type": "markdown",
      "source": [
        "**RETRIEVE**\n",
        "\n",
        "Using FAISS for fast semantic search."
      ],
      "metadata": {
        "id": "yKFM50y8fAW5"
      }
    },
    {
      "cell_type": "code",
      "source": [
        "import faiss\n",
        "\n",
        "def build_faiss_index(embeddings):\n",
        "    dim = embeddings.shape[1]\n",
        "    index = faiss.IndexFlatL2(dim)\n",
        "    index.add(embeddings.cpu().detach().numpy())\n",
        "    return index\n"
      ],
      "metadata": {
        "id": "jovYOG6Pe-jM"
      },
      "execution_count": 20,
      "outputs": []
    },
    {
      "cell_type": "code",
      "source": [
        "#checking the function\n",
        "index = build_faiss_index(embedded_chunks)"
      ],
      "metadata": {
        "id": "878OMPPpfti1"
      },
      "execution_count": 21,
      "outputs": []
    },
    {
      "cell_type": "code",
      "source": [
        "index.cached_l2norms"
      ],
      "metadata": {
        "colab": {
          "base_uri": "https://localhost:8080/"
        },
        "id": "F89qu0nogGGH",
        "outputId": "e18052aa-5ca9-44da-9e6d-adf50a34ac87"
      },
      "execution_count": 22,
      "outputs": [
        {
          "output_type": "execute_result",
          "data": {
            "text/plain": [
              "<faiss.swigfaiss_avx2.Float32Vector; proxy of <Swig Object of type 'std::vector< float > *' at 0x7e457661dc20> >"
            ]
          },
          "metadata": {},
          "execution_count": 22
        }
      ]
    },
    {
      "cell_type": "markdown",
      "source": [
        "Building the Retrieval Function"
      ],
      "metadata": {
        "id": "_xG6ikVmgYJX"
      }
    },
    {
      "cell_type": "code",
      "source": [
        "def retrieve_top_k(query, embed_model, chunks, embeddings, index, k=3):\n",
        "    query_embedding = embed_model.encode([query], convert_to_tensor=True).cpu().detach().numpy()\n",
        "    distances, indices = index.search(query_embedding, k)\n",
        "    results = [chunks[i] for i in indices[0]]\n",
        "    return results\n"
      ],
      "metadata": {
        "id": "idY42yFigXQD"
      },
      "execution_count": 23,
      "outputs": []
    },
    {
      "cell_type": "code",
      "source": [
        "#checking\n",
        "query = \"কাকে অনুপমের ভাগ্য দেবতা বলে উল্লেখ করা হয়েছে?\"\n",
        "retrieved_chunks = retrieve_top_k(query, embed_model, all_chunks, embedded_chunks, index, k=3)"
      ],
      "metadata": {
        "id": "BauN0nAMhPrH"
      },
      "execution_count": 46,
      "outputs": []
    },
    {
      "cell_type": "code",
      "source": [
        "retrieved_chunks"
      ],
      "metadata": {
        "colab": {
          "base_uri": "https://localhost:8080/"
        },
        "id": "dAp5GPJS_9Pk",
        "outputId": "9fb281a4-3f9b-447f-a0bb-e9f349692151"
      },
      "execution_count": 25,
      "outputs": [
        {
          "output_type": "execute_result",
          "data": {
            "text/plain": [
              "[Document(metadata={}, page_content=\"(ক) রেলগাড়ি (খ) গরুর গাড়ি (গ) মোটর গাড়ি\\n\\n] ৯1৬11015 50172901-\\n\\n(ঘ) ঘোড়ার গাড়ি\\n\\n৩৮। 'অন্নপূর্ণার কোলে গজাননের ছোট ভাইটি' এখানে 'ছোট - ভাইটি' বলতে কাকে বোঝানো হয়েছে?\\n\\n(ক) গণেশ (খ) প্রজাপতি (গ) কার্তিক\\n\\n34\\n\\n(ঘ) পঞ্চশর \\x0c\\n\\n[লল্দনে ৯ অনলাইন ব্যাচ\\n\\n৩৯। 'এখানে জায়গা আছে' উক্তিটি কার?\\n\\n(ক) আর্দালির (খ) গার্ডের (গ) কল্যাণীর ৪০। স্টেশনে অনুপম কী ফেলে গেল? (ক) টিকিট (খ) ক্যামেরা (গ) তোরঙ্গ\\n\\n৪১। ট্রেনে দেখা হওয়ার সময় কল্যাণীর বয়স কত ছিল? (ক) ১৪/১৫ বছর (খ) ১৫/১৬ বছর (গ) ১৬/১৭ বছর ৪২। অপরিচিতা মেয়েটির সঙ্গে কতজন মেয়ে ছিল?\\n\\n(ক) ২/৩ জন (খ) ৩/৪ জন (গ) ৪/৫ জন ৪৩। কল্যাণী স্টেশন হতে কী খাবার কিনে নেয়?\\n\\n(ক) চানা-মুঠ (খ) ঝালমুড়ি (গ) চিনেবাদাম ৪৪। শস্তুনাথ পেশায় কী ছিলেন?\\n\\n(ক) উকিল (খ) শিক্ষক (গ) ডাক্তার\\n\\n৪৫। মাতৃ-আজ্ঞা বলতে কল্যাণী কার প্রতি ইঙ্গিত করেছে?\\n\\n(ক) মায়ের প্রতি (খ) মাতৃভূমির প্রতি (গ) ধরণীর প্রতি ৪৬। বিবাহের সময় অনুপমের বয়স কত ছিল?\\n\\n(ক) ২১ বছর (খ) ২৩ বছর (গ) ২৫ বছর ৪৭। গজাননের মায়ের নাম কী?\"),\n",
              " Document(metadata={}, page_content='(ক) ২১ বছর (খ) ২৩ বছর (গ) ২৫ বছর ৪৭। গজাননের মায়ের নাম কী?\\n\\n(ক) অন্নদা (খ) অন্নপূর্ণা (গ) কল্যাণী ৪৮। \\'শিগগির চলে আয়, এই গাড়িতে জায়গা আছে\\' উক্তিটি কার? (ক) অনুপমের (খ) কল্যাণীর (গ) বিনুদাদার ৪৯। হরিশ কী উপলক্ষে কলকাতায় এসেছে?\\n\\n(ক) তীর্থ উপলক্ষে (খ) ছুটি উপলক্ষে (গ) পূজা উপলক্ষে\\n\\n&০। কাকে অনুপমের ভাগ্য দেবতা বলে উল্লেখ করা হয়েছে?\\n\\n(ক) হরিশকে (খ) মামাকে (গ) বিনুদাকে &১। কার টাকার প্রতি আসক্তি বেশি?\\n\\n(ক) শস্তুনাথের (খ) কল্যাণীর (গ) অনুপমের &২। \"কিছুদিন পূর্বে এমএ পাশ করিয়াছি\\'- উক্তিটি কার?\\n\\n(ক) মামার (খ) বিনুদার (গ) অনুপমের ৫৩। \\'একবার মামার কাছে কথাটা পাড়িয়া দেখ\\'- কথাটি কীসের? (ক) দানের (খ) চাকরির (গ) বিয়ের &৪। বিয়ের সময় কল্যাণীর প্রকৃত বয়স কত ছিল?\\n\\n(ক) ১৪ বছর (খ) ১৫ বছর (গ) ১৬ বছর\\n\\n35\\n\\n] ৯1৬11015 50172901-\\n\\n(ঘ) ১৭/১৮ বছর\\n\\n(ঘ) &/৬ জন\\n\\n(ঘ) অন্নপূর্ণার প্রতি (ঘ) ২৭ বছর\\n\\n(ঘ) হেমন্তী\\n\\n(ঘ) অনুপমের\\n\\n(ঘ) বিয়ে উপলক্ষে \\x0c\\n\\n[তলা ৯ অনলাইন ব্যাচ\\n\\n] ৯1৬11015\\n\\n5011901 &৫। মামার বাহিরের যাত্রাপথের সীমানা কতদুর?'),\n",
              " Document(metadata={}, page_content='ঘ. \"সবিতার দেশপ্রেম কল্যাণীর মাতৃআজ্ঞার সাথে একই সূত্রে গাথা।\"- মন্তব্যটি যথার্থ।\\n\\nদেশসেবা মহৎ কাজ। যৌতুকলোভীদের অন্যায়ের সঙ্গে আপস না করে বহু নারী বিয়ে না করে মানবকল্যাণে আত্মনিয়োগ করে থাকেন। এমনকি পরাধীন না থেকে আত্মনির্ভরশীল হয়ে স্বাধীনভাবে জীবনযাপন করেন। \\'অপরিচিতা\\' গল্পে কল্যাণীর বাবা শস্তুনাথ সেন বরযাত্রীদের যথার্থ আপ্যায়ন শেষে বিয়ে ভেঙে দেন। কারণ বিয়ের আসরে বরের মামা কনের শরীর থেকে খুলে এনে গহনা পরীক্ষা করতে চাইলে তিনি ব্যথিত হন। তাই তিনি কোনো হীন মানসিকতার মানুষের সঙ্গে আত্মীয়তার সম্পর্কে জড়াতে চাননি। কল্যাণী তার বাবার সিদ্ধান্তকে মেনে নিয়ে নিজের আত্মমর্যাদা ও ব্যক্তিত্বকে রক্ষা করেছে।\\' গল্পের কল্যাণীর এ সিদ্ধান্তের সঙ্গে উদ্দীপকের সবিতার সিদ্ধান্ত সাদৃশ্যপূর্ণ। উদ্দীপকে সবিতার বাবা-মা ও সহকর্মীরা চাইলেও সবিতা বিয়ে না করার সিদ্ধান্তে অটল থেকেছে। এ বিষয়টি কল্যাণীর বিয়ে না করার সিদ্ধান্তের অনুরূপ।')]"
            ]
          },
          "metadata": {},
          "execution_count": 25
        }
      ]
    },
    {
      "cell_type": "markdown",
      "source": [
        "**RAG: Generating Answer**"
      ],
      "metadata": {
        "id": "vEj8jKbpgwBS"
      }
    },
    {
      "cell_type": "code",
      "source": [
        "#using transformer model from hugging face\n",
        "from transformers import pipeline\n",
        "from langchain_openai.chat_models import ChatOpenAI"
      ],
      "metadata": {
        "id": "epTJL4EtgPwi"
      },
      "execution_count": 26,
      "outputs": []
    },
    {
      "cell_type": "code",
      "source": [
        "#qa_model = pipeline(\"text-generation\", model=\"HuggingFaceH4/zephyr-7b-beta\", device=0)\n",
        "#apatoto onno model use kori, transformer onek boro\n",
        "qa_model = ChatOpenAI(model_name=\"gpt-3.5-turbo\", temperature=0.2)\n",
        "#not working"
      ],
      "metadata": {
        "id": "WDEATqU7jLQJ",
        "colab": {
          "base_uri": "https://localhost:8080/",
          "height": 426
        },
        "outputId": "09abc882-2876-409b-d6ba-eb0f4a903a7a"
      },
      "execution_count": 27,
      "outputs": [
        {
          "output_type": "error",
          "ename": "OpenAIError",
          "evalue": "The api_key client option must be set either by passing api_key to the client or by setting the OPENAI_API_KEY environment variable",
          "traceback": [
            "\u001b[0;31m---------------------------------------------------------------------------\u001b[0m",
            "\u001b[0;31mOpenAIError\u001b[0m                               Traceback (most recent call last)",
            "\u001b[0;32m/tmp/ipython-input-27-3186699862.py\u001b[0m in \u001b[0;36m<cell line: 0>\u001b[0;34m()\u001b[0m\n\u001b[1;32m      1\u001b[0m \u001b[0;31m#qa_model = pipeline(\"text-generation\", model=\"HuggingFaceH4/zephyr-7b-beta\", device=0)\u001b[0m\u001b[0;34m\u001b[0m\u001b[0;34m\u001b[0m\u001b[0m\n\u001b[1;32m      2\u001b[0m \u001b[0;31m#apatoto onno model use kori, transformer onek boro\u001b[0m\u001b[0;34m\u001b[0m\u001b[0;34m\u001b[0m\u001b[0m\n\u001b[0;32m----> 3\u001b[0;31m \u001b[0mqa_model\u001b[0m \u001b[0;34m=\u001b[0m \u001b[0mChatOpenAI\u001b[0m\u001b[0;34m(\u001b[0m\u001b[0mmodel_name\u001b[0m\u001b[0;34m=\u001b[0m\u001b[0;34m\"gpt-3.5-turbo\"\u001b[0m\u001b[0;34m,\u001b[0m \u001b[0mtemperature\u001b[0m\u001b[0;34m=\u001b[0m\u001b[0;36m0.2\u001b[0m\u001b[0;34m)\u001b[0m\u001b[0;34m\u001b[0m\u001b[0;34m\u001b[0m\u001b[0m\n\u001b[0m\u001b[1;32m      4\u001b[0m \u001b[0;31m#not working\u001b[0m\u001b[0;34m\u001b[0m\u001b[0;34m\u001b[0m\u001b[0m\n",
            "\u001b[0;32m/usr/local/lib/python3.11/dist-packages/langchain_core/load/serializable.py\u001b[0m in \u001b[0;36m__init__\u001b[0;34m(self, *args, **kwargs)\u001b[0m\n\u001b[1;32m    128\u001b[0m     \u001b[0;32mdef\u001b[0m \u001b[0m__init__\u001b[0m\u001b[0;34m(\u001b[0m\u001b[0mself\u001b[0m\u001b[0;34m,\u001b[0m \u001b[0;34m*\u001b[0m\u001b[0margs\u001b[0m\u001b[0;34m:\u001b[0m \u001b[0mAny\u001b[0m\u001b[0;34m,\u001b[0m \u001b[0;34m**\u001b[0m\u001b[0mkwargs\u001b[0m\u001b[0;34m:\u001b[0m \u001b[0mAny\u001b[0m\u001b[0;34m)\u001b[0m \u001b[0;34m->\u001b[0m \u001b[0;32mNone\u001b[0m\u001b[0;34m:\u001b[0m\u001b[0;34m\u001b[0m\u001b[0;34m\u001b[0m\u001b[0m\n\u001b[1;32m    129\u001b[0m         \u001b[0;34m\"\"\"\"\"\"\u001b[0m  \u001b[0;31m# noqa: D419\u001b[0m\u001b[0;34m\u001b[0m\u001b[0;34m\u001b[0m\u001b[0m\n\u001b[0;32m--> 130\u001b[0;31m         \u001b[0msuper\u001b[0m\u001b[0;34m(\u001b[0m\u001b[0;34m)\u001b[0m\u001b[0;34m.\u001b[0m\u001b[0m__init__\u001b[0m\u001b[0;34m(\u001b[0m\u001b[0;34m*\u001b[0m\u001b[0margs\u001b[0m\u001b[0;34m,\u001b[0m \u001b[0;34m**\u001b[0m\u001b[0mkwargs\u001b[0m\u001b[0;34m)\u001b[0m\u001b[0;34m\u001b[0m\u001b[0;34m\u001b[0m\u001b[0m\n\u001b[0m\u001b[1;32m    131\u001b[0m \u001b[0;34m\u001b[0m\u001b[0m\n\u001b[1;32m    132\u001b[0m     \u001b[0;34m@\u001b[0m\u001b[0mclassmethod\u001b[0m\u001b[0;34m\u001b[0m\u001b[0;34m\u001b[0m\u001b[0m\n",
            "    \u001b[0;31m[... skipping hidden 1 frame]\u001b[0m\n",
            "\u001b[0;32m/usr/local/lib/python3.11/dist-packages/langchain_openai/chat_models/base.py\u001b[0m in \u001b[0;36mvalidate_environment\u001b[0;34m(self)\u001b[0m\n\u001b[1;32m    742\u001b[0m                 \u001b[0;32mor\u001b[0m \u001b[0m_get_default_httpx_client\u001b[0m\u001b[0;34m(\u001b[0m\u001b[0mself\u001b[0m\u001b[0;34m.\u001b[0m\u001b[0mopenai_api_base\u001b[0m\u001b[0;34m,\u001b[0m \u001b[0mself\u001b[0m\u001b[0;34m.\u001b[0m\u001b[0mrequest_timeout\u001b[0m\u001b[0;34m)\u001b[0m\u001b[0;34m\u001b[0m\u001b[0;34m\u001b[0m\u001b[0m\n\u001b[1;32m    743\u001b[0m             }\n\u001b[0;32m--> 744\u001b[0;31m             \u001b[0mself\u001b[0m\u001b[0;34m.\u001b[0m\u001b[0mroot_client\u001b[0m \u001b[0;34m=\u001b[0m \u001b[0mopenai\u001b[0m\u001b[0;34m.\u001b[0m\u001b[0mOpenAI\u001b[0m\u001b[0;34m(\u001b[0m\u001b[0;34m**\u001b[0m\u001b[0mclient_params\u001b[0m\u001b[0;34m,\u001b[0m \u001b[0;34m**\u001b[0m\u001b[0msync_specific\u001b[0m\u001b[0;34m)\u001b[0m  \u001b[0;31m# type: ignore[arg-type]\u001b[0m\u001b[0;34m\u001b[0m\u001b[0;34m\u001b[0m\u001b[0m\n\u001b[0m\u001b[1;32m    745\u001b[0m             \u001b[0mself\u001b[0m\u001b[0;34m.\u001b[0m\u001b[0mclient\u001b[0m \u001b[0;34m=\u001b[0m \u001b[0mself\u001b[0m\u001b[0;34m.\u001b[0m\u001b[0mroot_client\u001b[0m\u001b[0;34m.\u001b[0m\u001b[0mchat\u001b[0m\u001b[0;34m.\u001b[0m\u001b[0mcompletions\u001b[0m\u001b[0;34m\u001b[0m\u001b[0;34m\u001b[0m\u001b[0m\n\u001b[1;32m    746\u001b[0m         \u001b[0;32mif\u001b[0m \u001b[0;32mnot\u001b[0m \u001b[0mself\u001b[0m\u001b[0;34m.\u001b[0m\u001b[0masync_client\u001b[0m\u001b[0;34m:\u001b[0m\u001b[0;34m\u001b[0m\u001b[0;34m\u001b[0m\u001b[0m\n",
            "\u001b[0;32m/usr/local/lib/python3.11/dist-packages/openai/_client.py\u001b[0m in \u001b[0;36m__init__\u001b[0;34m(self, api_key, organization, project, webhook_secret, base_url, websocket_base_url, timeout, max_retries, default_headers, default_query, http_client, _strict_response_validation)\u001b[0m\n\u001b[1;32m    128\u001b[0m             \u001b[0mapi_key\u001b[0m \u001b[0;34m=\u001b[0m \u001b[0mos\u001b[0m\u001b[0;34m.\u001b[0m\u001b[0menviron\u001b[0m\u001b[0;34m.\u001b[0m\u001b[0mget\u001b[0m\u001b[0;34m(\u001b[0m\u001b[0;34m\"OPENAI_API_KEY\"\u001b[0m\u001b[0;34m)\u001b[0m\u001b[0;34m\u001b[0m\u001b[0;34m\u001b[0m\u001b[0m\n\u001b[1;32m    129\u001b[0m         \u001b[0;32mif\u001b[0m \u001b[0mapi_key\u001b[0m \u001b[0;32mis\u001b[0m \u001b[0;32mNone\u001b[0m\u001b[0;34m:\u001b[0m\u001b[0;34m\u001b[0m\u001b[0;34m\u001b[0m\u001b[0m\n\u001b[0;32m--> 130\u001b[0;31m             raise OpenAIError(\n\u001b[0m\u001b[1;32m    131\u001b[0m                 \u001b[0;34m\"The api_key client option must be set either by passing api_key to the client or by setting the OPENAI_API_KEY environment variable\"\u001b[0m\u001b[0;34m\u001b[0m\u001b[0;34m\u001b[0m\u001b[0m\n\u001b[1;32m    132\u001b[0m             )\n",
            "\u001b[0;31mOpenAIError\u001b[0m: The api_key client option must be set either by passing api_key to the client or by setting the OPENAI_API_KEY environment variable"
          ]
        }
      ]
    },
    {
      "cell_type": "markdown",
      "source": [
        "There are other models like\n",
        "\n",
        "We have to use a multilingual model like mistralai/Mistral-7B-Instruct or google/gemma via Hugging Face Transformers, or OpenAI's gpt-4 or gpt-3.5. Because we are dealing with en and bn"
      ],
      "metadata": {
        "id": "_Vm2-tv3jiZW"
      }
    },
    {
      "cell_type": "code",
      "source": [
        "# generate answer funtion\n",
        "def generate_answer(query, retrieved_chunks):\n",
        "    context = \"\\n\\n\".join([chunk.page_content for chunk in retrieved_chunks])\n",
        "    prompt = f\"Answer the following question using the provided context.\\n\\nContext:\\n{context}\\n\\nQuestion: {query}\\n\\nAnswer:\"\n",
        "    result = qa_model(prompt, max_new_tokens=200, do_sample=False)\n",
        "    return result[0]['generated_text']"
      ],
      "metadata": {
        "id": "mSwEitoUjyI1"
      },
      "execution_count": 97,
      "outputs": []
    },
    {
      "cell_type": "code",
      "source": [
        "## RAG Pipeline\n",
        "def rag_pipeline(query, docs_folder):\n",
        "    docs = extract_text_from_pdfs(docs_folder)\n",
        "    chunks = split_docs(docs)\n",
        "    embeddings = embed_chunks(chunks)\n",
        "    index = build_faiss_index(embeddings)\n",
        "    top_chunks = retrieve_top_k(query, embed_model, chunks, embeddings, index)\n",
        "    answer = generate_answer(query, top_chunks)\n",
        "    return answer"
      ],
      "metadata": {
        "id": "0Xk6z5wukAiG"
      },
      "execution_count": null,
      "outputs": []
    },
    {
      "cell_type": "code",
      "source": [
        "query = \"অনুপমের ভাষায় সুপুরুষ কাকে বলা হয়েছে?\"\n",
        "file_path = output_filename"
      ],
      "metadata": {
        "id": "NfwGM-0IkuMO"
      },
      "execution_count": null,
      "outputs": []
    },
    {
      "cell_type": "code",
      "source": [
        "rag_pipeline(query, file_path)"
      ],
      "metadata": {
        "colab": {
          "base_uri": "https://localhost:8080/",
          "height": 298
        },
        "id": "pwLtOCmGlDUK",
        "outputId": "9abbda43-ef52-4fc2-ee5d-9113424fec9b"
      },
      "execution_count": null,
      "outputs": [
        {
          "output_type": "error",
          "ename": "KeyboardInterrupt",
          "evalue": "",
          "traceback": [
            "\u001b[0;31m---------------------------------------------------------------------------\u001b[0m",
            "\u001b[0;31mKeyboardInterrupt\u001b[0m                         Traceback (most recent call last)",
            "\u001b[0;32m/tmp/ipython-input-123-1059359333.py\u001b[0m in \u001b[0;36m<cell line: 0>\u001b[0;34m()\u001b[0m\n\u001b[0;32m----> 1\u001b[0;31m \u001b[0mrag_pipeline\u001b[0m\u001b[0;34m(\u001b[0m\u001b[0mquery\u001b[0m\u001b[0;34m,\u001b[0m \u001b[0mfile_path\u001b[0m\u001b[0;34m)\u001b[0m\u001b[0;34m\u001b[0m\u001b[0;34m\u001b[0m\u001b[0m\n\u001b[0m",
            "\u001b[0;32m/tmp/ipython-input-119-1263009909.py\u001b[0m in \u001b[0;36mrag_pipeline\u001b[0;34m(query, docs_folder)\u001b[0m\n\u001b[1;32m      3\u001b[0m     \u001b[0mdocs\u001b[0m \u001b[0;34m=\u001b[0m \u001b[0mextract_text_from_pdfs\u001b[0m\u001b[0;34m(\u001b[0m\u001b[0mdocs_folder\u001b[0m\u001b[0;34m)\u001b[0m\u001b[0;34m\u001b[0m\u001b[0;34m\u001b[0m\u001b[0m\n\u001b[1;32m      4\u001b[0m     \u001b[0mchunks\u001b[0m \u001b[0;34m=\u001b[0m \u001b[0msplit_docs\u001b[0m\u001b[0;34m(\u001b[0m\u001b[0mdocs\u001b[0m\u001b[0;34m)\u001b[0m\u001b[0;34m\u001b[0m\u001b[0;34m\u001b[0m\u001b[0m\n\u001b[0;32m----> 5\u001b[0;31m     \u001b[0membeddings\u001b[0m \u001b[0;34m=\u001b[0m \u001b[0membed_chunks\u001b[0m\u001b[0;34m(\u001b[0m\u001b[0mchunks\u001b[0m\u001b[0;34m)\u001b[0m\u001b[0;34m\u001b[0m\u001b[0;34m\u001b[0m\u001b[0m\n\u001b[0m\u001b[1;32m      6\u001b[0m     \u001b[0mindex\u001b[0m \u001b[0;34m=\u001b[0m \u001b[0mbuild_faiss_index\u001b[0m\u001b[0;34m(\u001b[0m\u001b[0membeddings\u001b[0m\u001b[0;34m)\u001b[0m\u001b[0;34m\u001b[0m\u001b[0;34m\u001b[0m\u001b[0m\n\u001b[1;32m      7\u001b[0m     \u001b[0mtop_chunks\u001b[0m \u001b[0;34m=\u001b[0m \u001b[0mretrieve_top_k\u001b[0m\u001b[0;34m(\u001b[0m\u001b[0mquery\u001b[0m\u001b[0;34m,\u001b[0m \u001b[0membed_model\u001b[0m\u001b[0;34m,\u001b[0m \u001b[0mchunks\u001b[0m\u001b[0;34m,\u001b[0m \u001b[0membeddings\u001b[0m\u001b[0;34m,\u001b[0m \u001b[0mindex\u001b[0m\u001b[0;34m)\u001b[0m\u001b[0;34m\u001b[0m\u001b[0;34m\u001b[0m\u001b[0m\n",
            "\u001b[0;32m/tmp/ipython-input-99-2813556368.py\u001b[0m in \u001b[0;36membed_chunks\u001b[0;34m(chunks)\u001b[0m\n\u001b[1;32m      1\u001b[0m \u001b[0;32mdef\u001b[0m \u001b[0membed_chunks\u001b[0m\u001b[0;34m(\u001b[0m\u001b[0mchunks\u001b[0m\u001b[0;34m)\u001b[0m\u001b[0;34m:\u001b[0m\u001b[0;34m\u001b[0m\u001b[0;34m\u001b[0m\u001b[0m\n\u001b[1;32m      2\u001b[0m     \u001b[0mtexts\u001b[0m \u001b[0;34m=\u001b[0m \u001b[0;34m[\u001b[0m\u001b[0mchunk\u001b[0m\u001b[0;34m.\u001b[0m\u001b[0mpage_content\u001b[0m \u001b[0;32mfor\u001b[0m \u001b[0mchunk\u001b[0m \u001b[0;32min\u001b[0m \u001b[0mchunks\u001b[0m\u001b[0;34m]\u001b[0m\u001b[0;34m\u001b[0m\u001b[0;34m\u001b[0m\u001b[0m\n\u001b[0;32m----> 3\u001b[0;31m     \u001b[0membeddings\u001b[0m \u001b[0;34m=\u001b[0m \u001b[0membed_model\u001b[0m\u001b[0;34m.\u001b[0m\u001b[0mencode\u001b[0m\u001b[0;34m(\u001b[0m\u001b[0mtexts\u001b[0m\u001b[0;34m,\u001b[0m \u001b[0mconvert_to_tensor\u001b[0m\u001b[0;34m=\u001b[0m\u001b[0;32mTrue\u001b[0m\u001b[0;34m)\u001b[0m\u001b[0;34m\u001b[0m\u001b[0;34m\u001b[0m\u001b[0m\n\u001b[0m\u001b[1;32m      4\u001b[0m     \u001b[0;32mreturn\u001b[0m \u001b[0membeddings\u001b[0m\u001b[0;34m\u001b[0m\u001b[0;34m\u001b[0m\u001b[0m\n",
            "\u001b[0;32m/usr/local/lib/python3.11/dist-packages/sentence_transformers/SentenceTransformer.py\u001b[0m in \u001b[0;36mencode\u001b[0;34m(self, sentences, prompt_name, prompt, batch_size, show_progress_bar, output_value, precision, convert_to_numpy, convert_to_tensor, device, normalize_embeddings, **kwargs)\u001b[0m\n\u001b[1;32m    683\u001b[0m \u001b[0;34m\u001b[0m\u001b[0m\n\u001b[1;32m    684\u001b[0m             \u001b[0;32mwith\u001b[0m \u001b[0mtorch\u001b[0m\u001b[0;34m.\u001b[0m\u001b[0mno_grad\u001b[0m\u001b[0;34m(\u001b[0m\u001b[0;34m)\u001b[0m\u001b[0;34m:\u001b[0m\u001b[0;34m\u001b[0m\u001b[0;34m\u001b[0m\u001b[0m\n\u001b[0;32m--> 685\u001b[0;31m                 \u001b[0mout_features\u001b[0m \u001b[0;34m=\u001b[0m \u001b[0mself\u001b[0m\u001b[0;34m.\u001b[0m\u001b[0mforward\u001b[0m\u001b[0;34m(\u001b[0m\u001b[0mfeatures\u001b[0m\u001b[0;34m,\u001b[0m \u001b[0;34m**\u001b[0m\u001b[0mkwargs\u001b[0m\u001b[0;34m)\u001b[0m\u001b[0;34m\u001b[0m\u001b[0;34m\u001b[0m\u001b[0m\n\u001b[0m\u001b[1;32m    686\u001b[0m                 \u001b[0;32mif\u001b[0m \u001b[0mself\u001b[0m\u001b[0;34m.\u001b[0m\u001b[0mdevice\u001b[0m\u001b[0;34m.\u001b[0m\u001b[0mtype\u001b[0m \u001b[0;34m==\u001b[0m \u001b[0;34m\"hpu\"\u001b[0m\u001b[0;34m:\u001b[0m\u001b[0;34m\u001b[0m\u001b[0;34m\u001b[0m\u001b[0m\n\u001b[1;32m    687\u001b[0m                     \u001b[0mout_features\u001b[0m \u001b[0;34m=\u001b[0m \u001b[0mcopy\u001b[0m\u001b[0;34m.\u001b[0m\u001b[0mdeepcopy\u001b[0m\u001b[0;34m(\u001b[0m\u001b[0mout_features\u001b[0m\u001b[0;34m)\u001b[0m\u001b[0;34m\u001b[0m\u001b[0;34m\u001b[0m\u001b[0m\n",
            "\u001b[0;32m/usr/local/lib/python3.11/dist-packages/sentence_transformers/SentenceTransformer.py\u001b[0m in \u001b[0;36mforward\u001b[0;34m(self, input, **kwargs)\u001b[0m\n\u001b[1;32m    756\u001b[0m             \u001b[0mmodule_kwarg_keys\u001b[0m \u001b[0;34m=\u001b[0m \u001b[0mself\u001b[0m\u001b[0;34m.\u001b[0m\u001b[0mmodule_kwargs\u001b[0m\u001b[0;34m.\u001b[0m\u001b[0mget\u001b[0m\u001b[0;34m(\u001b[0m\u001b[0mmodule_name\u001b[0m\u001b[0;34m,\u001b[0m \u001b[0;34m[\u001b[0m\u001b[0;34m]\u001b[0m\u001b[0;34m)\u001b[0m\u001b[0;34m\u001b[0m\u001b[0;34m\u001b[0m\u001b[0m\n\u001b[1;32m    757\u001b[0m             \u001b[0mmodule_kwargs\u001b[0m \u001b[0;34m=\u001b[0m \u001b[0;34m{\u001b[0m\u001b[0mkey\u001b[0m\u001b[0;34m:\u001b[0m \u001b[0mvalue\u001b[0m \u001b[0;32mfor\u001b[0m \u001b[0mkey\u001b[0m\u001b[0;34m,\u001b[0m \u001b[0mvalue\u001b[0m \u001b[0;32min\u001b[0m \u001b[0mkwargs\u001b[0m\u001b[0;34m.\u001b[0m\u001b[0mitems\u001b[0m\u001b[0;34m(\u001b[0m\u001b[0;34m)\u001b[0m \u001b[0;32mif\u001b[0m \u001b[0mkey\u001b[0m \u001b[0;32min\u001b[0m \u001b[0mmodule_kwarg_keys\u001b[0m\u001b[0;34m}\u001b[0m\u001b[0;34m\u001b[0m\u001b[0;34m\u001b[0m\u001b[0m\n\u001b[0;32m--> 758\u001b[0;31m             \u001b[0minput\u001b[0m \u001b[0;34m=\u001b[0m \u001b[0mmodule\u001b[0m\u001b[0;34m(\u001b[0m\u001b[0minput\u001b[0m\u001b[0;34m,\u001b[0m \u001b[0;34m**\u001b[0m\u001b[0mmodule_kwargs\u001b[0m\u001b[0;34m)\u001b[0m\u001b[0;34m\u001b[0m\u001b[0;34m\u001b[0m\u001b[0m\n\u001b[0m\u001b[1;32m    759\u001b[0m         \u001b[0;32mreturn\u001b[0m \u001b[0minput\u001b[0m\u001b[0;34m\u001b[0m\u001b[0;34m\u001b[0m\u001b[0m\n\u001b[1;32m    760\u001b[0m \u001b[0;34m\u001b[0m\u001b[0m\n",
            "\u001b[0;32m/usr/local/lib/python3.11/dist-packages/torch/nn/modules/module.py\u001b[0m in \u001b[0;36m_wrapped_call_impl\u001b[0;34m(self, *args, **kwargs)\u001b[0m\n\u001b[1;32m   1737\u001b[0m             \u001b[0;32mreturn\u001b[0m \u001b[0mself\u001b[0m\u001b[0;34m.\u001b[0m\u001b[0m_compiled_call_impl\u001b[0m\u001b[0;34m(\u001b[0m\u001b[0;34m*\u001b[0m\u001b[0margs\u001b[0m\u001b[0;34m,\u001b[0m \u001b[0;34m**\u001b[0m\u001b[0mkwargs\u001b[0m\u001b[0;34m)\u001b[0m  \u001b[0;31m# type: ignore[misc]\u001b[0m\u001b[0;34m\u001b[0m\u001b[0;34m\u001b[0m\u001b[0m\n\u001b[1;32m   1738\u001b[0m         \u001b[0;32melse\u001b[0m\u001b[0;34m:\u001b[0m\u001b[0;34m\u001b[0m\u001b[0;34m\u001b[0m\u001b[0m\n\u001b[0;32m-> 1739\u001b[0;31m             \u001b[0;32mreturn\u001b[0m \u001b[0mself\u001b[0m\u001b[0;34m.\u001b[0m\u001b[0m_call_impl\u001b[0m\u001b[0;34m(\u001b[0m\u001b[0;34m*\u001b[0m\u001b[0margs\u001b[0m\u001b[0;34m,\u001b[0m \u001b[0;34m**\u001b[0m\u001b[0mkwargs\u001b[0m\u001b[0;34m)\u001b[0m\u001b[0;34m\u001b[0m\u001b[0;34m\u001b[0m\u001b[0m\n\u001b[0m\u001b[1;32m   1740\u001b[0m \u001b[0;34m\u001b[0m\u001b[0m\n\u001b[1;32m   1741\u001b[0m     \u001b[0;31m# torchrec tests the code consistency with the following code\u001b[0m\u001b[0;34m\u001b[0m\u001b[0;34m\u001b[0m\u001b[0m\n",
            "\u001b[0;32m/usr/local/lib/python3.11/dist-packages/torch/nn/modules/module.py\u001b[0m in \u001b[0;36m_call_impl\u001b[0;34m(self, *args, **kwargs)\u001b[0m\n\u001b[1;32m   1748\u001b[0m                 \u001b[0;32mor\u001b[0m \u001b[0m_global_backward_pre_hooks\u001b[0m \u001b[0;32mor\u001b[0m \u001b[0m_global_backward_hooks\u001b[0m\u001b[0;34m\u001b[0m\u001b[0;34m\u001b[0m\u001b[0m\n\u001b[1;32m   1749\u001b[0m                 or _global_forward_hooks or _global_forward_pre_hooks):\n\u001b[0;32m-> 1750\u001b[0;31m             \u001b[0;32mreturn\u001b[0m \u001b[0mforward_call\u001b[0m\u001b[0;34m(\u001b[0m\u001b[0;34m*\u001b[0m\u001b[0margs\u001b[0m\u001b[0;34m,\u001b[0m \u001b[0;34m**\u001b[0m\u001b[0mkwargs\u001b[0m\u001b[0;34m)\u001b[0m\u001b[0;34m\u001b[0m\u001b[0;34m\u001b[0m\u001b[0m\n\u001b[0m\u001b[1;32m   1751\u001b[0m \u001b[0;34m\u001b[0m\u001b[0m\n\u001b[1;32m   1752\u001b[0m         \u001b[0mresult\u001b[0m \u001b[0;34m=\u001b[0m \u001b[0;32mNone\u001b[0m\u001b[0;34m\u001b[0m\u001b[0;34m\u001b[0m\u001b[0m\n",
            "\u001b[0;32m/usr/local/lib/python3.11/dist-packages/sentence_transformers/models/Transformer.py\u001b[0m in \u001b[0;36mforward\u001b[0;34m(self, features, **kwargs)\u001b[0m\n\u001b[1;32m    440\u001b[0m         }\n\u001b[1;32m    441\u001b[0m \u001b[0;34m\u001b[0m\u001b[0m\n\u001b[0;32m--> 442\u001b[0;31m         \u001b[0moutputs\u001b[0m \u001b[0;34m=\u001b[0m \u001b[0mself\u001b[0m\u001b[0;34m.\u001b[0m\u001b[0mauto_model\u001b[0m\u001b[0;34m(\u001b[0m\u001b[0;34m**\u001b[0m\u001b[0mtrans_features\u001b[0m\u001b[0;34m,\u001b[0m \u001b[0;34m**\u001b[0m\u001b[0mkwargs\u001b[0m\u001b[0;34m,\u001b[0m \u001b[0mreturn_dict\u001b[0m\u001b[0;34m=\u001b[0m\u001b[0;32mTrue\u001b[0m\u001b[0;34m)\u001b[0m\u001b[0;34m\u001b[0m\u001b[0;34m\u001b[0m\u001b[0m\n\u001b[0m\u001b[1;32m    443\u001b[0m         \u001b[0mtoken_embeddings\u001b[0m \u001b[0;34m=\u001b[0m \u001b[0moutputs\u001b[0m\u001b[0;34m[\u001b[0m\u001b[0;36m0\u001b[0m\u001b[0;34m]\u001b[0m\u001b[0;34m\u001b[0m\u001b[0;34m\u001b[0m\u001b[0m\n\u001b[1;32m    444\u001b[0m         \u001b[0mfeatures\u001b[0m\u001b[0;34m[\u001b[0m\u001b[0;34m\"token_embeddings\"\u001b[0m\u001b[0;34m]\u001b[0m \u001b[0;34m=\u001b[0m \u001b[0mtoken_embeddings\u001b[0m\u001b[0;34m\u001b[0m\u001b[0;34m\u001b[0m\u001b[0m\n",
            "\u001b[0;32m/usr/local/lib/python3.11/dist-packages/torch/nn/modules/module.py\u001b[0m in \u001b[0;36m_wrapped_call_impl\u001b[0;34m(self, *args, **kwargs)\u001b[0m\n\u001b[1;32m   1737\u001b[0m             \u001b[0;32mreturn\u001b[0m \u001b[0mself\u001b[0m\u001b[0;34m.\u001b[0m\u001b[0m_compiled_call_impl\u001b[0m\u001b[0;34m(\u001b[0m\u001b[0;34m*\u001b[0m\u001b[0margs\u001b[0m\u001b[0;34m,\u001b[0m \u001b[0;34m**\u001b[0m\u001b[0mkwargs\u001b[0m\u001b[0;34m)\u001b[0m  \u001b[0;31m# type: ignore[misc]\u001b[0m\u001b[0;34m\u001b[0m\u001b[0;34m\u001b[0m\u001b[0m\n\u001b[1;32m   1738\u001b[0m         \u001b[0;32melse\u001b[0m\u001b[0;34m:\u001b[0m\u001b[0;34m\u001b[0m\u001b[0;34m\u001b[0m\u001b[0m\n\u001b[0;32m-> 1739\u001b[0;31m             \u001b[0;32mreturn\u001b[0m \u001b[0mself\u001b[0m\u001b[0;34m.\u001b[0m\u001b[0m_call_impl\u001b[0m\u001b[0;34m(\u001b[0m\u001b[0;34m*\u001b[0m\u001b[0margs\u001b[0m\u001b[0;34m,\u001b[0m \u001b[0;34m**\u001b[0m\u001b[0mkwargs\u001b[0m\u001b[0;34m)\u001b[0m\u001b[0;34m\u001b[0m\u001b[0;34m\u001b[0m\u001b[0m\n\u001b[0m\u001b[1;32m   1740\u001b[0m \u001b[0;34m\u001b[0m\u001b[0m\n\u001b[1;32m   1741\u001b[0m     \u001b[0;31m# torchrec tests the code consistency with the following code\u001b[0m\u001b[0;34m\u001b[0m\u001b[0;34m\u001b[0m\u001b[0m\n",
            "\u001b[0;32m/usr/local/lib/python3.11/dist-packages/torch/nn/modules/module.py\u001b[0m in \u001b[0;36m_call_impl\u001b[0;34m(self, *args, **kwargs)\u001b[0m\n\u001b[1;32m   1748\u001b[0m                 \u001b[0;32mor\u001b[0m \u001b[0m_global_backward_pre_hooks\u001b[0m \u001b[0;32mor\u001b[0m \u001b[0m_global_backward_hooks\u001b[0m\u001b[0;34m\u001b[0m\u001b[0;34m\u001b[0m\u001b[0m\n\u001b[1;32m   1749\u001b[0m                 or _global_forward_hooks or _global_forward_pre_hooks):\n\u001b[0;32m-> 1750\u001b[0;31m             \u001b[0;32mreturn\u001b[0m \u001b[0mforward_call\u001b[0m\u001b[0;34m(\u001b[0m\u001b[0;34m*\u001b[0m\u001b[0margs\u001b[0m\u001b[0;34m,\u001b[0m \u001b[0;34m**\u001b[0m\u001b[0mkwargs\u001b[0m\u001b[0;34m)\u001b[0m\u001b[0;34m\u001b[0m\u001b[0;34m\u001b[0m\u001b[0m\n\u001b[0m\u001b[1;32m   1751\u001b[0m \u001b[0;34m\u001b[0m\u001b[0m\n\u001b[1;32m   1752\u001b[0m         \u001b[0mresult\u001b[0m \u001b[0;34m=\u001b[0m \u001b[0;32mNone\u001b[0m\u001b[0;34m\u001b[0m\u001b[0;34m\u001b[0m\u001b[0m\n",
            "\u001b[0;32m/usr/local/lib/python3.11/dist-packages/transformers/models/xlm_roberta/modeling_xlm_roberta.py\u001b[0m in \u001b[0;36mforward\u001b[0;34m(self, input_ids, attention_mask, token_type_ids, position_ids, head_mask, inputs_embeds, encoder_hidden_states, encoder_attention_mask, past_key_values, use_cache, output_attentions, output_hidden_states, return_dict)\u001b[0m\n\u001b[1;32m    847\u001b[0m         \u001b[0mhead_mask\u001b[0m \u001b[0;34m=\u001b[0m \u001b[0mself\u001b[0m\u001b[0;34m.\u001b[0m\u001b[0mget_head_mask\u001b[0m\u001b[0;34m(\u001b[0m\u001b[0mhead_mask\u001b[0m\u001b[0;34m,\u001b[0m \u001b[0mself\u001b[0m\u001b[0;34m.\u001b[0m\u001b[0mconfig\u001b[0m\u001b[0;34m.\u001b[0m\u001b[0mnum_hidden_layers\u001b[0m\u001b[0;34m)\u001b[0m\u001b[0;34m\u001b[0m\u001b[0;34m\u001b[0m\u001b[0m\n\u001b[1;32m    848\u001b[0m \u001b[0;34m\u001b[0m\u001b[0m\n\u001b[0;32m--> 849\u001b[0;31m         encoder_outputs = self.encoder(\n\u001b[0m\u001b[1;32m    850\u001b[0m             \u001b[0membedding_output\u001b[0m\u001b[0;34m,\u001b[0m\u001b[0;34m\u001b[0m\u001b[0;34m\u001b[0m\u001b[0m\n\u001b[1;32m    851\u001b[0m             \u001b[0mattention_mask\u001b[0m\u001b[0;34m=\u001b[0m\u001b[0mextended_attention_mask\u001b[0m\u001b[0;34m,\u001b[0m\u001b[0;34m\u001b[0m\u001b[0;34m\u001b[0m\u001b[0m\n",
            "\u001b[0;32m/usr/local/lib/python3.11/dist-packages/torch/nn/modules/module.py\u001b[0m in \u001b[0;36m_wrapped_call_impl\u001b[0;34m(self, *args, **kwargs)\u001b[0m\n\u001b[1;32m   1737\u001b[0m             \u001b[0;32mreturn\u001b[0m \u001b[0mself\u001b[0m\u001b[0;34m.\u001b[0m\u001b[0m_compiled_call_impl\u001b[0m\u001b[0;34m(\u001b[0m\u001b[0;34m*\u001b[0m\u001b[0margs\u001b[0m\u001b[0;34m,\u001b[0m \u001b[0;34m**\u001b[0m\u001b[0mkwargs\u001b[0m\u001b[0;34m)\u001b[0m  \u001b[0;31m# type: ignore[misc]\u001b[0m\u001b[0;34m\u001b[0m\u001b[0;34m\u001b[0m\u001b[0m\n\u001b[1;32m   1738\u001b[0m         \u001b[0;32melse\u001b[0m\u001b[0;34m:\u001b[0m\u001b[0;34m\u001b[0m\u001b[0;34m\u001b[0m\u001b[0m\n\u001b[0;32m-> 1739\u001b[0;31m             \u001b[0;32mreturn\u001b[0m \u001b[0mself\u001b[0m\u001b[0;34m.\u001b[0m\u001b[0m_call_impl\u001b[0m\u001b[0;34m(\u001b[0m\u001b[0;34m*\u001b[0m\u001b[0margs\u001b[0m\u001b[0;34m,\u001b[0m \u001b[0;34m**\u001b[0m\u001b[0mkwargs\u001b[0m\u001b[0;34m)\u001b[0m\u001b[0;34m\u001b[0m\u001b[0;34m\u001b[0m\u001b[0m\n\u001b[0m\u001b[1;32m   1740\u001b[0m \u001b[0;34m\u001b[0m\u001b[0m\n\u001b[1;32m   1741\u001b[0m     \u001b[0;31m# torchrec tests the code consistency with the following code\u001b[0m\u001b[0;34m\u001b[0m\u001b[0;34m\u001b[0m\u001b[0m\n",
            "\u001b[0;32m/usr/local/lib/python3.11/dist-packages/torch/nn/modules/module.py\u001b[0m in \u001b[0;36m_call_impl\u001b[0;34m(self, *args, **kwargs)\u001b[0m\n\u001b[1;32m   1748\u001b[0m                 \u001b[0;32mor\u001b[0m \u001b[0m_global_backward_pre_hooks\u001b[0m \u001b[0;32mor\u001b[0m \u001b[0m_global_backward_hooks\u001b[0m\u001b[0;34m\u001b[0m\u001b[0;34m\u001b[0m\u001b[0m\n\u001b[1;32m   1749\u001b[0m                 or _global_forward_hooks or _global_forward_pre_hooks):\n\u001b[0;32m-> 1750\u001b[0;31m             \u001b[0;32mreturn\u001b[0m \u001b[0mforward_call\u001b[0m\u001b[0;34m(\u001b[0m\u001b[0;34m*\u001b[0m\u001b[0margs\u001b[0m\u001b[0;34m,\u001b[0m \u001b[0;34m**\u001b[0m\u001b[0mkwargs\u001b[0m\u001b[0;34m)\u001b[0m\u001b[0;34m\u001b[0m\u001b[0;34m\u001b[0m\u001b[0m\n\u001b[0m\u001b[1;32m   1751\u001b[0m \u001b[0;34m\u001b[0m\u001b[0m\n\u001b[1;32m   1752\u001b[0m         \u001b[0mresult\u001b[0m \u001b[0;34m=\u001b[0m \u001b[0;32mNone\u001b[0m\u001b[0;34m\u001b[0m\u001b[0;34m\u001b[0m\u001b[0m\n",
            "\u001b[0;32m/usr/local/lib/python3.11/dist-packages/transformers/models/xlm_roberta/modeling_xlm_roberta.py\u001b[0m in \u001b[0;36mforward\u001b[0;34m(self, hidden_states, attention_mask, head_mask, encoder_hidden_states, encoder_attention_mask, past_key_values, use_cache, output_attentions, output_hidden_states, return_dict)\u001b[0m\n\u001b[1;32m    606\u001b[0m             \u001b[0mpast_key_value\u001b[0m \u001b[0;34m=\u001b[0m \u001b[0mpast_key_values\u001b[0m\u001b[0;34m[\u001b[0m\u001b[0mi\u001b[0m\u001b[0;34m]\u001b[0m \u001b[0;32mif\u001b[0m \u001b[0mpast_key_values\u001b[0m \u001b[0;32mis\u001b[0m \u001b[0;32mnot\u001b[0m \u001b[0;32mNone\u001b[0m \u001b[0;32melse\u001b[0m \u001b[0;32mNone\u001b[0m\u001b[0;34m\u001b[0m\u001b[0;34m\u001b[0m\u001b[0m\n\u001b[1;32m    607\u001b[0m \u001b[0;34m\u001b[0m\u001b[0m\n\u001b[0;32m--> 608\u001b[0;31m             layer_outputs = layer_module(\n\u001b[0m\u001b[1;32m    609\u001b[0m                 \u001b[0mhidden_states\u001b[0m\u001b[0;34m,\u001b[0m\u001b[0;34m\u001b[0m\u001b[0;34m\u001b[0m\u001b[0m\n\u001b[1;32m    610\u001b[0m                 \u001b[0mattention_mask\u001b[0m\u001b[0;34m,\u001b[0m\u001b[0;34m\u001b[0m\u001b[0;34m\u001b[0m\u001b[0m\n",
            "\u001b[0;32m/usr/local/lib/python3.11/dist-packages/transformers/modeling_layers.py\u001b[0m in \u001b[0;36m__call__\u001b[0;34m(self, *args, **kwargs)\u001b[0m\n\u001b[1;32m     81\u001b[0m \u001b[0;34m\u001b[0m\u001b[0m\n\u001b[1;32m     82\u001b[0m             \u001b[0;32mreturn\u001b[0m \u001b[0mself\u001b[0m\u001b[0;34m.\u001b[0m\u001b[0m_gradient_checkpointing_func\u001b[0m\u001b[0;34m(\u001b[0m\u001b[0mpartial\u001b[0m\u001b[0;34m(\u001b[0m\u001b[0msuper\u001b[0m\u001b[0;34m(\u001b[0m\u001b[0;34m)\u001b[0m\u001b[0;34m.\u001b[0m\u001b[0m__call__\u001b[0m\u001b[0;34m,\u001b[0m \u001b[0;34m**\u001b[0m\u001b[0mkwargs\u001b[0m\u001b[0;34m)\u001b[0m\u001b[0;34m,\u001b[0m \u001b[0;34m*\u001b[0m\u001b[0margs\u001b[0m\u001b[0;34m)\u001b[0m\u001b[0;34m\u001b[0m\u001b[0;34m\u001b[0m\u001b[0m\n\u001b[0;32m---> 83\u001b[0;31m         \u001b[0;32mreturn\u001b[0m \u001b[0msuper\u001b[0m\u001b[0;34m(\u001b[0m\u001b[0;34m)\u001b[0m\u001b[0;34m.\u001b[0m\u001b[0m__call__\u001b[0m\u001b[0;34m(\u001b[0m\u001b[0;34m*\u001b[0m\u001b[0margs\u001b[0m\u001b[0;34m,\u001b[0m \u001b[0;34m**\u001b[0m\u001b[0mkwargs\u001b[0m\u001b[0;34m)\u001b[0m\u001b[0;34m\u001b[0m\u001b[0;34m\u001b[0m\u001b[0m\n\u001b[0m",
            "\u001b[0;32m/usr/local/lib/python3.11/dist-packages/torch/nn/modules/module.py\u001b[0m in \u001b[0;36m_wrapped_call_impl\u001b[0;34m(self, *args, **kwargs)\u001b[0m\n\u001b[1;32m   1737\u001b[0m             \u001b[0;32mreturn\u001b[0m \u001b[0mself\u001b[0m\u001b[0;34m.\u001b[0m\u001b[0m_compiled_call_impl\u001b[0m\u001b[0;34m(\u001b[0m\u001b[0;34m*\u001b[0m\u001b[0margs\u001b[0m\u001b[0;34m,\u001b[0m \u001b[0;34m**\u001b[0m\u001b[0mkwargs\u001b[0m\u001b[0;34m)\u001b[0m  \u001b[0;31m# type: ignore[misc]\u001b[0m\u001b[0;34m\u001b[0m\u001b[0;34m\u001b[0m\u001b[0m\n\u001b[1;32m   1738\u001b[0m         \u001b[0;32melse\u001b[0m\u001b[0;34m:\u001b[0m\u001b[0;34m\u001b[0m\u001b[0;34m\u001b[0m\u001b[0m\n\u001b[0;32m-> 1739\u001b[0;31m             \u001b[0;32mreturn\u001b[0m \u001b[0mself\u001b[0m\u001b[0;34m.\u001b[0m\u001b[0m_call_impl\u001b[0m\u001b[0;34m(\u001b[0m\u001b[0;34m*\u001b[0m\u001b[0margs\u001b[0m\u001b[0;34m,\u001b[0m \u001b[0;34m**\u001b[0m\u001b[0mkwargs\u001b[0m\u001b[0;34m)\u001b[0m\u001b[0;34m\u001b[0m\u001b[0;34m\u001b[0m\u001b[0m\n\u001b[0m\u001b[1;32m   1740\u001b[0m \u001b[0;34m\u001b[0m\u001b[0m\n\u001b[1;32m   1741\u001b[0m     \u001b[0;31m# torchrec tests the code consistency with the following code\u001b[0m\u001b[0;34m\u001b[0m\u001b[0;34m\u001b[0m\u001b[0m\n",
            "\u001b[0;32m/usr/local/lib/python3.11/dist-packages/torch/nn/modules/module.py\u001b[0m in \u001b[0;36m_call_impl\u001b[0;34m(self, *args, **kwargs)\u001b[0m\n\u001b[1;32m   1748\u001b[0m                 \u001b[0;32mor\u001b[0m \u001b[0m_global_backward_pre_hooks\u001b[0m \u001b[0;32mor\u001b[0m \u001b[0m_global_backward_hooks\u001b[0m\u001b[0;34m\u001b[0m\u001b[0;34m\u001b[0m\u001b[0m\n\u001b[1;32m   1749\u001b[0m                 or _global_forward_hooks or _global_forward_pre_hooks):\n\u001b[0;32m-> 1750\u001b[0;31m             \u001b[0;32mreturn\u001b[0m \u001b[0mforward_call\u001b[0m\u001b[0;34m(\u001b[0m\u001b[0;34m*\u001b[0m\u001b[0margs\u001b[0m\u001b[0;34m,\u001b[0m \u001b[0;34m**\u001b[0m\u001b[0mkwargs\u001b[0m\u001b[0;34m)\u001b[0m\u001b[0;34m\u001b[0m\u001b[0;34m\u001b[0m\u001b[0m\n\u001b[0m\u001b[1;32m   1751\u001b[0m \u001b[0;34m\u001b[0m\u001b[0m\n\u001b[1;32m   1752\u001b[0m         \u001b[0mresult\u001b[0m \u001b[0;34m=\u001b[0m \u001b[0;32mNone\u001b[0m\u001b[0;34m\u001b[0m\u001b[0;34m\u001b[0m\u001b[0m\n",
            "\u001b[0;32m/usr/local/lib/python3.11/dist-packages/transformers/models/xlm_roberta/modeling_xlm_roberta.py\u001b[0m in \u001b[0;36mforward\u001b[0;34m(self, hidden_states, attention_mask, head_mask, encoder_hidden_states, encoder_attention_mask, past_key_value, output_attentions)\u001b[0m\n\u001b[1;32m    549\u001b[0m             \u001b[0mpresent_key_value\u001b[0m \u001b[0;34m=\u001b[0m \u001b[0mpresent_key_value\u001b[0m \u001b[0;34m+\u001b[0m \u001b[0mcross_attn_present_key_value\u001b[0m\u001b[0;34m\u001b[0m\u001b[0;34m\u001b[0m\u001b[0m\n\u001b[1;32m    550\u001b[0m \u001b[0;34m\u001b[0m\u001b[0m\n\u001b[0;32m--> 551\u001b[0;31m         layer_output = apply_chunking_to_forward(\n\u001b[0m\u001b[1;32m    552\u001b[0m             \u001b[0mself\u001b[0m\u001b[0;34m.\u001b[0m\u001b[0mfeed_forward_chunk\u001b[0m\u001b[0;34m,\u001b[0m \u001b[0mself\u001b[0m\u001b[0;34m.\u001b[0m\u001b[0mchunk_size_feed_forward\u001b[0m\u001b[0;34m,\u001b[0m \u001b[0mself\u001b[0m\u001b[0;34m.\u001b[0m\u001b[0mseq_len_dim\u001b[0m\u001b[0;34m,\u001b[0m \u001b[0mattention_output\u001b[0m\u001b[0;34m\u001b[0m\u001b[0;34m\u001b[0m\u001b[0m\n\u001b[1;32m    553\u001b[0m         )\n",
            "\u001b[0;32m/usr/local/lib/python3.11/dist-packages/transformers/pytorch_utils.py\u001b[0m in \u001b[0;36mapply_chunking_to_forward\u001b[0;34m(forward_fn, chunk_size, chunk_dim, *input_tensors)\u001b[0m\n\u001b[1;32m    248\u001b[0m         \u001b[0;32mreturn\u001b[0m \u001b[0mtorch\u001b[0m\u001b[0;34m.\u001b[0m\u001b[0mcat\u001b[0m\u001b[0;34m(\u001b[0m\u001b[0moutput_chunks\u001b[0m\u001b[0;34m,\u001b[0m \u001b[0mdim\u001b[0m\u001b[0;34m=\u001b[0m\u001b[0mchunk_dim\u001b[0m\u001b[0;34m)\u001b[0m\u001b[0;34m\u001b[0m\u001b[0;34m\u001b[0m\u001b[0m\n\u001b[1;32m    249\u001b[0m \u001b[0;34m\u001b[0m\u001b[0m\n\u001b[0;32m--> 250\u001b[0;31m     \u001b[0;32mreturn\u001b[0m \u001b[0mforward_fn\u001b[0m\u001b[0;34m(\u001b[0m\u001b[0;34m*\u001b[0m\u001b[0minput_tensors\u001b[0m\u001b[0;34m)\u001b[0m\u001b[0;34m\u001b[0m\u001b[0;34m\u001b[0m\u001b[0m\n\u001b[0m\u001b[1;32m    251\u001b[0m \u001b[0;34m\u001b[0m\u001b[0m\n\u001b[1;32m    252\u001b[0m \u001b[0;34m\u001b[0m\u001b[0m\n",
            "\u001b[0;32m/usr/local/lib/python3.11/dist-packages/transformers/models/xlm_roberta/modeling_xlm_roberta.py\u001b[0m in \u001b[0;36mfeed_forward_chunk\u001b[0;34m(self, attention_output)\u001b[0m\n\u001b[1;32m    561\u001b[0m \u001b[0;34m\u001b[0m\u001b[0m\n\u001b[1;32m    562\u001b[0m     \u001b[0;32mdef\u001b[0m \u001b[0mfeed_forward_chunk\u001b[0m\u001b[0;34m(\u001b[0m\u001b[0mself\u001b[0m\u001b[0;34m,\u001b[0m \u001b[0mattention_output\u001b[0m\u001b[0;34m)\u001b[0m\u001b[0;34m:\u001b[0m\u001b[0;34m\u001b[0m\u001b[0;34m\u001b[0m\u001b[0m\n\u001b[0;32m--> 563\u001b[0;31m         \u001b[0mintermediate_output\u001b[0m \u001b[0;34m=\u001b[0m \u001b[0mself\u001b[0m\u001b[0;34m.\u001b[0m\u001b[0mintermediate\u001b[0m\u001b[0;34m(\u001b[0m\u001b[0mattention_output\u001b[0m\u001b[0;34m)\u001b[0m\u001b[0;34m\u001b[0m\u001b[0;34m\u001b[0m\u001b[0m\n\u001b[0m\u001b[1;32m    564\u001b[0m         \u001b[0mlayer_output\u001b[0m \u001b[0;34m=\u001b[0m \u001b[0mself\u001b[0m\u001b[0;34m.\u001b[0m\u001b[0moutput\u001b[0m\u001b[0;34m(\u001b[0m\u001b[0mintermediate_output\u001b[0m\u001b[0;34m,\u001b[0m \u001b[0mattention_output\u001b[0m\u001b[0;34m)\u001b[0m\u001b[0;34m\u001b[0m\u001b[0;34m\u001b[0m\u001b[0m\n\u001b[1;32m    565\u001b[0m         \u001b[0;32mreturn\u001b[0m \u001b[0mlayer_output\u001b[0m\u001b[0;34m\u001b[0m\u001b[0;34m\u001b[0m\u001b[0m\n",
            "\u001b[0;32m/usr/local/lib/python3.11/dist-packages/torch/nn/modules/module.py\u001b[0m in \u001b[0;36m_wrapped_call_impl\u001b[0;34m(self, *args, **kwargs)\u001b[0m\n\u001b[1;32m   1737\u001b[0m             \u001b[0;32mreturn\u001b[0m \u001b[0mself\u001b[0m\u001b[0;34m.\u001b[0m\u001b[0m_compiled_call_impl\u001b[0m\u001b[0;34m(\u001b[0m\u001b[0;34m*\u001b[0m\u001b[0margs\u001b[0m\u001b[0;34m,\u001b[0m \u001b[0;34m**\u001b[0m\u001b[0mkwargs\u001b[0m\u001b[0;34m)\u001b[0m  \u001b[0;31m# type: ignore[misc]\u001b[0m\u001b[0;34m\u001b[0m\u001b[0;34m\u001b[0m\u001b[0m\n\u001b[1;32m   1738\u001b[0m         \u001b[0;32melse\u001b[0m\u001b[0;34m:\u001b[0m\u001b[0;34m\u001b[0m\u001b[0;34m\u001b[0m\u001b[0m\n\u001b[0;32m-> 1739\u001b[0;31m             \u001b[0;32mreturn\u001b[0m \u001b[0mself\u001b[0m\u001b[0;34m.\u001b[0m\u001b[0m_call_impl\u001b[0m\u001b[0;34m(\u001b[0m\u001b[0;34m*\u001b[0m\u001b[0margs\u001b[0m\u001b[0;34m,\u001b[0m \u001b[0;34m**\u001b[0m\u001b[0mkwargs\u001b[0m\u001b[0;34m)\u001b[0m\u001b[0;34m\u001b[0m\u001b[0;34m\u001b[0m\u001b[0m\n\u001b[0m\u001b[1;32m   1740\u001b[0m \u001b[0;34m\u001b[0m\u001b[0m\n\u001b[1;32m   1741\u001b[0m     \u001b[0;31m# torchrec tests the code consistency with the following code\u001b[0m\u001b[0;34m\u001b[0m\u001b[0;34m\u001b[0m\u001b[0m\n",
            "\u001b[0;32m/usr/local/lib/python3.11/dist-packages/torch/nn/modules/module.py\u001b[0m in \u001b[0;36m_call_impl\u001b[0;34m(self, *args, **kwargs)\u001b[0m\n\u001b[1;32m   1748\u001b[0m                 \u001b[0;32mor\u001b[0m \u001b[0m_global_backward_pre_hooks\u001b[0m \u001b[0;32mor\u001b[0m \u001b[0m_global_backward_hooks\u001b[0m\u001b[0;34m\u001b[0m\u001b[0;34m\u001b[0m\u001b[0m\n\u001b[1;32m   1749\u001b[0m                 or _global_forward_hooks or _global_forward_pre_hooks):\n\u001b[0;32m-> 1750\u001b[0;31m             \u001b[0;32mreturn\u001b[0m \u001b[0mforward_call\u001b[0m\u001b[0;34m(\u001b[0m\u001b[0;34m*\u001b[0m\u001b[0margs\u001b[0m\u001b[0;34m,\u001b[0m \u001b[0;34m**\u001b[0m\u001b[0mkwargs\u001b[0m\u001b[0;34m)\u001b[0m\u001b[0;34m\u001b[0m\u001b[0;34m\u001b[0m\u001b[0m\n\u001b[0m\u001b[1;32m   1751\u001b[0m \u001b[0;34m\u001b[0m\u001b[0m\n\u001b[1;32m   1752\u001b[0m         \u001b[0mresult\u001b[0m \u001b[0;34m=\u001b[0m \u001b[0;32mNone\u001b[0m\u001b[0;34m\u001b[0m\u001b[0;34m\u001b[0m\u001b[0m\n",
            "\u001b[0;32m/usr/local/lib/python3.11/dist-packages/transformers/models/xlm_roberta/modeling_xlm_roberta.py\u001b[0m in \u001b[0;36mforward\u001b[0;34m(self, hidden_states)\u001b[0m\n\u001b[1;32m    459\u001b[0m \u001b[0;34m\u001b[0m\u001b[0m\n\u001b[1;32m    460\u001b[0m     \u001b[0;32mdef\u001b[0m \u001b[0mforward\u001b[0m\u001b[0;34m(\u001b[0m\u001b[0mself\u001b[0m\u001b[0;34m,\u001b[0m \u001b[0mhidden_states\u001b[0m\u001b[0;34m:\u001b[0m \u001b[0mtorch\u001b[0m\u001b[0;34m.\u001b[0m\u001b[0mTensor\u001b[0m\u001b[0;34m)\u001b[0m \u001b[0;34m->\u001b[0m \u001b[0mtorch\u001b[0m\u001b[0;34m.\u001b[0m\u001b[0mTensor\u001b[0m\u001b[0;34m:\u001b[0m\u001b[0;34m\u001b[0m\u001b[0;34m\u001b[0m\u001b[0m\n\u001b[0;32m--> 461\u001b[0;31m         \u001b[0mhidden_states\u001b[0m \u001b[0;34m=\u001b[0m \u001b[0mself\u001b[0m\u001b[0;34m.\u001b[0m\u001b[0mdense\u001b[0m\u001b[0;34m(\u001b[0m\u001b[0mhidden_states\u001b[0m\u001b[0;34m)\u001b[0m\u001b[0;34m\u001b[0m\u001b[0;34m\u001b[0m\u001b[0m\n\u001b[0m\u001b[1;32m    462\u001b[0m         \u001b[0mhidden_states\u001b[0m \u001b[0;34m=\u001b[0m \u001b[0mself\u001b[0m\u001b[0;34m.\u001b[0m\u001b[0mintermediate_act_fn\u001b[0m\u001b[0;34m(\u001b[0m\u001b[0mhidden_states\u001b[0m\u001b[0;34m)\u001b[0m\u001b[0;34m\u001b[0m\u001b[0;34m\u001b[0m\u001b[0m\n\u001b[1;32m    463\u001b[0m         \u001b[0;32mreturn\u001b[0m \u001b[0mhidden_states\u001b[0m\u001b[0;34m\u001b[0m\u001b[0;34m\u001b[0m\u001b[0m\n",
            "\u001b[0;32m/usr/local/lib/python3.11/dist-packages/torch/nn/modules/module.py\u001b[0m in \u001b[0;36m_wrapped_call_impl\u001b[0;34m(self, *args, **kwargs)\u001b[0m\n\u001b[1;32m   1737\u001b[0m             \u001b[0;32mreturn\u001b[0m \u001b[0mself\u001b[0m\u001b[0;34m.\u001b[0m\u001b[0m_compiled_call_impl\u001b[0m\u001b[0;34m(\u001b[0m\u001b[0;34m*\u001b[0m\u001b[0margs\u001b[0m\u001b[0;34m,\u001b[0m \u001b[0;34m**\u001b[0m\u001b[0mkwargs\u001b[0m\u001b[0;34m)\u001b[0m  \u001b[0;31m# type: ignore[misc]\u001b[0m\u001b[0;34m\u001b[0m\u001b[0;34m\u001b[0m\u001b[0m\n\u001b[1;32m   1738\u001b[0m         \u001b[0;32melse\u001b[0m\u001b[0;34m:\u001b[0m\u001b[0;34m\u001b[0m\u001b[0;34m\u001b[0m\u001b[0m\n\u001b[0;32m-> 1739\u001b[0;31m             \u001b[0;32mreturn\u001b[0m \u001b[0mself\u001b[0m\u001b[0;34m.\u001b[0m\u001b[0m_call_impl\u001b[0m\u001b[0;34m(\u001b[0m\u001b[0;34m*\u001b[0m\u001b[0margs\u001b[0m\u001b[0;34m,\u001b[0m \u001b[0;34m**\u001b[0m\u001b[0mkwargs\u001b[0m\u001b[0;34m)\u001b[0m\u001b[0;34m\u001b[0m\u001b[0;34m\u001b[0m\u001b[0m\n\u001b[0m\u001b[1;32m   1740\u001b[0m \u001b[0;34m\u001b[0m\u001b[0m\n\u001b[1;32m   1741\u001b[0m     \u001b[0;31m# torchrec tests the code consistency with the following code\u001b[0m\u001b[0;34m\u001b[0m\u001b[0;34m\u001b[0m\u001b[0m\n",
            "\u001b[0;32m/usr/local/lib/python3.11/dist-packages/torch/nn/modules/module.py\u001b[0m in \u001b[0;36m_call_impl\u001b[0;34m(self, *args, **kwargs)\u001b[0m\n\u001b[1;32m   1748\u001b[0m                 \u001b[0;32mor\u001b[0m \u001b[0m_global_backward_pre_hooks\u001b[0m \u001b[0;32mor\u001b[0m \u001b[0m_global_backward_hooks\u001b[0m\u001b[0;34m\u001b[0m\u001b[0;34m\u001b[0m\u001b[0m\n\u001b[1;32m   1749\u001b[0m                 or _global_forward_hooks or _global_forward_pre_hooks):\n\u001b[0;32m-> 1750\u001b[0;31m             \u001b[0;32mreturn\u001b[0m \u001b[0mforward_call\u001b[0m\u001b[0;34m(\u001b[0m\u001b[0;34m*\u001b[0m\u001b[0margs\u001b[0m\u001b[0;34m,\u001b[0m \u001b[0;34m**\u001b[0m\u001b[0mkwargs\u001b[0m\u001b[0;34m)\u001b[0m\u001b[0;34m\u001b[0m\u001b[0;34m\u001b[0m\u001b[0m\n\u001b[0m\u001b[1;32m   1751\u001b[0m \u001b[0;34m\u001b[0m\u001b[0m\n\u001b[1;32m   1752\u001b[0m         \u001b[0mresult\u001b[0m \u001b[0;34m=\u001b[0m \u001b[0;32mNone\u001b[0m\u001b[0;34m\u001b[0m\u001b[0;34m\u001b[0m\u001b[0m\n",
            "\u001b[0;32m/usr/local/lib/python3.11/dist-packages/torch/nn/modules/linear.py\u001b[0m in \u001b[0;36mforward\u001b[0;34m(self, input)\u001b[0m\n\u001b[1;32m    123\u001b[0m \u001b[0;34m\u001b[0m\u001b[0m\n\u001b[1;32m    124\u001b[0m     \u001b[0;32mdef\u001b[0m \u001b[0mforward\u001b[0m\u001b[0;34m(\u001b[0m\u001b[0mself\u001b[0m\u001b[0;34m,\u001b[0m \u001b[0minput\u001b[0m\u001b[0;34m:\u001b[0m \u001b[0mTensor\u001b[0m\u001b[0;34m)\u001b[0m \u001b[0;34m->\u001b[0m \u001b[0mTensor\u001b[0m\u001b[0;34m:\u001b[0m\u001b[0;34m\u001b[0m\u001b[0;34m\u001b[0m\u001b[0m\n\u001b[0;32m--> 125\u001b[0;31m         \u001b[0;32mreturn\u001b[0m \u001b[0mF\u001b[0m\u001b[0;34m.\u001b[0m\u001b[0mlinear\u001b[0m\u001b[0;34m(\u001b[0m\u001b[0minput\u001b[0m\u001b[0;34m,\u001b[0m \u001b[0mself\u001b[0m\u001b[0;34m.\u001b[0m\u001b[0mweight\u001b[0m\u001b[0;34m,\u001b[0m \u001b[0mself\u001b[0m\u001b[0;34m.\u001b[0m\u001b[0mbias\u001b[0m\u001b[0;34m)\u001b[0m\u001b[0;34m\u001b[0m\u001b[0;34m\u001b[0m\u001b[0m\n\u001b[0m\u001b[1;32m    126\u001b[0m \u001b[0;34m\u001b[0m\u001b[0m\n\u001b[1;32m    127\u001b[0m     \u001b[0;32mdef\u001b[0m \u001b[0mextra_repr\u001b[0m\u001b[0;34m(\u001b[0m\u001b[0mself\u001b[0m\u001b[0;34m)\u001b[0m \u001b[0;34m->\u001b[0m \u001b[0mstr\u001b[0m\u001b[0;34m:\u001b[0m\u001b[0;34m\u001b[0m\u001b[0;34m\u001b[0m\u001b[0m\n",
            "\u001b[0;31mKeyboardInterrupt\u001b[0m: "
          ]
        }
      ]
    },
    {
      "cell_type": "markdown",
      "source": [
        "**Just cheking**"
      ],
      "metadata": {
        "id": "VsdUvxe5unqb"
      }
    },
    {
      "cell_type": "code",
      "source": [
        "!pip install -U langchain-google-genai"
      ],
      "metadata": {
        "colab": {
          "base_uri": "https://localhost:8080/"
        },
        "id": "-O9ortNrCQLi",
        "outputId": "79a64188-1591-4cd3-b18c-6e90b764f4a4"
      },
      "execution_count": 28,
      "outputs": [
        {
          "output_type": "stream",
          "name": "stdout",
          "text": [
            "Requirement already satisfied: langchain-google-genai in /usr/local/lib/python3.11/dist-packages (2.1.8)\n",
            "Requirement already satisfied: filetype<2.0.0,>=1.2.0 in /usr/local/lib/python3.11/dist-packages (from langchain-google-genai) (1.2.0)\n",
            "Requirement already satisfied: google-ai-generativelanguage<0.7.0,>=0.6.18 in /usr/local/lib/python3.11/dist-packages (from langchain-google-genai) (0.6.18)\n",
            "Requirement already satisfied: langchain-core<0.4.0,>=0.3.68 in /usr/local/lib/python3.11/dist-packages (from langchain-google-genai) (0.3.70)\n",
            "Requirement already satisfied: pydantic<3,>=2 in /usr/local/lib/python3.11/dist-packages (from langchain-google-genai) (2.11.7)\n",
            "Requirement already satisfied: google-api-core!=2.0.*,!=2.1.*,!=2.10.*,!=2.2.*,!=2.3.*,!=2.4.*,!=2.5.*,!=2.6.*,!=2.7.*,!=2.8.*,!=2.9.*,<3.0.0,>=1.34.1 in /usr/local/lib/python3.11/dist-packages (from google-api-core[grpc]!=2.0.*,!=2.1.*,!=2.10.*,!=2.2.*,!=2.3.*,!=2.4.*,!=2.5.*,!=2.6.*,!=2.7.*,!=2.8.*,!=2.9.*,<3.0.0,>=1.34.1->google-ai-generativelanguage<0.7.0,>=0.6.18->langchain-google-genai) (2.25.1)\n",
            "Requirement already satisfied: google-auth!=2.24.0,!=2.25.0,<3.0.0,>=2.14.1 in /usr/local/lib/python3.11/dist-packages (from google-ai-generativelanguage<0.7.0,>=0.6.18->langchain-google-genai) (2.38.0)\n",
            "Requirement already satisfied: proto-plus<2.0.0,>=1.22.3 in /usr/local/lib/python3.11/dist-packages (from google-ai-generativelanguage<0.7.0,>=0.6.18->langchain-google-genai) (1.26.1)\n",
            "Requirement already satisfied: protobuf!=4.21.0,!=4.21.1,!=4.21.2,!=4.21.3,!=4.21.4,!=4.21.5,<7.0.0,>=3.20.2 in /usr/local/lib/python3.11/dist-packages (from google-ai-generativelanguage<0.7.0,>=0.6.18->langchain-google-genai) (5.29.5)\n",
            "Requirement already satisfied: langsmith>=0.3.45 in /usr/local/lib/python3.11/dist-packages (from langchain-core<0.4.0,>=0.3.68->langchain-google-genai) (0.4.8)\n",
            "Requirement already satisfied: tenacity!=8.4.0,<10.0.0,>=8.1.0 in /usr/local/lib/python3.11/dist-packages (from langchain-core<0.4.0,>=0.3.68->langchain-google-genai) (8.5.0)\n",
            "Requirement already satisfied: jsonpatch<2.0,>=1.33 in /usr/local/lib/python3.11/dist-packages (from langchain-core<0.4.0,>=0.3.68->langchain-google-genai) (1.33)\n",
            "Requirement already satisfied: PyYAML>=5.3 in /usr/local/lib/python3.11/dist-packages (from langchain-core<0.4.0,>=0.3.68->langchain-google-genai) (6.0.2)\n",
            "Requirement already satisfied: typing-extensions>=4.7 in /usr/local/lib/python3.11/dist-packages (from langchain-core<0.4.0,>=0.3.68->langchain-google-genai) (4.14.1)\n",
            "Requirement already satisfied: packaging>=23.2 in /usr/local/lib/python3.11/dist-packages (from langchain-core<0.4.0,>=0.3.68->langchain-google-genai) (25.0)\n",
            "Requirement already satisfied: annotated-types>=0.6.0 in /usr/local/lib/python3.11/dist-packages (from pydantic<3,>=2->langchain-google-genai) (0.7.0)\n",
            "Requirement already satisfied: pydantic-core==2.33.2 in /usr/local/lib/python3.11/dist-packages (from pydantic<3,>=2->langchain-google-genai) (2.33.2)\n",
            "Requirement already satisfied: typing-inspection>=0.4.0 in /usr/local/lib/python3.11/dist-packages (from pydantic<3,>=2->langchain-google-genai) (0.4.1)\n",
            "Requirement already satisfied: googleapis-common-protos<2.0.0,>=1.56.2 in /usr/local/lib/python3.11/dist-packages (from google-api-core!=2.0.*,!=2.1.*,!=2.10.*,!=2.2.*,!=2.3.*,!=2.4.*,!=2.5.*,!=2.6.*,!=2.7.*,!=2.8.*,!=2.9.*,<3.0.0,>=1.34.1->google-api-core[grpc]!=2.0.*,!=2.1.*,!=2.10.*,!=2.2.*,!=2.3.*,!=2.4.*,!=2.5.*,!=2.6.*,!=2.7.*,!=2.8.*,!=2.9.*,<3.0.0,>=1.34.1->google-ai-generativelanguage<0.7.0,>=0.6.18->langchain-google-genai) (1.70.0)\n",
            "Requirement already satisfied: requests<3.0.0,>=2.18.0 in /usr/local/lib/python3.11/dist-packages (from google-api-core!=2.0.*,!=2.1.*,!=2.10.*,!=2.2.*,!=2.3.*,!=2.4.*,!=2.5.*,!=2.6.*,!=2.7.*,!=2.8.*,!=2.9.*,<3.0.0,>=1.34.1->google-api-core[grpc]!=2.0.*,!=2.1.*,!=2.10.*,!=2.2.*,!=2.3.*,!=2.4.*,!=2.5.*,!=2.6.*,!=2.7.*,!=2.8.*,!=2.9.*,<3.0.0,>=1.34.1->google-ai-generativelanguage<0.7.0,>=0.6.18->langchain-google-genai) (2.32.3)\n",
            "Requirement already satisfied: grpcio<2.0.0,>=1.33.2 in /usr/local/lib/python3.11/dist-packages (from google-api-core[grpc]!=2.0.*,!=2.1.*,!=2.10.*,!=2.2.*,!=2.3.*,!=2.4.*,!=2.5.*,!=2.6.*,!=2.7.*,!=2.8.*,!=2.9.*,<3.0.0,>=1.34.1->google-ai-generativelanguage<0.7.0,>=0.6.18->langchain-google-genai) (1.73.1)\n",
            "Requirement already satisfied: grpcio-status<2.0.0,>=1.33.2 in /usr/local/lib/python3.11/dist-packages (from google-api-core[grpc]!=2.0.*,!=2.1.*,!=2.10.*,!=2.2.*,!=2.3.*,!=2.4.*,!=2.5.*,!=2.6.*,!=2.7.*,!=2.8.*,!=2.9.*,<3.0.0,>=1.34.1->google-ai-generativelanguage<0.7.0,>=0.6.18->langchain-google-genai) (1.71.2)\n",
            "Requirement already satisfied: cachetools<6.0,>=2.0.0 in /usr/local/lib/python3.11/dist-packages (from google-auth!=2.24.0,!=2.25.0,<3.0.0,>=2.14.1->google-ai-generativelanguage<0.7.0,>=0.6.18->langchain-google-genai) (5.5.2)\n",
            "Requirement already satisfied: pyasn1-modules>=0.2.1 in /usr/local/lib/python3.11/dist-packages (from google-auth!=2.24.0,!=2.25.0,<3.0.0,>=2.14.1->google-ai-generativelanguage<0.7.0,>=0.6.18->langchain-google-genai) (0.4.2)\n",
            "Requirement already satisfied: rsa<5,>=3.1.4 in /usr/local/lib/python3.11/dist-packages (from google-auth!=2.24.0,!=2.25.0,<3.0.0,>=2.14.1->google-ai-generativelanguage<0.7.0,>=0.6.18->langchain-google-genai) (4.9.1)\n",
            "Requirement already satisfied: jsonpointer>=1.9 in /usr/local/lib/python3.11/dist-packages (from jsonpatch<2.0,>=1.33->langchain-core<0.4.0,>=0.3.68->langchain-google-genai) (3.0.0)\n",
            "Requirement already satisfied: httpx<1,>=0.23.0 in /usr/local/lib/python3.11/dist-packages (from langsmith>=0.3.45->langchain-core<0.4.0,>=0.3.68->langchain-google-genai) (0.28.1)\n",
            "Requirement already satisfied: orjson<4.0.0,>=3.9.14 in /usr/local/lib/python3.11/dist-packages (from langsmith>=0.3.45->langchain-core<0.4.0,>=0.3.68->langchain-google-genai) (3.11.0)\n",
            "Requirement already satisfied: requests-toolbelt<2.0.0,>=1.0.0 in /usr/local/lib/python3.11/dist-packages (from langsmith>=0.3.45->langchain-core<0.4.0,>=0.3.68->langchain-google-genai) (1.0.0)\n",
            "Requirement already satisfied: zstandard<0.24.0,>=0.23.0 in /usr/local/lib/python3.11/dist-packages (from langsmith>=0.3.45->langchain-core<0.4.0,>=0.3.68->langchain-google-genai) (0.23.0)\n",
            "Requirement already satisfied: anyio in /usr/local/lib/python3.11/dist-packages (from httpx<1,>=0.23.0->langsmith>=0.3.45->langchain-core<0.4.0,>=0.3.68->langchain-google-genai) (4.9.0)\n",
            "Requirement already satisfied: certifi in /usr/local/lib/python3.11/dist-packages (from httpx<1,>=0.23.0->langsmith>=0.3.45->langchain-core<0.4.0,>=0.3.68->langchain-google-genai) (2025.7.14)\n",
            "Requirement already satisfied: httpcore==1.* in /usr/local/lib/python3.11/dist-packages (from httpx<1,>=0.23.0->langsmith>=0.3.45->langchain-core<0.4.0,>=0.3.68->langchain-google-genai) (1.0.9)\n",
            "Requirement already satisfied: idna in /usr/local/lib/python3.11/dist-packages (from httpx<1,>=0.23.0->langsmith>=0.3.45->langchain-core<0.4.0,>=0.3.68->langchain-google-genai) (3.10)\n",
            "Requirement already satisfied: h11>=0.16 in /usr/local/lib/python3.11/dist-packages (from httpcore==1.*->httpx<1,>=0.23.0->langsmith>=0.3.45->langchain-core<0.4.0,>=0.3.68->langchain-google-genai) (0.16.0)\n",
            "Requirement already satisfied: pyasn1<0.7.0,>=0.6.1 in /usr/local/lib/python3.11/dist-packages (from pyasn1-modules>=0.2.1->google-auth!=2.24.0,!=2.25.0,<3.0.0,>=2.14.1->google-ai-generativelanguage<0.7.0,>=0.6.18->langchain-google-genai) (0.6.1)\n",
            "Requirement already satisfied: charset-normalizer<4,>=2 in /usr/local/lib/python3.11/dist-packages (from requests<3.0.0,>=2.18.0->google-api-core!=2.0.*,!=2.1.*,!=2.10.*,!=2.2.*,!=2.3.*,!=2.4.*,!=2.5.*,!=2.6.*,!=2.7.*,!=2.8.*,!=2.9.*,<3.0.0,>=1.34.1->google-api-core[grpc]!=2.0.*,!=2.1.*,!=2.10.*,!=2.2.*,!=2.3.*,!=2.4.*,!=2.5.*,!=2.6.*,!=2.7.*,!=2.8.*,!=2.9.*,<3.0.0,>=1.34.1->google-ai-generativelanguage<0.7.0,>=0.6.18->langchain-google-genai) (3.4.2)\n",
            "Requirement already satisfied: urllib3<3,>=1.21.1 in /usr/local/lib/python3.11/dist-packages (from requests<3.0.0,>=2.18.0->google-api-core!=2.0.*,!=2.1.*,!=2.10.*,!=2.2.*,!=2.3.*,!=2.4.*,!=2.5.*,!=2.6.*,!=2.7.*,!=2.8.*,!=2.9.*,<3.0.0,>=1.34.1->google-api-core[grpc]!=2.0.*,!=2.1.*,!=2.10.*,!=2.2.*,!=2.3.*,!=2.4.*,!=2.5.*,!=2.6.*,!=2.7.*,!=2.8.*,!=2.9.*,<3.0.0,>=1.34.1->google-ai-generativelanguage<0.7.0,>=0.6.18->langchain-google-genai) (2.5.0)\n",
            "Requirement already satisfied: sniffio>=1.1 in /usr/local/lib/python3.11/dist-packages (from anyio->httpx<1,>=0.23.0->langsmith>=0.3.45->langchain-core<0.4.0,>=0.3.68->langchain-google-genai) (1.3.1)\n"
          ]
        }
      ]
    },
    {
      "cell_type": "code",
      "source": [
        "import getpass\n",
        "import os\n",
        "\n",
        "if not os.environ.get(\"GOOGLE_API_KEY\"):\n",
        "  os.environ[\"GOOGLE_API_KEY\"] = getpass.getpass(\"Enter API key for Google Gemini: \")\n",
        "\n",
        "from langchain.chat_models import init_chat_model\n",
        "\n",
        "model = init_chat_model(\"gemini-2.0-flash\", model_provider=\"google_genai\")"
      ],
      "metadata": {
        "id": "DUprkW3hugbD"
      },
      "execution_count": 29,
      "outputs": []
    },
    {
      "cell_type": "code",
      "source": [
        "!pip install -qU \"langchain[google-genai]\""
      ],
      "metadata": {
        "id": "ShvJ1cnqvS_2"
      },
      "execution_count": 30,
      "outputs": []
    },
    {
      "cell_type": "code",
      "source": [
        "#checking manually\n",
        "context = \"\\n\\n\".join([chunk.page_content for chunk in retrieved_chunks])"
      ],
      "metadata": {
        "id": "97GPEQ2cuSl6"
      },
      "execution_count": 47,
      "outputs": []
    },
    {
      "cell_type": "code",
      "source": [
        "from langchain_core.prompts import PromptTemplate\n",
        "prompt = PromptTemplate(\n",
        "    template = \"\"\"\n",
        "    You are a helpful assistant.\n",
        "    Answer only from the provided context.\n",
        "    {context}\n",
        "    Question: {question}\n",
        "    \"\"\",\n",
        "    input_variables = [\"context\", \"question\"]\n",
        ")"
      ],
      "metadata": {
        "id": "PdUxq59xya61"
      },
      "execution_count": 48,
      "outputs": []
    },
    {
      "cell_type": "code",
      "source": [
        "final_prompt = prompt.invoke({\"context\": context, \"question\": query})"
      ],
      "metadata": {
        "id": "3jdAF_9u2PDv"
      },
      "execution_count": 49,
      "outputs": []
    },
    {
      "cell_type": "code",
      "source": [
        "final_prompt"
      ],
      "metadata": {
        "colab": {
          "base_uri": "https://localhost:8080/"
        },
        "id": "guEGsncJ2hrj",
        "outputId": "358acfc0-b4dd-4678-fa01-906ef8d48e6f"
      },
      "execution_count": 50,
      "outputs": [
        {
          "output_type": "execute_result",
          "data": {
            "text/plain": [
              "StringPromptValue(text='\\n    You are a helpful assistant.\\n    Answer only from the provided context.\\n    (ক) ২১ বছর (খ) ২৩ বছর (গ) ২৫ বছর ৪৭। গজাননের মায়ের নাম কী?\\n\\n(ক) অন্নদা (খ) অন্নপূর্ণা (গ) কল্যাণী ৪৮। \\'শিগগির চলে আয়, এই গাড়িতে জায়গা আছে\\' উক্তিটি কার? (ক) অনুপমের (খ) কল্যাণীর (গ) বিনুদাদার ৪৯। হরিশ কী উপলক্ষে কলকাতায় এসেছে?\\n\\n(ক) তীর্থ উপলক্ষে (খ) ছুটি উপলক্ষে (গ) পূজা উপলক্ষে\\n\\n&০। কাকে অনুপমের ভাগ্য দেবতা বলে উল্লেখ করা হয়েছে?\\n\\n(ক) হরিশকে (খ) মামাকে (গ) বিনুদাকে &১। কার টাকার প্রতি আসক্তি বেশি?\\n\\n(ক) শস্তুনাথের (খ) কল্যাণীর (গ) অনুপমের &২। \"কিছুদিন পূর্বে এমএ পাশ করিয়াছি\\'- উক্তিটি কার?\\n\\n(ক) মামার (খ) বিনুদার (গ) অনুপমের ৫৩। \\'একবার মামার কাছে কথাটা পাড়িয়া দেখ\\'- কথাটি কীসের? (ক) দানের (খ) চাকরির (গ) বিয়ের &৪। বিয়ের সময় কল্যাণীর প্রকৃত বয়স কত ছিল?\\n\\n(ক) ১৪ বছর (খ) ১৫ বছর (গ) ১৬ বছর\\n\\n35\\n\\n] ৯1৬11015 50172901-\\n\\n(ঘ) ১৭/১৮ বছর\\n\\n(ঘ) &/৬ জন\\n\\n(ঘ) অন্নপূর্ণার প্রতি (ঘ) ২৭ বছর\\n\\n(ঘ) হেমন্তী\\n\\n(ঘ) অনুপমের\\n\\n(ঘ) বিয়ে উপলক্ষে \\x0c\\n\\n[তলা ৯ অনলাইন ব্যাচ\\n\\n] ৯1৬11015\\n\\n5011901 &৫। মামার বাহিরের যাত্রাপথের সীমানা কতদুর?\\n\\nআব্বা 10117\\n\\n50110901 14554480) বহুনির্বাচনী ১। অনুপমের বাবা কী করে জীবিকা নির্বাহ করতেন? (ক) ডাক্তারি (খ) ওকালতি (গ) মাস্টারি (ঘ) ব্যবসা উত্তর: খ ২। মামাকে ভাগ্য দেবতার প্রধান এজেন্ট বলার কারণ, তার- (ক) প্রতিপত্তি (খ) প্রভাব (গ) বিচক্ষণতা (ঘ) কুট বুদ্ধি উত্তর: খ ৩। দীপুর চাচার সঙ্গে “অপরিচিতা\\' গল্পের কোন চরিত্রের মিল আছে? (ক) হরিশের (খ) মামার (গ) শিক্ষকের (ঘ) বিনুর উত্তর: খ\\n\\nব্যাখ্যা: অনুপমের পিতার মৃত্যুর পর তার মামাই তাদের পরিবারের দায়িত্ব নেন। পরিবারে তার প্রভাবের কথা বোঝাতেই অনুপম মামাকে \\'ভাগ্যদেবতার প্রধান এজেন্ট\\' বলে ।\\n\\nনিচের উদ্দীপকটি পড়ে ৩ ও ৪ সংখ্যক প্রশ্নের উত্তর দাও।\\n\\nপিতৃহীন দীপুর চাচাই ছিলেন পরিবারের কর্তা। দীপু শিক্ষিত হলেও তার সিদ্ধান্ত নেওয়ার ক্ষমতা ছিল না৷ চাচা তার বিয়ের উদ্যোগ নিলেও যৌতুক নিয়ে বাড়াবাড়ি করার কারণে কন্যার পিতা অপমানিত বোধ করে বিয়ের আলোচনা ভেঙে দেন। দীপু মেয়েটির ছবি দেখে মুগ্ধ হলেও তার চাচাকে কিছুই বলতে পারেননি।\\n\\n৩। দীপুর চাচার সঙ্গে “অপরিচিতা\\' গল্পের কোন চরিত্রের মিল আছে?\\n\\n(ক) হরিশের (খ) মামার (গ) শিক্ষকের (ঘ) বিনুর উত্তর: খ\\n\\nখ. প্রশ্নোক্ত উক্তিটিতে বাঙ্গার্থে দেবতা কার্তিকের সঙ্গে অনুপমের তুলনা করা হয়েছে।দেবী দুর্গার দুই পুত্র - অগ্রজ গণেশ ও অনুজ কার্তিকেয়। দেবী দুর্গার কোলে দেৰ সেনাপতি কার্তিকেয় অপূর্ব শোভা পায়। বড়ো হয়েও অনুপম কার্তিকের মতো মায়ের কাছাকাছি থেকে মাতৃআজ্ঞা পালনে ব্যস্ত থাকে। তাই পরিণত বয়সেও তার স্বাধীন ব্যক্তিত্বের বিকাশ ঘটে না। পাঠ্য গল্পের অনুপম পরিবারতন্ত্রের কাছে অসহায় ও ব্যক্তিত্বহীন একটি চরিত্র। উচ্চ শিক্ষিত হলেও তার নিজস্বতা বলতে কিছু নেই। তাকে দেখলে মনে হয় আজও সে যেন মায়ের কোলে থাকা শিশুমাত্র । এজন্যই ব্যক্ত করে অনুপমকে গজাননের ছোটো ভাই কার্তিকের সঙ্গে তুলনা করা হয়েছে। গ. যৌতুকের প্রতি মনোভাবের দিক থেকে উদ্দীপকের বরের বাপের সাথে “অপরিচিতা\\' গল্পের অনুপমের মামার সাদৃশ্য ও বৈসাদৃশ্য দুটোই রয়েছে। “অপরিচিতা\\' গল্পে অনুপমের মামা যৌতুকলোভী চরিত্র। তিনি অনুপমের বিয়ের জন্য একটি জুতসই ঘর খুঁজছিলেন; যেখানে না চাইলেও অনেক টাকা যৌতুক পাওয়া যাবে। অনেক খোজাখুঁজির পর শন্তুনাথ সেনের কন্যা কল্যাণীর সাথে মামা অনুপমের বিয়ে ঠিক করেন। বিয়ের দিনে মেয়ের বাড়ি থেকে দেয়া যৌতুকের গয়না নিয়ে\\n    Question: কাকে অনুপমের ভাগ্য দেবতা বলে উল্লেখ করা হয়েছে?\\n    ')"
            ]
          },
          "metadata": {},
          "execution_count": 50
        }
      ]
    },
    {
      "cell_type": "code",
      "source": [
        "result = model.invoke(final_prompt)"
      ],
      "metadata": {
        "id": "aJi7254z2tNV"
      },
      "execution_count": 51,
      "outputs": []
    },
    {
      "cell_type": "code",
      "source": [
        "result.content"
      ],
      "metadata": {
        "colab": {
          "base_uri": "https://localhost:8080/",
          "height": 37
        },
        "id": "S53gVEWR2zd2",
        "outputId": "372e9bf8-88da-4810-94f5-3f04a33313bb"
      },
      "execution_count": 52,
      "outputs": [
        {
          "output_type": "execute_result",
          "data": {
            "text/plain": [
              "'(খ) মামাকে'"
            ],
            "application/vnd.google.colaboratory.intrinsic+json": {
              "type": "string"
            }
          },
          "metadata": {},
          "execution_count": 52
        }
      ]
    },
    {
      "cell_type": "markdown",
      "source": [
        "**আগে বাংলা ঠিক করে নেই তারপর আনালিসিস**"
      ],
      "metadata": {
        "id": "kQ2CMcOQVanf"
      }
    },
    {
      "cell_type": "code",
      "metadata": {
        "colab": {
          "base_uri": "https://localhost:8080/"
        },
        "id": "e5e7392e",
        "outputId": "924c410c-98ec-4109-b50b-1fa7cd1e519a"
      },
      "source": [
        "!pip install pdfminer.six"
      ],
      "execution_count": 2,
      "outputs": [
        {
          "output_type": "stream",
          "name": "stdout",
          "text": [
            "Collecting pdfminer.six\n",
            "  Downloading pdfminer_six-20250506-py3-none-any.whl.metadata (4.2 kB)\n",
            "Requirement already satisfied: charset-normalizer>=2.0.0 in /usr/local/lib/python3.11/dist-packages (from pdfminer.six) (3.4.2)\n",
            "Requirement already satisfied: cryptography>=36.0.0 in /usr/local/lib/python3.11/dist-packages (from pdfminer.six) (43.0.3)\n",
            "Requirement already satisfied: cffi>=1.12 in /usr/local/lib/python3.11/dist-packages (from cryptography>=36.0.0->pdfminer.six) (1.17.1)\n",
            "Requirement already satisfied: pycparser in /usr/local/lib/python3.11/dist-packages (from cffi>=1.12->cryptography>=36.0.0->pdfminer.six) (2.22)\n",
            "Downloading pdfminer_six-20250506-py3-none-any.whl (5.6 MB)\n",
            "\u001b[2K   \u001b[90m━━━━━━━━━━━━━━━━━━━━━━━━━━━━━━━━━━━━━━━━\u001b[0m \u001b[32m5.6/5.6 MB\u001b[0m \u001b[31m34.5 MB/s\u001b[0m eta \u001b[36m0:00:00\u001b[0m\n",
            "\u001b[?25hInstalling collected packages: pdfminer.six\n",
            "Successfully installed pdfminer.six-20250506\n"
          ]
        }
      ]
    },
    {
      "cell_type": "code",
      "metadata": {
        "colab": {
          "base_uri": "https://localhost:8080/"
        },
        "id": "d66d5e0d",
        "outputId": "c63cb557-f602-44d5-c4bf-629f972cb876"
      },
      "source": [
        "from pdfminer.high_level import extract_text\n",
        "\n",
        "def extract_text_with_pdfminer(file_path):\n",
        "    if os.path.exists(file_path) and file_path.endswith('.pdf'):\n",
        "        try:\n",
        "            text = extract_text(file_path)\n",
        "            return text\n",
        "        except Exception as e:\n",
        "            print(f\"Error extracting text with pdfminer.six: {e}\")\n",
        "            return None\n",
        "    else:\n",
        "        print(f\"Error: File not found or not a PDF at {file_path}\")\n",
        "        return None\n",
        "\n",
        "# Use the function with your downloaded file\n",
        "pdfminer_text = extract_text_with_pdfminer(output_filename)\n",
        "\n",
        "if pdfminer_text:\n",
        "    print(\"Text extracted using pdfminer.six:\")\n",
        "    print(pdfminer_text[:1000]) # Print first 1000 characters to check\n",
        "else:\n",
        "    print(\"Failed to extract text using pdfminer.six\")"
      ],
      "execution_count": 8,
      "outputs": [
        {
          "output_type": "stream",
          "name": "stdout",
          "text": [
            "Text extracted using pdfminer.six:\n",
            "িাাং া\n",
            "১ম পত্র\n",
            "\n",
            "আল ািয রিষয়\n",
            "\n",
            "অপরিরিতা\n",
            "\n",
            "অনলাইন ব্যাচ সম্পর্কি ত যেককাকনা জিজ্ঞাাসা ,\n",
            "\n",
            "\fর্িখনফল\n",
            "\n",
            "✓ র্নম্নর্ব্ি ব্যজক্তি হঠাৎ র্ব্িিালী হক  ওঠাি ফকল সমাকি পর্িচ  সংকট সম্পককি ধািণা লাভ কিকব্।\n",
            "✓ তৎকালীন সমাি-সভযতা ও মানব্তাি অব্মাননা সম্পককি িানকত পািকব্।\n",
            "✓ তৎকালীন সমাকিি পণপ্রথাি কু প্রভাব্ সম্পককি িানকত পািকব্।\n",
            "✓ তৎকাকল সমাকি ভদ্রকলাককি স্বভাব্বব্র্িষ্ট্য সম্পককি জ্ঞাানলাভ কিকব্।\n",
            "✓ নািী যকামল ঠিক, র্কন্তু দুব্িল ন - কলযাণীি িীব্নচর্িত দ্বািা প্রর্তজিত এই সতয অনুধাব্ন কিকত \n",
            "\n",
            "পািকব্।\n",
            "✓ মানুষ আিা\n",
            "\n",
            "র্নক  যব্ঁকচ থাকক- অনুপকমি দৃষ্ট্াকন্ত মানব্িীব্কনি এই র্চিন্তন সতযদিিন সম্পককি\n",
            "\n",
            "জ্ঞাানলাভ কিকব্।\n",
            "\n",
            "প্রাক-মূলযা ন\n",
            "\n",
            "১। অনুপলেি িািা কী কলি জীরিকা রনিবাহ কিলতন?\n",
            "\n",
            "ক) ডাক্তার্ি\n",
            "\n",
            "খ) ওকালর্ত\n",
            "\n",
            "গ) মাস্টার্ি\n",
            "\n",
            "ঘ) ব্যব্সা\n",
            "\n",
            "২। োোলক ভাগ্য দেিতাি প্রধান এলজন্ট ি াি কািণ, তাি-\n",
            "\n",
            "ক) প্রর্তপজি\n",
            "\n",
            "খ) প্রভাব্\n",
            "\n",
            "গ) র্ব্চক্ষণতা\n",
            "\n",
            "ঘ) কূ ট ব্ুর্ি\n",
            "\n",
            "র্নকচি অনুকেদটি পক়ে ৩ ও ৪ সংখযক প্রকেি উিি দাও।\n",
            "\n",
            "র্পতৃ হীন দীপুি চাচাই র্িকলন পর্িব্াকিি কতি া। দীপু র্িজক্ষত হকলও তাি র্সিান্ত যনও াি ক্ষমতা র্িল না। চাচা \n",
            "\n",
            "তাি র্ব্ক ি উকদযাগ র\n"
          ]
        }
      ]
    },
    {
      "cell_type": "code",
      "source": [
        " # another method\n",
        "!pip install pdfplumber\n"
      ],
      "metadata": {
        "colab": {
          "base_uri": "https://localhost:8080/"
        },
        "id": "bISiIJMcVuGz",
        "outputId": "987528fd-dcdf-4d59-e0e4-25a36d5149ca"
      },
      "execution_count": 10,
      "outputs": [
        {
          "output_type": "stream",
          "name": "stdout",
          "text": [
            "Collecting pdfplumber\n",
            "  Downloading pdfplumber-0.11.7-py3-none-any.whl.metadata (42 kB)\n",
            "\u001b[?25l     \u001b[90m━━━━━━━━━━━━━━━━━━━━━━━━━━━━━━━━━━━━━━━━\u001b[0m \u001b[32m0.0/42.8 kB\u001b[0m \u001b[31m?\u001b[0m eta \u001b[36m-:--:--\u001b[0m\r\u001b[2K     \u001b[90m━━━━━━━━━━━━━━━━━━━━━━━━━━━━━━━━━━━━━━━━\u001b[0m \u001b[32m42.8/42.8 kB\u001b[0m \u001b[31m1.6 MB/s\u001b[0m eta \u001b[36m0:00:00\u001b[0m\n",
            "\u001b[?25hRequirement already satisfied: pdfminer.six==20250506 in /usr/local/lib/python3.11/dist-packages (from pdfplumber) (20250506)\n",
            "Requirement already satisfied: Pillow>=9.1 in /usr/local/lib/python3.11/dist-packages (from pdfplumber) (11.3.0)\n",
            "Collecting pypdfium2>=4.18.0 (from pdfplumber)\n",
            "  Downloading pypdfium2-4.30.0-py3-none-manylinux_2_17_x86_64.manylinux2014_x86_64.whl.metadata (48 kB)\n",
            "\u001b[2K     \u001b[90m━━━━━━━━━━━━━━━━━━━━━━━━━━━━━━━━━━━━━━━━\u001b[0m \u001b[32m48.5/48.5 kB\u001b[0m \u001b[31m2.0 MB/s\u001b[0m eta \u001b[36m0:00:00\u001b[0m\n",
            "\u001b[?25hRequirement already satisfied: charset-normalizer>=2.0.0 in /usr/local/lib/python3.11/dist-packages (from pdfminer.six==20250506->pdfplumber) (3.4.2)\n",
            "Requirement already satisfied: cryptography>=36.0.0 in /usr/local/lib/python3.11/dist-packages (from pdfminer.six==20250506->pdfplumber) (43.0.3)\n",
            "Requirement already satisfied: cffi>=1.12 in /usr/local/lib/python3.11/dist-packages (from cryptography>=36.0.0->pdfminer.six==20250506->pdfplumber) (1.17.1)\n",
            "Requirement already satisfied: pycparser in /usr/local/lib/python3.11/dist-packages (from cffi>=1.12->cryptography>=36.0.0->pdfminer.six==20250506->pdfplumber) (2.22)\n",
            "Downloading pdfplumber-0.11.7-py3-none-any.whl (60 kB)\n",
            "\u001b[2K   \u001b[90m━━━━━━━━━━━━━━━━━━━━━━━━━━━━━━━━━━━━━━━━\u001b[0m \u001b[32m60.0/60.0 kB\u001b[0m \u001b[31m5.5 MB/s\u001b[0m eta \u001b[36m0:00:00\u001b[0m\n",
            "\u001b[?25hDownloading pypdfium2-4.30.0-py3-none-manylinux_2_17_x86_64.manylinux2014_x86_64.whl (2.8 MB)\n",
            "\u001b[2K   \u001b[90m━━━━━━━━━━━━━━━━━━━━━━━━━━━━━━━━━━━━━━━━\u001b[0m \u001b[32m2.8/2.8 MB\u001b[0m \u001b[31m33.5 MB/s\u001b[0m eta \u001b[36m0:00:00\u001b[0m\n",
            "\u001b[?25hInstalling collected packages: pypdfium2, pdfplumber\n",
            "Successfully installed pdfplumber-0.11.7 pypdfium2-4.30.0\n"
          ]
        }
      ]
    },
    {
      "cell_type": "code",
      "source": [
        "import pdfplumber\n",
        "\n",
        "# Path to your PDF file\n",
        "pdf_path = \"downloaded_pdf.pdf\"\n",
        "\n",
        "# Open and extract text\n",
        "full_text = \"\"\n",
        "with pdfplumber.open(pdf_path) as pdf:\n",
        "    for page in pdf.pages:\n",
        "        text = page.extract_text()\n",
        "        if text:  # Check if text was extracted\n",
        "            full_text += text + \"\\n\"\n",
        "\n",
        "# Save to a text file (optional)\n",
        "with open(\"extracted_text.txt\", \"w\", encoding=\"utf-8\") as f:\n",
        "    f.write(full_text)\n",
        "\n",
        "# Print the extracted text (optional)\n",
        "print(full_text[0:2000])\n"
      ],
      "metadata": {
        "colab": {
          "base_uri": "https://localhost:8080/"
        },
        "id": "BdqMltO0WBsL",
        "outputId": "38feb93d-4931-49d5-f8b1-3d17add4c1f9"
      },
      "execution_count": 12,
      "outputs": [
        {
          "output_type": "stream",
          "name": "stdout",
          "text": [
            "িাাং া\n",
            "১ম পত্র\n",
            "আল ািয রিষয়\n",
            "অপরিরিতা\n",
            "অনলাইন ব্যাচ সম্পর্কিত যেককাকনা জিজ্ঞাাসা ,\n",
            "র্িখনফল\n",
            "✓ র্নম্নর্ব্িব্যজক্তিহঠাৎর্ব্িিালীহক ওঠািফকলসমাকিপর্িচ সংকটসম্পককি ধািণালাভকিকব্।\n",
            "✓ তৎকালীনসমাি-সভযতাওমানব্তািঅব্মাননাসম্পককি িানকতপািকব্।\n",
            "✓ তৎকালীনসমাকিিপণপ্রথািকুপ্রভাব্সম্পককি িানকতপািকব্।\n",
            "✓ তৎকাকলসমাকিভদ্রকলাককিস্বভাব্বব্র্িষ্ট্যসম্পককি জ্ঞাানলাভকিকব্।\n",
            "✓ নািী যকামল ঠিক, র্কন্তু দব্ু লি ন - কলযাণীি িীব্নচর্িত দ্বািা প্রর্তজিত এই সতয অনুধাব্ন কিকত\n",
            "পািকব্।\n",
            "✓ মানুষ আিা র্নক যব্কঁ চ থাকক- অনপু কমি দষ্ট্ৃ াকন্ত মানব্িীব্কনি এই র্চিন্তন সতযদিিন সম্পককি\n",
            "জ্ঞাানলাভকিকব্।\n",
            "প্রাক-মূলযা ন\n",
            "১। অনুপলেি িািা কী কলি জীরিকা রনিবাহ কিলতন?\n",
            "ক) ডাক্তার্ি খ) ওকালর্ত গ) মাস্টার্ি ঘ) ব্যব্সা\n",
            "২। োোলক ভাগ্য দেিতাি প্রধান এলজন্ট ি াি কািণ, তাি-\n",
            "ক) প্রর্তপজি খ) প্রভাব্ গ) র্ব্চক্ষণতা ঘ) কূট ব্ুর্ি\n",
            "র্নকচি অনুকেদটি পক়ে ৩ ও ৪ সংখযক প্রকেি উিি দাও।\n",
            "র্পতৃহীন দীপুি চাচাই র্িকলন পর্িব্াকিি কতিা। দীপু র্িজক্ষত হকলও তাি র্সিান্ত যনও াি ক্ষমতা র্িল না। চাচা\n",
            "তাি র্ব্ক ি উকদযাগ র্নকলও যেৌতুক র্নক ব্া়োব্ার়্ে কিাি কািকণ কনযাি র্পতা অপমার্নত যব্াধ ককি র্ব্ক ি\n",
            "আকলাচনা যভকে যদন। দীপু যমক টিি ির্ব্ যদকখ মুগ্ধ হকলও তাি চাচাকক র্কিুই ব্লকত পাকিনর্ন।\n",
            "৩। েীপুি িািাি সলে ‘অপরিরিতা' গ্লেি দকান িরিলেি রে আলে?\n",
            "ক) হর্িকিি খ) মামাি গ) র্িক্ষককি ঘ) র্ব্নুি\n",
            "৪। উক্ত িরিলে প্রাধানয দপলয়লে -\n",
            "i) যদৌিাত্ম ii) হীনম্মনযতা iii) যলাভ\n",
            "র্নকচি যকানটি ঠিক?\n",
            "ক। i ও ii খ। ii ও iii গ। i ও iii ঘ। i, ii ও iii\n",
            "৫. অনুপলেি িয়স কত িেি?\n",
            "ক) পঁর্চি খ) িাব্বিি গ) সাতাি ঘ) আটাি\n",
            "কতগুকলা প্রকেি সঠিক উিি র্দকত পািকল?\n",
            "SL Ans SL Ans SL Ans SL Ans SL Ans\n",
            "১ খ ২ গ ৩ খ ৪ ক ৫ গ\n",
            "2\n",
            "শব্দার্ব ও টীকা\n",
            "েূ শব্দ শলব্দি অর্ব ও িযাখ্যা\n",
            "গকেি কথক চর্িত্র অনুপকমি আত্মসমাকলাচনা। পর্িমাণ ও\n",
            "এ িীব্নটা না দদকঘিযি র্হসাকব্ব্ক়ো, না\n",
            "গুণ উভ র্দক র্দক ই যে তাি িীব্নটি র্নতান্তই তুে যস\n",
            "গুকণি র্হসাকব্\n",
            "কথাই এখাকন ব্যক্ত হক কি।\n",
            "গুটি এক সম পূণি ফকল পর্িণত হ । র্কন্তু গুটিই ের্দ\n",
            "ফকলি মকতা হ তাহকল তাি অসম্পূণি সািব্িা প্রকট হক\n",
            "ফকলি মকতা গুটি\n",
            "ওকঠ। র্নকিি র্নষ্ফল িীব্নকক যব্াঝাকত অনুপকমি ব্যব্হৃত\n",
            "উপমা।\n",
            "অন্নপূণিা অকন্ন পর্িপূণিা। যদব্ী দগু িা।\n",
            "যদব্ী দগু িাি দইু পুত্র; অগ্রি গকণি ও অনুি কার্তিকক ।\n",
            "গ\n"
          ]
        }
      ]
    },
    {
      "cell_type": "code",
      "source": [
        "# Another method\n",
        "!pip install pytesseract pdf2image pillow\n"
      ],
      "metadata": {
        "colab": {
          "base_uri": "https://localhost:8080/"
        },
        "id": "ThHTQFw-Xdbq",
        "outputId": "fe1b7a24-a907-4e44-f564-4ae6e789b467"
      },
      "execution_count": 15,
      "outputs": [
        {
          "output_type": "stream",
          "name": "stdout",
          "text": [
            "Requirement already satisfied: pytesseract in /usr/local/lib/python3.11/dist-packages (0.3.13)\n",
            "Requirement already satisfied: pdf2image in /usr/local/lib/python3.11/dist-packages (1.17.0)\n",
            "Requirement already satisfied: pillow in /usr/local/lib/python3.11/dist-packages (11.3.0)\n",
            "Requirement already satisfied: packaging>=21.3 in /usr/local/lib/python3.11/dist-packages (from pytesseract) (25.0)\n"
          ]
        }
      ]
    },
    {
      "cell_type": "code",
      "source": [
        "import pytesseract"
      ],
      "metadata": {
        "id": "BJiLNTq7aYdk"
      },
      "execution_count": 17,
      "outputs": []
    },
    {
      "cell_type": "code",
      "source": [
        "pytesseract.pytesseract.tesseract_cmd = r'C:/Program Files/Tesseract-OCR/tesseract.exe'\n"
      ],
      "metadata": {
        "id": "3YrMSvWxaGGO"
      },
      "execution_count": 53,
      "outputs": []
    },
    {
      "cell_type": "code",
      "source": [
        "import os\n",
        "import sys\n",
        "\n",
        "# Ensure Windows recognizes .exe executables\n",
        "if sys.platform.startswith(\"win\"):\n",
        "    os.environ[\"PATH\"] += os.pathsep + r\"C:\\Users\\Sheikh Rakib\\Downloads\\poppler\\bin\"\n"
      ],
      "metadata": {
        "id": "5Sc3z9vgsJwg"
      },
      "execution_count": 46,
      "outputs": []
    },
    {
      "cell_type": "code",
      "source": [
        "from pdf2image import convert_from_path\n",
        "import pytesseract\n",
        "\n",
        "# For Windows:\n",
        "poppler_path = r\"C:/Users/Sheikh Rakib/Downloads/poppler/bin\"\n",
        "\n",
        "# Convert to images using Poppler\n",
        "pages = convert_from_path('downloaded_pdf.pdf', dpi=300, poppler_path=poppler_path)"
      ],
      "metadata": {
        "colab": {
          "base_uri": "https://localhost:8080/",
          "height": 463
        },
        "id": "P1udyzkxkQ8e",
        "outputId": "e0d1cff8-7d99-48f2-abcc-75c5e4d587cc"
      },
      "execution_count": 50,
      "outputs": [
        {
          "output_type": "error",
          "ename": "PDFInfoNotInstalledError",
          "evalue": "Unable to get page count. Is poppler installed and in PATH?",
          "traceback": [
            "\u001b[0;31m---------------------------------------------------------------------------\u001b[0m",
            "\u001b[0;31mFileNotFoundError\u001b[0m                         Traceback (most recent call last)",
            "\u001b[0;32m/usr/local/lib/python3.11/dist-packages/pdf2image/pdf2image.py\u001b[0m in \u001b[0;36mpdfinfo_from_path\u001b[0;34m(pdf_path, userpw, ownerpw, poppler_path, rawdates, timeout, first_page, last_page)\u001b[0m\n\u001b[1;32m    580\u001b[0m             \u001b[0menv\u001b[0m\u001b[0;34m[\u001b[0m\u001b[0;34m\"LD_LIBRARY_PATH\"\u001b[0m\u001b[0;34m]\u001b[0m \u001b[0;34m=\u001b[0m \u001b[0mpoppler_path\u001b[0m \u001b[0;34m+\u001b[0m \u001b[0;34m\":\"\u001b[0m \u001b[0;34m+\u001b[0m \u001b[0menv\u001b[0m\u001b[0;34m.\u001b[0m\u001b[0mget\u001b[0m\u001b[0;34m(\u001b[0m\u001b[0;34m\"LD_LIBRARY_PATH\"\u001b[0m\u001b[0;34m,\u001b[0m \u001b[0;34m\"\"\u001b[0m\u001b[0;34m)\u001b[0m\u001b[0;34m\u001b[0m\u001b[0;34m\u001b[0m\u001b[0m\n\u001b[0;32m--> 581\u001b[0;31m         \u001b[0mproc\u001b[0m \u001b[0;34m=\u001b[0m \u001b[0mPopen\u001b[0m\u001b[0;34m(\u001b[0m\u001b[0mcommand\u001b[0m\u001b[0;34m,\u001b[0m \u001b[0menv\u001b[0m\u001b[0;34m=\u001b[0m\u001b[0menv\u001b[0m\u001b[0;34m,\u001b[0m \u001b[0mstdout\u001b[0m\u001b[0;34m=\u001b[0m\u001b[0mPIPE\u001b[0m\u001b[0;34m,\u001b[0m \u001b[0mstderr\u001b[0m\u001b[0;34m=\u001b[0m\u001b[0mPIPE\u001b[0m\u001b[0;34m)\u001b[0m\u001b[0;34m\u001b[0m\u001b[0;34m\u001b[0m\u001b[0m\n\u001b[0m\u001b[1;32m    582\u001b[0m \u001b[0;34m\u001b[0m\u001b[0m\n",
            "\u001b[0;32m/usr/lib/python3.11/subprocess.py\u001b[0m in \u001b[0;36m__init__\u001b[0;34m(self, args, bufsize, executable, stdin, stdout, stderr, preexec_fn, close_fds, shell, cwd, env, universal_newlines, startupinfo, creationflags, restore_signals, start_new_session, pass_fds, user, group, extra_groups, encoding, errors, text, umask, pipesize, process_group)\u001b[0m\n\u001b[1;32m   1025\u001b[0m \u001b[0;34m\u001b[0m\u001b[0m\n\u001b[0;32m-> 1026\u001b[0;31m             self._execute_child(args, executable, preexec_fn, close_fds,\n\u001b[0m\u001b[1;32m   1027\u001b[0m                                 \u001b[0mpass_fds\u001b[0m\u001b[0;34m,\u001b[0m \u001b[0mcwd\u001b[0m\u001b[0;34m,\u001b[0m \u001b[0menv\u001b[0m\u001b[0;34m,\u001b[0m\u001b[0;34m\u001b[0m\u001b[0;34m\u001b[0m\u001b[0m\n",
            "\u001b[0;32m/usr/lib/python3.11/subprocess.py\u001b[0m in \u001b[0;36m_execute_child\u001b[0;34m(self, args, executable, preexec_fn, close_fds, pass_fds, cwd, env, startupinfo, creationflags, shell, p2cread, p2cwrite, c2pread, c2pwrite, errread, errwrite, restore_signals, gid, gids, uid, umask, start_new_session, process_group)\u001b[0m\n\u001b[1;32m   1954\u001b[0m                     \u001b[0;32mif\u001b[0m \u001b[0merr_filename\u001b[0m \u001b[0;32mis\u001b[0m \u001b[0;32mnot\u001b[0m \u001b[0;32mNone\u001b[0m\u001b[0;34m:\u001b[0m\u001b[0;34m\u001b[0m\u001b[0;34m\u001b[0m\u001b[0m\n\u001b[0;32m-> 1955\u001b[0;31m                         \u001b[0;32mraise\u001b[0m \u001b[0mchild_exception_type\u001b[0m\u001b[0;34m(\u001b[0m\u001b[0merrno_num\u001b[0m\u001b[0;34m,\u001b[0m \u001b[0merr_msg\u001b[0m\u001b[0;34m,\u001b[0m \u001b[0merr_filename\u001b[0m\u001b[0;34m)\u001b[0m\u001b[0;34m\u001b[0m\u001b[0;34m\u001b[0m\u001b[0m\n\u001b[0m\u001b[1;32m   1956\u001b[0m                     \u001b[0;32melse\u001b[0m\u001b[0;34m:\u001b[0m\u001b[0;34m\u001b[0m\u001b[0;34m\u001b[0m\u001b[0m\n",
            "\u001b[0;31mFileNotFoundError\u001b[0m: [Errno 2] No such file or directory: 'C:/Users/Sheikh Rakib/Downloads/poppler/bin/pdfinfo'",
            "\nDuring handling of the above exception, another exception occurred:\n",
            "\u001b[0;31mPDFInfoNotInstalledError\u001b[0m                  Traceback (most recent call last)",
            "\u001b[0;32m/tmp/ipython-input-50-2014844069.py\u001b[0m in \u001b[0;36m<cell line: 0>\u001b[0;34m()\u001b[0m\n\u001b[1;32m      6\u001b[0m \u001b[0;34m\u001b[0m\u001b[0m\n\u001b[1;32m      7\u001b[0m \u001b[0;31m# Convert to images using Poppler\u001b[0m\u001b[0;34m\u001b[0m\u001b[0;34m\u001b[0m\u001b[0m\n\u001b[0;32m----> 8\u001b[0;31m \u001b[0mpages\u001b[0m \u001b[0;34m=\u001b[0m \u001b[0mconvert_from_path\u001b[0m\u001b[0;34m(\u001b[0m\u001b[0;34m'downloaded_pdf.pdf'\u001b[0m\u001b[0;34m,\u001b[0m \u001b[0mdpi\u001b[0m\u001b[0;34m=\u001b[0m\u001b[0;36m300\u001b[0m\u001b[0;34m,\u001b[0m \u001b[0mpoppler_path\u001b[0m\u001b[0;34m=\u001b[0m\u001b[0mpoppler_path\u001b[0m\u001b[0;34m)\u001b[0m\u001b[0;34m\u001b[0m\u001b[0;34m\u001b[0m\u001b[0m\n\u001b[0m",
            "\u001b[0;32m/usr/local/lib/python3.11/dist-packages/pdf2image/pdf2image.py\u001b[0m in \u001b[0;36mconvert_from_path\u001b[0;34m(pdf_path, dpi, output_folder, first_page, last_page, fmt, jpegopt, thread_count, userpw, ownerpw, use_cropbox, strict, transparent, single_file, output_file, poppler_path, grayscale, size, paths_only, use_pdftocairo, timeout, hide_annotations)\u001b[0m\n\u001b[1;32m    125\u001b[0m         \u001b[0mpoppler_path\u001b[0m \u001b[0;34m=\u001b[0m \u001b[0mpoppler_path\u001b[0m\u001b[0;34m.\u001b[0m\u001b[0mas_posix\u001b[0m\u001b[0;34m(\u001b[0m\u001b[0;34m)\u001b[0m\u001b[0;34m\u001b[0m\u001b[0;34m\u001b[0m\u001b[0m\n\u001b[1;32m    126\u001b[0m \u001b[0;34m\u001b[0m\u001b[0m\n\u001b[0;32m--> 127\u001b[0;31m     page_count = pdfinfo_from_path(\n\u001b[0m\u001b[1;32m    128\u001b[0m         \u001b[0mpdf_path\u001b[0m\u001b[0;34m,\u001b[0m \u001b[0muserpw\u001b[0m\u001b[0;34m,\u001b[0m \u001b[0mownerpw\u001b[0m\u001b[0;34m,\u001b[0m \u001b[0mpoppler_path\u001b[0m\u001b[0;34m=\u001b[0m\u001b[0mpoppler_path\u001b[0m\u001b[0;34m\u001b[0m\u001b[0;34m\u001b[0m\u001b[0m\n\u001b[1;32m    129\u001b[0m     )[\"Pages\"]\n",
            "\u001b[0;32m/usr/local/lib/python3.11/dist-packages/pdf2image/pdf2image.py\u001b[0m in \u001b[0;36mpdfinfo_from_path\u001b[0;34m(pdf_path, userpw, ownerpw, poppler_path, rawdates, timeout, first_page, last_page)\u001b[0m\n\u001b[1;32m    605\u001b[0m \u001b[0;34m\u001b[0m\u001b[0m\n\u001b[1;32m    606\u001b[0m     \u001b[0;32mexcept\u001b[0m \u001b[0mOSError\u001b[0m\u001b[0;34m:\u001b[0m\u001b[0;34m\u001b[0m\u001b[0;34m\u001b[0m\u001b[0m\n\u001b[0;32m--> 607\u001b[0;31m         raise PDFInfoNotInstalledError(\n\u001b[0m\u001b[1;32m    608\u001b[0m             \u001b[0;34m\"Unable to get page count. Is poppler installed and in PATH?\"\u001b[0m\u001b[0;34m\u001b[0m\u001b[0;34m\u001b[0m\u001b[0m\n\u001b[1;32m    609\u001b[0m         )\n",
            "\u001b[0;31mPDFInfoNotInstalledError\u001b[0m: Unable to get page count. Is poppler installed and in PATH?"
          ]
        }
      ]
    },
    {
      "cell_type": "code",
      "source": [
        "from pdf2image import convert_from_path\n",
        "import pytesseract\n",
        "import os\n",
        "\n",
        "# Optional: Set path to tesseract executable on Windows\n",
        "# pytesseract.pytesseract.tesseract_cmd = r'C:\\Program Files\\Tesseract-OCR\\tesseract.exe'\n",
        "\n",
        "# Convert PDF to images\n",
        "pages = convert_from_path('downloaded_pdf.pdf', dpi=300)\n",
        "\n",
        "# OCR with Bengali language\n",
        "full_text = \"\"\n",
        "for i, page in enumerate(pages):\n",
        "    text = pytesseract.image_to_string(page, lang='ben')\n",
        "    full_text += text + \"\\n\\n\"\n",
        "\n",
        "# Save to a .txt file\n",
        "with open(\"ocr_extracted_bengali.txt\", \"w\", encoding=\"utf-8\") as f:\n",
        "    f.write(full_text)\n",
        "\n",
        "print(\"✅ Bengali OCR extraction complete.\")\n"
      ],
      "metadata": {
        "colab": {
          "base_uri": "https://localhost:8080/",
          "height": 463
        },
        "id": "7UoSLSICalxk",
        "outputId": "5213f63d-1621-4a72-ac52-0070de1b1e85"
      },
      "execution_count": 36,
      "outputs": [
        {
          "output_type": "error",
          "ename": "PDFInfoNotInstalledError",
          "evalue": "Unable to get page count. Is poppler installed and in PATH?",
          "traceback": [
            "\u001b[0;31m---------------------------------------------------------------------------\u001b[0m",
            "\u001b[0;31mFileNotFoundError\u001b[0m                         Traceback (most recent call last)",
            "\u001b[0;32m/usr/local/lib/python3.11/dist-packages/pdf2image/pdf2image.py\u001b[0m in \u001b[0;36mpdfinfo_from_path\u001b[0;34m(pdf_path, userpw, ownerpw, poppler_path, rawdates, timeout, first_page, last_page)\u001b[0m\n\u001b[1;32m    580\u001b[0m             \u001b[0menv\u001b[0m\u001b[0;34m[\u001b[0m\u001b[0;34m\"LD_LIBRARY_PATH\"\u001b[0m\u001b[0;34m]\u001b[0m \u001b[0;34m=\u001b[0m \u001b[0mpoppler_path\u001b[0m \u001b[0;34m+\u001b[0m \u001b[0;34m\":\"\u001b[0m \u001b[0;34m+\u001b[0m \u001b[0menv\u001b[0m\u001b[0;34m.\u001b[0m\u001b[0mget\u001b[0m\u001b[0;34m(\u001b[0m\u001b[0;34m\"LD_LIBRARY_PATH\"\u001b[0m\u001b[0;34m,\u001b[0m \u001b[0;34m\"\"\u001b[0m\u001b[0;34m)\u001b[0m\u001b[0;34m\u001b[0m\u001b[0;34m\u001b[0m\u001b[0m\n\u001b[0;32m--> 581\u001b[0;31m         \u001b[0mproc\u001b[0m \u001b[0;34m=\u001b[0m \u001b[0mPopen\u001b[0m\u001b[0;34m(\u001b[0m\u001b[0mcommand\u001b[0m\u001b[0;34m,\u001b[0m \u001b[0menv\u001b[0m\u001b[0;34m=\u001b[0m\u001b[0menv\u001b[0m\u001b[0;34m,\u001b[0m \u001b[0mstdout\u001b[0m\u001b[0;34m=\u001b[0m\u001b[0mPIPE\u001b[0m\u001b[0;34m,\u001b[0m \u001b[0mstderr\u001b[0m\u001b[0;34m=\u001b[0m\u001b[0mPIPE\u001b[0m\u001b[0;34m)\u001b[0m\u001b[0;34m\u001b[0m\u001b[0;34m\u001b[0m\u001b[0m\n\u001b[0m\u001b[1;32m    582\u001b[0m \u001b[0;34m\u001b[0m\u001b[0m\n",
            "\u001b[0;32m/usr/lib/python3.11/subprocess.py\u001b[0m in \u001b[0;36m__init__\u001b[0;34m(self, args, bufsize, executable, stdin, stdout, stderr, preexec_fn, close_fds, shell, cwd, env, universal_newlines, startupinfo, creationflags, restore_signals, start_new_session, pass_fds, user, group, extra_groups, encoding, errors, text, umask, pipesize, process_group)\u001b[0m\n\u001b[1;32m   1025\u001b[0m \u001b[0;34m\u001b[0m\u001b[0m\n\u001b[0;32m-> 1026\u001b[0;31m             self._execute_child(args, executable, preexec_fn, close_fds,\n\u001b[0m\u001b[1;32m   1027\u001b[0m                                 \u001b[0mpass_fds\u001b[0m\u001b[0;34m,\u001b[0m \u001b[0mcwd\u001b[0m\u001b[0;34m,\u001b[0m \u001b[0menv\u001b[0m\u001b[0;34m,\u001b[0m\u001b[0;34m\u001b[0m\u001b[0;34m\u001b[0m\u001b[0m\n",
            "\u001b[0;32m/usr/lib/python3.11/subprocess.py\u001b[0m in \u001b[0;36m_execute_child\u001b[0;34m(self, args, executable, preexec_fn, close_fds, pass_fds, cwd, env, startupinfo, creationflags, shell, p2cread, p2cwrite, c2pread, c2pwrite, errread, errwrite, restore_signals, gid, gids, uid, umask, start_new_session, process_group)\u001b[0m\n\u001b[1;32m   1954\u001b[0m                     \u001b[0;32mif\u001b[0m \u001b[0merr_filename\u001b[0m \u001b[0;32mis\u001b[0m \u001b[0;32mnot\u001b[0m \u001b[0;32mNone\u001b[0m\u001b[0;34m:\u001b[0m\u001b[0;34m\u001b[0m\u001b[0;34m\u001b[0m\u001b[0m\n\u001b[0;32m-> 1955\u001b[0;31m                         \u001b[0;32mraise\u001b[0m \u001b[0mchild_exception_type\u001b[0m\u001b[0;34m(\u001b[0m\u001b[0merrno_num\u001b[0m\u001b[0;34m,\u001b[0m \u001b[0merr_msg\u001b[0m\u001b[0;34m,\u001b[0m \u001b[0merr_filename\u001b[0m\u001b[0;34m)\u001b[0m\u001b[0;34m\u001b[0m\u001b[0;34m\u001b[0m\u001b[0m\n\u001b[0m\u001b[1;32m   1956\u001b[0m                     \u001b[0;32melse\u001b[0m\u001b[0;34m:\u001b[0m\u001b[0;34m\u001b[0m\u001b[0;34m\u001b[0m\u001b[0m\n",
            "\u001b[0;31mFileNotFoundError\u001b[0m: [Errno 2] No such file or directory: 'pdfinfo'",
            "\nDuring handling of the above exception, another exception occurred:\n",
            "\u001b[0;31mPDFInfoNotInstalledError\u001b[0m                  Traceback (most recent call last)",
            "\u001b[0;32m/tmp/ipython-input-36-1886970507.py\u001b[0m in \u001b[0;36m<cell line: 0>\u001b[0;34m()\u001b[0m\n\u001b[1;32m      7\u001b[0m \u001b[0;34m\u001b[0m\u001b[0m\n\u001b[1;32m      8\u001b[0m \u001b[0;31m# Convert PDF to images\u001b[0m\u001b[0;34m\u001b[0m\u001b[0;34m\u001b[0m\u001b[0m\n\u001b[0;32m----> 9\u001b[0;31m \u001b[0mpages\u001b[0m \u001b[0;34m=\u001b[0m \u001b[0mconvert_from_path\u001b[0m\u001b[0;34m(\u001b[0m\u001b[0;34m'downloaded_pdf.pdf'\u001b[0m\u001b[0;34m,\u001b[0m \u001b[0mdpi\u001b[0m\u001b[0;34m=\u001b[0m\u001b[0;36m300\u001b[0m\u001b[0;34m)\u001b[0m\u001b[0;34m\u001b[0m\u001b[0;34m\u001b[0m\u001b[0m\n\u001b[0m\u001b[1;32m     10\u001b[0m \u001b[0;34m\u001b[0m\u001b[0m\n\u001b[1;32m     11\u001b[0m \u001b[0;31m# OCR with Bengali language\u001b[0m\u001b[0;34m\u001b[0m\u001b[0;34m\u001b[0m\u001b[0m\n",
            "\u001b[0;32m/usr/local/lib/python3.11/dist-packages/pdf2image/pdf2image.py\u001b[0m in \u001b[0;36mconvert_from_path\u001b[0;34m(pdf_path, dpi, output_folder, first_page, last_page, fmt, jpegopt, thread_count, userpw, ownerpw, use_cropbox, strict, transparent, single_file, output_file, poppler_path, grayscale, size, paths_only, use_pdftocairo, timeout, hide_annotations)\u001b[0m\n\u001b[1;32m    125\u001b[0m         \u001b[0mpoppler_path\u001b[0m \u001b[0;34m=\u001b[0m \u001b[0mpoppler_path\u001b[0m\u001b[0;34m.\u001b[0m\u001b[0mas_posix\u001b[0m\u001b[0;34m(\u001b[0m\u001b[0;34m)\u001b[0m\u001b[0;34m\u001b[0m\u001b[0;34m\u001b[0m\u001b[0m\n\u001b[1;32m    126\u001b[0m \u001b[0;34m\u001b[0m\u001b[0m\n\u001b[0;32m--> 127\u001b[0;31m     page_count = pdfinfo_from_path(\n\u001b[0m\u001b[1;32m    128\u001b[0m         \u001b[0mpdf_path\u001b[0m\u001b[0;34m,\u001b[0m \u001b[0muserpw\u001b[0m\u001b[0;34m,\u001b[0m \u001b[0mownerpw\u001b[0m\u001b[0;34m,\u001b[0m \u001b[0mpoppler_path\u001b[0m\u001b[0;34m=\u001b[0m\u001b[0mpoppler_path\u001b[0m\u001b[0;34m\u001b[0m\u001b[0;34m\u001b[0m\u001b[0m\n\u001b[1;32m    129\u001b[0m     )[\"Pages\"]\n",
            "\u001b[0;32m/usr/local/lib/python3.11/dist-packages/pdf2image/pdf2image.py\u001b[0m in \u001b[0;36mpdfinfo_from_path\u001b[0;34m(pdf_path, userpw, ownerpw, poppler_path, rawdates, timeout, first_page, last_page)\u001b[0m\n\u001b[1;32m    605\u001b[0m \u001b[0;34m\u001b[0m\u001b[0m\n\u001b[1;32m    606\u001b[0m     \u001b[0;32mexcept\u001b[0m \u001b[0mOSError\u001b[0m\u001b[0;34m:\u001b[0m\u001b[0;34m\u001b[0m\u001b[0;34m\u001b[0m\u001b[0m\n\u001b[0;32m--> 607\u001b[0;31m         raise PDFInfoNotInstalledError(\n\u001b[0m\u001b[1;32m    608\u001b[0m             \u001b[0;34m\"Unable to get page count. Is poppler installed and in PATH?\"\u001b[0m\u001b[0;34m\u001b[0m\u001b[0;34m\u001b[0m\u001b[0m\n\u001b[1;32m    609\u001b[0m         )\n",
            "\u001b[0;31mPDFInfoNotInstalledError\u001b[0m: Unable to get page count. Is poppler installed and in PATH?"
          ]
        }
      ]
    },
    {
      "cell_type": "code",
      "source": [
        "## trying another one for pdf to image before OcR\n",
        "!pip install pymupdf\n"
      ],
      "metadata": {
        "colab": {
          "base_uri": "https://localhost:8080/"
        },
        "id": "312knAgzut_O",
        "outputId": "5cdc1cb3-99ec-47a7-ab66-39513e1fcd64"
      },
      "execution_count": 51,
      "outputs": [
        {
          "output_type": "stream",
          "name": "stdout",
          "text": [
            "Collecting pymupdf\n",
            "  Downloading pymupdf-1.26.3-cp39-abi3-manylinux_2_28_x86_64.whl.metadata (3.4 kB)\n",
            "Downloading pymupdf-1.26.3-cp39-abi3-manylinux_2_28_x86_64.whl (24.1 MB)\n",
            "\u001b[2K   \u001b[90m━━━━━━━━━━━━━━━━━━━━━━━━━━━━━━━━━━━━━━━━\u001b[0m \u001b[32m24.1/24.1 MB\u001b[0m \u001b[31m45.2 MB/s\u001b[0m eta \u001b[36m0:00:00\u001b[0m\n",
            "\u001b[?25hInstalling collected packages: pymupdf\n",
            "Successfully installed pymupdf-1.26.3\n"
          ]
        }
      ]
    },
    {
      "cell_type": "code",
      "source": [
        "import fitz  # PyMuPDF\n",
        "from PIL import Image\n",
        "import pytesseract\n",
        "\n",
        "doc = fitz.open(\"downloaded_pdf.pdf\")\n",
        "full_text = \"\"\n",
        "\n",
        "for page_num in range(len(doc)):\n",
        "    page = doc.load_page(page_num)\n",
        "    pix = page.get_pixmap(dpi=300)\n",
        "    img = Image.frombytes(\"RGB\", [pix.width, pix.height], pix.samples)\n",
        "    text = pytesseract.image_to_string(img, lang='ben')\n",
        "    full_text += text + \"\\n\\n\"\n",
        "\n",
        "with open(\"ocr_text_pymupdf.txt\", \"w\", encoding=\"utf-8\") as f:\n",
        "    f.write(full_text)\n"
      ],
      "metadata": {
        "colab": {
          "base_uri": "https://localhost:8080/",
          "height": 481
        },
        "id": "yf25E-kYu-16",
        "outputId": "f1f81118-dbb8-494f-d128-43abd522f236"
      },
      "execution_count": 54,
      "outputs": [
        {
          "output_type": "error",
          "ename": "TesseractNotFoundError",
          "evalue": "C:/Program Files/Tesseract-OCR/tesseract.exe is not installed or it's not in your PATH. See README file for more information.",
          "traceback": [
            "\u001b[0;31m---------------------------------------------------------------------------\u001b[0m",
            "\u001b[0;31mFileNotFoundError\u001b[0m                         Traceback (most recent call last)",
            "\u001b[0;32m/usr/local/lib/python3.11/dist-packages/pytesseract/pytesseract.py\u001b[0m in \u001b[0;36mrun_tesseract\u001b[0;34m(input_filename, output_filename_base, extension, lang, config, nice, timeout)\u001b[0m\n\u001b[1;32m    274\u001b[0m     \u001b[0;32mtry\u001b[0m\u001b[0;34m:\u001b[0m\u001b[0;34m\u001b[0m\u001b[0;34m\u001b[0m\u001b[0m\n\u001b[0;32m--> 275\u001b[0;31m         \u001b[0mproc\u001b[0m \u001b[0;34m=\u001b[0m \u001b[0msubprocess\u001b[0m\u001b[0;34m.\u001b[0m\u001b[0mPopen\u001b[0m\u001b[0;34m(\u001b[0m\u001b[0mcmd_args\u001b[0m\u001b[0;34m,\u001b[0m \u001b[0;34m**\u001b[0m\u001b[0msubprocess_args\u001b[0m\u001b[0;34m(\u001b[0m\u001b[0;34m)\u001b[0m\u001b[0;34m)\u001b[0m\u001b[0;34m\u001b[0m\u001b[0;34m\u001b[0m\u001b[0m\n\u001b[0m\u001b[1;32m    276\u001b[0m     \u001b[0;32mexcept\u001b[0m \u001b[0mOSError\u001b[0m \u001b[0;32mas\u001b[0m \u001b[0me\u001b[0m\u001b[0;34m:\u001b[0m\u001b[0;34m\u001b[0m\u001b[0;34m\u001b[0m\u001b[0m\n",
            "\u001b[0;32m/usr/lib/python3.11/subprocess.py\u001b[0m in \u001b[0;36m__init__\u001b[0;34m(self, args, bufsize, executable, stdin, stdout, stderr, preexec_fn, close_fds, shell, cwd, env, universal_newlines, startupinfo, creationflags, restore_signals, start_new_session, pass_fds, user, group, extra_groups, encoding, errors, text, umask, pipesize, process_group)\u001b[0m\n\u001b[1;32m   1025\u001b[0m \u001b[0;34m\u001b[0m\u001b[0m\n\u001b[0;32m-> 1026\u001b[0;31m             self._execute_child(args, executable, preexec_fn, close_fds,\n\u001b[0m\u001b[1;32m   1027\u001b[0m                                 \u001b[0mpass_fds\u001b[0m\u001b[0;34m,\u001b[0m \u001b[0mcwd\u001b[0m\u001b[0;34m,\u001b[0m \u001b[0menv\u001b[0m\u001b[0;34m,\u001b[0m\u001b[0;34m\u001b[0m\u001b[0;34m\u001b[0m\u001b[0m\n",
            "\u001b[0;32m/usr/lib/python3.11/subprocess.py\u001b[0m in \u001b[0;36m_execute_child\u001b[0;34m(self, args, executable, preexec_fn, close_fds, pass_fds, cwd, env, startupinfo, creationflags, shell, p2cread, p2cwrite, c2pread, c2pwrite, errread, errwrite, restore_signals, gid, gids, uid, umask, start_new_session, process_group)\u001b[0m\n\u001b[1;32m   1954\u001b[0m                     \u001b[0;32mif\u001b[0m \u001b[0merr_filename\u001b[0m \u001b[0;32mis\u001b[0m \u001b[0;32mnot\u001b[0m \u001b[0;32mNone\u001b[0m\u001b[0;34m:\u001b[0m\u001b[0;34m\u001b[0m\u001b[0;34m\u001b[0m\u001b[0m\n\u001b[0;32m-> 1955\u001b[0;31m                         \u001b[0;32mraise\u001b[0m \u001b[0mchild_exception_type\u001b[0m\u001b[0;34m(\u001b[0m\u001b[0merrno_num\u001b[0m\u001b[0;34m,\u001b[0m \u001b[0merr_msg\u001b[0m\u001b[0;34m,\u001b[0m \u001b[0merr_filename\u001b[0m\u001b[0;34m)\u001b[0m\u001b[0;34m\u001b[0m\u001b[0;34m\u001b[0m\u001b[0m\n\u001b[0m\u001b[1;32m   1956\u001b[0m                     \u001b[0;32melse\u001b[0m\u001b[0;34m:\u001b[0m\u001b[0;34m\u001b[0m\u001b[0;34m\u001b[0m\u001b[0m\n",
            "\u001b[0;31mFileNotFoundError\u001b[0m: [Errno 2] No such file or directory: 'C:/Program Files/Tesseract-OCR/tesseract.exe'",
            "\nDuring handling of the above exception, another exception occurred:\n",
            "\u001b[0;31mTesseractNotFoundError\u001b[0m                    Traceback (most recent call last)",
            "\u001b[0;32m/tmp/ipython-input-54-2746180761.py\u001b[0m in \u001b[0;36m<cell line: 0>\u001b[0;34m()\u001b[0m\n\u001b[1;32m     10\u001b[0m     \u001b[0mpix\u001b[0m \u001b[0;34m=\u001b[0m \u001b[0mpage\u001b[0m\u001b[0;34m.\u001b[0m\u001b[0mget_pixmap\u001b[0m\u001b[0;34m(\u001b[0m\u001b[0mdpi\u001b[0m\u001b[0;34m=\u001b[0m\u001b[0;36m300\u001b[0m\u001b[0;34m)\u001b[0m\u001b[0;34m\u001b[0m\u001b[0;34m\u001b[0m\u001b[0m\n\u001b[1;32m     11\u001b[0m     \u001b[0mimg\u001b[0m \u001b[0;34m=\u001b[0m \u001b[0mImage\u001b[0m\u001b[0;34m.\u001b[0m\u001b[0mfrombytes\u001b[0m\u001b[0;34m(\u001b[0m\u001b[0;34m\"RGB\"\u001b[0m\u001b[0;34m,\u001b[0m \u001b[0;34m[\u001b[0m\u001b[0mpix\u001b[0m\u001b[0;34m.\u001b[0m\u001b[0mwidth\u001b[0m\u001b[0;34m,\u001b[0m \u001b[0mpix\u001b[0m\u001b[0;34m.\u001b[0m\u001b[0mheight\u001b[0m\u001b[0;34m]\u001b[0m\u001b[0;34m,\u001b[0m \u001b[0mpix\u001b[0m\u001b[0;34m.\u001b[0m\u001b[0msamples\u001b[0m\u001b[0;34m)\u001b[0m\u001b[0;34m\u001b[0m\u001b[0;34m\u001b[0m\u001b[0m\n\u001b[0;32m---> 12\u001b[0;31m     \u001b[0mtext\u001b[0m \u001b[0;34m=\u001b[0m \u001b[0mpytesseract\u001b[0m\u001b[0;34m.\u001b[0m\u001b[0mimage_to_string\u001b[0m\u001b[0;34m(\u001b[0m\u001b[0mimg\u001b[0m\u001b[0;34m,\u001b[0m \u001b[0mlang\u001b[0m\u001b[0;34m=\u001b[0m\u001b[0;34m'ben'\u001b[0m\u001b[0;34m)\u001b[0m\u001b[0;34m\u001b[0m\u001b[0;34m\u001b[0m\u001b[0m\n\u001b[0m\u001b[1;32m     13\u001b[0m     \u001b[0mfull_text\u001b[0m \u001b[0;34m+=\u001b[0m \u001b[0mtext\u001b[0m \u001b[0;34m+\u001b[0m \u001b[0;34m\"\\n\\n\"\u001b[0m\u001b[0;34m\u001b[0m\u001b[0;34m\u001b[0m\u001b[0m\n\u001b[1;32m     14\u001b[0m \u001b[0;34m\u001b[0m\u001b[0m\n",
            "\u001b[0;32m/usr/local/lib/python3.11/dist-packages/pytesseract/pytesseract.py\u001b[0m in \u001b[0;36mimage_to_string\u001b[0;34m(image, lang, config, nice, output_type, timeout)\u001b[0m\n\u001b[1;32m    484\u001b[0m     \u001b[0margs\u001b[0m \u001b[0;34m=\u001b[0m \u001b[0;34m[\u001b[0m\u001b[0mimage\u001b[0m\u001b[0;34m,\u001b[0m \u001b[0;34m'txt'\u001b[0m\u001b[0;34m,\u001b[0m \u001b[0mlang\u001b[0m\u001b[0;34m,\u001b[0m \u001b[0mconfig\u001b[0m\u001b[0;34m,\u001b[0m \u001b[0mnice\u001b[0m\u001b[0;34m,\u001b[0m \u001b[0mtimeout\u001b[0m\u001b[0;34m]\u001b[0m\u001b[0;34m\u001b[0m\u001b[0;34m\u001b[0m\u001b[0m\n\u001b[1;32m    485\u001b[0m \u001b[0;34m\u001b[0m\u001b[0m\n\u001b[0;32m--> 486\u001b[0;31m     return {\n\u001b[0m\u001b[1;32m    487\u001b[0m         \u001b[0mOutput\u001b[0m\u001b[0;34m.\u001b[0m\u001b[0mBYTES\u001b[0m\u001b[0;34m:\u001b[0m \u001b[0;32mlambda\u001b[0m\u001b[0;34m:\u001b[0m \u001b[0mrun_and_get_output\u001b[0m\u001b[0;34m(\u001b[0m\u001b[0;34m*\u001b[0m\u001b[0;34m(\u001b[0m\u001b[0margs\u001b[0m \u001b[0;34m+\u001b[0m \u001b[0;34m[\u001b[0m\u001b[0;32mTrue\u001b[0m\u001b[0;34m]\u001b[0m\u001b[0;34m)\u001b[0m\u001b[0;34m)\u001b[0m\u001b[0;34m,\u001b[0m\u001b[0;34m\u001b[0m\u001b[0;34m\u001b[0m\u001b[0m\n\u001b[1;32m    488\u001b[0m         \u001b[0mOutput\u001b[0m\u001b[0;34m.\u001b[0m\u001b[0mDICT\u001b[0m\u001b[0;34m:\u001b[0m \u001b[0;32mlambda\u001b[0m\u001b[0;34m:\u001b[0m \u001b[0;34m{\u001b[0m\u001b[0;34m'text'\u001b[0m\u001b[0;34m:\u001b[0m \u001b[0mrun_and_get_output\u001b[0m\u001b[0;34m(\u001b[0m\u001b[0;34m*\u001b[0m\u001b[0margs\u001b[0m\u001b[0;34m)\u001b[0m\u001b[0;34m}\u001b[0m\u001b[0;34m,\u001b[0m\u001b[0;34m\u001b[0m\u001b[0;34m\u001b[0m\u001b[0m\n",
            "\u001b[0;32m/usr/local/lib/python3.11/dist-packages/pytesseract/pytesseract.py\u001b[0m in \u001b[0;36m<lambda>\u001b[0;34m()\u001b[0m\n\u001b[1;32m    487\u001b[0m         \u001b[0mOutput\u001b[0m\u001b[0;34m.\u001b[0m\u001b[0mBYTES\u001b[0m\u001b[0;34m:\u001b[0m \u001b[0;32mlambda\u001b[0m\u001b[0;34m:\u001b[0m \u001b[0mrun_and_get_output\u001b[0m\u001b[0;34m(\u001b[0m\u001b[0;34m*\u001b[0m\u001b[0;34m(\u001b[0m\u001b[0margs\u001b[0m \u001b[0;34m+\u001b[0m \u001b[0;34m[\u001b[0m\u001b[0;32mTrue\u001b[0m\u001b[0;34m]\u001b[0m\u001b[0;34m)\u001b[0m\u001b[0;34m)\u001b[0m\u001b[0;34m,\u001b[0m\u001b[0;34m\u001b[0m\u001b[0;34m\u001b[0m\u001b[0m\n\u001b[1;32m    488\u001b[0m         \u001b[0mOutput\u001b[0m\u001b[0;34m.\u001b[0m\u001b[0mDICT\u001b[0m\u001b[0;34m:\u001b[0m \u001b[0;32mlambda\u001b[0m\u001b[0;34m:\u001b[0m \u001b[0;34m{\u001b[0m\u001b[0;34m'text'\u001b[0m\u001b[0;34m:\u001b[0m \u001b[0mrun_and_get_output\u001b[0m\u001b[0;34m(\u001b[0m\u001b[0;34m*\u001b[0m\u001b[0margs\u001b[0m\u001b[0;34m)\u001b[0m\u001b[0;34m}\u001b[0m\u001b[0;34m,\u001b[0m\u001b[0;34m\u001b[0m\u001b[0;34m\u001b[0m\u001b[0m\n\u001b[0;32m--> 489\u001b[0;31m         \u001b[0mOutput\u001b[0m\u001b[0;34m.\u001b[0m\u001b[0mSTRING\u001b[0m\u001b[0;34m:\u001b[0m \u001b[0;32mlambda\u001b[0m\u001b[0;34m:\u001b[0m \u001b[0mrun_and_get_output\u001b[0m\u001b[0;34m(\u001b[0m\u001b[0;34m*\u001b[0m\u001b[0margs\u001b[0m\u001b[0;34m)\u001b[0m\u001b[0;34m,\u001b[0m\u001b[0;34m\u001b[0m\u001b[0;34m\u001b[0m\u001b[0m\n\u001b[0m\u001b[1;32m    490\u001b[0m     }[output_type]()\n\u001b[1;32m    491\u001b[0m \u001b[0;34m\u001b[0m\u001b[0m\n",
            "\u001b[0;32m/usr/local/lib/python3.11/dist-packages/pytesseract/pytesseract.py\u001b[0m in \u001b[0;36mrun_and_get_output\u001b[0;34m(image, extension, lang, config, nice, timeout, return_bytes)\u001b[0m\n\u001b[1;32m    350\u001b[0m         }\n\u001b[1;32m    351\u001b[0m \u001b[0;34m\u001b[0m\u001b[0m\n\u001b[0;32m--> 352\u001b[0;31m         \u001b[0mrun_tesseract\u001b[0m\u001b[0;34m(\u001b[0m\u001b[0;34m**\u001b[0m\u001b[0mkwargs\u001b[0m\u001b[0;34m)\u001b[0m\u001b[0;34m\u001b[0m\u001b[0;34m\u001b[0m\u001b[0m\n\u001b[0m\u001b[1;32m    353\u001b[0m         return _read_output(\n\u001b[1;32m    354\u001b[0m             \u001b[0;34mf\"{kwargs['output_filename_base']}{extsep}{extension}\"\u001b[0m\u001b[0;34m,\u001b[0m\u001b[0;34m\u001b[0m\u001b[0;34m\u001b[0m\u001b[0m\n",
            "\u001b[0;32m/usr/local/lib/python3.11/dist-packages/pytesseract/pytesseract.py\u001b[0m in \u001b[0;36mrun_tesseract\u001b[0;34m(input_filename, output_filename_base, extension, lang, config, nice, timeout)\u001b[0m\n\u001b[1;32m    278\u001b[0m             \u001b[0;32mraise\u001b[0m\u001b[0;34m\u001b[0m\u001b[0;34m\u001b[0m\u001b[0m\n\u001b[1;32m    279\u001b[0m         \u001b[0;32melse\u001b[0m\u001b[0;34m:\u001b[0m\u001b[0;34m\u001b[0m\u001b[0;34m\u001b[0m\u001b[0m\n\u001b[0;32m--> 280\u001b[0;31m             \u001b[0;32mraise\u001b[0m \u001b[0mTesseractNotFoundError\u001b[0m\u001b[0;34m(\u001b[0m\u001b[0;34m)\u001b[0m\u001b[0;34m\u001b[0m\u001b[0;34m\u001b[0m\u001b[0m\n\u001b[0m\u001b[1;32m    281\u001b[0m \u001b[0;34m\u001b[0m\u001b[0m\n\u001b[1;32m    282\u001b[0m     \u001b[0;32mwith\u001b[0m \u001b[0mtimeout_manager\u001b[0m\u001b[0;34m(\u001b[0m\u001b[0mproc\u001b[0m\u001b[0;34m,\u001b[0m \u001b[0mtimeout\u001b[0m\u001b[0;34m)\u001b[0m \u001b[0;32mas\u001b[0m \u001b[0merror_string\u001b[0m\u001b[0;34m:\u001b[0m\u001b[0;34m\u001b[0m\u001b[0;34m\u001b[0m\u001b[0m\n",
            "\u001b[0;31mTesseractNotFoundError\u001b[0m: C:/Program Files/Tesseract-OCR/tesseract.exe is not installed or it's not in your PATH. See README file for more information."
          ]
        }
      ]
    },
    {
      "cell_type": "code",
      "source": [
        "# trying from deepseek\n",
        "######################## Finally something working Perfectly ###################################\n",
        "!sudo apt install tesseract-ocr -y\n",
        "!sudo apt install libtesseract-dev -y"
      ],
      "metadata": {
        "colab": {
          "base_uri": "https://localhost:8080/"
        },
        "id": "SdIxz2gZwgTT",
        "outputId": "06ce6f69-51e8-4394-d2ec-807697de75fd"
      },
      "execution_count": 4,
      "outputs": [
        {
          "output_type": "stream",
          "name": "stdout",
          "text": [
            "Reading package lists... Done\n",
            "Building dependency tree... Done\n",
            "Reading state information... Done\n",
            "tesseract-ocr is already the newest version (4.1.1-2.1build1).\n",
            "0 upgraded, 0 newly installed, 0 to remove and 35 not upgraded.\n",
            "Reading package lists... Done\n",
            "Building dependency tree... Done\n",
            "Reading state information... Done\n",
            "libtesseract-dev is already the newest version (4.1.1-2.1build1).\n",
            "0 upgraded, 0 newly installed, 0 to remove and 35 not upgraded.\n"
          ]
        }
      ]
    },
    {
      "cell_type": "code",
      "source": [
        "!sudo apt install tesseract-ocr-ben -y  # For Bengali (ben)"
      ],
      "metadata": {
        "colab": {
          "base_uri": "https://localhost:8080/"
        },
        "id": "8pdQXHjPwpdC",
        "outputId": "79cb3286-91b2-43f9-be1e-c80af03fd673"
      },
      "execution_count": 5,
      "outputs": [
        {
          "output_type": "stream",
          "name": "stdout",
          "text": [
            "Reading package lists... Done\n",
            "Building dependency tree... Done\n",
            "Reading state information... Done\n",
            "tesseract-ocr-ben is already the newest version (1:4.00~git30-7274cfa-1.1).\n",
            "0 upgraded, 0 newly installed, 0 to remove and 35 not upgraded.\n"
          ]
        }
      ]
    },
    {
      "cell_type": "code",
      "source": [
        "!pip install pytesseract\n",
        "import pytesseract\n",
        "\n",
        "# Set the Tesseract path explicitly (Colab installs it in /usr/bin/tesseract)\n",
        "pytesseract.pytesseract.tesseract_cmd = '/usr/bin/tesseract'"
      ],
      "metadata": {
        "colab": {
          "base_uri": "https://localhost:8080/"
        },
        "id": "nh6NcRzUwzZt",
        "outputId": "ff197c6b-0f3b-4e0b-de13-175d032d5432"
      },
      "execution_count": 6,
      "outputs": [
        {
          "output_type": "stream",
          "name": "stdout",
          "text": [
            "Requirement already satisfied: pytesseract in /usr/local/lib/python3.11/dist-packages (0.3.13)\n",
            "Requirement already satisfied: packaging>=21.3 in /usr/local/lib/python3.11/dist-packages (from pytesseract) (25.0)\n",
            "Requirement already satisfied: Pillow>=8.0.0 in /usr/local/lib/python3.11/dist-packages (from pytesseract) (11.3.0)\n"
          ]
        }
      ]
    },
    {
      "cell_type": "code",
      "source": [
        "import fitz  # PyMuPDF\n",
        "from PIL import Image\n",
        "import pytesseract\n",
        "\n",
        "\n",
        "# Open the PDF and extract text\n",
        "doc = fitz.open(\"downloaded_pdf.pdf\")\n",
        "full_text = \"\"\n",
        "\n",
        "for page_num in range(len(doc)):\n",
        "    page = doc.load_page(page_num)\n",
        "    pix = page.get_pixmap(dpi=300)\n",
        "    img = Image.frombytes(\"RGB\", [pix.width, pix.height], pix.samples)\n",
        "    text = pytesseract.image_to_string(img, lang='ben')\n",
        "    full_text += text + \"\\n\\n\"\n",
        "\n",
        "# Save the extracted text\n",
        "with open(\"ocr_text_pymupdf.txt\", \"w\", encoding=\"utf-8\") as f:\n",
        "    f.write(full_text)\n",
        "\n",
        "print(\"OCR extraction completed! Check 'ocr_text_pymupdf.txt'\")"
      ],
      "metadata": {
        "colab": {
          "base_uri": "https://localhost:8080/"
        },
        "id": "55-wecntw5WE",
        "outputId": "087cafc7-28fe-4f45-c47f-bcb69b3390e6"
      },
      "execution_count": 58,
      "outputs": [
        {
          "output_type": "stream",
          "name": "stdout",
          "text": [
            "OCR extraction completed! Check 'ocr_text_pymupdf.txt'\n"
          ]
        }
      ]
    },
    {
      "cell_type": "code",
      "source": [
        "full_text"
      ],
      "metadata": {
        "colab": {
          "base_uri": "https://localhost:8080/",
          "height": 148
        },
        "id": "J3xTxopWylqT",
        "outputId": "b49f30cf-239f-4cbd-c6e0-af32f09514d8"
      },
      "execution_count": 62,
      "outputs": [
        {
          "output_type": "execute_result",
          "data": {
            "text/plain": [
              "'1091:11150;\\n\\n5০170909-\\n\\n \\n\\nঅপরিচিতা\\n\\nঅনলাইন ব্যাচ সম্পর্কিত যেকোনো জিজ্ঞাসায়,\\n\\nকলকরো ₹৬16919\\n\\x0c\\n\\n1750 26]\\nআনলাইন ব্যাচ” ৯৬110\\n10841439:\\n\\n৮ নিম্নবিত্ত ব্যক্তির হঠাৎ বিত্তশালী হয়ে ওঠার ফলে সমাজে পরিচয় সংকট সম্পর্কে ধারণা লাভ করবে।\\n৮ তৎকালীন সমাজ-সভ্যতা ও মানবতার অবমাননা সম্পর্কে জানতে পারবে।\\n৮ তৎকালীন সমাজের পণপ্রথার কুপ্রভাব সম্পর্কে জানতে পারবে।\\n\\n \\n\\n৮ তৎকালে সমাজে ভদ্রলোকের স্বভাববৈশিষ্ট্য সম্পর্কে জ্ঞানলাভ করবে।\\n৮ নারী কোমল ঠিক, কিন্তু দুর্বল নয়- কল্যাণীর জীবনচরিত দ্বারা প্রতিষ্ঠিত এই সত্য অনুধাবন করতে\\nপারবে।\\n৮ মানুষ আশা নিয়ে বেঁচে থাকে- অনুপমের দৃষ্টান্তে মানবজীবনের এই চিরন্তন সত্যদর্শন সম্পর্কে\\nজ্ঞানলাভ করবে।\\nছ প্রাক-মুল্যায়ন\\n১। অনুপমের বাবা কী করে জীবিকা নির্বাহ করতেন?\\nক) ডাক্তারি খ) ওকালতি গ) মাস্টারি ঘ) ব্যবসা\\n২। মামাকে ভাগ্য দেবতার প্রধান এজেন্ট বলার কারণ, তার-\\nক) প্রতিপত্তি খ) প্রভাব গ) বিচক্ষণতা ঘ) কুট বুদ্ধি\\n\\nনিচের অনুচ্ছেদটি পড়ে ৩ ও ৪ সংখ্যক প্রশ্নের উত্তর দাও।\\n\\nপিতৃহীন দীপুর চাচাই ছিলেন পরিবারের কর্তা। দীপু শিক্ষিত হলেও তার সিদ্ধান্ত নেওয়ার ক্ষমতা ছিল না। চাচা\\nতার বিয়ের উদ্যোগ নিলেও যৌতুক নিয়ে বাড়াবাড়ি করার কারণে কন্যার পিতা অপমানিত বোধ করে বিয়ের\\nআলোচনা ভেঙে দেন। দীপু মেয়েটির ছবি দেখে মুগ্ধ হলেও তার চাচাকে কিছুই বলতে পারেননি।\\n\\n৩। দীপুর চাচার সঙ্গে “অপরিচিতা\\' গল্পের কোন চরিত্রের মিল আছে?\\n\\nক) হরিশের খ) মামার গ) শিক্ষকের ঘ) বিনুর\\n৪। উক্ত চরিত্রে প্রাধান্য পেয়েছে -\\n\\n।) দৌরাত্ম |) হীনন্মন্যতা 11) লোভ\\n\\nনিচের কোনটি ঠিক?\\n\\nক।।ও | খ। | ও | গ। ও | ঘ।।, 1 ও ||\\n\\n৫. অনুপমের বয়স কত বছর?\\nক) পঁচিশ খ) ছাবিবিশ গ) সাতাশ ঘ) আটাশ\\n\\n০৩18541৩014\\n\\n \\n\\x0c\\n\\n[লল্দনে ৯\\nঅনলাইন ব্যাচ\\n\\n১0৮\\nএ জীবনটা না দৈর্ঘ্যের হিসাবে বড়ো, না\\nগুণের হিসাবে\\n\\nফলের মতো গুটি\\n\\n10১5৩\\n\\nশব্দার্থ ও টীকা\\n\\nশব্দের অর্থ ও ব্যাখ্যা\\n\\nগল্পের কথক চরিত্র অনুপমের আত্মসমালোচনা। পরিমাণ ও\\nগুণ উভয় দিক দিয়েই যে তার জীবনটি নিতান্তই তুচ্ছ সে\\nকথাই এখানে ব্যক্ত হয়েছে।\\n\\nগুটি এক সময় পূর্ণ ফলে পরিণত হয়। কিন্তু গুটিই যদি\\n\\nফলের মতো হয় তাহলে তার অসম্পূর্ণ সারবস্তা প্রকট হয়ে\\n\\nওঠে। নিজের নি্ষল জীবনকে বোঝাতে অনুপমের ব্যবহৃত\\nপমা।\\n\\n \\n\\nঅন্নপূর্ণা\\n\\nঅন্নে পরিপূর্ণা। দেবী দুর্গা\\n\\nদেবী দুর্গার দুই পুত্র; অগ্রজ গণেশ ও অনুজ কাতিকেয়।\\nদুর্গার কোলে থাকা দেব-সেনাপতি কার্তিকেয়কে বোঝানো\\nহয়েছে। ব্যঙ্গার্থে প্রয়োগ।\\n\\n \\n\\nভূষণ, প্রসাধন, শোভা। ভাষার মাধুর্য ও উৎকর্ষ বৃদ্ধি করে এমন\\nগুণ।\\n\\n \\n\\nভারতের গয়া অঞ্চলের অন্তঃসলিলা নদী। নদীটির ওপরের\\nঅংশে বালির আস্তরণ কিন্তু ভিতরে জলম্বোত প্রবাহিত।\\n\\n \\n\\nঅনুপম তার মামার চরিত্র-বৈশিষ্ট্য প্রসঙ্গে কথাটি বলেছে।\\nসংসারের সমস্ত দায়-দায়িত্ব পালনে তার ভূমিকা এখানে\\nউপমার মাধ্যমে ব্যক্ত করা হয়েছে\\n\\n \\n\\nস্বয়ংবরা\\n\\nযে মেয়ে নিজেই স্বামী নির্বাচন করে\\n\\n \\n\\nগুড়গুড়ি\\n\\nআলবোলা। ফরসি। দীর্ঘ নলযুক্ত হুকাবিশেষ\\n\\n \\n\\nবাঁধা হুকা\\n\\nসাধারণ মানুষের ব্যবহার্য নারকেল-খোলে তৈরি ধূমপানের\\nযন্ত্রবিশেষ\\n\\n \\n\\nউমেদারি\\n\\nপ্রার্থনা। চাকরির আশায় অন্যের কাছে ধরনা দেওয়া।\\n\\n \\n\\nঅবকাশের মরুভূমি এক কালে ইহাদের\\nবংশে লক্ষ্বীর\\n\\nমঙ্গলঘট ভরা ছিল।\\n\\nআনন্দহীন প্রচুর অবসর বোঝানো হয়েছে। লক্ষী ধন ও\\nএশ্বর্ষের দেবী। মঙ্গলঘট তার প্রতীক। কল্যাণীদের বংশে\\nএকসময় লক্ষ্মীর কৃপায় এঁশ্বর্ষের ঘট পূর্ণ ছিল।\\n\\n \\n\\nপশ্চিমে আন্ডামান দ্বীপ\\n\\nএখানে ভারতের পশ্চিম অঞ্চলকে বোঝানো হয়েছে।\\n\\n \\n\\nকোন্নগর\\n\\nভারতীয় সীমানাভুক্ত বঙ্গোপসাগরের দ্বীপবিশেষ। স্বদেশি\\nআন্দোলনের যুগে রাজবন্দিদের নির্বাসন শাস্তি দিয়ে\\nআন্ডামান বা আন্দামানে পাঠানো হতো।\\n\\n \\n\\x0c\\n\\nবিধানকর্তা বা শাস্ত্রপ্রণেতা মুনিবিশেষ।\\n\\n \\n\\nমনু-প্রণীত মানুষের আচরণবিধি সংক্রান্ত গ্রন্থ ।\\n\\n \\n\\nজীবের অক্টা। ব্রম্মা। ইনি বিয়ের দেবতা।\\n\\n \\n\\nমদনদেবের ব্যবহার্য পাচ ধরনের বাণ।\\n\\n \\n\\nনানা রকম বাদ্যযন্ত্রের ্কতান।\\nস্বর্ণকার, সোনার অলংকার প্রস্তুতকারক\\n\\n \\n\\n \\n\\nঅনুপম নিজের বিবাহযাত্রার পরিস্থিতি বর্ণনায় সুরশূন্য\\nবিকট কোলাহলকে সংগীত সরস্বতীর পদ্মবন দলিত হওয়ার\\nঘটনার সঙ্গে তুলনা করেছে।\\n\\n \\n\\nঅভিষেক করা হয়েছে এমন\\n\\n \\n\\nউপটৌকন। ভেট।\\nযে পাথরে ঘষে সোনার খাঁটিত্ব পরীক্ষা করা হয়\\n\\nআলবোলা। ফরসি। দীর্ঘ নলযুক্ত হুকাবিশেষ\\nমকর বা কলমের মুখাকৃতিযুক্ত হাতে পরিধেয়\\n\\nঅলংকারবিশেষ\\n\\n \\n\\n \\n\\nকানের দুল। £917710\\n\\nপ্রজাপতি দক্ষ কর্তৃক অনুষ্ঠিত যজ্ঞ। এ যজ্ঞে পতিনিন্দা শুনে\\nসতী দেহত্যাগ করেন। স্ত্রীর মৃত্যুসংবাদ শুনে শিব\\nঅনুচরসহ যজ্ঞস্থলে পৌছে যজ্ঞ ধ্বংস করে দেন এবং সতীর\\nশব কাধে তুলে নিয়ে প্রলয় নৃত্যে মত্ত হন। এখানে প্রলয়কাণ্ড\\nবা হট্টগোল বোঝাচ্ছে।\\n\\nশানাই, ঢোল ও কাসি- এই তিন বাদ্যযন্ত্র সৃষ্ট একতানবাদন\\n\\nএক ধরনের খনিজ ধাতু। 14109\\nঅভ্রের ঝাড় অভ্রের তরি ঝাড়বাতি।\\nটে\\nএ\\n\\n \\n\\n \\n\\n \\n\\n \\n\\n \\n\\x0c\\n\\nআও 194\\n\\nবাংলা * ইংরেজি * আইসিটি\\n\\n \\n\\n \\n\\n  \\n\\n১]\\nপাকষন্ত্র\\nপ্রদোষ\\nএক চক্ষু ল্ঠন মাটির খোলের দুপাশে চামড়া লাগানো এক ধরনের বাদ্যযন্ত্র\\n\\nজড়িমা আড়স্টতা। জড়ত্ব।\\nএকপত্তন একপ্রস্থ\\n\\nকান কল্যাণী যে দেশমাতৃকার সেবায় আত্মনিয়োগ করেছে,\\nপুর অনুপমের এই আত্মোপলন্ধি এখানে প্রকাশিত।\\n\\n   \\n\\n \\n\\n \\n\\n \\n\\x0c\\n\\n1750 26]\\nঅনলাইন ব্যাচ” ৯1৬1106\\n10841439:\\n\\nমূল আলোচ্য বিষয়\\n\\nমূল গল্প\\nআজ আমার বয়স সাতাশ মাত্র। এ জীবনটা না দৈর্ঘ্যের হিসাবে বড়, না গুনের হিসাবে। তবু ইহার একটু বিশেষ\\nমূল্য আছে।ইহা সেই ফুলের মতো যাহার বুকের উপরে ভ্রমর আসিয়া বসিয়াছিল, এবং সেই পদক্ষেপের ইতিহাস\\nতাহার জীবনের মাঝখানেফলের মতো গুটি ধরিয়া উঠিয়াছে।\\nসেই ইতিহাসটুকু আকারে ছোটো, তাহাকে ছোটো করিয়াই লিখিব। ছোটোকে যাহারা সামান্য বলিয়া ভুল করেন\\nনা তাহারা ইহার রস বুঝিবেন। কলেজে যতগুলো পরীক্ষা পাশ করিবার সব আমি ঢুকাইয়াছি। ছেলেবেলায়\\nআমাকে শিমুল ফুল ও মাকাল ফলের সহিত\\nতুলনা করিয়া, বিদ্রপ করিবার সুযোগ\\nপাইয়াছিলেন। ইহাতে তখন বড় লজ্জা পাইতাম;\\nকিন্তু বয়স হইয়া এ কথা ভাবিয়াছি, যদি\\nজন্মান্তর থাকে তবে আমার মুখে সুরূপ এবং\\nপণ্ডিতমশায়দের মুখে বিদ্রপ আবার যেন অমনি করিইয়াই প্রকাশ পায়। আমার পিতা এক কালে গরিব ছিলেন।\\nওকালতি করিয়া তিনি প্রচুর টাকা রোজগার করিয়াছেন, ভোগ করিবার সময় নিমেষমাত্র পান নাই। মৃত্যুতে\\nতিনি যে হাফ ছাড়িলেন সেই তার প্রথম অবকাশ।\\nআমার তখন বয়স অল্প। মার হাতেই আমি মানুষ। মা গরিবের ঘরের মেয়ে; তাই, আমরা যে ধনী এ কথা তিনিও\\nভোলেন না, আমাকে ভুলিতে দেন না। শিশুকালে আমি কোলে কোলেই মানুষ-বোধ করি, সেইজন্য শেষ পর্যন্ত\\nআমার পুরাপুরি বয়সই হইল না।\\nআজও আমাকে দেখিলে মনে হইবে, আমি অন্নপূর্ণার কোলে গজাননের ছোটো ভাইটি।\\nআমার আসল অভিভাবক আমার মামা। তিনি আমার চেয়ে বড়োজোর বছর ছয়েক বড়। কিন্তু ফল্তুর বালির\\nমতো তিনি আমাদের সমস্ত সংসারটাকে নিজের অন্তরের মধ্যে শুষিয়া লইয়াছেন। তাহাকে না খুঁড়িয়া\\nএখানকার এক গণ্ডষও রস পাইবার জো নাই। এই কারণে কোনো-কিছুর জন্যই আমাকে কোনো ভাবনা\\nভাবিতেই হয় না।কন্যার পিতা মাত্রেই স্বীকার করিবেন, আমি সৎপাত্র। তামাকটুকু পর্যন্ত খাই না। ভালোমানুষ\\nহওয়ার কোনো ঝঞ্জাট নাই, তাই আমি নিতান্ত ভালোমানুষ। মাতার আদেশ মানিয়া চলিবার ক্ষমতা আমার\\nআছে- বস্তত, না মানিবার ক্ষমতা আমার নাই। অন্তঃপুরের শাসনে চলিবার মতো করিয়াই আমি প্রস্তুত হইয়াছি,\\nযদি কোনো কন্যা স্বয়ম্বরা হন তবে এই সুলক্ষণটি স্মরণ রাখিবেন।\\nঅনেক বড়ো ঘর হইতে আমার সম্বন্ধ আসিয়াছিল। কিন্তু মামা, যিনি পৃথিবীতে আমার ভাগ্যদেবতার প্রধান\\nএজেন্ট, বিবাহ সম্বন্ধে তার একটা বিশেষ মত ছিল। ধনীর কন্যা তার পছন্দ নয়। আমাদের ঘরে যে মেয়ে\\nআসিবে সে মাথা হেট করিয়া আসিবে, এই তিনি চান। অথচ টাকার প্রতি আসক্তি তার অস্থিমজ্জায় জড়িত।\\nতিনি এমন বেহাই চান যাহার টাকা নাই অথচ যে টাকা দিতে কসুর করিবে না। যাহোক শোষণ করা চলিবে\\nঅথচ বাড়িতে আসিলে গুড়গুড়ির পরিবর্তে বাঁধা হুকায় তামাক দিলে যাহার নালিশ খাটিবে না।\\n\\n6\\n\\n \\n\\x0c\\n\\nকী 10410\\nআমার হরিশ কানপুরে কাজ করে। সে ছুটিতে কলিকাতায় আসিয়া আমার মন উতলা করিয়া দিল। সে বলিল,\\n“ওহে, মেয়ে যদি বল একটি খাসা মেয়ে আছে।”\\n\\nকিছুদিন পূর্বেই এমএ পাশ করিয়াছি। সামনে যত দূর পর্যন্ত দৃষ্টি চলে ছুটি ধূ ধু করিতেছে; পরীক্ষা নাই, উমেদরি\\nনাই, চাকরি নাই; নিজের বিষয় দেখিবার চিন্তাও নাই, শিক্ষাও নাই, ইচ্ছাও নাই- থাকিবার মধ্যেও ভিতরে\\nআছেন মা এবং বাহিরে আছেন মামা।\\n\\nএই অবকাশের মরুভূমির মধ্যে আমার হৃদয়\\n\\nতখন বিশ্বব্যাপী নারীরূপেরমরীচিকা\\n\\nতাহার নিঃশ্বাস, তরুমর্মরে তাহার গোপন কথা।\\nএমন সময় হরিশ আসিয়া বলিল, “মেয়ে যদি\\nবল, তবে-”। আমার শরীর-মন বসন্তবাতাসে\\n\\nবকুলবনের নবপল্লবরাশির মতো কাপিতে কাপিতে আলোছায়া বুনিতে লাগিল। হরিশ মানুষটা ছিল রসিক, রস\\nদিয়ে বর্ণনা করিবার শক্তিতে তাহার ছিল, আর আমার মন ছিল তৃষার্ত।\\n\\nআমি হরিশকে বলিলাম, “একবার মামার কাছে কথাটা পাড়িয়া দেখ।”\\n\\nহরিশ আসর জমাইতে অদ্বিতীয়। তাই সর্বত্রই তাহার খাতির। মামাও তাহাকে পাইলে ছাড়িতে চান না। কথাটা\\nতার বৈঠকে উঠিল। মেয়ের চেয়ে মেয়ের বাপের খবরটাই তাহার কাছে গুরুতর। বাপের অবস্থা তিনি যেমনটি\\nচান তেমনি।\\n\\nএক কালে ইহাদের বংশে লক্ষ্মীর মঙ্গলঘট ভরা ছিল। এখন তাহা শূন্য বলিলেই হয়, অথচ তলায় সামান্য কিছু\\nবাকি আছে। দেশে বংশমর্যাদা রাখিয়া চলা সহজ নয় বলিয়া ইনি পশ্চিমে গিয়া বাস করিতেছেন। সেখানে গরিব\\nগৃহস্থের মতোই থাকেন। একটি মেয়ে ছাড়া তার আর নাই। সুতরাং তাহারাই পশ্চাতে লক্ষ্মীর ঘটটি একেবারে\\nউপুড় করিয়া দিতে দ্বিধা হইবে না।\\n\\nএসব ভালো কথা। কিন্তু, মেয়ের বয়স যে পনেরো, তাই শুনিয়া মামার মন ভার হইল। বংশে তো কোনো দোষ\\nনাই? না, দোষ নাই- বাপ কোথাও তার মেয়ের যোগ্য বর খুঁজিয়া পান না। একে তো বরের ঘাট মহার্ঘ, তাহার\\nপরে ধুনুক-ভাঙা পণ, কাজেই বাপ কেবলই সবুর করিতেছেন- কিন্তু মেয়ের বয়স সবুর করিতেছে না।\\n\\nযাই হোক, হরিশের সরস রচনার গুণ আছে। মামার মন নরম হইল। বিবাহের ভূমিকা-অংশটা নির্বিঘ্নে সমাধা\\nহইয়া গেল। কলিকাতার বাহিরে বাকি যে পৃথিবীটা আছে সমস্তটাকেই মামা আন্ডামান দ্বীপের অন্তর্গত বলিয়া\\nজানেন। জীবনে একবার বিশেষ কাজে তিনি কোন্নগর পর্যন্ত গিয়েছিলেন। মামা যদি মনু হইতেন তবে তিনি\\nহাবড়ার পুল পার হওয়াটাকে তাহার সংহিতায় একেবারে নিষেধ করিয়া দিতেন। মনের মধ্যে ইচ্ছা ছিল, নিজের\\nচোখে মেয়ে দেখিয়া আসিব। সাহস করিয়া প্রস্তাব করিতে পারিলাম না।\\n\\nকন্যাকে আশীর্বাদ করিবার জন্য যাহাকে পাঠানো হইল সে আমাদের বিনুদাদা, আমার পিসতুতো ভাই। তাহার\\nমতো রুচি এবং দক্ষতার “পরে আমি ষোলো-আনা নির্ভর করিতে পারি। বিনুদা ফিরিয়া আসিয়া বলিলেন,\\n\\n \\n\\x0c\\n\\n[লন\\nসু 19115\\n“মন্দ নয় হে! খাটি সোনা বটে!” বিনুদাদার ভাষাটা অত্যন্ত আঁট। যেখানে আমরা বলি \\'চমৎকার\\' সেখানে তিনি\\nবলেন \\'চলনসই\\'। অতএব বুঝিলাম, আমার ভাগ্যে প্রজাপতির সঙ্গে পঞ্চশরের কোনো বিরোধ নাই।\\nবলা বাহুল্য, বিবাহ-উপলক্ষে কন্যাপক্ষকেই\\nকলিকাতা আসিতে হইল। কন্যার পিতা শস্তুনাথবাবু হরিশকে কত বিশ্বাস করেন তাহার প্রমাণ এই যে, বিবাহের\\nতিন দিন পূর্বে তিনি আমাকে চক্ষে দেখেন এবং আশীর্বাদ করিয়া যান। বয়স তার চল্লিশের কিছু এপারে বা\\nওপারে। চুল কীচা, গোঁফে পাক ধরিতে আরম্ভ করিয়াছে মাত্র। সুপুরুষ বটে। ভিড়ের মধ্যে দেখিলে সকলের\\nআগে তার উপরে চোখ পড়িবার মতো চেহারা।\\nআশা করি আমাকে দেখিয়া তিনি খুশি হইয়াছিলেন। বোঝা শক্ত, কেননা তিনি বড়ই চুপচাপ। যে দুটি-একটি\\nকথা বলেন যেন তাহাতে পুরা জোর দিয়া বলেন না। মামার মুখ তখন অনর্গল ছুটিতেছিল- ধনে মানে আমাদের\\nস্থান যে শহরের কারও চেয়ে কম নয়, সেইটেকেই তিনি নানা প্রসঙ্গে প্রচার করিতেছিলেন। শস্তুনাতবাবু এ\\nকথায় একেবারে যোগই দিলেন না- কোনো ফাকে একটা বা হু বা হ্টা কিছুই শোনা গেল না। আমি হইলে দমিয়া\\nযাইতাম, কিন্তু মামাকে দমানো শক্ত। তিনি শস্তুনাথবাবুর চুপচাপ ভাব দেখিয়া ভাবিলেন, লোকটা নিতান্ত\\nনিজবি, একেবারে কোনো তেজ নাই। বেহাই-সম্পদায়ের আর যাই থাক, তেজ থাকাটা দোষের, অতএব মামা\\nমনে মনে খুশি হইলেন। শস্তুনাথবাবু যখন উঠিলেন তখন মামা সংক্ষেপে উপর হইতেই তাকে বিদায় করিলেন,\\nগাড়িতে তুলিয়া দিতে গেলেন না।\\nপণ সম্বন্ধে দুই পক্ষে পাকাপাকি কথা ঠিক হইয়া গিয়াছিল। মামা নিজেকে অসামান্য চতুর বলিয়াই অভিমান\\nকরিয়া থাকেন। কথাবার্তায় কোথাও তিনি কিছু ফাক রাখেন নাই। টাকার অঙ্ক তো স্থির ছিলই, তারপরে গহনা\\nকত ভরির এবং সোনা কত দরের হইবে সেও একেবারে বাঁধাবাধি হইয়া গিয়াছিল।\\nআমি নিজে এসমস্ত কথার মধ্যে ছিলাম না; জানিতাম না দেনা-পাওনা কি স্থির হইল। মনে জানিতাম, এই স্কুল\\nঅংশটাও বিবাহের একটা প্রধান অংশ, এবং সে অংশের ভার যার উপরে তিনি এক কড়াও ঠকিবেন না। বস্তুত,\\nআশ্চর্য পাকা লোক বলিয়া মামা আমাদের সমস্ত সংসারের প্রধান গর্বের সামগ্রী। যেখানে আমাদের কোনো\\nসম্বন্ধ আছে সেখানে সর্বত্রই তিনি বুদ্ধির লড়াইয়ে জিতিবেন, এ একেবারে ধরা কথা, এই জন্য আমাদের অভাব\\nনা থাকিলেও এবং অন্য পক্ষের অভাব কঠিন হইলেও জিতিব, আমাদের সংসারের এই জেদ-ইহাতে যে বাঁচুক\\nআর যে মরুক।\\nগায়ে-হলুদ অসম্ভব রকম ধুম করিয়া গেল। বাহক এত গেল যে তাহার আদম-শুমারি করিতে হইলে কেরানি\\nরাখিতে হয়। তাহাদিগকে বিদায় করিতে অপর পক্ষকে যে নাকাল হইতে হইবে, সেই কথা স্মরণ করিয়া মামার\\nসঙ্গে মা একযোগে বিস্তর হাসিলেন।\\nব্যান্ড, বাঁশি, শখের কন্দর্ট প্রভৃতি যেখানে\\nযতপ্রকার উচ্চ শব্দ আছে সমস্ত একসঙ্গে\\nসংগীত সরস্বতীর পদ্মবন দলিত বিদলিত করিয়া\\nউঠিলাম।আংটিতে হারেতে জরি-জহরতে\\nবলিয়া বোধ হইল। তাহাদের ভাবি জামাইয়ের\\nমূল্য কত সেটা যেন কতক পরিমাণে\\nসর্বাঙ্গে স্পষ্ট করিয়া লিখিয়া ভাবী স্বশুরের সঙ্গে মোকাবিলা করিতে চলিয়াছিলাম।\\n\\n৪\\n\\n \\n\\x0c\\n\\nকস 10410\\nমামা বিবাহ-বাড়িতে ঢুকিয়া খুশি হইলেন না। একে তো উঠানটাতে বরযাত্রীদের জায়গা সংকুলান হওয়াই শক্ত,\\nতাহার পরে সমস্ত আয়োজন নিতান্ত মধ্যম রকমের। ইহার পরে শন্কুনাথবাবুর ব্যবহারটাও নেহাত ঠান্ডা। তার\\nবিনয়টা অজস্র নয়। মুখে তো কথাই নাই কোমরে চাদর বাধা, গলা ভাঙা, টাক-পড়া, মিশ-কালো এবং বিপুল-\\nশরীর তার একটি উকিল-বন্ধু যদি নিয়ত হাত জোড় করিয়ে মাথা হেলাইয়া, নন্ত্রতার স্মিতহাস্যে ও গদগদ বচনে\\nকন্দর্ট পাটির করতাল-বাজিয়ে হইতে শুরু করিয়া বরকর্তাদের প্রত্যেককে বার বার প্রচুররূপে অভিষিক্ত\\nকরিয়া না দিতেন তবে গোড়াতেই এটা এসপার-ওসপার হইত।\\n\\nআমি সভায় বসিবার কিছুক্ষণ পরেই মামা শস্তুনাথবাবুকে পাশের ঘরে ডাকিয়া লইয়া গেলেন। কী কথা হইল\\nজানি না, কিছুক্ষণ পরেই শস্তুনাথবাবু আমাকে আসিইয়া বলিলেন, “বাবাজি, একবার এই দিকে আসতে\\nহচ্ছে।”\\n\\nব্যাপারখানা এই। -সকলে না হউক, কিন্তু কোনো\\nলক্ষ ছিল, তিনি কোনোমতেই কারও কাছে\\nঠকিবেন না। তার ভয় তার বেহাই তাকে গহনায়\\nফাকি দিতে পারেন-বিবাহাকার্ধ শেষ হইয়া গেলে\\nসে ফাকির আর প্রতিকার চলিবে না। বাড়িভাড়া\\nসওগাদ লোক-বিদায় প্রভৃতি সম্বন্ধে যেরকম\\nটানাটানির পরিচয় পাওয়া গেছে তাহাতে মামা\\nঠিক করিয়াছিলেন- দেওয়া-থোওয়া সম্বন্ধে এ লোকটির শুধু মুখের কথার উপর ভর করা চলিবে না। সেইজন্য\\nবাড়ির সেকরাকে সুদ্ধ সঙ্গেআনিয়াছিলেন। পাশের ঘরে গিয়া দেখিলাম, মামা এক তক্তপোশে এবং সেকরা\\nতাহার দীড়িপাল্লা কষ্টিপাথর প্রভৃতি লইয়া মেঝেয় বসিয়া আছে।\\n\\nশস্তুনাথবাবু আমাকে বলিলেন, “তোমার মামা বলিতেছেন বিবাহের কাজ শুরু হইবার আগেই তিনি কনের\\nসমস্ত গহনা যাচাই করিয়া দেখিবেন, ইহাতে তুমি কি বল।”\\n\\nআমি মাথা হেট করিয়া চুপ করিয়া রহিলাম।\\n\\nমামা বলিলেন, “ও আবার কী বলিবে। আমি যা বলিব তাই হইবে।”\\nশস্তুনাথবাবু আমার দিকে চাহিয়া কহিলেন, “সেই কথা তবে ঠিক? উনি যা বলিলেন তাই হইবে? এ সম্বন্ধে\\nতোমার কিছুই বলিবার নাই?\\n\\nআমি একটু ঘাড়-নাড়ার ইঙ্গিতে জানাইলাম, এসব কথায় আমার সম্পূর্ণ অনধিকার।\\n\\n“আচ্ছা বাবা তবে বোসো, মেয়ের গা হইতে সমস্ত গহনা খুলিয়া আনিতেছি।” এই বলিয়া তিনি উঠিলেন।\\n\\nমামা বলিলেন, “অনুপম এখানে কি করিবে। ও সভায় গিয়ে বসুক।”\\n\\nশস্তুনাথবাবু বলিলেন, “না, সভায় নয়, এখানেই বসিতে হইবে।”\\n\\nকিছুক্ষণ পরে তিনি একখানা গামছায় বাঁধা গহনা আনিয়া তক্তপোশের উপর মেলিয়া ধরিলেন। সমস্তই তাহার\\nপিতামহীদের আমলের গহনা- হাল ফ্যাশনের সূক্ষ্ম কাজ নয়- যেমন মোটা তেমনি ভারী।\\n\\nসেকরা গহনা হাতে তুলিয়া লইয়া বলিল, “এ আর দেখিব কী। ইহাতে খাদ নাই-এমন সোনা এখনকার দিনে\\nব্যবহারই হয় না।”\\n\\n \\n\\x0c\\n\\nতাকী 191,\\nএই বলিয়া যে মকরমুখা মোটা একখানা বালায় একটু চাপ দিয়া দেখাইল তাহা বাঁকিয়া যায়।\\n\\nমামা তখনই নোটবইয়ে গহনাগুলির ফর্দ টুকিয়া লইলেন, পাছে যাহা দেখানো হইল তাহার কোনোটা কম পড়ে।\\nহিসাব করিয়াদেখিলেন, গহনা যে পরিমাণ দিবার\\nকথা এগুলি সংখ্যায়, দরে এবং ভারে অনেক\\nবেশি। গহনাগুলির মধ্যে একজোড়া এয়ারিং ছিল।\\nশস্তুনাথ সেইটে সেকরার হাতে দিয়া বলিলেন,\\n“এইটে একবার পরখ করিয়া দেখো।”\\n\\nভাগ সামান্যই আছে।”\\n\\nশস্তুবাবু এয়ারিং জোড়া মামার হাতে দিয়া বলিলেন, “এটা আপনারাই রাখিয়া দিন ।”\\n\\nমামা সেটা হাতে লইয়া দেখিলেন, এই এয়ারিং দিয়াই কন্যাকে তাহারা আশীর্বাদ করিয়াছিলেন।\\n\\nমামার মুখ লাল হইয়া উঠিল। দরিদ্র তাহাকে ঠকাইতে চাহিবে কিন্তু তিনি ঠকিবেন না\\n\\nএই আনন্দ-সম্তোগ হইতে বঞ্চিত হইলেন এবং তাহার উপরেও কিছু উপরি-পাওনা জুটিল। অত্যন্ত মুখ ভার\\nকরিয়া বলিলেন, “অনুপম, যাও, তুমি সভায় গিয়া\\nবোসো গে।”\\n\\nশস্তুনাথবাবু বলিলেন, “না, এখন সভায় বসিতে\\nহইবে না। চলুন, আগে আপনাদের খাওয়াইয়া\\nদিই।”\\n\\nমামা বলিলেন, “সে কী কথা। লগ্ন-”\\nশন্তুনাথবাবু বলিলেন, “সেজন্য কিছু ভাবিবেন না- এখন উঠুন।”\\n\\nলোকটি নেহাত ভালোমানুষ-ধরনের, কিন্তু ভিতরে বেশ একটু জোর আছে বলিয়া বোধ হইল। মামাকে উঠিতে\\nহইল। বরযাত্রীদেরও আহার হইয়া গেল। আয়োজনের আড়ম্বর ছিল না। কিন্তু রান্না ভালো এবং সমস্ত বেশ\\nপরিষ্কার পরিচ্ছন্ন বলিয়া সকলেরই তৃপ্তি হইল।\\n\\nবরযাত্রীদের খাওয়া শেষ হইলে শস্তুনাথবাবু আমাকে খাইতে বলিলেন। মামা বলিলেন, “সে কি কথা। বিবাহের\\nপূর্বে বর খাইবে কেমন করিয়া।”\\n\\nএ সম্বন্ধে মামার কোনো মতপ্রকাশকে তিনি সম্পূর্ণ উপেক্ষা করিয়া আমার দিকে চাহিয়া বলিলেন, তুমি কি বল।\\nবসিয়া যাইতে দোষ কিছু আছে?”\\n\\nমূর্তিমতি মাতৃ-আজ্ঞা-স্বরূপে মামা-উপস্থিত, তার বিরুদ্ধে চলা আমার পক্ষে অসম্ভব। আমি আহারে বসিতে\\nপারিলাম না।\\n\\nতখন শস্তুনাথবাবু বলিলেন, “আপনাদিগকে অনেক কষ্ট দিয়াছি। আমরা ধনী নই, আপনাদের যোগ্য আয়োজন\\nকরিতে পারি নাই, ক্ষমা করিবেন। রাত হইয়া গেছে, আর আপনাদের কষ্ট বাড়াইতে ইচ্ছা করি না। এখন তবে-\"”\\n\\n \\n\\n \\n\\x0c\\n\\nইট 1914\\nমামা বলিলেন, “তা, সভায় চলুন, আমরা তো প্রস্তুত আছি।”\\n\\nশস্তুনাথ বলিলেন, “তবে আপনাদের গাড়ি বলিয়া দিই?”\\n\\nশস্তুনাথ কহিলেন, “ঠার্টা তো আপনিই করিয়া সারিয়াছেন। ঠাট্টার সম্পর্কটাকে স্থায়ী করিবার ইচ্ছা আমার\\nনাই।”\\n\\nমামা দুই চোখ এত বড়ো করিয়া মেলিয়া অবাক হইয়া রইলেন।\\n\\nশস্তুনাথ কহিলেন, “আমার কন্যার গহনা আমি চুরি করিব এ কথা যারা মনে করে তাদের হাতে আমি কন্যা\\nদিতে পারি না।\\n\\nআমাকে একটি কথা বলাও তিনি আবশ্যক বোধ করিলেন না। কারণ, প্রমাণ হইয়া গেছে, আমি কেহই নই।\\nতারপরে যা হইল সে আমি বলিতে ইচ্ছা করি না। ঝাড়লগ্ঠন ভাঙিয়া-চুরিয়া, জিনিসপত্র লণ্ডভণ্ড করিয়া,\\nহইয়া গেল। বাড়ি ফিরিবার সময় ব্যান্ড রসনচৌকি\\nও কন্দর্ট একসঙ্গে বাজিল না এবং অভ্রের\\nঝাড়গুলো আকাশের তারার উপর আপনাদের\\nকর্তব্যের বরাত দিয়া কোথায় যে মহানির্বাণ লাভ\\nকরিল সন্ধান পাওয়া গেল না।\\n\\nবাড়ির সকলে তো রাগিয়া আগুন। কন্যার পিতার\\nএত গুমর! কলি যে চারপোয়া হইয়া আসিল!\\nসকলে বলিল, “দেখি, মেয়ের বিয়ে দেন কেমন করিয়া।” কিন্তু মেয়ের বিয়ে হইবে না এ ভয় যার মনে নাই\\n\\nতার শাস্তির উপায় কী।\\n\\nসমস্ত বাংলাদেশের মধ্যে আমিই একমাত্র পুরুষ যাহাকে কন্যার বাপ বিবাহের আসর হইতে নিজে ফিরাইয়া\\nদিয়াছে। এত বড়ো সৎপাত্রের কপালে এত বড়ো কলঙ্কের দাগ কোন্\\u200c নষ্টগ্রহ এত আলো জ্বালাইয়া, বাজনা\\nবাজাইয়া, সমারোহ করিয়া আঁকিয়া দিল? বরযাত্রীরা এই বলিয়া কপাল চাপড়াইতে লাগিল যে, “বিবাহ হইল\\nনা অথচ আমাদের ফাকি দিয়া খাওয়াইয়া দিল--পাকষন্ত্রটাকে সমস্ত অন্নসুদ্ধ সেখানে টান মারিয়া ফেলিয়া\\nদিয়া আসিতে পারিলে তবে আফসোস মিটিত।\\'\\n\\n“বিবাহের চুক্তিভঙ্গ ও মানহানির দাবিতে নালিশ করিব\\' বলিয়া মামা অত্যন্ত গোল করিয়া বেড়াইতে লাগিলেন।\\nহিতৈষীরা বুঝাইয়া দিল, তাহা হইলে তামাশার যেটুকু বাকি আছে তাহা পুরা হইবে।\\n\\nবলা বাহুল্য, আমিও খুব রাগিয়াছিলাম। কোনো গতিকে শস্তুনাথ বিষম জব্দ হইয়া আমাদের পায়ে ধরিয়া\\nআসিয়া পড়েন, গোঁফের রেখায় তা দিতে দিতে এইটেই কেবল কামনা করিতে লাগিলাম।\\n\\nকিন্তু, এই আক্রোশের কালো রঙের স্রোতের পাশাপাশি আর-একটা স্রোত বহিতেছিল যেটার রঙ একেবারেই\\nকালো নয়। সমস্ত মন যে সেই অপরিচিতার পানে ছুটিয়া গিয়াছিল__এখনো যে তাহাকে কিছুতেই টানিয়া\\nফিরাইতে পারি না। দেয়ালটকুর আড়ালে রহিয়া গেল গো। কপালে তার চন্দন আঁকা, গায়ে তার লাল শাড়ি,\\nমুখে তার লজ্জার রক্তিমা, হৃদয়ের ভিতরে কী যে তা কেমন করিয়া বলিব।\\n\\n \\n\\x0c\\n\\n1750 26]\\nসী 11001\\nঅনলাইন ব্যাচ 10841439:\\n\\nবাংলা * ইংরেজি * আইসিটি\\n\\nনত হইয়া পড়িয়াছিল। হাওয়া আসে, গন্ধ পাই,\\nপাতার শব্দ শুনি-- কেবল আর একটিমাত্র পা\\nফেলার অপেক্ষা-_-এমন সময়ে সেই এক\\nপদক্ষেপের দুরত্বটুকু এক মুহর্তে অসীম হইয়া\\nউঠিল!\\n\\nএতদিন যে প্রতি সন্ধ্যায় আমি বিনুদাদার বাড়িতে\\nগিয়া তাহাকে অস্থির করিয়া তুলিয়াছিলাম! বিনুদার বর্ণনার ভাষা অত্যন্ত সংকীর্ণ বলিয়াই তীর প্রত্যেক কথাটি\\nস্ুলিঙ্গের মতো আমার মনের মাঝখানে আগুন জ্বালিয়া দিয়াছিল। বুঝিয়াছিলাম মেয়েটির রূপ বড়ো আশ্চর্য;\\nকিন্তু না দেখিলাম তাহাকে চোখে, না দেখিলাম তার ছবি, সমস্তই অস্পষ্ট হইয়া রহিল। বাহিরে তো সে ধরা\\nদিলই না, তাহাকে মনেও আনিতে পারিলাম না-_এইজন্য মন সেদিনকার সেই বিবাহসভার দেয়ালটার বাহিরে\\nভূতের মতো দীর্ঘনিশ্বাস ফেলিয়া বেড়াইতে লাগিল। হরিশের কাছে শুনিয়াছি, মেয়েটিকে আমার ফোটোগ্রাফ\\nদেখানো হইয়াছিল। পছন্দ করিয়াছে বই-কি। না করিবার তো কোনো কারণ নাই। আমার মন বলে, সে ছবি\\nতার কোনো-একটি বাক্সের মধ্যে লুকানো আছে। একলা ঘরে দরজা বন্ধ করিয়া এক- একদিন নিরালা\\nদুপুরবেলায় সে কি সেটি খুলিয়া দেখে না? যখন ঝুঁকিয়া পড়িয়া দেখে তখন ছবিটির উপরে কি তার মুখের\\nদুই ধার দিয়া এলোচুল আসিয়া পড়ে না? হঠাৎ বাহিরে কারও পায়ের শব্দ পাইলে সে কি তাড়াতাড়ি তার সুগন্ধ\\nআঁচলের মধ্যে ছবিটিকে লুকাইয়া ফেলে না?\\n\\nদিন যায়। একটা বৎসর গেল। মামা তো লজ্জায় বিবাহসম্বন্বের কথা তুলিতেই পারেন না। মার ইচ্ছা ছিল,\\nআমার অপমানের কথা যখন সমাজের লোকে ভুলিয়া যাইবে তখন বিবাহের চেষ্টা দেখিবেন।\\n\\nএ দিকে আমি শুনিলাম সে মেয়ের নাকি ভালো পাত্র জুটিয়াছিল, কিন্তু সে পণ করিয়াছে বিবাহ করিবে না।\\nশুনিয়া আমার মন পুলকের আবেশে ভরিয়া গেল। আমি কল্পনায় দেখিতে লাগিলাম, সে ভালো করিয়া খায় না;\\nসন্ধ্যা হইয়া আসে, সে চুল বাঁধিতে ভুলিয়া যায়। তার বাপ তার মুখের পানে চান আর ভাবেন, “আমার মেয়ে\\nদিনে দিনে এমন হইয়া যাইতেছে কেন।” হঠাৎ কোনোদিন তার ঘরে আসিয়া দেখেন, মেয়ের দুই চক্ষু জলে\\nভরা। জিজ্ঞাসা করেন, “মা, তোর কী হইয়াছে বল্\\u200c আমাকে ।” মেয়ে তাড়াতাড়ি চোখের জল মুছিয়া বলে, “কই,\\nকিছুই তো হয় নি বাবা।”বাপের এক মেয়ে যে-বড়ো আদরের মেয়ে। যখন অনাবৃষ্টির দিনে ফুলের কুঁড়িটির\\nমতো মেয়ে একেবারে বিমর্ষ হইয়া পড়িয়াছে তখন বাপের প্রাণে আর সহিল না। তখন অভিমান ভাসাইয়া দিয়া\\nতিনি ছুটিয়া আসিলেন আমাদের দ্বারে।\\n\\nতার পরে? তার পরে মনের মধ্যে সেই যে কালো রঙের ধারাটা বহিতেছে সে যেন কালো সাপের মতো রূপ\\nধরিয়া ফৌস করিয়া উঠিল। সে বলিল, “বেশ তো, আর-একবার বিবাহের আসর সাজানো হোক, আলো\\nজ্বলুক, দেশ-বিদেশের লোকের নিমন্ত্রণ হোক, তার পরে তুমি বরের টোপর পায়ে দলিয়া দলবল লইয়া সভা\\nছাড়িয়া চলিয়া এসো।” কিন্তু, যে ধারাটি চোখের জলের মতো শুভ্র সে রাজহংসের রূপ ধরিয়া বলিল, “যেমন\\nকরিয়া আমি একদিন দময়ন্তীর পুষ্পবনে গিয়াছিলাম, তেমনি করিয়া আমাকে একবার উড়িয়া যাইতে দাও-_\\n\\n \\n\\x0c\\n\\nস1৬।07ছ\\n10410\\nআমি বিরহিণীর কানে কানে একবার সুখের খবরটা দিয়া আসি গে।” তার পরে? তার পরে দুঃখের রাত\\nপোহাইল, নব-বর্ধার জল পড়িল, ল্লান ফুলটি মুখ তুলিল-_এবারে সেই দেয়ালটার বাহিরে রহিল সমস্ত পৃথিবীর\\nআর-সবাই, আর ভিতরে প্রবেশ করিল একটিমাত্র মানুষ। তার পরে? তার পরে আমার কথাটি ফুরালো।\\n\\nকিন্ত, কথা এমন করিয়া ফুরাইল না। যেখানে আসিয়া তাহা অফুরান হইয়াছে সেখানকার বিবরণ একটুখানি\\nবলিয়া আমার এ লেখা শেষ করিয়া দিই।\\n\\nমাকে লইয়া তীর্থে চলিয়াছিলাম। আমার উপরেই ভার ছিল। কারণ, মামা এবারেও হাবড়ার পুল পার হন\\nনাই। রেলগাড়িতে ঘুমাইতেছিলাম। ঝাঁকানি খাইতে খাইতে মাথার মধ্যে নানাপ্রকার এলোমেলো স্বপ্ের ঝুমঝুমি\\nবাজিতেছিল। হঠাৎ একটা কোন্\\u200c স্টেশনে জাগিয়া উঠিলাম। আলোতে অন্ধকারে মেশা সেও এক স্বপ। কেবল\\nআকাশের তারাগুলি চিরপরিচিত__-আর সবই অজানা অস্পষ্ট; স্টেশনের দীপ-কয়টা খাড়া হইয়া দীড়াইয়া\\nআলো ধরিয়া এই পৃথিবীটা যে কত অচেনা এবং যাহা চারি দিকে তাহা যে কতই বহু দূরে তাহাই দেখাইয়া\\nদিতেছে। গাড়ির মধ্যে মা ঘুমাইতেছেন; আলোর নীচে সবুজ পর্দা টানা; তোরঙ্গ বাক্স জিনিসপত্র সমস্তই কে\\nকার ঘাড়ে এলোমেলো হইয়া রহিয়াছে, তাহারা যেন স্বপ্নলোকের উলট-পালট আসবাব, সবুজ প্রদোষের\\nমিটমিটে আলোতে থাকা এবং না-থাকার মাঝখানে কেমন-একরকম হইয়া পড়িয়া আছে।\\n\\nএমন সময়ে সেই অদ্ভুত পথিবীর অদ্ভুত রাত্রে কে বলিয়া উঠিল, “শিগগির চলে আয়, এই গাড়িতে\\nজায়গা আছে।”\\n\\nমনে হইল, যেন গান শুনিলাম। সাধু সুরের গুতা করা পোকীধধুরভিহিষ মলি করিয়া অসময়ে\\nঅজায়গায় আচম্কা শুনিলে তবে সম্পূর্ণ বুঝিতে ূঁ\\nপারা যায়। কিন্তু, এই গলাটিকে কেবলমাত্র মেয়ের\\nগলা বলিয়া একটা শ্রেণীভুক্ত করিয়া দেওয়া চলে\\nনা, এ কেবল একটি-মানুষের গলা; শুনিলেই মন\\n\\nবলিয়া ওঠে,চিরকাল গলার স্বর আমার কাছে ৃ ২\\nবড়ো সত্য। রূপ জিনিসটি বড়ো কম নয়, কিন্তু মানুষের মধ্যে যাহা অন্তরতম এবং অনির্বচনীয়, আমার মনে হয়\\nকণ্ঠস্বর যেন তারই চেহারা। আমি তাড়াতাড়ি গাড়ির জানলা খুলিয়া বাহিরে মুখ বাড়াইয়া দিলাম, কিছুই\\nদেখিলাম না। প্ল্যাটফর্মের অন্ধকারে দীড়াইয়া গার্ড তাহার একচস্ষু লণ্ঠন নাড়িয়া দিল, গাড়ি চলিল; আমি\\nজানলার কাছে বসিয়া রহিলাম। আমার চোখের সামনে কোনো মূর্তি ছিল না, কিন্তু হৃদয়ের মধ্যে আমি একটি\\nহৃদয়ের রূপ দেখিতে লাগিলাম।\\n\\nসে যেন এই তারাময়ী রাত্রির মতো, আবৃত করিয়া ধরে কিন্তু তাহাকে ধরিতে পারা যায় না। ওগো সুর, অচেনা\\nকণ্ঠের সুর, এক নিমেষে তুমি যে আমার চিরপরিচয়ের আসনটির উপরে আসিয়া বসিয়াছ। কী আশ্চর্য পরিপূর্ণ\\nতুমি - চঞ্চল কালের ক্ষুন্ধ হৃদয়ের উপরে ফুলটির মতো ফুটিয়াছ, অথচ তার ঢেউ লাগিয়া একটি পাপড়িও\\nটলে নাই, অপরিমেয় কোমলতায় এতটুকু দাগ পড়ে নাই।\\n\\n \\n\\x0c\\n\\n05026.\\nত্ললাইল ভ্রয়নটা\" 1110)\\n19৫10\\n\\nসে যেন এই তারাময়ী রাত্রির মতো, আবৃত করিয়া ধরে কিন্তু তাহাকে ধরিতে পারা যায় না। ওগো সুর, অচেনা\\nকগ্চের সুর, এক নিমেষে তুমি যে আমার চিরপরিচয়ের আসনটির উপরে আসিয়া বসিয়াছ।\\n\\nকী আশ্চর্য পরিপূর্ণ তুমি - চঞ্চল কালের ক্ষুন্ধ হৃদয়ের উপরে ফুলটির মতো ফুটিয়াছ, অথচ তার\\n\\nঢেউ লাগিয়া একটি পাপড়িও টলে নাই, অপরিমেয় কোমলতায় এতটুকু দাগ পড়ে নাই।\\n\\nগাড়ি লোহার মৃদঙ্গে তাল দিতে দিতে চলিল; আমি মনের মধ্যে গান শুনিতে শুনিতে চলিলাম। তাহার একটিমাত্র\\nধুয়া- “গাড়িতে জায়গা আছে।” আছে কি, জায়গা আছে কি। জায়গা যে পাওয়া যায় না, কেউ যে কাকেও চেনে\\nনা। অথচ সেই না-চেনাটুকু যে কুয়াশামাত্র, সে যে মায়া, সেটা ছিন্ন হইলেই যে চেনার আর অন্ত নাই। ওগো\\nসুধাময় সুর, যে হৃদয়ের অপরূপ রূপ তুমি, সে কি আমার চিরকালের চেনা নয়। জায়গা আছে আছে-শীঘ্ৰ\\nআসিতে ভাকিয়াছ, শীঘ্রই আসিয়াছি, এক নিমেষও দেরি করি নাই।\\n\\nপরদিন সকালে একটা বড়ো স্টেশনে গাড়ি বদল করিতে হইবে। আমাদের ফার্স্ট ক্লাসের টিকিট-_-মনে আশা\\nছিল, ভিড় হইবে না। নামিয়া দেখি, প্ল্যাটফর্মে সাহেবদের আর্দালি-দল আসবাবপত্র লইয়া গাড়ির জন্য অপেক্ষা\\nকরিতেছে। কোন এক ফৌজের বড়ো জেনারেল সাহেব ভ্রমণে বাহির হইয়াছেন। দুই-তিন মিনিট পরেই গাড়ি\\nআসিল। বুঝিলাম, ফার্্ট ক্লাসের আশা ত্যাগ করিতে হইবে। মাকে লইয়া কোন গাড়িতে উঠি সে এক বিষম\\nভাবনায় পড়িলাম। সব গাড়িতেই ভিড়। দ্বারে দ্বারে উঁকি মারিয়া বেড়াইতে লাগিলাম। এমন সময় সেকেন্ড\\nক্লাসের গাড়ি হইতে একটি মেয়ে আমার মাকে লক্ষ্য করিয়া বলিলেন, “আপনারা আমাদের গাড়িতে আসুন\\nনা__এখানে জায়গা আছে।”\\n\\nআমি তো চমকিয়া উঠিলাম। সেই আশ্চর্যমধুর\\nকণ্ঠ এবং সেই গানেরই ধুয়া- “জায়গা আছে।”\\nক্ষণমাত্র বিলম্ব না করিয়া মাকে লইয়া গাড়িতে\\nউঠিয়া পড়িলাম। জিনিসপত্র তুলিবার প্রায় সময়\\nছিল না। আমার মতো অক্ষম দুনিয়ায় নাই।\\nচল্তি গাড়িতে আমাদের বিছানাপত্র টানিয়া লইল। আমার একটা ফোটোৌগ্রাফ তুলিবার ক্যামেরা স্টেশনেই\\nপড়িয়া রহিল - গ্রাহ্ই করিলাম না।\\n\\nতার পরে - কী লিখিব জানি না। আমার মনের মধ্যে একটি অখন্ড আনন্দের ছবি আছে - তাহাকে কোথায় শুরু\\nকরিব, কোথায় শেষ করিব? বসিয়া বসিয়া বাক্যের পর বাক্য যোজনা করিতে ইচ্ছা করে না। এবার সেই\\nসুরটিকে চোখে দেখিলাম; তখনো তাহাকে সুর বলিয়াই মনে হইল। মায়ের মুখের দিকে চাহিলাম; দেখিলাম\\nতার চোখে পলক পড়িতেছে না। মেয়েটির বয়স ষোলো কি সতেরো হইবে, কিন্তু নবযৌবন ইহার দেহে মনে\\nকোথাও যেন একটুও ভার চাপাইয়া দেয় নাই। ইহার গতি সহজ, দীপ্তি নির্মল, সৌন্দর্যের শুচিতা অপূর্ব, ইহার\\nকোন জায়গায় কিছু জড়িমা নাই।\\n\\nআমি দেখিতেছি, বিস্তারিত করিয়া কিছু বলা আমার পক্ষে অসম্ভব। এমন-কি, সে যে কী রঙের কাপড় কেমন\\nকরিয়া পরিয়াছিল তাহাও ঠিক করিয়া বলিতে পারিব না। এটা খুব সত্য যে, তার বেশে ভূষায় এমন কিছুই ছিল\\n\\n \\n\\n14\\n\\x0c\\n\\n05026.\\nত্ললাইল ভ্রয়নটা\" 1110)\\n19৫10\\n\\nনা যেটা তাহাকে ছাড়াইয়া বিশেষ করিয়া চোখে পড়িতে পারে। সে নিজের চারি দিকের সকলের চেয়ে অধিক -\\nরজনীগন্ধার শুভ্র মঞ্জরীর মতো সরল বৃন্তটির উপরে দীড়াইয়া, যে গাছে ফুটিয়াছে সে গাছকে সে একেবারে\\nঅতিক্রম করিয়া উঠিয়াছে। সঙ্গে দুটি-তিনটি ছোটো ছোটো মেয়ে ছিল, তাহাদিগকে লইয়া তাহার হাসি এবং\\nকথার আর অন্ত ছিল না। আমি হাতে একখানা বই লইয়া সে দিকে কান পাতিয়া রাখিয়াছিলাম। যেটুকু কানে\\nআসিতেছিল সে তো সমস্তই ছেলেমানুষদের সঙ্গে ছেলেমানুষি কথা। তাহার বিশেষত্ব এই যে, তাহার মধ্যে\\nবয়সের তফাত কিছুমাত্র ছিল না- ছোটোদের সঙ্গে সে অনায়াসে এবং আনন্দে ছোটো হইয়া গিয়াছিল। সঙ্গে\\nকতকগলি ছবিওয়ালা ছেলেদের গল্পের বই-তাহারই কোন একটা বিশেষ গল্প শোনাইবার জন্য মেয়েরা তাহাকে\\nধরিয়া পড়িল। এ গল্প নিশ্চয় তারা বিশ-পঁচিশ বার শনিয়াছে। মেয়েদের কেন যে এত আগ্রহ তাহা বুঝিলাম।\\nসেই সুধাক্ঠের সোনার কাঠিতে সকল কথা যে সোনা হইয়া ওঠে। মেয়েটির সমস্ত শরীর মন যে একেবারে\\nপ্রাণে ভরা, তার সমস্ত চলায় বলায় স্পর্শে প্রাণ ঠিকরিয়া ওঠে।\\n\\nতাই মেয়েরা যখন তার মুখে গল্প শোনে তখন, গল্প নয়, তাহাকেই শোনে; তাহাদের হৃদয়ের উপর প্রাণের ঝর্না\\nঝরিয়া পড়ে।\\n\\nতার সেই উদ্ভাসিত প্রাণ আমার\\n\\nতুলিল; আমার মনে হইল, আমাকে যে প্রকৃতি\\nতাহার আকাশ দিয়া বেষ্টন করিয়াছে সে এ\\nতরুণীরই অক্রান্ত অল্লান প্রাণের বিশ্বব্যাপী\\nবিস্তার।--পরের স্টেশনে পৌঁছিতেই খাবারওয়ালাকে ডাকিয়া সে খুব খানিকটা চানা-মুঠ কিনিয়া লইল এবং\\nলাগিল। আমার প্রকৃতি যে জাল দিয়া বেড়া_আমি কেন বেশ সহজে হাসিমুখে মেয়েটির কাছে এই চানা\\nএকমুঠো চাহিয়া লইতে পারিলাম না। হাত বাড়াইয়া দিয়া কেন আমার লোভ স্বীকার করিলাম না।\\n\\nমা ভালো-লাগা এবং মন্দ-লাগার মধ্যে দোমনা হইয়া ছিলেন। গাড়িতে আমি পুরুষমানুষ, তবু ইহার কিছুমাত্র\\nসংকোচ নাই, বিশেষত এমন লোভীর মতো খাইতেছে, সেটা ঠিক তার পছন্দ হইতেছিল না; অথচ ইহাকে\\nবেহায়া বলিয়াও তার ভ্রম হয় নাই। তার মনে হইল, এ মেয়ের বয়স হইয়াছে কিন্তু শিক্ষা হয় নাই। মা হঠাৎ\\nকারও সঙ্গে আলাপ করিতে পারেন না। মানুষের সঙ্গে দূরে দূরে থাকাই তার অভ্যাস। এই মেয়েটির পরিচয়\\nলইতে তার খুব ইচ্ছা, কিন্তু স্বাভাবিক বাধা কাটাইয়া উঠিতে পারিতেছিলেন না।\\n\\nএমন সময়ে গাড়ি একটা বড়ো স্টেশনে আসিয়া থামিল। সেই জেনারেল-সাহেবের একদল অনুসঙ্গী এই স্টেশন\\nহইতে উঠিবার উদ্যোগ করিতেছে। গাড়িতে কোথাও জায়গা নাই।\\n\\nবারবার আমাদের গাড়ির সামনে দিয়া তারা ঘ্ুুরিয়া গেল। মা তো ভয়ে আড়ষ্ট, আমিও মনের মধ্যে শান্তি\\nপাইতেছিলাম না।\\n\\nগাড়ি ছাড়িবার অল্পসকাল-পূর্বে একজন দেশী রেলওয়ে কর্মচারী নাম-লেখা দুইখানা টিকিট গাড়ির দুই বেঞ্চের\\nশিয়রের কাছে লট্কাইয়া দিয়া আমাকে বলিল, “এ গাড়ির এই দুই বেঞ্চ আগে হইতেই দুই সাহেব রিজার্ভ\\nকরিয়াছেন, আপনাদিগকে অন্য গাড়িতে যাইতে হইবে।”\\n\\n \\n\\x0c\\n\\n1750 26]\\nঅনলাইন ব্যাচ” ৯1৬1106\\n10841439:\\n\\nআমি তো তাড়াতাড়ি ব্যস্ত হইয়া দীড়াইয়া উঠিলাম। মেয়েটি হিন্দিতে বলিল, “না, আমরা গাড়ি ছাড়িব না।”\\nসে লোকটি রোখ করিয়া বলিল, “না ছাড়িয়া উপায় নাই।”\\n\\nকিন্ত, মেয়েটির চলিফ্ুতার কোনো লক্ষণ না দেখিয়া সে নামিয়া গিয়া ইংরেজ স্টেশন-মাস্টারকে ডাকিয়া\\nআনিল। সে আসিয়া আমাকে বলিল, “আমি দুঃখিত, কিন্তু-”\\n\\nশুনিয়া আমি “কুলি কুলি\" করিয়া ডাক ছাড়িতে লাগিলাম। মেয়েটি উঠিয়া দুই চক্ষে অগ্নিবর্ষণ করিয়া বলিল,\\n“না, আপনি যাইতে পারিবেন না, যেমন আছেন বসিয়া থাকুন।”\\n\\nবলিয়া সে দ্বারের কাছে দীড়াইয়া স্টেশনমাস্টারকে ইংরেজি ভাষায় বলিল, “এ গাড়ি আগে হইতে রিজার্ভ\\nকরা, এ কথা মিথ্যা কথা।” বলিয়া নাম লেখা টিকিটটি খুলিয়া প্ল্যাটফর্মে ছুঁড়িয়া ফেলিয়া দিল।\\n\\nবলিয়া সে দ্বারের কাছে দীড়াইয়া স্টেশনমাস্টারকে ইংরেজি ভাষায় বলিল, “এ গাড়ি আগে হইতে রিজার্ভ\\nকরা, এ কথা মিথ্যা কথা।” বলিয়া নাম লেখা টিকিটটি খুলিয়া প্ল্যাটফর্মে ছুঁড়িয়া ফেলিয়া দিল।\\n\\nবলিয়া সে দ্বারের কাছে দীড়াইয়া\\nস্টেশনমাস্টারকে ইংরেজি ভাষায় বলিল, “এ গাড়ি\\nআগে হইতে রিজার্ভ করা, এ কথা মিথ্যা কথা।”\\nবলিয়া নাম লেখা টিকিটটি খুলিয়া প্ল্যাটফর্মে\\nছুঁড়িয়া ফেলিয়া দিল।\\n\\nইতিমধ্যে আর্দালি-সমেত ইউনিফর্ম-পরা সাহেব\\nদ্বারের কাছে আসিয়া দীড়াইয়াছে। গাড়িতে সে তার আসবাব উঠাইবার জন্য আর্দালিকে প্রথমে ইশারা\\nকরিয়াছিল। তাহার পরে মেয়েটির মুখে তাকাইয়া, তার কথা শুনিয়া, ভাব দেখিয়া, স্টেশন-মাস্টারকে একটু\\nস্পর্শ করিল এবং তাহাকে আড়ালে লইয়া গিয়া কী কথা হইল জানি না। দেখা গেল,\\n\\nগাড়ি ছাড়িবার সময় অতীত হইলেও আর-একটা\\n\\nগাড়ি জুড়িয়া তবে ট্রেন ছাড়িল।\\n\\nমেয়েটি তার দলবল লইয়া আবার এক পত্তন চানা-\\n\\nমুঠ খাইতে শুরু করিল, আর আমি লজ্জায়\\n\\nজানলার বাহিরে মুখে বাড়াইয়া প্রকৃতির শোভা দেখিতে লাগিলাম।\\n\\nকানপুরে গাড়ি আসিয়া থামিল। মেয়েটি জিনিসপত্র বাঁধিয়া প্রস্তত-স্টেশনে একটি হিন্দুস্থানি চাকর ছুটিয়া\\nআসিয়া ইহাদিগকে নামাইবার উদ্যোগ করিতে লাগিল।\\n\\nমা তখন আর থাকিতে পারিলেন না। জিজ্ঞাসা করিলেন, “তোমার নাম কী মা।”\\n\\nমেয়েটি বলিল, “আমার নাম কল্যাণী।\"\\n\\nশুনিয়া মা এবং আমি দুজনেই চমকিয়া উঠিলাম।\\n\\n“তিনি এখানকার ডাক্তার, তাহার নাম শস্তুনাথ সেন।”\\n\\nতার পরেই সবাই নামিয়া গেল।\\n\\n \\n\\x0c\\n\\n05026.\\nত্ললাইল ভ্রয়নটা\" 1110)\\n19৫10\\n\\nমামার নিষেধ অমান্য করিয়া, মাতৃ-আজ্ঞা ঠেলিয়া, তার পরে আমি কানপুরে আসিয়াছি। কল্যাণীর বাপ এবং\\nকল্যাণীর সঙ্গে দেখা হইয়াছে। হাত জোড় করিয়াছি, মাথা হেট করিয়াছি; শস্তুনাথবাবুর হৃদয় গলিয়াছে।\\nকল্যাণী বলে, “আমি বিবাহ করিব না।”\\n\\nআমি জিজ্ঞাসা করিলাম, “কেন।”\\n\\nসে বলিল, “মাতৃ-আজ্ঞা।”\\n\\nকী সর্বনাশ। এ পক্ষেও মাতুল আছে নাকি।\\n\\nতার পরে বুঝিলাম, মাতৃভূমি আছে। সেই বিবাহ-ভাঙার পর হইতে কল্যাণী মেয়েদের শিক্ষার ব্রত গ্রহণ\\nকরিয়াছে।\\n\\nকিন্ত, আমি আশা ছাড়িতে পারিলাম না। সেই সুরটি যে আমার হৃদয়ের মধ্যে আজও বাজিতেছে--সে যেন\\nকোন ওপারের বাঁশি- আমার সংসারের বাহির হইতে আসিল - সমস্ত সংসারের বাহিরে ডাক দিল। আর, সেই-\\nযে রাত্রির অন্ধকারের মধ্যে আমার কানে আসিয়াছিল “জায়গা আছে” , সে যে আমার চিরজীবনের গানের\\nধুয়া হইয়া রহিল। তখন আমার বয়স ছিল তেইশ, এখন হইয়াছে সাতাশ। এখনো আশা ছাড়ি নাই, কিন্তু\\nমাতুলকে ছাড়িয়াছি। নিতান্ত এক ছেলে বলিয়া মা আমাকে ছাড়িতে পারেন নাই।\\n\\nতোমরা মনে করিতেছ, আমি বিবাহের আশা করি? না, কোনো কালেই না। আমার মনে আছে, কেবল সেই এক\\nরাত্রির অজানা কণ্ঠের মধুর সুরের আশা-জায়গা আছে। নিশ্চয়ই আছে। নইলে দীড়াব কোথায়। তাই বৎসরের\\nপর বৎসর যায় আমি এইখানেই আছি। দেখা হয়, সেই কণ্ঠ শুনি, যখন সুবিধা পাই কিছু তার কাজ করিয়া দিই\\n- আর মন বলে, এই তো জায়গা পাইয়াছি। ওগো অপরিচিতা, তোমার পরিচয়ের শেষ হইল না, শেষ হইবে না;\\nকিন্তু ভাগ্য আমার ভালো, এই তো আমি জায়গা পাইয়াছি।\\n\\x0c\\n\\n[লল্দনে ৯\\nঅনলাইন ব্যাচ\\n\\n] ৯1৬11015\\n50172901-\\n\\n \\n\\nপ্রকৃত নাম: রবীন্দ্রনাথ ঠাকুর।\\nছদ্মনাম: ভানুসিংহ ঠাকুর।\\n\\n \\n\\nজন্ম তারিখ: ৭ মে, ১৮৬১ খিষ্টাব্দ (২৫ বৈশাখ,\\n১২৬৮ বঙ্গাব্দ)\\nজন্মস্থান: জোড়ার্সাকো, কলকাতা, ভারত।\\n\\n \\n\\nপিতার নাম: মহর্ষি দেবেন্দ্রনাথ ঠাকুর।\\nমাতার নাম: সারদা দেবী।\\nপিতামহের নাম: প্রিন্স দ্বারকানাথ ঠাকুর।\\n\\nরবীন্দ্রনাথ বাল্যকালে ওরিয়েন্টাল সেমিনারি, নর্মাল স্কুল, বেঙ্গল একাডেমি, সেন্ট\\nজেভিয়ার্স স্কুল প্রভৃতি শিক্ষা প্রতিষ্ঠানে অধ্যয়ন করলেও স্কুলের পাঠ শেষ করতে\\nপারেননি। ১৭ বছর বয়সে ব্যারিস্টারি পড়তে ইংল্যান্ড গেলেও কোর্স সম্পন্ন করা\\nসম্ভব হয়নি। তবে গৃহশিক্ষকের কাছ থেকে জ্ঞানার্জনে তার কোনো ত্রুটি হয়নি।\\n\\n \\n\\n১৮৮৪ খ্রিস্টাব্দ থেকে রবীন্দ্রনাথ তার পিতার আদেশে বিষয়কর্ম পরিদর্শনে নিযুক্ত হন\\nএবং ১৮৯০ খিিস্টাব্দ থেকে দেশের বিভিন্ন অঞ্চলে জমিদারি দেখাশুনা করেন। এ\\nসূত্রে তিনি কুষ্টিয়ার শিলাইদহ ও সিরাজগঞ্জের শাহজাদপুরে দীর্ঘ সময় অবস্থান\\nকরেন। তিনি ছিলেন অনন্য চিত্রশিল্পী, অনুসন্ধিৎসু বিশ্বপরিব্রাজক, দক্ষ সম্পাদক\\nএবং অসামান্য শিক্ষা-সংগঠক ও চিন্তক। নিজে প্রাতিষ্ঠানিক শিক্ষাগ্রহণে নিরুৎসাহী\\nহলেও \\'বিশ্বভারতী\\' নামের বিশ্ববিদ্যালয়ের তিনি স্বাপ্িক ও প্রতিষ্ঠাতা।\\n\\n \\n\\nকাব্যগ্রন্থ: মানসী, সোনার তরী, চিত্রা, চৈতালি, ক্ষণিকা, নৈবেদ্য, গীতাঞ্জলি, বলাকা,\\nউল্লেখযোগ্য।\\n\\nউপন্যাস: চোখের বালি, গোরা, ঘরে-বাইরে, চতুরঙ্গ, নৌকাডুবি, যোগাযোগ, রাজর্ষি,\\nশেষের কবিতা প্রভৃতি!\\n\\nরক্তকরবী, রাজা প্রভৃতি ।\\n\\nপ্রবন্ধগ্রন্থ: বিচিত্র প্রবন্ধ, শিক্ষা, কালান্তর, সভ্যতার সংকট ইত্যাদি।\\n\\nভ্রমণকাহিনী: জাপানযাত্রী, পথের সঞ্চয়, পারস্য, রাশিয়ার চিঠি, যুরোপ যাত্রীর\\nডায়েরী, যুরোপ প্রবাসীর পত্র প্রভৃতি।\\n\\n \\n\\n\\'গীতাঞ্জলি\\' এবং অন্যান্য কাব্যের কবিতার সমন্বয়ে স্বঅনুদিত 5010 0166611705\\n\\n \\n\\n \\n\\nপুরষ্কার ও গ্রন্থের জন্য প্রথম এশীয় হিসেবে, নোবেল পুরস্কার (১৯১৩), কলকাতা বিশ্ববিদ্যালয়\\nসম্মাননা কর্তৃক ডি-লিট (১৯১৩), ঢাকা বিশ্ববিদ্যালয় কর্তৃক ভি-লিট (১৯৩৬), অক্সফোর্ড\\nবিশ্ববিদ্যালয় কর্তৃক ভি-লিট (১৯৪০)।\\nজীবনাবসান ৭ আগস্ট, ১৯৪১ খ্রিস্টাব্দ (২২ শ্রাবণ, ১৩৪৮ বঙ্গাব্দ), জোড়ার্সাকোর ঠাকুরবাড়িতে।\\n\\n \\n\\x0c\\n\\n05026.\\nত্ললাইল ভ্রয়নটা\" 1110)\\n19৫10\\n\\nপাঠ পরিচিতি\\n\\n“অপরিচিতা” প্রথম প্রকাশিত হয় প্রমথ চৌধুরী সম্পাদিত মাসিক \\'সবুজপত্র\\' পত্রিকার ১৩২১ বঙ্গাব্দের\\n(১৯১৪) কার্তিক সংখ্যায়। এটি প্রথম গ্রন্থভুক্ত হয় রবীন্দ্রগল্পের সংকলন \\'গল্পসপ্তক\\'-এ এবং পরে, \\'গল্পগুচ্ছ\\'\\nতৃতীয় খণ্ডে (১৯২৭)। “অপরিচিতা” গল্পে অপরিচিতা বিশেষণের আড়ালে যে বলিষ্ঠ ব্যক্তিত্বের অধিকারী\\nনারীর কাহিনি বর্ণিত হয়েছে, তার নাম কল্যাণী। অমানবিক যৌতুক প্রথার নির্মম বলি হয়েছে এমন নারীদের\\nগল্প ইতঃপূর্বে রচনা করেছিলেন রবীন্দ্রনাথ। কিন্তু এই গল্পেই প্রথম যৌতুক প্রথার বিরুদ্ধে নারী-পুরুষের\\nসম্মিলিত প্রতিরোধের কথকতা শোনালেন তিনি। এ গল্পে পিতা শস্তুনাথ সেন এবং কন্যা কল্যাণীর স্বতন্ত্রবীক্ষা ও\\nআচরণে সমাজে গেড়ে-বসা ঘৃণ্য যৌতুক প্রথা প্রতিরোধের সম্মুখীন হয়েছে। পিতার বলিষ্ঠ প্রতিরোধ এবং\\nকল্যাণীর দেশচেতনায় খদ্ধ ব্যক্তিত্বের জাগরণ ও তার অভিব্যক্তিতে গল্পটি স্বার্থক। “অপরিচিতা” উত্তম\\nপুরুষের জবানিতে লেখা গল্প। গল্পের কথক অনুপম বিশ শতকের দ্বিতীয় দশকের যুদ্ধসংলগ্ন সময়ের সেই\\nবাঙালি যুবক, যে বিশ্ববিদ্যালয়ের উচ্চতর উপাধি অর্জন করেও ব্যক্তিত্বরহিত, পরিবারতন্ত্রের কাছে অসহায়\\nপুতুলমাত্র। তাকে দেখলে আজো মনে হয়, সে যেন মায়ের কোলসংলগ্ন শিশুমাত্র। তারই বিয়ে উপলক্ষ্যে যৌতুক\\nনিয়ে নারীর চরম অবমাননাকালে শস্তুনাথ সেনের কন্যা-সম্প্রদানে অসম্মতি গল্পটির শীর্ষ মুহূর্ত। অনুপম নিজের\\nগল্প বলতে গিয়ে ব্যা্গার্থে জানিয়ে দিয়েছে সেই অঘটন সংঘটনের কথাটি। বিয়ের লগ্ন যখন প্রস্তুত তখন কন্যার\\nলগ্ন্রষন্ট হওয়ার লৌকিকতাকে অগ্রাহ্য করে শস্তুনাথ সেনের নির্বিকার অথচ বলিষ্ঠ প্রত্যাখ্যান নতুন এক সময়ের\\nআশু আবির্ভাবকেই সংকেতবহ করে তুলেছে। কর্মীর ভূমিকায় বলিষ্ঠ ব্যক্তিত্বের জাগরণের মধ্য দিয়ে গল্পের\\nশেষাংশে কল্যাণীর শুচিশুত্র আত্মপ্রকাশও ভবিষ্যতের নতুন নারীর আগমনীর ইঙ্গিতে পরিসমাপ্ত। “অপরিচিতা\\'\\nমনস্তাপে ভেঙেপড়া এক ব্যক্তিত্বহীন যুবকের স্বীকারোক্তির গল্প, তার পাপস্মালনের অকপট কথামালা।\\nঅনুপমের আত্মবিবৃতির সূত্র ধরেই গল্পের নারী কল্যাণী অসামান্য হয়ে উঠেছে। গল্পটিতে পুরুষতন্ত্রের\\nঅমানবিকতার স্ফুরণ যেমনঘটেছে, তেমনি একই সঙ্গে পুরুষের ভাষ্বে নারীর প্রশস্তিও কীর্তিত হয়েছে।\\n\\x0c\\n\\nআব্বা 10117\\n\\n50110901\\n14554480)\\nবহুনির্বাচনী\\n১। অনুপমের বাবা কী করে জীবিকা নির্বাহ করতেন?\\n(ক) ডাক্তারি (খ) ওকালতি (গ) মাস্টারি (ঘ) ব্যবসা উত্তর: খ\\n২। মামাকে ভাগ্য দেবতার প্রধান এজেন্ট বলার কারণ, তার-\\n(ক) প্রতিপত্তি (খ) প্রভাব (গ) বিচক্ষণতা (ঘ) কুট বুদ্ধি উত্তর: খ\\n৩। দীপুর চাচার সঙ্গে “অপরিচিতা\\' গল্পের কোন চরিত্রের মিল আছে?\\n(ক) হরিশের (খ) মামার (গ) শিক্ষকের (ঘ) বিনুর উত্তর: খ\\n\\nব্যাখ্যা: অনুপমের পিতার মৃত্যুর পর তার মামাই তাদের পরিবারের দায়িত্ব নেন। পরিবারে তার প্রভাবের\\nকথা বোঝাতেই অনুপম মামাকে \\'ভাগ্যদেবতার প্রধান এজেন্ট\\' বলে ।\\n\\nনিচের উদ্দীপকটি পড়ে ৩ ও ৪ সংখ্যক প্রশ্নের উত্তর দাও।\\n\\nপিতৃহীন দীপুর চাচাই ছিলেন পরিবারের কর্তা। দীপু শিক্ষিত হলেও তার সিদ্ধান্ত নেওয়ার ক্ষমতা ছিল না৷\\nচাচা তার বিয়ের উদ্যোগ নিলেও যৌতুক নিয়ে বাড়াবাড়ি করার কারণে কন্যার পিতা অপমানিত বোধ করে\\nবিয়ের আলোচনা ভেঙে দেন। দীপু মেয়েটির ছবি দেখে মুগ্ধ হলেও তার চাচাকে কিছুই বলতে পারেননি।\\n\\n৩। দীপুর চাচার সঙ্গে “অপরিচিতা\\' গল্পের কোন চরিত্রের মিল আছে?\\n\\n(ক) হরিশের (খ) মামার (গ) শিক্ষকের (ঘ) বিনুর উত্তর: খ\\n\\nব্যাখ্যা: দীপুর চাচা ও “অপরিচিতা\\' গল্পের অনুপমের মামার লোভ সীমাহীন। তারা উভয়েই যৌতুকলোভী।\\nএই লোভী মানসিকতার দিক দিয়ে তাদের মধ্যে মিল রয়েছে।\\n\\n৪। উক্ত চরিত্রে প্রাধান্য পেয়েছে-\\n\\n(ক)।,1 (খ) 1,101 (গ)।, || (ঘ)।,11, 11 উত্তর: খ\\n\\n20\\n\\x0c\\n\\n05026.\\nত্ললাইল ভ্রয়নটা\" 1110)\\n19৫10\\n\\nসৃজনশীল প্রশ্ন\\n\\nপ্রশ্ন- ১: মা মরা ছোট মেয়ে লাবনি আজ শ্বশুরবাড়ি যাবে। সুখে থাকবে এই আশায় দরিদ্র কৃষক লতিফ মিয়া\\nআবাদের সামান্য জমিটুকু বন্ধক রেখে পণের টাকা যোগাড় করলেন। কিন্তু তাতেও কিছু টাকার ঘাটতি রয়ে\\nগেল। এদিকে বর পারভেজের বাবা হারুন মিয়ার এক কথা সম্পূর্ণ টাকা না পেলে তিনি ছেলেকে নিয়ে চলে\\nযাবেন। বিষয়টি পারভেজের কানে গেলে সে বাপকে সাফ জানিয়ে দেয়, \\'সে দরদাম বা কেনাবেচার পণ্য নয়।\\nসে একজন মানুষকে জীবনসঙ্গী করতে এসেছে, অপমান করতে নয়। ফিরতে হলে লাবনিকে সঙ্গে নিয়েই বাড়ি\\nফিরবে।\\'\\n\\nক. শস্তুনাথ সেকরার হাতে কী পরখ করতে দিয়েছিলেন?\\n\\nখ. \\'বাংলাদেশের মধ্যে আমিই একমাত্র পুরুষ যাহাকে কন্যার বাপ বিবাহের আসর হইতে নিজে\\nফিরাইয়া দিয়াছে\\' বলতে কী বোঝানো হয়েছে?\\n\\nগ. অনুপম ও পারভেজের চারিত্রিক বৈশিষ্ট্যের বৈপরীত্য ব্যাখ্যা কর।\\n\\nঘ. অনুপমের মামা ও হারুন মিয়ার মতো মানুষের কারণে আজও কল্যাণী ও লাবনিরা অপমানের\\nশিকার হয়- মন্তব্যটির যাথার্থতা নিরূপণ কর।\\n\\nসমাধান:\\nক. শস্তুনাথ সেকরার হাতে একজোড়া এয়ারিং পরখ করতে দিয়েছিলেন।\\n\\nখ. \\'বাংলাদেশের মধ্যে আমিই একমাত্র পুরুষ যাহাকে কন্যার বাপ বিবাহ আসর হইতে নিজে ফিরাইয়া দিয়াছে\\'\\nবলতে অনুপমের আক্ষেপ ও অসহায়ত্বকে বোঝানো হয়েছে।\\n\\nবাংলাদেশে বিয়েতে প্রায়শই দেখা যায় যে, প্রতিশ্রুত ও প্রদত্ত যৌতুকের অসংগতির কারণে বরের বাবা বিয়েতে\\nঅসম্মতি জানায়। কিন্তু অনুপমের ক্ষেত্রে এর বিপরীত ঘটনা ঘটেছে। তার মামার যৌতুক গ্রহণের প্রবণতা,\\nলোভ এবং হীন মানসিকতার পরিচয় পেয়ে শস্তুনাথ সেন মেয়ের আশীর্বাদের এয়ারিং ফিরিয়ে দেন এবং বিয়ে\\nভেঙে দেন। এতে অনুপমের মনে হয়েছে শস্তুনাথ বাবু যেন বর অনুপমকেই বিয়ের আসর থেকে ফিরিয়ে\\nদিয়েছেন যা বাংলাদেশে বিরল ঘটনা।\\n\\nগ. অপরিচিতা\\' গল্পের অনুপম ও উদ্দীপকের পারভেজের চারিত্রিক বৈশিষ্ট্যে বৈপরীত্য দেখা যায়।\\n\\nঅনেক যুবক আছে যারা উচ্চশিক্ষিত হলেও তাদের মানস সুগঠিত নয়। তারা নিজেদের সিদ্ধান্ত নিজেরা নিতে\\nপারে না। পরিবারতন্ত্রের চাপে সিদ্ধান্তের জন্য পরিবারের কর্তাব্ক্তিদের ওপর নির্ভর করতে হয়। তাই বিয়ের\\nমতো গুরুত্বপূর্ণ সিদ্ধান্তের ক্ষেত্রেও তারা পরিবারের পছন্দ-অপছন্দের ওপর নির্ভর করে।\\n\\nউদ্দীপকের পারভেজ স্পষ্টবাদী ও ব্যক্তিত্ববান। সে নিজের সিদ্ধান্ত নিজে নিতে পারে। এ কারণেই সে\\nযৌতুকলোভী বাবার কথার বাইরে গিয়ে বিয়ের কথা বলেছে। সে কোনো দরদাম বা বেচাকেনার পণ্য নয়।\\nসেএকজনকে জীবনসঙ্গী করতে এসেছে, অপমান করতে নয়। \\'অপরিচিতা\\' গল্পের অনুপমও শিক্ষিত, মার্জিত।\\n\\n21\\n\\x0c\\n\\n05026.\\nত্ললাইল ভ্রয়নটা\" 1110)\\n19৫10\\n\\nকিন্তু স্পষ্ট কথা বলার মতো সাহস তার নেই। নিজের সিদ্ধান্ত সে নিজে নিতে পারে না। সেকরা দিয়ে গহনা\\nযাচাই যে কনেপক্ষের অপমান তা অনুপম বুঝতে পারে না। এতে তার ব্যক্তিত্বহীনতার চরম প্রকাশ লক্ষ করা\\nযায়। এসব দিক বিচারে বলা যায় যে, উদ্দীপকের পারভেজ এবং গল্পের অনুপম পরস্পরের চারিত্রিক বৈশিষ্ট্য\\n\\nবৈসাদৃশ্যপূর্ণ।\\n\\nঘ. অনুপমের মামা ও হারুন মিয়ার মতো মানুষের কারণে আজও কল্যাণী ও লাবনিরা অপমানের শিকার হয়-\\nমন্তব্যটি যথার্থ।\\n\\nযৌতুকপ্রথা একটি সামাজিক ব্যাধি। বর্তমানে এটি আমাদের সমাজে ভয়াল রূপ ধারণ করেছে। বরপক্ষের\\nদাবি পূরণ করতে কন্যার পিতাকে কখনো কখনো সর্বস্বান্ত হতে হয়। বিয়েতে যারা যৌতুক দাবি করে তারা\\nআত্মসম্মানবোধহীন ও অমানবিক।\\n\\nউদ্দীপকে যৌতুকলোভী ব্যক্তি হারুন মিয়া। তার অন্যায় আবদারের কারণে কন্যাদায়গ্রস্ত পিতা লতিফ মিয়া\\nনিজের সামান্য আবাদি জমি বন্ধক রেখে পণের টাকা জোগাড় করেছেন। পণের সামান্য টাকা বাকি থাকায়\\nহারুন মিয়া বিয়ে ভেঙে দিতে চান। উদ্দীপকের হারুন মিয়ার মতো গল্পের অনুপমের মামাও যৌতুকলোভী।\\nতাদের দুজনের মানসিকতার কারণে কল্যাণী ও লাবনি অপমানের শিকার হয়।\\n\\n\\'অপরিচিতা\\' গল্পে অনুপমের মামা বিয়েতে নগদ টাকা ও গহনা পণ হিসেবে দাবি করেন। পিতা শস্তুনাথ সেন\\nএতে সম্মত হন। বিয়ের অনুষ্ঠানের কিছুক্ষণ আগে অনুপমের মামা কন্যার বাবাকে তার মেয়ের গা থেকে\\nগহনাগুলো খুলে আনতে বলেন সেকরা দিয়ে সেগুলো যাচাই করে দেখার জন্য। অনুপমের মামার এ ধরনের\\nআচরণ ও কথাবার্তায় তার হীনতা, লোভ ও অমানবিকতা প্রকাশ পায়। উদ্দীপকের হারুন মিয়াও যৌতুকের\\nসম্পূর্ণ টাকা ছাড়া ছেলেকে বিয়ে করাবেন না বলে জানিয়ে দেন। এরা দুজনেই লোভের কারণে দুজন নারীকে\\nঅপমান করে। এসব দিক বিচারে তাই বলা যায়, প্রশ্নোক্ত মন্তব্যটি যথার্থ।\\n\\n22\\n\\x0c\\n\\nআলা ব্যাচ 14147\\n[6\\n\\nবোর্ড পরীক্ষার প্রশ্ব\\n\\n১। \"সে নিজের চারদিকের সকলের চেয়ে অধিক- রজনীগন্ধার শুভ্র মঞ্জরির মতো সরল বৃন্তটির উপরে\\nদীড়াইয়া, যে গাছে ফুটিয়াছে সেই গাছকে সে একেবারে অতিক্রম করিয়া উঠিয়াছে\"- কে? [ঢা. বো. \\'২২]\\n\\n(ক) বিলাসী (খ) আহ্রাদী (গ) জমিলা (ঘ) কল্যাণী উত্তর: ঘ\\n২। \\'অপরিচিতা\\' গল্পের শীর্ষ-মুহূর্ত (গ্রন্থিবন্ধন) কোনটি? [ঢা. বো. \\'২২]\\n\\nক) শন্তুনাথ সেনের কন্যা সম্প্রদানে অসম্মতির ক্ষণ\\n\\nট্রেনে কল্যাণীর সাক্ষাৎলাভ মুহূর্ত\\n\\n(গ) সেকরা কর্তৃক গহনা পরীক্ষার মুহূর্ত\\n\\n(ঘ) গায়ে-হলুদ মুহূর্ত উত্তর: ক\\n৩। \"যে গাছে সে ফুটিয়াছে সেই গাছকে সে একেবারে অতিক্রম করিয়া উঠিয়াছে।\"- এই বর্ণনায় কল্যাণীর\\nকোন বিশেষ দিকের কথা বলা হয়েছে? [রা. বো. \\'২২]\\n\\nক)\\nটা\\n)\\n)\\n\\n(ক) সাজসজ্জা (খ) মার্জিত সুরূচি (গ) সৌন্দর্য (ঘ) উদাসীনতা উত্তর: খ\\n৪। \\'অপরিচিতা\\' গল্পে গল্প বলায় পটু কে? [রা. বো. \\'২২]\\n(ক) অনুপম (খ) মামা (গ) বিনুদা (ঘ) হরিশ উত্তর: ঘ\\n\\n&। \\'অপরিচিতা\\' গল্পে বিয়ের অনুষ্ঠানে কন্যার গহনা মাপার মধ্য দিয়ে মামার কোন মনোভাব প্রকাশ পেয়েছে?\\n[য. বো. \\'২২]\\n\\n(ক) কপটতা (খ) অবিশ্বাস (গ) অপমান (ঘ) হীনম্মন্যতা উত্তর: ঘ\\n৬। \\'অপরিচিতা\\' গল্পে রেলকর্মচারী কতটি টিকিট বেঞ্চে ঝুলিয়েছিল? [য. বো. \\'২২]\\n\\n(ক) একটি (খ) দুইটি (গ) তিনটি (ঘ) চারটি উত্তর: খ\\n৭। \\'অপরিচিতা\\' গল্পে \\'কল্যাণী\\' বিয়েতে কোন রঙের শাড়ি পরেছে বলে অনুপম কল্পনা করে? [কু. বো. \\'২২]\\n(ক) হলুদ (খ) বেগুনি (গ) নীল (ঘ) লাল উত্তর: ঘ\\n৮। \\'অপরিচিতা\\' গল্পে কল্যাণীর বিয়ে না করার সিদ্ধান্তের কারণ কী ছিল? [চ.বো.\\' ২২]\\n\\n(ক) লোকলজ্জা (খ) পিতৃ আদেশ (গ) আত্মমর্যাদা (ঘ) অপবাদ উত্তর: গ\\n৯। \\'ঠাট্টার সম্পর্কটাকে স্থায়ী করিবার ইচ্ছা আমার নাই\\'- এই উক্তিটিতে কী প্রকাশ পেয়েছে? [চ. বো. \\'২২]\\n(ক) দুর্বলতা (খ) বদান্যতা (গ) বলিষ্ঠতা (ঘ) হীনমন্ত্যতা উত্তর: গ\\n১০। অপরিচিতা\\' গল্পের কথকের নাম কী? [ব. বো. \\'২২]\\n\\n(ক) অনুপম (খ) কল্যাণী (গ) শস্তুনাথ (ঘ) হরিশ উত্তর: ক\\n১১। কে অনুপমকে শিমুল ফুলের সাথে তুলনা করতেন? [দি. বো. \\'২২]\\n\\n(ক) মামা (খ) বিনুদাদা (গ) পণ্তিতমশাই (ঘ) হরিশ উত্তর: গ\\n\\n১২। অনুপমের মামার সাথে করে সেকরা নিয়ে যাওয়ার কারণ- [দি. বো. \\'২২]\\nক) মায়ের অনুরোধ (খ) লোকবল বৃদ্ধি (গ) বন্ধুত্বের খাতির (ঘ) বিশ্বাসের অভাব উত্তর: ঘ\\n\\n23\\n\\x0c\\n\\n05026.\\nত্ললাইল ভ্রয়নটা\" 1110)\\n19৫10\\n\\n১৩। \\'তবে চলুন আপনাদের গাড়ি বলিয়া দিই\\'- উক্তিটিতে প্রকাশ পেয়েছে শস্তুনাথ বাবুর- [ম. বো. \\'২২]\\n\\n(ক) ভদ্রতা (খ) দায়িত্ব (গ) প্রত্যাখ্যান (ঘ) প্রতিরোধ উত্তর: গ\\n১৪। কল্যাণীকে বিয়ে না দেওয়ার কারণ কী? [ম. বো. \\'২২]\\n(ক) অভিমান (খ) আত্মসম্মানবোধ (গ) অহংকার (ঘ) রাগ উত্তর: খ\\n\\n১৫। \"তিনি কোনোমতেই কারো কাছে ঠকিবেন না।\"- \\'তিনি\\' বলতে \\'অপরিচিতা\\' গল্পে কাকে বোঝানো হয়েছে?\\n[ঢা. বো. ১৯]\\n\\n(ক) মামা (খ) শস্তুনাথ (গ) হরিশ (ঘ) অনুপম উত্তর: ক\\n১৬। আসর জমাতে অদ্বিতীয় কে? [রা. বো. \\'১৯; চ. বো. \\'১৭]\\n\\n(ক) অনুপম (খ) কল্যাণী (গ) বিনুদাদা (ঘ) হরিশ উত্তর: ঘ\\n১৭। শ্বশুরের সামনে অনুপমের মাথা হেট করে রাখার কারণ কী? [কু, বো. \\'১৯]\\n\\n(ক) শ্বশুড়ের ব্যবহারে (খ) লজ্জায়\\n\\n(গ) বিয়ের আয়োজন দেখে (ঘ) মামার গহনা পরীক্ষার কারণে উত্তর: ঘ\\n১৮। রবীন্দ্রনাথ ঠাকুর কত খিষ্টাব্দে জন্মগ্রহণ করেন? [চ. যো. \\'১৯]\\n\\n(ক) ১৮৩৮ (খ) ১৮৪১ (গ) ১৮৬১ (ঘ) ১৮৯৯ উত্তর: গ\\n১৯। রবীন্দ্রনাথ ঠাকুর কত খষ্টাব্দে মৃত্যুবরণ করেন? [সি. বো. \\'১৯]\\n\\n(ক) ১৮৯১ (খ) ১৮৯৪ (গ) ১৯৪১ (ঘ) ১৯৪৬ উত্তর: গ\\n\\n২০। কলিকাতার বাহিরে বাকি যে পৃথিবীটা আছে সমস্তটাকেই মামা আন্ডামান দ্বীপের অন্তর্গত বলিয়া\\nজানেন।\"- \\'অপরিচিতা\\' গল্পের এ উক্তিতে মামার চরিত্রের যে বৈশিষ্ট্য ফুটে উঠেছে তা হলো- [দি. বো. “১৯]\\n\\n(ক) ধর্মনিষ্ঠা (খ) দেশপ্রেম (গ) কুসংস্কার (ঘ) কুপমণ্ডকতা উত্তর: ঘ\\n২১। রবীন্দ্রনাথ ঠাকুর কত সালে সাহিত্যে নোবেল পুরস্কার লাভ করেন? [ঢা. বো, \\'১৭]\\n(ক) ১৯০৭ (খ) ১৯১৩ (গ) ১৯১৭ (ঘ) ১৯২১ উত্তর: খ\\n\\nব্যাখ্যা: রবীন্দ্রনাথ ঠাকুর ১৯১৩ সালে \\'গীতাঞ্জলি\\' কাব্যগ্রন্থের জন্য নোবেল পুরস্কার লাভ করেন।\\n\\n২২। কোন ঘটনায় অনুপমের মন \\'পুলকের আবেশে ভরে গিয়েছিল? [য. বো. “১৭]\\n\\n(ক) বিনুদা কর্তৃক মেয়ে পছন্দ হওয়া (খ) বিবাহের দিন-ক্ষণ ধার্য হওয়া\\n(গ) বিবাহ না করতে কল্যাণীর পণ (ঘ) গাড়িতে কল্যাণীর সাথে সাক্ষাৎ উত্তর: গ\\n\\nব্যাখ্যা: কারণ অনুপম মনে করে কল্যাণী তাকে আজও মনে রেখেছে, তাই বিয়ে না করতে পণ করেছে।\\n\\n২৩। \"আমার কন্যার গহনা আমি চুরি করিব এ কথা যারা মনে করে তাদের হাতে আমি কন্যা দিতে পারি না।\"-\\nউক্তিটিতে প্রকাশ পেয়েছে শস্তুনাথ বাবুর- [ঢা.বো.\\' ১৬]\\n(ক) ক্ষোভ (খ) অভিমান (গ) একগুয়েমি (ঘ) আত্মমর্যাদাবোধ উত্তর: ঘ\\n\\n24\\n\\x0c\\n\\n05026.\\nত্ললাইল ভ্রয়নটা\" 1110)\\n19৫10\\n\\nব্যাখ্যা: উক্তিটির মাধ্যমে শস্তুনাথ সেন অনুপমের মামার হীনতা ও নীচ মানসিকতার প্রতি কটাক্ষ করেছেন।\\n\\n২৪। \\'জড়িমা\\' শব্দের অর্থ কী? [রা.বো.\\' ১৬]\\n\\n(ক) জড়িয়ে থাকা (খ) আড়ষ্টতা (গ) চাকচিক্য (ঘ) জংধরা উত্তর: খ\\n২৫। কোন ঘটনাকে \\'অপরিচিতা\\' গল্পের শীর্ষমুহূর্ত বলা যায়? [য. বো. \\'১৬]\\n\\n(ক) রেলগাড়িতে কল্যাণীর সাথে অনুপমের সাক্ষাৎ\\n\\n(খ) কল্যাণী কর্তৃক বিবাহ প্রস্তাব প্রত্যাখ্যান\\n\\n(গ) শস্তুনাথ কতৃক কন্যা-সম্প্রদানে অসম্মতি\\n\\n(ঘ) অনুপমের মহাসমারোহে বিবাহ যাত্রা উত্তর: গ\\n\\nব্যাখ্যা: সব আয়োজন শেষে শস্তুনাথ সেন অনুপমের মামার হীন মানসিকতা দেখে যখন কন্যা দান করতে\\nঅসম্মত হন তখন গল্পের কাহিনি অন্যদিকে মোড় নেয়। এঁ মুহুর্ত হলো গল্পের শীর্ষ মুহূর্ত।\\n\\n২৬। অপরিচিতা\\' গল্পের কল্যাণীর বিয়ে না করার কারণ কী ছিল? [চ. বো. \\'১৬]\\n(ক) লোকসজ্জা (খ) অপবাদ (গ) পিতার আদেশ (ঘ) আত্মমর্ধাদা উত্তর: ঘ\\n\\nব্যাখ্যা: বিয়ের আসরে বসা কন্যার গা থেকে গহনা খুলে এনে সেকরাকে দিয়ে পরীক্ষা করালে এবং ফর্দ\\nটুকে রাখলে তা শস্তুনাথ সেনের আত্মমর্ধাদায় আঘাত লাগে।\\n\\n২৭। \\'অপরিচিতা\\' গল্পে কল্যাণীকে আশীর্বাদ করতে যায়- [সি.বো.\\' ১৬]\\n\\n(ক) হরিশ (খ) মামা (গ) বিনু (ঘ) ম্যা উত্তর: গ\\n২৮। \\'অপরিচিতা\\' গল্পে \\'মেয়ের বিয়ে হইবে না এ ভয় যার মনে নাই তার শাস্তির উপায় কী\\' উক্তিতে প্রকাশ\\nপেয়েছে- [ব.বো.\\' ১৬]\\n\\n(ক) আগামী সময়ের ইঙ্গিত (খ) পরিবর্তিত সমাজব্যবস্থা\\n(গ) শস্তুনাথ বাবুর সাহসিকতা (ঘ) শস্তুনাথ বাবুর নির্বিকারত্ব উত্তর: গ\\n\\nব্যাখ্যা: মেয়ের বিয়ে নিয়ে শস্তুনাথ সেনের কোনো চিন্তা নেই। তার কাছে সবচেয়ে গুরুত্বপূর্ণ হলো\\nআত্মমর্ধাদা। তাই সাহসিকতার সাথে তিনি মেয়ের বিয়ে ভেঙে দেন৷\\n\\n২৯। \\'গজানন\\' এর সঠিক ব্যাসবাক্য কোনটি? [দি. বো. \\'১৬]\\n(ক) গজ ও আনন (খ) গজের আনন\\n(গ) গজ আনন যার (ঘ) যে গজ সে আনন উত্তর: গ\\n\\n25\\n\\x0c\\n\\n05026.\\nত্ললাইল ভ্রয়নটা\" 1110)\\n19৫10\\n\\n৩০। \\'আমার মতো অক্ষম দুনিয়ায় নাই।\\'- অনুপমের এই উক্তির মধ্য দিয়ে কী প্রকাশ পেয়েছে?\\n[কু. বো.২২]\\n1. অনুশোচনা\\n|. অসহায়ত্ব\\n|||. ক্ষোভ\\nনিচের কোনটি সঠিক?\\n(ক)।,1 (খ)।, | (গ) 1, 11 (ঘ)।,1, 11 উত্তর: গ\\n৩১। \\'অপরিচিতা\\' গল্পে শস্তুনাথ চরিত্রের জন্য প্রযোজ্য- [কু. বো. “১৬]\\n|. চুল কীচা, গোঁফ পাকা, সুপুরুষ\\n॥. চুপচাপ, চুল কীচা, ভাষা আঁট\\n|. সুপুরুষ, চুপচাপ, চুল পাকা\\nনিচের কোনটি সঠিক?\\n(ক)।,1 (খ)।, | (গ) 1, 11 (ঘ)।,1, 11 উত্তর: ক\\nউদ্দীপকটি পড়ে ৩২ ও ৩৩ নং প্রশ্নের উত্তর দাও:\\nশাকিল সাহেব শিক্ষিত মানুষ। তার আত্মসম্মানবোধ প্রখর। মেয়ে শিরিনের বিয়েতে নিজের অনিচ্ছা সর্ত্বেও\\nসাধ্যানুসারে বরপক্ষের যৌতুকের দাবি পূরণ করতে রাজি হন। কিন্তু উচ্চশিক্ষিত শিরিন যৌতুকে অসন্মতি\\nজানিয়ে এ বিয়ে প্রত্যাখ্যান করে। [সি. বো. \\'২২]\\n৩২। উদ্দীপকের শাকিল সাহেব \"\\'অপরিচিতা\\' গল্পের কার সাথে তুলনীয়?\\n(ক) অনুপমের মামা (খ) অনুপমের মা (গ) শস্তুনাথ বাবু (ঘ) হরিশ উত্তর: গ\\n৩৩। শিরিনের সাথে কল্যাণীর মিল কোথায়?\\n|. উভয়ই শিক্ষিত\\n॥,. উভয়ই শিক্ষিত\\n||. বাবার আজ্ঞাবাহী\\nনিচের কোনটি সঠিক?\\n(ক)।,1 (খ)।, | (গ) 1, 11 (ঘ)।,1, 11 উত্তর: ক\\nনিচের উদ্দীপকটি পড়ে ৩৪ ও ৩৫ নম্বর প্রশ্নের উত্তর দাও:\\nস্বাতী সুশিক্ষিত ও আত্মনির্ভরশীল নারী। বিয়ের পর শ্বশুর ও শাশুড়ির চাপে চাকরি ছাড়তে বাধ্য হয়। শ্বশুর-\\nশাশুড়ির ধারণা চাকরিজীবী বউ অহংকারী হয়। তারা সংসারের প্রতি দায়িত্বশীল নয়। [য. বো. ১৯]\\nও৩৪। \\'অপরিচিতা\\' গল্পের সঙ্গে উদ্দীপকের স্বাতীর বৈসাদৃশ্য কোথায়?\\n(ক) নারীর প্রতি বৈষম্যে (খ) আপসহীনতা\\n(গ) আপসকামিতায় (ঘ) স্বার্থসিদ্ধিতে উত্তর: গ\\n৩৫। উদ্দীপকের শ্বশুর-শাশুড়ির মানসিকতার সাথে \\'অপরিচিতা\\' গল্পের কোন উক্তিটির মিল রয়েছে?\\n(ক) আমাদের ঘরে যে মেয়ে আসিবে সে মাথা হেট করিয়াই আসিবে\\n(খ) বেহাই সম্প্রদায়ের আর যাই থাক তেজ থাকাটা দোষের\\n(গ) অপর পক্ষকে যে নাকাল হইতে হইবে, সেই কথা স্মরণ করিয়া মামার সঙ্গে মা একযোগে বিস্তুর হাসিলেন\\n(ঘ) ঠাট্টার সম্পর্ককে স্থায়ী করিবার ইচ্ছা আমার নাই উত্তর: ক\\n\\x0c\\n\\nতু 1914,\\nনিচের উদ্দীপকটি পড়ে ৩৬ ও ৩৭ নম্বর প্রশ্নের উত্তর দাও:\\n\\nশাওনের বিয়ে চুড়ান্ত হয় অন্যার সাথে। যৌতুকের দাবি পূরণ না হওয়ায় মোতালেব সাহেব ছেলের বিয়ে ভেঙে\\nদিতে চান। বাবার অন্যায় আবদার শাওন মানতে নারাজ। সে যুক্তি দিয়ে বাবাকে বুঝিয়ে যৌতুক না নিয়েই\\nঅন্যাকে বিয়ে করে। [ব. বো. \\'১৯]\\n\\n৩৬। মোতালেব সাহেব \\'অপরিচিতা\\' গল্পের কোন চরিত্রের ইঙ্গিতবহ?\\n\\n(ক) হরিশ (খ) বিনুদা (গ) মামা (ঘ) শস্তুনাথ উত্তর: গ\\n\\n৩৭। শাওনের কোন কোন বৈশিষ্ট্য অনুপমের মধ্যে থাকলে অনুপমের বিয়েটা টিকে যেত?\\n\\n|. সাহসিকতা\\n\\n॥. ব্যক্তিত্ব\\n\\n||. গভীর ভালোবাসা\\n\\nনিচের কোনটি সঠিক?\\n\\n(ক), (খ)।, 1 (গ) |, || (ঘ)।,11, 1 উত্তর: ক\\n\\nনিচের উদ্দীপকটি পড়ে ৩৮ ও ৩৯ নম্বর প্রশ্নের উত্তর দাও:\\n\\nআদিব ও শাফিক দুই বন্ধু। আবিদ অহংকারী, নিজীবি, পৌরুষশূন্য। অন্যদিকে শাফিক উচ্ছল, রসিক।\\n\\nশাফিক যেকোনো পরিবেশে দ্রুত নিজেকে মানিয়ে নেয়। সে হয়ে ওঠে আলোচনার মধ্যমণি। [সকল বোর্ড\\n২০১৮]\\n\\n৩৮। উদ্দীপকের শাফিক \\'অপরিচিতা\\' গল্পের কোন চরিত্রের প্রতিনিধি?\\n\\n(ক) অনুপম (খ) হরিশ (গ) বিনু (ঘ) শস্তুনাথ উত্তর: খ\\n৩৯। কোন কারণে উদ্দীপকের আদিব ও \\'অপরাজিতা\\' গল্পের অনুপম সাদৃশ্যপূর্ণ?\\n\\n|. অহমিকায়\\n\\n॥. নিস্পৃহতায়\\n\\n||. মেরুদণ্ডহীনতা\\n\\nনিচের কোনটি সঠিক?\\n\\n(ক)7,1 (খ)।, 1 (গ)1, | (ঘ)।1,1, | উত্তর: গ\\n\\nনিচের উদ্দীপকটি পড়ে ৪৪ ও ৪৫ নম্বর প্রশ্নের উত্তর দাও:\\n\\nবাবার মোটা টাকার যৌতুকের দাবির কারণে সবুজের বিয়ে ভেঙ্গে যেতে বসল। পিতার অনুগত সন্তান হওয়া\\nসর্তেও সবুজ শেষ পর্যন্ত বিনা যৌতুকে রঘীকে বিয়ে করে আনল। [ঢা. বো. \\'১৭]\\n\\n৪০। উদ্দীপকের সবুজের বাবার আচরণ \\'অপরিচিতা\\' গল্পের কোন চরিত্রকে স্মরণ করায়?\\n\\n(ক) মা (খ) মামা (গ) শস্তুনাথ (ঘ) উকিল উত্তর: খ\\n\\nব্যাখ্যা: সবুজের বাবার সাথে \\'অপরিচিতা\\' গল্পের অনুপমের মামার সাদৃশ্যের কারণ তাদের লোভী\\nমানসিকতা।\\n\\n27\\n\\x0c\\n\\n05026.\\nত্ললাইল ভ্রয়নটা\" 1110)\\n19৫10\\n\\n৪১। উদ্দীপকের সবুজের কোন বৈশিষ্ট্য \\'অপরিচিতা\\' গল্পের অনুপমের চরিত্রে থাকলে বিয়ে ভাঙত না?\\n(ক) দৃঢ়তা (খ) বলিষ্ঠতা (গ) সাহসিকতা (ঘ) ব্যক্তিত্ববোধ উত্তর: ঘ\\n\\nব্যাখ্যা: সবুজ বাবার অন্যায়ের প্রতিবাদ করে রথীকে বিয়ে করলেও সাহসের অভাবে অনুপম মামার মতের\\nবিরুদ্ধে যেতে পারেনি।\\n\\nনিচের উদ্দীপকটি পড়ে ৪২ ও ৪৩ নম্বর প্রশ্নের উত্তর দাও:\\n\\nএকদল শ্রমজীবী নারী-পুরুষ লঞ্চে করে গ্রামে যাচ্ছিল ঈদের ছুটিতে। বিত্তবান মোহিত সাহেব স্ত্রী-সন্তান এবং\\nআত্মীয়-পরিজন নিয়ে লঞ্চে উঠলে লঞ্চকর্মীরা শ্রমজীবীদের সিটগুলো ছেড়ে দিতে বলে। অনেকেই ছেড়ে\\nদিলেও প্রতিবাদ জানিয়ে নিজের সিটে দৃঢ়ভাবে বসে থাকে গৃহকর্মী হালিমা। [কু. বো. \\'১৭]\\n\\n৪২। উদ্দীপকের হালিমা \\'অপরিচিতা\\' গল্পের কাকে প্রতিনিধিত্ব করে?\\n\\n(ক) উকিল (খ) কল্যাণী (গ) অনুপম (ঘ) শস্তুনাথ উত্তর: খ\\n\\nব্যাখ্যা: কারণ কল্যাণীও স্টেশন মাস্টারের কথার প্রতিবাদ করে। স্টেশন মাস্টার তাকে অন্য গাড়িতে যেতে\\nবললেও সেযায় না।\\n\\n৪৩। উদ্দীপকে উঠে আসা \\'অপরিচিতা\\' গল্পের প্রসঙ্গ হলো- [কু. বো. \\'১৭]\\n\\n|. প্রতিবাদ\\n\\n॥. শ্রেণিবৈষম্য\\n\\n|. ধর্মীয় উৎসব যাত্রা\\n\\nনিচের কোনটি সঠিক?\\n\\n(ক), ॥ (খ)।, || (গ) |, || (ঘ)।,11, 1 উত্তর: ক\\n\\nনিচের উদ্দীপকটি পড়ে ৪৪ ও ৪৫ নম্বর প্রশ্নের উত্তর দাও:\\n\\nবাংলাদেশের অনেক পরিবার যৌতুকের জন্য পুত্রবধূকে নির্যাতন করে। এমনই নির্যাতনের শিকার মমতা।\\n\\nদুরের কথা তার স্বামীই কিছু বুঝতে চায় না। তাই মমতা বাধ্য হয়ে স্বামী-সংসার ত্যাগ করে সরকারি প্রাথমিক\\n\\nবিদ্যালয়ে শিক্ষক হিসেবে চাকরি গ্রহণ করে। [সি. বো. \\'১৭]\\n\\n৪৪। উদ্দীপকের মমতা তোমার পঠিত কোন চরিত্রের প্রতিনিধিত্ব করে?\\n\\n(ক) মাসি (খ) পিসি (গ) কল্যাণী (ঘ) আহ্রাদি উত্তর: গ\\n\\n৪৫) প্রতিনিধিত্বের কারণ-\\n\\n|. প্রতিবাদী মানসিকতা\\n\\n॥. পেশাগত জীবন\\n\\n॥1. বৈবাহিক অবস্থা\\n\\nনিচের কোনটি সঠিক?\\n\\n(ক), ॥ (খ)।, || (গ) |, || (ঘ)।,11, 1 উত্তর: ক\\n28\\n\\x0c\\n\\n05026.\\nত্ললাইল ভ্রয়নটা\" 1110)\\n19৫10\\n\\nনিচের উদ্দীপকটি পড়ে ৪৬ ও ৪৭ নম্বর প্রশ্নের উত্তর দাও:\\n\\nরামসুন্দর বাবু বনেদি ঘর পেয়ে মেয়ে বিয়ে দিতে উদ্যত হয়। এক্ষেত্রে সে বরপক্ষ থেকে দাবিকৃত দেনা-পাওনা\\nচুকিয়ে দিয়ে মহা সাড়ম্বরে মেয়ের বিয়ে সম্পন্ন করে। [দি. বো. \\'১৭]\\n\\n৪৬। উদ্দীপকের রামসুন্দর বাবুর সাথে \\'অপরিচিতা\\' গল্পের কোন চরিত্রের বৈসাদৃশ্য রয়েছে?\\n\\n(ক) হরিশ (খ) শস্তুনাথ (গ) বিনু (ঘ) মামা উত্তর: ঘ\\n\\nব্যাখ্যা: কারণ রামসুন্দর বাবু সানন্দে যৌতুক দিয়েছে, কিন্ত শস্তুনাথ বাবু যৌতুক। নিয়ে মাত্রাতিরিক্ত\\nবাড়াবাড়ির কারণে বিয়ে ভেঙে দিয়েছেন।\\n\\n৪৭। উদ্দীপকে ও \\'অপরিচিতা\\' গল্পে ফুটে উঠেছে-\\n\\n|. কুসংস্কার\\n\\n॥. যৌতুকপ্রথা\\n\\n॥1. প্রতিবাদী চেতনা\\n\\nনিচের কোনটি সঠিক?\\n\\n(ক)। (খ)1, | (গ)।, | (ঘ)।1,1, | উত্তর: গ\\nনিচের উদ্দীপকটি পড়ে ৪৮ ও ৪৯ নম্বর প্রশ্নের উত্তর দাও:\\n\\nনা, প্রেমে নয়, আশ্লেষে নয়\\n\\nক্ষমা চেয়ে\\n\\nকেনাবেচা চলছে তোমাকে নিয়ে\\n\\nযেনো তুমি শাকসবজি\\n\\nআলু পটল খাসীর মাংস [রা. বো. \\'১৬]\\n\\n৪৮। উদ্দীপকের ভাবের সাথে নিচের কোন গল্পের মিল রয়েছে?\\n\\n(ক) মাসি-পিসি (খ) অপরিচিতা (গ) আহবান (ঘ) নেকলেস উত্তর: খ\\n৪৯। উদ্দীপকে বর্ণিত অবমূল্যায়নের শিকার হয়েছে কোন চরিত্র?\\n(ক) আনহ্রাদি (খ) আসমা (গ) কল্যাণী (ঘ) মাদাম লোইসেল উত্তর: গ\\n\\n29\\n\\x0c\\n\\n05026.\\nত্ললাইল ভ্রয়নটা\" 1110)\\n19৫10\\n\\n১। ছেলেবেলায় অনুপমের চেহারা নিয়ে বিদ্রপ করার সময় পণ্তিতমশায় কোন দুটি ফুল ও ফলের সঙ্গে তুলনা\\nকরেছিলেন? [ঢা.বি. 0 ইউনিট ২০১৯-২০]\\n\\n(ক) বকুল ও ডুমুর (খ) পলাশ ও আমড়া (গ) পারুল ও লটকন (ঘ) শিমুল ও মাকাল উত্তর: ঘ\\n২। \\'অপরিচিতা\\' গল্পে অনুপম সম্পর্কে নিচের কোন বর্ণনাটি ঠিক নয়? [জা.বি. £ ইউনিট ২০১৯-২০]\\n\\n(ক) তামাক খায় না (খ) অন্তঃপুরের শাসনে চালিত হতে প্রস্তুত\\n\\n(গ) নিজস্ব মতামত দিতে অক্ষম (ঘ) বিবাহ আসরে আহার করেছে উত্তর: ঘ\\n৩। \\'অপরিচিতা\\' গল্পে একজোড়া এয়ারিং সম্বন্ধে সেকরার মন্তব্য -[জা.বি. 0 ইউনিট ২০১৯-২০]\\n\\n(ক) ইহা নিশ্চিত নিখাত (খ) ইহা বিলাতি মাল\\n\\n(গ) হাল ফ্যাশনের সুম্ষ্ব গহনা (ঘ) পিতামহীদের আমলের গহনা উত্তর: খ\\n৪। কোনটি রবীন্দ্রনাথের নাটক নয়? [জা.বি. 0 ইউনিট ২০১৯-২০]\\n\\n(ক) অচলায়তন (খ) রাজা-রাণী (গ) মুক্তধারা (ঘ) রক্তকরবী উত্তর: খ\\n৫। রবীন্দ্রনাথের ছোটগল্প রচনার স্বর্ণযুগ [জা.বি. 0 ইউনিট ২০১৯-২০]\\n\\n(ক) সিরাজগঞ্জের শাহজাদপুর (খ) কুষ্টিয়ার শিলাইদহ\\n\\n(গ) শান্তিনিকেত (ঘ) খুলনার দক্ষিণভিহি উত্তর: খ\\n\\n৬। \\'অপরিচিতা\\' গল্পে বিয়েবাড়ি যাত্রাকালে নিচের কোন যন্ত্রটি ব্যবহৃত হয়নি?\\n[জা.বি. 0 ইউনিট ২০১৯-২০]\\n\\n(ক) বেহালা (খ) ব্যান্ড (গ) বাঁশি (ঘ) শখের কন্দর্ট উত্তর: ক\\n৭| \\'অপরিচিতা\\' গল্পে কথকের বাবার পেশা কী ছিল? [জা.বি. 0 ইউনিট ২০১৯-২০]\\n(ক) ওকালতি (খ) জমিদারি (গ) ডাক্তারি (ঘ) তেজারতি উত্তর: ক\\n\\n৮। রবীন্দ্রনাথ ঠাকুর রচিত সর্বশেষ গল্পের নাম [জা.বি. £ ইউনিট ২০১৯-২০]\\n\\n(ক) মুসলমানীর গল্প (খ) মুসলমানের গল্প (গ) মুসলমানির গল্প (ঘ) মুসলিমের গল্প উত্তর: ক\\n৯। গাড়ি লোহার তাল দিতে দিতে চলিল: আমি মনের মধ্যে শুনিতে শুনিতে চলিলাম। শূন্যস্থানে\\n\\nকী হবে? [জা.বি. 0 ইউনিট ২০১৯-২০]\\n\\n(ক) চাকার, ঘর্ঘর (খ) ছন্দে, কবিতা (গ) শব্দে, কণ্ঠস্বর (ঘ) মৃদঙ্গে, গান উত্তর: ঘ\\n১০। \\'রসনচৌকি\\' হলো [ইসলামী বিশ্ববিদ্যালয় ও ইউনিট ২০১৯-২০]\\n\\n(ক) সানাই, ঢোল ও কীসার সৃষ্ট এ্কতানবাদন\\n\\nঘ) হারমোনিয়াম, ঢোল ও কীসার সৃষ্ট একতানবাদন উত্তর: ক\\n\\n30\\n\\x0c\\n\\n05026.\\nত্ললাইল ভ্রয়নটা\" 1110)\\n19৫10\\n\\n১১। \\'অপরিচিতা\\' গল্পে হরিশের কোন গুণের বর্ণনা আছে? [জা.বি. £ ইউনিট ২০১৯-২০]\\n\\n(ক) আসর জমানো (খ) ভাষাটা অত্যন্ত আঁট (গ) ঘটকালি (ঘ) বিদ্যা অর্জন উত্তর: ক\\n১২। \\'আমি অন্নপূর্ণার কোলে গজাননের ছোট্ট ভাইটি কোন রচনার অংশ? [চ.বি.৪ ইউনিট ১৯-২০]\\n\\n(ক) নেকলেস (খ) চাষার দুক্ষুর (গ) অপরিচিতা (ঘ) আমার পথ উত্তর: গ\\n১৩। অপরিচিতা\\' গল্পের নায়কের নাম কী ছিল? [চ.বি. 0 ইউনিট ২০১৯-২০]\\n\\n(ক) হরিশ (খ) বিনু (গ) অনুপম (ঘ) শস্তুনাথ উত্তর: গ\\n১৪। রবীন্দ্রনাথ ঠাকুরের রচনা কোনটি? [চ.বি. 0 ইউনিট ২০১৯-২০]\\n\\n(ক) কালান্তর (খ) প্রবন্ধ সংগ্রহ (গ) পান্থজনের সখা (ঘ) একদা উত্তর: ক\\n১৫। বিনুদার ভাষাটা অত্যন্ত ____। শুন্যস্থানে কোনটি বসবে? [বেগম রোকেয়া বিশ্ববিদ্যালয় এ ইউনিট\\n২০১৯-২০]\\n\\n(ক) প্রাণবন্ত (খ) জটিল (গ) আঁট (ঘ) আঁটর্সাট উত্তর: গ\\n১৬। কোন্নগরের অবস্থান কোথায়? [বেগম রোকেয়া বিশ্ববিদ্যালয় /॥ ইউনিট ২০১৯-২০]\\n\\n(ক) কলকাতার নিকটে (খ) বাঁকুড়ায় (গ) হুগলিতে (ঘ) বিহারের কাছে উত্তর: ক\\n১৭। অপরিচিতা গল্পটি কার জবানীতে লেখা? [বেগম রোকেয়া বিশ্ববিদ্যালয় ৪ ইউনিট ২০১৯-২০]\\n\\n(ক) অনুপমের (খ) শস্তুনাথের (গ) হরিশের (ঘ) বিনুদাদার উত্তর: ক\\n১৮। \\'অপরিচিতা\\' কার দৃষ্টিকোণে লেখা গল্প-[জ.বি.7 ইউনিট ১৬-১৭]\\n\\n(ক) মধ্যম পুরুষের (খ) উত্তম পুরুষের (গ) ভাববাচ্যে (ঘ) কর্তৃবাচ্য উত্তর: খ\\n\\n১৯। \\'অপরিচিতা\\' গল্পে \\'অন্নপূর্ণার কোলে গজাননের ছোট্ট ভাই\\' বাক্যাংশ ব্যবহৃত হয়েছে? [শাহজালাল\\nবিজ্ঞান ও প্রযুক্তি বিশ্ববিদ্যালয় এ ইউনিট ২০১৯-২০]\\n\\n(ক) নিন্দার্থে (খ) ব্যঙ্গার্থে (গ) আনন্দার্থে (ঘ) অবজ্ঞার্থে উত্তর: খ\\n২০। \"ঘরে-বাইরে! গ্রন্থের রচয়িতা- [শাহজালাল বিজ্ঞান ও প্রযুক্তিবিশ্ববিদ্যালয় এ ইউনিট ২০১৯-২০]\\n(ক) রবীন্দ্রনাথ ঠাকুর (খ) বঙ্কিমচন্দ্র চট্টোপাধ্যায়\\n\\n(গ) কাজী নজরুল ইসলাম (ঘ) বিভূতিভূষণ বন্দ্যোপাধ্যায় উত্তর: খ\\n\\n২১। নিচের কোনটি রবীন্দ্রনাথ ঠাকুরের উপন্যাস? [বঙ্গবন্ধু শেখ মুজিবুর রহমান বিজ্ঞান ও প্রযুক্তি\\nবিশ্ববিদ্যালয় £ ইউনিট ২০১৯-২০]\\n\\n(ক) বলাকা (খ) বসন্ত (গ) মালঞ্চ (ঘ) শেষলেখা উত্তর: গ\\n২২। রবীন্দ্রনাথের গল্পে ছেলেবেলায় অনুপম পণ্তিতমশাইয়ের বিদ্রপের পাত্র হয়েছিলেন কেন?\\n\\n[গাহ্\\u200cস্থ অর্থনীতি কলেজ ২০১৯-২০, ২০১৭-১৮, ঢা.বি. 0 ইউনিট ২০১৬-১৭]\\n(ক) শরীর কালো ছিল বলে (খ) বোকা ছিল বলে\\n(গ) সুন্দর চেহারার জন্য (ঘ) পড়া বলতে না পারায় উত্তর: গ\\n\\n২৩। কল্যাণীর পিতার নাম কি? [রা.বি. /। ২০১৬-১৭]\\n(ক) হরিশচন্দ্র সেন (খ) জগন্নাথ সেন (গ) অনুপম সেন (ঘ) শস্তুনাথ সেন উত্তর: ঘ\\n\\n31\\n\\x0c\\n\\n05026.\\nত্ললাইল ভ্রয়নটা\" 1110)\\n19৫10\\n\\n২৪। অপরিচিতা গল্পে অনুপমের বন্ধু কে? [ঢা.বি. ০ ২০১৬-১৭]\\n\\n(ক) বিনুদা (খ) কল্যাণী (গ) হরিশ (ঘ) শস্তুনাথ উত্তর: গ\\n২৫। মাকাল ফল\\' বাগধারাটি দিয়ে বোঝায়- [ঢা.বি. অধিভুক্ত ৭ কলেজ - (মানবিক)]\\n\\n(ক) উচ্ছিষ্ট বন্ধু (খ) নির্দিষ্ট খতুভিত্তিক ফল\\n\\n(গ) বিশেষ অর্থে গুণহীন (ঘ) কদাকার বস্ত উত্তর: গ\\n\\n২৬। \\'অপরিচিতা\\' গল্পটি প্রথম প্রকাশ পায় কোন পত্রিকায়? [রা.বি. ॥ ইউনিট ২০১৭-১৮]\\n\\n(ক) কবিতা পত্রিকায় (খ) সবুজপত্র পত্রিকায় (গ) কল্লোল পত্রিকায় (ঘ) ভারতী পত্রিকায় উত্তর: খ\\n২৭। \\'ঠা্টার সম্পর্কটাকে স্থায়ী করিবার ইচ্ছা আমার নাই\\' উক্তিটি কার? [রা.বি. /& ইউনিট ২০১৭-১৮]\\n\\n(ক) মামার (খ) শস্তুনাথের (গ) অনুপমের (ঘ) কল্যাণীর উত্তর: খ\\n\\nবহুনির্বাচনী\\n১। রবীন্দ্রনাথ ঠাকুরের জীবনাবসান ঘটে কোথায়?\\n(ক) জোড়ার্সাকোর ঠাকুর বাড়িতে (খ) বোলপুরের শান্তিনিকেতনে\\n(গ) কুষ্টিয়ার শিলাইদহে (ঘ) কলিকাতার হাসপাতালে\\n২। গানের যে অংশ দোহাররা বারবার পরিবেশনে করে তাকে কী বলে?\\n(ক) লয় (খ) ধুয়া (গ) নীড় (ঘ) তাল\\n৩। \\'এসপার-ওসপার\\' বাগধারাটির অর্থ কী?\\n(ক) মীমাংসা করা (খ) ইচ্ছাবোধ করা\\n(গ) খুশি করা (ঘ) এদিক ওদিক করা\\n৪। \\'অপরিচিতা\\' গল্পটি প্রথম প্রকাশিত হয় কোন পত্রিকায়?\\n(ক) প্রগতি (খ) পরিচয় (গ) সবুজপত্র (ঘ) শিখা\\n৫। \\'অপরিচিতা\\' গল্পটি \\'সবুজপত্র\\' পত্রিকার কোন সংখ্যায় বের হয়?\\n(ক) ১৩২১ বঙ্গাব্দের কার্তিক সংখ্যা (খ) ১৩২১ বঙ্গাব্দের পৌষ সংখ্যা\\n(গ) ১৩২১ বঙ্গাব্দের ফাল্তুন সংখ্যা (ঘ) ১৩২১ বঙ্গাব্দের চৈত্র সংখ্যা\\n৬। \\'অপরিচিতা\\' গল্পে নায়কের বয়স কত বলা হয়েছে?\\n(ক) ২৮ বছর (খ) ২৬ বছর (গ) ২৭ বছর (ঘ) ২৫ বছর\\n৭| \\'তবু ইহার বিশেষ মূল্য আছে\\' এখানে কীসের মূল্যের কথা বলা হয়েছে?\\n(ক) জীবনের (খ) মরণের (গ) কর্মের (ঘ) ধর্মের\\n৮। ছেলেবেলায় পণ্তিতমশাই অনুপমকে কীসের সাথে তুলনা করতেন?\\n(ক) ভিজে বেড়াল (খ) মাকাল ফল (গ) গোলাপ ফুল (ঘ) পূর্ণিমার চাদ\\n\\n32\\n\\x0c\\n\\n05026.\\nত্ললাইল ভ্রয়নটা\" 1110)\\n19৫10\\n\\n৯। অনুপমের আসল অভিভাবক কে?\\n\\n(ক) বাবা (খ) মামা (গ) মা (ঘ) শিক্ষক\\n\\n১০। \\'অপরিচিতা\\' গল্পে মামার সাথে অনুপমের বয়সের পার্থক্য কত?\\n\\n(ক) বছর চারেক (খ) বছর ছয়েক (গ) বছর আষ্টেক (ঘ) বছর দশেক\\n১১। কন্যার পিতামাত্রই কোনটি স্বীকার করবেন?\\n\\n(ক) অনুপম রুচিবান (খ) অনুপম সৎপাত্র\\n\\n(গ) অনুপম রূপবান (ঘ) অনুপম ব্যক্তিত্বসম্পন্ন\\n\\n১২। অনুপম কোনটি খায় না বলে গর্ব প্রকাশ করেছে?\\n\\n(ক) তামাক (খ) মদ (গ) চুরুট (ঘ) কফি\\n\\n১৩। বিয়েবাড়িতে ঢুকে মামার খুশি না হওয়ার কারণ ছিল না কোনটি?\\n\\n(ক) স্থান ও আয়োজন দেখে (খ) আপ্যায়নের ত্রুটির কারণে\\n\\n(গ) গহনার পরিমাণ দেখে (ঘ) বেয়াইয়ের আচর-আচরণে\\n\\n১৪। মামা কেমন ঘরের মেয়ে পছন্দ করতেন?\\n\\n(ক) ধনী (খ) গরিব (গ) গ্রামীণ (ঘ) শহুরে\\n\\n১৫। অনুপমের বন্ধুর নাম কী?\\n\\n(ক) সতীশ (খ) জ্যোতিষ (গ) হরিশ (ঘ) মণীষ\\n\\n১৬। মেয়ের চেয়ে মেয়ের বাপের খবরটাই কার কাছে গুরুতর?\\n\\n(ক) হরিশের (খ) অনুপমের (গ) মামার (ঘ) ঘটকের\\n১৭। অনুপমের শিক্ষাগত যোগ্যতা কি?\\n\\n(ক) বিএ পাশ (খ) এমএ পাশ (গ) বিএসসি পাশ (ঘ) এমএসসি পাশ\\n১৮। \\'মেয়ে যদি বলো, তবে\\' উক্তিটি কার?\\n\\n(ক) অনুপমের (খ) হরিশের (গ) শস্তুনাথের (ঘ) মামার\\n\\n১৯। \\'অপরিচিতা\\' গল্পে রসিক মনের মানুষ কে?\\n\\n(ক) অনুপম (খ) ঘটক (গ) হরিশ (ঘ) মামা\\n\\n২০। \\'একবার মামার কাছে কথাটা পাড়িয়া দেখ\\' উক্তিটি কার?\\n\\n(ক) বিনুদাদার (খ) শম্তুনাথের (গ) হরিশের (ঘ) অনুপমের\\n২১। হরিশ কোথায় কাজ করত?\\n\\n(ক) কলকাতায় (খ) আন্দামানে (গ) রাজপুরে (ঘ) কানপুরে\\n২২। \\' এককালে ইহাদের বংশে লক্ষ্মীর মঙ্গলঘট ভরা ছিল\\' উক্তিটিতে কাদের কথা বলা হয়েছে?\\n(ক) কল্যাণীদের (খ) মামাদের (গ) অনুপমদের (ঘ) হরিশদের\\n\\n২৩। আসর জমাতে অদ্বিতীয় কে?\\n(ক) অনুপম (খ) কল্যাণী (গ) মামা (ঘ) হরিশ\\n\\n33\\n\\x0c\\n\\n[লল্দনে ৯\\nঅনলাইন ব্যাচ\\n\\n২৪1 \\'অপরিচিতা\\' গল্পে কোন দ্বীপের উল্লেখ আছে?\\n\\n(ক) আন্দামান দ্বীপ (খ) হাইকু দ্বীপ (গ) ক্যারিবীয় দ্বীপ\\n২৫। কে কন্যাকে আশীর্বাদ করতে গেল?\\n(ক) হরিশ (খ) অনুপম (গ) মামা\\n\\n২৬। বিনুদাদার সাথে অনুপমের সম্পর্ক কী?\\n(ক) মাসতুতো ভাই (খ) পিসতুতো ভাই (গ) খুড়তুতো ভাই\\n২৭। মন্দ নয় হে, খাঁটি সোনা বটে। উক্তিটি কার?\\n\\n(ক) বিনুদার (খ) হরিশের (গ) মামার\\n\\n২৮। বিনুদাদা \\'চমৎকার\\' এর স্থলে কী বলে?\\n\\n(ক) চলনসই (খ) অসাধারণ (গ) বিস্ময়কর\\n\\n২৯। কল্যাণীর পিতার নাম কী?\\n\\n(ক) হরিশচন্দ্র দত্ত (খ) বিনোদবিহারী সেন\\n(গ) শস্তুনাথ সেন (ঘ) গৌরীশংকর দত্ত\\n৩০। শস্তুনাথ বাবুর বয়স কত?\\n\\n(ক) প্রায় চল্লিশ বছর (খ) প্রায় পঞ্চাশ বছর\\n(গ) প্রায় ষাট বছর (ঘ) প্রায় সত্তর বছর\\n৩১। \\'তাহার বিনয়টা অজস্র নয়\\'- কার?\\n\\n(ক) অনুপমের (খ) বিনুদাদার (গ) শস্তুনাথের\\n\\n৩২। \\'বাবাজি একবার এদিকে আসতে হচ্ছে\\'- উক্তিটি কার?\\n\\n(ক) মামার (খ) শস্তুনাথের (গ) হরিশের\\n\\n৩৩। কষ্টিপাথর নিয়ে কে বসে ছিল?\\n\\n(ক) মামা (খ) স্যাকরা (গ) বিনুদাদা\\n\\n৩৪। \\'এয়ারিং\\' কোথা থেকে আনা হয়েছে?\\n\\n(ক) বিলেত (খ) কানপুর (গ) কলিকাতা\\n\\n৩৫। \\'ঠাট্টার সম্পর্কটাকে স্থায়ী করিবার ইচ্ছা আমার নাই\\'- উক্তিটি\\n\\n(ক) বিনুদাদার (খ) অনুপমের (গ) মামার\\n\\n৩৬। অনুপম কাকে নিয়ে তীর্থযাত্রা শুরু করে?\\n\\n(ক) কল্যাণীকে (খ) মাকে (গ) হরিশকে\\n\\n৩৭। মা-পুত্রের তীর্থযাত্রার বাহন কী ছিল?\\n\\n(ক) রেলগাড়ি (খ) গরুর গাড়ি (গ) মোটর গাড়ি\\n\\n] ৯1৬11015\\n50172901-\\n\\n(ঘ) ঘোড়ার গাড়ি\\n\\n৩৮। \\'অন্নপূর্ণার কোলে গজাননের ছোট ভাইটি\\' এখানে \\'ছোট - ভাইটি\\' বলতে কাকে বোঝানো হয়েছে?\\n\\n(ক) গণেশ (খ) প্রজাপতি (গ) কার্তিক\\n\\n34\\n\\n(ঘ) পঞ্চশর\\n\\x0c\\n\\n[লল্দনে ৯\\nঅনলাইন ব্যাচ\\n\\n৩৯। \\'এখানে জায়গা আছে\\' উক্তিটি কার?\\n\\n(ক) আর্দালির (খ) গার্ডের (গ) কল্যাণীর\\n৪০। স্টেশনে অনুপম কী ফেলে গেল?\\n(ক) টিকিট (খ) ক্যামেরা (গ) তোরঙ্গ\\n\\n৪১। ট্রেনে দেখা হওয়ার সময় কল্যাণীর বয়স কত ছিল?\\n(ক) ১৪/১৫ বছর (খ) ১৫/১৬ বছর (গ) ১৬/১৭ বছর\\n৪২। অপরিচিতা মেয়েটির সঙ্গে কতজন মেয়ে ছিল?\\n\\n(ক) ২/৩ জন (খ) ৩/৪ জন (গ) ৪/৫ জন\\n৪৩। কল্যাণী স্টেশন হতে কী খাবার কিনে নেয়?\\n\\n(ক) চানা-মুঠ (খ) ঝালমুড়ি (গ) চিনেবাদাম\\n৪৪। শস্তুনাথ পেশায় কী ছিলেন?\\n\\n(ক) উকিল (খ) শিক্ষক (গ) ডাক্তার\\n\\n৪৫। মাতৃ-আজ্ঞা বলতে কল্যাণী কার প্রতি ইঙ্গিত করেছে?\\n\\n(ক) মায়ের প্রতি (খ) মাতৃভূমির প্রতি (গ) ধরণীর প্রতি\\n৪৬। বিবাহের সময় অনুপমের বয়স কত ছিল?\\n\\n(ক) ২১ বছর (খ) ২৩ বছর (গ) ২৫ বছর\\n৪৭। গজাননের মায়ের নাম কী?\\n\\n(ক) অন্নদা (খ) অন্নপূর্ণা (গ) কল্যাণী\\n৪৮। \\'শিগগির চলে আয়, এই গাড়িতে জায়গা আছে\\' উক্তিটি কার?\\n(ক) অনুপমের (খ) কল্যাণীর (গ) বিনুদাদার\\n৪৯। হরিশ কী উপলক্ষে কলকাতায় এসেছে?\\n\\n(ক) তীর্থ উপলক্ষে (খ) ছুটি উপলক্ষে (গ) পূজা উপলক্ষে\\n\\n&০। কাকে অনুপমের ভাগ্য দেবতা বলে উল্লেখ করা হয়েছে?\\n\\n(ক) হরিশকে (খ) মামাকে (গ) বিনুদাকে\\n&১। কার টাকার প্রতি আসক্তি বেশি?\\n\\n(ক) শস্তুনাথের (খ) কল্যাণীর (গ) অনুপমের\\n&২। \"কিছুদিন পূর্বে এমএ পাশ করিয়াছি\\'- উক্তিটি কার?\\n\\n(ক) মামার (খ) বিনুদার (গ) অনুপমের\\n৫৩। \\'একবার মামার কাছে কথাটা পাড়িয়া দেখ\\'- কথাটি কীসের?\\n(ক) দানের (খ) চাকরির (গ) বিয়ের\\n&৪। বিয়ের সময় কল্যাণীর প্রকৃত বয়স কত ছিল?\\n\\n(ক) ১৪ বছর (খ) ১৫ বছর (গ) ১৬ বছর\\n\\n35\\n\\n] ৯1৬11015\\n50172901-\\n\\n(ঘ) ১৭/১৮ বছর\\n\\n(ঘ) &/৬ জন\\n\\n(ঘ) অন্নপূর্ণার প্রতি\\n(ঘ) ২৭ বছর\\n\\n(ঘ) হেমন্তী\\n\\n(ঘ) অনুপমের\\n\\n(ঘ) বিয়ে উপলক্ষে\\n\\x0c\\n\\n[তলা ৯\\nঅনলাইন ব্যাচ\\n\\n] ৯1৬11015\\n\\n5011901\\n&৫। মামার বাহিরের যাত্রাপথের সীমানা কতদুর?\\n\\n(ক) আন্দামান পর্যন্ত (খ) কোন্নগর পর্যন্ত (গ) কানপুর পর্যন্ত (ঘ) হাওড়া পর্যন্ত\\n৫৬। বিবাহের কতদিন পূর্বে অনুপমের সাথে তার শ্বশুরের সাক্ষাৎ হয়?\\n\\n(ক) ২ দিন (খ) ৩ দিন (গ) ৪ দিন (ঘ) ৫ দিন\\n\\n&৭। \"তিনি বড়ই চুপচাপ\\' এখানে কার কথা বলা হয়েছে?\\n\\n(ক) মামা (খ) হরিশ (গ) শস্তুনাথ (ঘ) মা\\n\\n৫৮। \"তিনি কিছুতেই ঠকবেন না\\' কার প্রসঙ্গে বলা হয়েছে?\\n\\n(ক) মামা (খ) মা (গ) বিনুদাদা (ঘ) হরিশ\\n\\n&৯। \\'অপরিচিতা\\' গল্পে কোন সময় অনুপম বিনুদাদার বাড়িতে যেত?\\n\\n(ক) সন্ধায় (খ) রাতে (গ) দুপুরে (ঘ) বিকালে\\n\\n৬০। মেয়েটিকে অনুপমের ফটোগ্রাফ দেওয়ার কথা কে বলেছে?\\n\\n(ক) অনুপম (খ) বিনুদাদা (গ) মামা (ঘ) হরিশ\\n\\n৬১। রেল কর্মচারী কতটি টিকিট বেঞ্চে ঝুলিয়েছিলেন?\\n\\n(ক) দুইটি (খ) তিনটি (গ) চারটি (ঘ) পাঁচটি\\n\\n৬২। আর্দালিসহ ভ্রমণে বের হয়েছে কে?\\n\\n(ক) রেলওয়ে কর্মকর্তা (খ) ইংরেজ জেনারেল\\n\\n(গ) জমিদারের নায়েব (ঘ) রায় বাহাদুর সাহেব\\n\\n৬৩। একখানা বালা বেঁকে গেল কেন?\\n\\n(ক) খাদ নেই বলে (খ) খাদ বেশি বলে\\n\\n(গ) সোনা কম বলে (ঘ) পুরোনো গহনা বলে\\n\\n৬৪। \\'আমার জীবনটা না দৈর্ঘ্যের হিসাবে বড়, না গুণের হিসাবে\\' বলতে কী বোঝানো হয়েছে?\\n(ক) সংসার অনভিজ্ঞ (খ) কমবয়সী\\n\\n(গ) বিয়ের অনুপযুক্ত (ঘ) মামার ওপর নির্ভরশীল\\n\\n৬৫। \\'তোমার নাম কী?\\' - কল্যাণীকে কে জিজ্ঞাসা করল?\\n\\n(ক) অনুপম (খ) অনুপমের মা (গ) জেনারেল (ঘ) স্টেশন মাস্টার\\n৬৬। \\'আমার পিতা এক কালে গরিব ছিলেন\\' কার পিতা?\\n\\n(ক) অনুপমের (খ) কল্যাণীর (গ) হরিশের (ঘ) শস্তুনাথ বাবুর\\n৬৭। সরস রসনার গুণ আছে কার?\\n\\n(ক) হরিশের (খ) বিনুদাদার (গ) কল্যাণীর (ঘ) মামার\\n\\n৬৮। অত্যন্ত আঁট ভাষার বক্তা কে?\\n\\n(ক) হরিশ (খ) বিনুদাদা (গ) মামা (ঘ) শস্তুনা\\n\\n36\\n\\x0c\\n\\n05026.\\nত্ললাইল ভ্রয়নটা\" 1110)\\n19৫10\\n\\n৬৯। কার সঙ্গে পঞ্চশরের বিরোধ নেই বলে অনুপমের মনে হলো?\\n\\n(ক) গজাননের (খ) কার্তিকের (গ) প্রজাপতির (ঘ) অন্নপূর্ণা\\n৭০। সুপুরুষ বটে- কে?\\n\\n(ক) অনুপম (খ) হরিশ (গ) মামা (ঘ) শস্তুনাথ\\n৭১। চুল কীচা; গোঁফ পাক ধরেছে- কার?\\n\\n(ক) মামার (খ) শস্তুনাথের (গ) বিনুদাদার (ঘ) হরিশের\\n৭২। কল্যাণী কোন স্টেশন নেমে গেল?\\n\\n(ক) কোন্নগর (খ) কলিকাতা (গ) কানপুর (ঘ) হাওড়া\\n৭৩। ছোটবেলায় পণ্ডিত মশায় বিদ্রপ করত কেন?\\n\\n(ক) কুৎসিত এবং নিও্ণ হওয়ার কারণে (খ) কুৎসিত হয়ে গুণবান হওয়ার কারণে\\n(গ) সুদর্শন এবং গুণবান হওয়ার কারণে (ঘ) সুদর্শন হয়েও নিরও্ডণ হওয়ার কারণে\\n৭৪। অনুপমকে বিবাহ আসর থেকে ফিরিয়ে দেবার কারণ কী?\\n\\n(ক) অনুপমের ব্যক্তিত্বহীনতার কারণে (খ) মামার হীনম্মন্যতার কারণে\\n\\n(গ) গয়না নিয়ে মনোমালিন্যের কারণে (ঘ) কনের বাবার আত্মগরিমার কারণে\\n৭৫। \\'আমার পুরোপুরি বয়সই হলো না\\' কথাটি দ্বারা কী বোঝানো হয়েছে?\\n\\n(ক) তরুণ বয়সী (খ) অপরিণত বয়সী (গ) অতিনির্ভরশীল (ঘ) চিন্তায় অপরিণত\\n৭৬। \\'তামাকটুকু পর্যন্ত খাই না\\' উক্তিটি দ্বারা কী বোঝানো হয়েছে?\\n\\n(ক) তামাকক্ষতিকর (খ) তামাক অপছন্দ (গ) অতি ভালো মানুষ (ঘ) খাওয়ায় অরুচি\\n৭৭| কনের বয়স নিয়ে মন ভারি হওয়া সর্তবেও শেষ পর্যন্ত মামার মন নরম হলো কীভাবে?\\n\\n(ক) পণের আশ্বাসে (খ) কনের গুণমুপ্ধতায় (গ) হরিশের বাকপটুতায় (ঘ) বিনুদার ব্যবহারে\\n৭৮। মামার মন ভারি হলো কেন?\\n\\n(ক) পণের অঙ্ক সামান্য বলে (খ) মেয়ের শিক্ষা কম বলে\\n\\n(গ) মেয়ের বয়স বেশি বলে (ঘ) পণের অঙ্ক সামান্য বলে\\n\\n৭৯। \\'খাটি সোনা বটে!\\' বলতে বিনুদাদা কোনটিকে বুঝিয়েছে?\\n\\n(ক) বনেদী ঘর (খ) উপযুক্ত পাত্রী (গ) সুশীল পাত্র (ঘ) পণের গহনা\\n৮০। অনুপমের বাবা কী করে জীবিকা নির্বাহ করতেন?\\n\\n(ক) ডাক্তারি (খ) ওকালতি (গ) মাস্টারি (ঘ) ব্যবসা\\n\\n৮১। মামাকে ভাগ্য দেবতার প্রধান এজেন্ট বলা হয়েছে কেন?\\n\\n(ক) প্রতিপত্তিরজন্য (খ) প্রভাবের জন্য (গ) মতামতের জন্য (ঘ) কুটবুদ্ধির জন্য\\n\\n৮২। \\'অপরিচিতা\\' গল্পটি প্রথম গ্রন্থভক্ত হয় কোন গ্রন্থেঃ\\n(ক) গল্পগুচ্হ (খ) গল্পসংগ্রহ (গ) গল্পসপ্তক (ঘ) গল্পস্বল্পে\\n\\n37\\n\\x0c\\n\\n05026.\\nত্ললাইল ভ্রয়নটা\" 1110)\\n19৫10\\n\\n৮৩। অপরিচিতা গল্পের লেখক কে?\\n\\n(ক) শরৎচন্দ্র চট্টোপাধ্যায় (খ) ঈশ্বরচন্দ্র বিদ্যাসাগর\\n\\n(গ) মানিক বন্দ্যোপাধ্যায় (ঘ) রবীন্দ্রনাথ ঠাকুর\\n\\n৮৪। রবীন্দ্রনাথ ঠাকুর কত বঙ্গাব্দে জন্মগ্রহণ করেন?\\n\\n(ক) ১২৬১ (খ) ১২৬৮ (গ) ১২৭০ (ঘ) ১২৭২\\n৮৫। অনুপম আহারে বসতে পারল না কেন?\\n\\n(ক) তেমন ক্ষুধা ছিল না বলে (খ) আহার সুস্বাদু ছিল না বলে\\n\\n(গ) মন কষাকষি হয়েছিল বলে (ঘ) মামার অনুমতি ছিল না বলে\\n৮৬। রবীন্দ্রনাথ ঠাকুরের পিতার নাম কী?\\n\\n(ক) অবনীন্দ্রনাথ ঠাকুর (খ) শিবনাথ ঠাকুর\\n\\n(গ) দেবেন্দ্রনাথ ঠাকুর (ঘ) বীরেন্দ্রনাথ ঠাকুর\\n\\n৮৭। গায়ে হলুদ অনুষ্ঠান কেমন হলো?\\n\\n(ক) ধুমধাম করে (খ) হেলাফেলাভাবে (গ) অতি গোপনে (ঘ) সাদামাটাভাবে\\n৮৮। রবীন্দ্রনাথ ঠাকুর কোন অভিধায় সম্তাষিত হয়েছেন?\\n\\n(ক) শ্রেশ্ঠ কবি (খ) বিশ্বকবি (গ) চারণ কবি (ঘ) প্রবীণ কবি\\n৮৯। সাতাশ বছরের জীবনটা বড় নয়-\\n\\n|. দৈর্ঘ্যের হিসেবে\\n\\n|. গুণের হিসেবে\\n\\n॥1. তাৎপর্যের হিসেবে\\n\\nনিচের কোনটি সঠিক?\\n\\n(ক), 1 (খ)।, | (গ) 1, | (ঘ)।1,1, 1\\n৯০। \\'অপরিচিতা\\' গল্পে কথক তার পিতার পরিচয় ফুটিয়ে তুলতে যা বলেছেন-\\n\\n|. তিনি এককালে গরিব ছিলেন\\n\\n॥. ওকালতি করে তিনি প্রচুর টাকা রোজগার করেন\\n11. তিনি উপার্জিত টাকা ভোগ করার নিমেষমাত্র সময় পাননি\\n\\nনিচের কোনটি সঠিক?\\n\\n(ক), (খ)।, 1 (গ) |, || (ঘ)।,11, 1\\n৯১। \\'অপরিচিতা\\' গল্পে মা গরিব ঘরের মেয়ে হওয়ায় তিনি যে ধনী তা-\\n\\n|. নিজে ভোলেন না\\n\\n॥. মামাকে ভুলতে দেন না\\n\\n॥. অনুপমকে ভুলতে দেন না\\n\\nনিচের কোনটি সঠিক?\\n\\n(ক), (খ)।, 1 (গ) |, || (ঘ)।,11, 1\\n\\n38\\n\\x0c\\n\\n05026.\\nত্ললাইল ভ্রয়নটা\" 1110)\\n19৫10\\n\\n৯২। কোন তথ্যগুলো অনুপমের মামার ক্ষেত্রে প্রযোজ্য?\\n\\n|. মামাই অনুপমের অভিভাবক\\n\\n॥. তিনি অনুপমের চেয়ে বড়জোর বছর ছয়েকের বড়\\n\\n|. ফন্ধুর বালির মতো তিনি অনুপমের সংসার আঁকড়ে আছেন\\nনিচের কোনটি সঠিক?\\n\\n(ক)। | (খ)।, || (গ)।1, 1 (ঘ)।, 11,\\n৯৩। মামার পছন্দের বেয়াই এমন-\\n\\n1. যার তেজ নেই\\n\\n॥. টাকা দিতে কসুর করবে না\\n\\n॥1. যাকে শোষণ করা চলবে\\n\\nনিচের কোনটি সঠিক?\\n\\n(ক)। | (খ)।, || (গ)।1, 1 (ঘ)।, 11,\\n৯৪। হরিশের বর্ণনায় মেয়ের বাবার পরিচয় সম্পর্কে জানা যায়-\\n\\n|. এককালে তাদের বংশে লক্ষ্মীর মঙ্গলঘট উপুড় করা ছিল\\n\\n॥. দেশে বংশমর্যাদা রক্ষা করে চলা কঠিন বলে পশ্চিমে গিয়ে বাস করছেন\\n\\n1. কানপুরে তিনি একজন প্রতিষ্ঠিত ডাক্তার\\n\\nনিচের কোনটি সঠিক?\\n\\n(ক)। | (খ)।, || (গ)।1, 1 (ঘ)।, 11,\\n৯৫। \\'অপরিচিতা\\' গল্পের কনের বাপ কেন কেবলই সবুর করছেন?\\n\\n॥. লম্ষ্বীর মঙ্গলঘট শূন্য বলে\\n\\n॥. বরের হাট মহার্ঘ বলে\\n\\n|. যোগ্য বর খুঁজে না পাওয়ায়\\n\\nনিচের কোনটি সঠিক?\\n\\n(ক)। | (খ)।, || (গ)।1, 1 (ঘ)1,11, 11\\n৯৬। কন্যার রূপ-গুণের বর্ণনায় বিনুদাদা বলেছিলেন-\\n\\n|. মন্দ নয় হে\\n\\n॥. খাটি সোনা হে\\n\\n||. খাটি সোনা বটে\\n\\nনিচের কোনটি সঠিক?\\n\\n(ক)। | (খ)।, || (গ)।1, 1 (ঘ)।, 11,\\n\\n39\\n\\x0c\\n\\n[লল্দনে ৯\\nঅনলাইন ব্যাচ\\n\\n৯৭। \\'অপরিচিতা\\' গল্পে কন্যার পিতার পরিচয় ফুটিয়ে তুলতে বলা হয়েছে\\n\\n|. বয়স তার চল্লিশের কিছু এপারে বা ওপারে\\n\\n||. চুল কীচা, গোঁফে পাক ধরতে আরম্ত করেছে মাত্র\\n\\n|. ডাক্তারি করে অনেক টাকা কামিয়েছেন\\n\\nনিচের কোনটি সঠিক?\\n\\n(ক), (খ)।, 1 (গ) |, ||\\n৯৮। বিয়ের বরযাত্রায় বাদ্যযন্ত্র হিসেবে বাজানো হয়েছিল-\\n\\n|. ব্যাণ্ড\\n\\n||. বাঁশি\\n\\n||. শখের কন্র্ট\\n\\nনিচের কোনটি সঠিক?\\n\\n(ক), (খ)।, 1 (গ) |, ||\\n৯৯। বিয়েবাড়িতে ঢুকে মামার খুশি না হওয়ার কারণ-\\n\\n|. বরযাত্রীর তুলনায় উঠানটা সংকীর্ণ\\n\\n॥. সমস্ত আয়োজন নিতান্ত মধ্যম রকমের\\n\\n॥1. কনের পিতার ব্যবহারটাও নিতান্ত ঠান্ডা\\n\\nনিচের কোনটি সঠিক?\\n\\n(ক), (খ)।, 1 (গ)।1, 11\\n\\n১০০। শস্তুনাথ বাবুর উকিল বন্ধুর পরিচয় সম্পর্কে বলা হয়েছে-\\n\\n৷. গলা ভাঙা (উচ্চতর দক্ষতা)\\n\\n॥. মিশ-কালো\\n\\n||. বিপুল-শরীর\\n\\nনিচের কোনটি সঠিক?\\n\\n(ক), ॥ (খ)।, || (গ) |, 1\\n\\n409\\n\\n(ঘ)।,11, 11\\n\\n(ঘ)।,11, 11\\n\\n(ঘ)।,11, 11\\n\\n(ঘ)।,11, 11\\n\\n] ৯1৬11015\\n50172901-\\n\\x0c\\n\\n10১5৩\\n\\n \\n\\n \\n\\n৭০9\\n\\n৭৫\\n\\n৮০\\n\\n৮৫\\n\\n৯০\\n\\n৯৫\\n\\n১০০\\n\\n \\n\\n \\n\\n৬৯\\n\\n5৪\\n\\n৭৯\\n\\n৮৪\\n\\n৮৯\\n\\n৯৪\\n\\n৯১৯\\n\\n \\n\\n \\n\\n৬৮\\n\\n৭৩\\n\\n৭৮\\n\\n৮৩\\n\\n৮৮\\n\\n৯৩\\n\\n৯৮\\n\\n \\n\\n \\n\\n৬৪৭\\n\\n৭২\\n\\n৭৭\\n\\n৮২\\n\\n৮৭\\n\\n৯২\\n\\n৯৭\\n\\n \\n\\n \\n\\n \\n\\n \\n\\n \\n\\n \\n\\n \\n\\n \\n\\n \\n\\n \\n\\n \\n\\n৬ঙ\\n\\n৭১\\n\\n \\n\\n৭৬\\n\\n \\n\\n৮১\\n\\n৮৬\\n\\n \\n\\n৯১\\n\\n \\n\\n৯৬\\n\\n \\n\\n \\n\\n41\\n\\x0c\\n\\n05026.\\nত্ললাইল ভ্রয়নটা\" 1110)\\n19৫10\\n\\nসৃজনশীল প্রশ্ন\\n\\nপ্রশ্ন- ১: কন্যার বাপ সবুর করিতে পারিতেন, কিন্তু বরের বাপ সবুর করিতে চাহিলেন না। তিনি দেখিলেন,\\nমেয়েটির বিবাহের বয়স পার হইয়া গিয়াছে, কিন্তু আর কিছুদিন গেলে সেটাকে ভদ্র বা অভদ্র কোনো রকমে\\nচাপা দিবার সময়টাও পার হইয়া যাইবে। মেয়ের বয়স অবৈধ রকমে বাড়িয়া গিয়াছে বটে, কিন্তু পণের টাকার\\nআপেক্ষিক গুরুত্ব এখনো তাহার চেয়ে কিঞ্চিৎ উপরে আছে, সেইজন্য তাড়া।\\n\\n[রা.বো.; কু.বো.; চ.বো.; ব.বো. ২০১৮]\\nক. অনুপমের পিসতুতো ভাইয়ের নাম কী?\\nখ. “অন্নপূর্ণার কোলে গজাননের ছোট ভাইটি” - উক্তিটি ব্যাখ্যা কর।\\nগ. উদীপকের বরের বাপের সাথে “অপরিচিতা\" গল্পের অনুপমের মামার সাদৃশ্য ও বৈসাদৃশ্য নিরূপণ\\nকরো।\\nঘ. “উদ্দীপকের ঘটনাচিত্রে “অপরিচিতা\\' গল্পের খণ্ডাংশ প্রতিফলিত হয়েছে” - উক্তিটির তাৎপর্য\\nবিশ্লেষণ করো।\\n\\nসমাধান:\\nক. অনুপমের পিসতুতো ভাইয়ের নাম- বিনু।\\n\\nখ. প্রশ্নোক্ত উক্তিটিতে বাঙ্গার্থে দেবতা কার্তিকের সঙ্গে অনুপমের তুলনা করা হয়েছে।দেবী দুর্গার দুই পুত্র -\\nঅগ্রজ গণেশ ও অনুজ কার্তিকেয়। দেবী দুর্গার কোলে দেৰ সেনাপতি কার্তিকেয় অপূর্ব শোভা পায়। বড়ো\\nহয়েও অনুপম কার্তিকের মতো মায়ের কাছাকাছি থেকে মাতৃআজ্ঞা পালনে ব্যস্ত থাকে। তাই পরিণত বয়সেও\\nতার স্বাধীন ব্যক্তিত্বের বিকাশ ঘটে না। পাঠ্য গল্পের অনুপম পরিবারতন্ত্রের কাছে অসহায় ও ব্যক্তিত্বহীন একটি\\nচরিত্র। উচ্চ শিক্ষিত হলেও তার নিজস্বতা বলতে কিছু নেই। তাকে দেখলে মনে হয় আজও সে যেন মায়ের\\nকোলে থাকা শিশুমাত্র । এজন্যই ব্যক্ত করে অনুপমকে গজাননের ছোটো ভাই কার্তিকের সঙ্গে তুলনা করা\\nহয়েছে।\\nগ. যৌতুকের প্রতি মনোভাবের দিক থেকে উদ্দীপকের বরের বাপের সাথে “অপরিচিতা\\' গল্পের অনুপমের\\nমামার সাদৃশ্য ও বৈসাদৃশ্য দুটোই রয়েছে।\\n“অপরিচিতা\\' গল্পে অনুপমের মামা যৌতুকলোভী চরিত্র। তিনি অনুপমের বিয়ের জন্য একটি জুতসই ঘর\\nখুঁজছিলেন; যেখানে না চাইলেও অনেক টাকা যৌতুক পাওয়া যাবে। অনেক খোজাখুঁজির পর শন্তুনাথ সেনের\\nকন্যা কল্যাণীর সাথে মামা অনুপমের বিয়ে ঠিক করেন। বিয়ের দিনে মেয়ের বাড়ি থেকে দেয়া যৌতুকের গয়না\\nনিয়ে অনুপমের মামা হীন মানসিকতার পরিচয় দেন। গয়নাগুলো আসল না নকল তা পরীক্ষা করার জন্য তিনি\\nবিয়েবাড়িতে সেকরাকে সঙ্গে নিয়ে আসেন। উদ্দীপকের বরের বাবার মাঝেও যৌতুকলোভী মানসিকতার\\nপরিচয় পাওয়া যায়। কেননা বিয়ের জন্য মেয়ের বয়স বেশি হলেও যৌতুকের পরিমাণ তার চেয়ে বেশি বলে\\nতিনি এ বিয়ে নিয়ে তাগাদা দেন। উদ্দীপকের বরের বাবার যৌতুকলোভী মানসিকতার এ দিকটি “অপরিচিতা\\'\\nগল্পের অনুপমের মামার সাথে সাদৃশ্যপূর্ণ। কিন্তু অনুপমের মামা যেমন গয়না পরীক্ষা করার জন্য সেকরাকে\\nসাথে নিয়ে বিয়েবাড়িতে আসেন, তেমন বিষয় উদ্দীপকের বরের বাবার মাঝে দেখা যায় না। এছাড়া অনুপমের\\nমামা মেয়ের বাবাকে যেভাবে অপমান করেছে, সে বিষয়টিও উদ্দীপকের বরের বাবার মাঝে অনুপস্থিত।\\nসুতরাং বলতে পারি, যৌতুককে কেন্দ্র করে উভয় ঘটনা আবর্তিত হলেও উদ্দীপকের বরের বাপের সাথে\\n“অপরিচিতা\\' গল্পের অনুপমের মামার সাদৃশ্য ও বৈসাদৃশ্য দুটোই রয়েছে।\\n\\n42\\n\\x0c\\n\\n05026.\\nত্ললাইল ভ্রয়নটা\" 1110)\\n19৫10\\n\\nপ্রশ্»- ২: পড়াশুনা শেষ করে সবিতা এখন গ্রামের একটি সরকারি প্রাইমারি স্কুলে শিক্ষকতা করেন। বছর\\nকয়েক আগে শহরের এক ধনী ব্যবসায়ীর ছেলের সাথে তীর বিবাহ স্থির হয়। পাত্রপক্ষ বিয়েতে মোটা অঙ্কের\\nযৌতুক দাবি করলে তার আত্মসন্মানে আঘাত লাগে। সবিতা নিজেই যৌতুককে প্রত্যাখ্যান করে বিয়ে না করার\\nসিদ্ধান্তে অটল থাকেন। পিতামাতা ও সহকর্মীদের অনেক অনুরোধ সত্ত্বেও তিনি তীর চিন্তা-চেতনায় কোনো\\nপরিবর্তন আনেননি। তিনি ছাত্র-ছাত্রীদের প্রাণ। মায়ের মতো ভালোবাসা দিয়ে আগলে রাখেন সবাইকে। তিনি\\nবলেন, \"দেশকে মাতৃজ্ঞানে সেবা করা, দেশকে ভালোবাসা প্রত্যেকের কর্তব্য।\" পরহিতে জীবন উৎসর্গ করাই\\nতার ধর্ম।\\n\\n[ঢাকা বোর্ড: ২০২২]\\nক. অনুপমের বন্ধু হরিশ কোথায় কাজ করে?\\nখ. \"এইটে একবার পরখ করিয়া দেখো।\"- ব্যাখ্যা কর।\\nগ. \"উদ্দীপকের \\'সবিতা\\' ও \\'অপরিচিতা\\' গল্পের \\'কল্যাণী\\' উভয়েই যৌতুকের শিকার।\"- মন্তব্যটি\\nবিশ্লেষণ কর।\\nঘ. \"সবিতার দেশপ্রেম কল্যাণীর মাতৃআজ্ঞার সাথে একই সূত্রে গাথা ।\"- উক্তিটির যথার্থতা বিচার কর।\\n\\nসমাধান:\\n\\nক. অনুপমের বন্ধু হরিশ কানপুরে কাজ করে।\\n\\nখ. শস্তুনাথ সেন আলোচ্য উক্তির মধ্য দিয়ে একজোড়া এয়ারিং সেকরার হাতে দিয়ে তা খাঁটি সোনার কি না\\nপরখ করে দেখতে বলেছেন। \\'অপরিচিতা\\' গল্পের অনুপমের সঙ্গে শস্তুনাথ সেনের কন্যা কল্যাণীর বিয়ে ঠিক\\nহয়। কিন্তু অনুপমের মামার চরম যৌতুকলোভী মানসিকতার প্রকাশ ঘটে বিয়ের আসরে। যৌতুকের গহনা\\nকল্যাণীর শরীর থেকে খুলে পরীক্ষা করান অনুপমের মামা। তখন শন্তুনাথ সেন এক জোড়া এয়ারিং এগিয়ে\\nদেন সেকরার হাতে তা পরখ করে দেখার জন্য। কেননা সেটা ছিল অনুপমের মামার দেওয়া বিলাতি জিনিস,\\nযাতে সোনার ভাগ আছে সামান্যই।\\n\\nগ. \"উদ্দীপকের \\'সবিতা\\' ও \\'অপরিচিতা\\' গল্পের \\'কল্যাণী\\' উভয়েই যৌতুকের শিকার।\"- মন্তব্যটি যথার্থ।\\nযৌতুকপ্রথা একটি সামাজিক ব্যাধি। এটি আমাদের সমাজে ভয়াল রূপ ধারণ করেছে। বরপক্ষের দাবি পূরণ\\nকরতে কন্যার পিতাকে কখনো কখনো সর্বস্বান্ত হতে হয়। বিয়েতে যারা যৌতুক দাবি করে তারা\\nআত্মসম্মানবোধহীন অমানবিক প্রকৃতির লোক।\\n\\nউদ্দীপকে যৌতুকের জন্য বিয়ে ভেঙে যাওয়া এবং যৌতুক দিয়ে বিয়ে না করে আত্মনির্ভরশীল হয়ে\\nমানবকল্যাণে আত্মনিবেদনের দিকটি প্রতিফলিত হয়েছে। এখানে যৌতুককে প্রত্যাখ্যান করে বিয়ে না করার\\nসিদ্ধান্তে সবিতার অটল থাকার কথা বলা হয়েছে। উদ্দীপকের এ বিষয়টি \\'অপরিচিতা\\' গল্পের কল্যাণীর বিয়ে\\n\\n43\\n\\x0c\\n\\n[লে্ছল\\nতনলাইন ব্যাট” 1110)\\n19৫10\\n\\nনা করার সিদ্ধান্তে অটল থাকার সঙ্গে সাদৃশ্যপূর্ণ। পিতা-মাতা ও সহকর্মীদের অনেক অনুরোধ সত্তেও সবিতা\\nআর বিয়ে করতে চাননি। এ বিষয়টি \\'অপরিচিতা\\' গল্পের কল্যাণীর বিয়ে করতে না চাওয়ার সঙ্গে মিলে যায়।\\nউদ্দীপকে সাবিতাকে বিয়ে করতে আসা বর শহরের ধনী ব্যবসায়ীর ছেলে হলেও মোটা অঙ্কের যৌতুক দাবি\\nকরে লোভী মানসিকতার পরিচয় দিয়েছেন। অন্যদিকে \\'অপরিচিতা\\' গল্পে বরপক্ষ কল্যাণীর গহনা পরীক্ষা\\nকরতে বিয়েবাড়িতে সেকরা নিয়ে এসেছে এবং অত্যন্ত অমর্যাদাকরভাবে কনের শরীর থেকে গহনা খুলে নিয়ে\\nতা খাঁটি কি না পরীক্ষা করেছে। তাই কল্যাণীর বিয়ে হয়নি। এই দিক বিচারে বলা যায়, প্রশ্নোক্ত মন্তব্যটি\\nযথার্থ।\\n\\nঘ. \"সবিতার দেশপ্রেম কল্যাণীর মাতৃআজ্ঞার সাথে একই সূত্রে গাথা।\"- মন্তব্যটি যথার্থ।\\n\\nদেশসেবা মহৎ কাজ। যৌতুকলোভীদের অন্যায়ের সঙ্গে আপস না করে বহু নারী বিয়ে না করে মানবকল্যাণে\\nআত্মনিয়োগ করে থাকেন। এমনকি পরাধীন না থেকে আত্মনির্ভরশীল হয়ে স্বাধীনভাবে জীবনযাপন করেন।\\n\\'অপরিচিতা\\' গল্পে কল্যাণীর বাবা শস্তুনাথ সেন বরযাত্রীদের যথার্থ আপ্যায়ন শেষে বিয়ে ভেঙে দেন। কারণ\\nবিয়ের আসরে বরের মামা কনের শরীর থেকে খুলে এনে গহনা পরীক্ষা করতে চাইলে তিনি ব্যথিত হন। তাই\\nতিনি কোনো হীন মানসিকতার মানুষের সঙ্গে আত্মীয়তার সম্পর্কে জড়াতে চাননি। কল্যাণী তার বাবার\\nসিদ্ধান্তকে মেনে নিয়ে নিজের আত্মমর্যাদা ও ব্যক্তিত্বকে রক্ষা করেছে।\\' গল্পের কল্যাণীর এ সিদ্ধান্তের সঙ্গে\\nউদ্দীপকের সবিতার সিদ্ধান্ত সাদৃশ্যপূর্ণ। উদ্দীপকে সবিতার বাবা-মা ও সহকর্মীরা চাইলেও সবিতা বিয়ে না\\nকরার সিদ্ধান্তে অটল থেকেছে। এ বিষয়টি কল্যাণীর বিয়ে না করার সিদ্ধান্তের অনুরূপ।\\n\\n\\'অপরিচিতা\\' গল্পে অনুপমের সঙ্গে কল্যাণীর বিয়ে ভেঙে যায় পাত্র অনুপমের মামার লোভী মানসিকতা এবং\\nবিয়ের আসরে সেকরা দিয়ে কনের গহনা পরীক্ষা করার কারণে। উদ্দীপকের সবিতাও যৌতুকলোভী ধনী\\nব্যবসায়ী ছেলেকে বিয়ে করেননি। তিনি পড়াশুনা শেষ করে গ্রামের প্রাইমারি স্কুলে শিক্ষকতা শুরু করেন এবং\\nশিক্ষাদানের মাধ্যমে দেশসেবার কাজ বেছে নিয়েছেন। এসব দিক বিচারে তাই বলা যায়, প্রশ্নোক্ত মন্তব্যটি\\nযথার্থ।\\n\\n44\\n\\x0c\\n\\n19111\\nপ্রশ্থ- ৩: মাতৃক্সেহের তুলনা নাই, কিন্তু অতি শ্েহ অনেক সময় অমঙ্গল আনয়ন করে। যে শ্েহের উত্তাপে\\nসন্তানের পরিপষ্টি ভাহারই আধিক্যে সে অসহায় হইয়া পড়ে মাতৃহদয়ে মমতার প্রাবল্ে, মানুষ আপনাকে\\nহারাইয়া আপন শক্তির মর্যাদা বুঝিতে পারে না। দুর্বল অসহায় পক্ষীশাবকের মতো চিরদিন স্েহাতিশয্যে\\nআপনাকে সে একান্ত নির্ভরশীল মনে করে। ক্রমে জননীর পরম সম্পদ সন্তান অলস, ভীরু, দুর্বল ও\\nপরনির্ভরশীল হইয়া মনুষ্যত্ব বিকাশের পথ হইতে দুরে সরিয়া যায়।\\n\\n[রাজশাহী বোর্ড\\' ২০২২]\\nক. \\'রসনচৌকি\\' শব্দের অর্থ কী?\\nখ. \\'মামা বিবাহ-বাড়িতে ঢুকিয়া খুশি হইলেন না।\\'- কেন?\\nগ. মাতৃন্নেহের আধিক্যে \"পরনির্ভরশীল হইয়া মনুষ্যত্ব বিকাশের পথ হইতে দূরে সরিয়া যায়।\"\\nউদ্দীপকের এই মন্তব্যের সাদৃশ্যমূলক প্রভাব রয়েছে \\'অপরিচিতা\\' গল্পের অনুপম চরিত্রে- বুঝিয়ে লেখ।\\nঘ. \"উদ্দীপকে বর্ণিত মাতৃম্বেহের আধিক্যে অনুপম চরিত্রের বিকাশ ব্যাহত হয়েছে ঠিকই কিন্তু গল্পের\\nপরিণতিতে বৃত্তভাঙা ভিন্ন এক ব্যক্তি হিসেবে তাকে পাওয়া যায়।\"- মন্তব্যটি তোমার মতামতসহ যাচাই\\nকর।\\n\\nসমাধান:\\n\\nক. \\'রসনচৌকি\\' শব্দের অর্থ শানাই, ঢোল ও কাসি এই তিনটি বাদ্যযন্ত্রের সৃষ্ট একতানবাদন।\\n\\nখ. বিয়েবাড়িতে বরযাত্রীদের জায়গা সংকুলান না হওয়া এবং বিয়ের সমস্ত আয়োজন ও আতিথেয়তা\\nপ্রত্যাশিত না হওয়ায় মামা বিয়েবাড়িতে ঢুকে খুশি হলেন না।\\n\\nঅনুপম-কল্যাণীর বিয়ের অনুষ্ঠানে অনুপমের মামা বরযাত্রীসহ উপস্থিত হয়ে দেখতে পেলেন বিয়েবাড়িতে\\nবরযাত্রীদের জায়গা সংকুলান হচ্ছে না। কন্যার পিতা হিসেবে শস্তুনাথ সেনের ব্যবহারটাও মামার কাছে\\nনেহায়েত ঠান্ডা অনুভূত হয়। এমনকি তার বিনয়টাও যথাযথ ছিল না। তার পোশাক-পরিচ্ছদ, বাহ্যিক\\nসৌন্দর্যও মামার ভালো লাগেনি। তৎকালীন সমাজের সন্ত্বান্ত পরিবার হিসেবে বিয়েবাড়িতে কন্যাপক্ষের\\nকাছেযতটা জীকজমকপূর্ণ পরিবেশের মধ্য দিয়ে আদর-আপ্যায়ন প্রত্যাশা করেছিলেন সেই তুলনায় তা স্বল্প\\nহওয়ায় মামা বিয়েবাড়িতে ঢুকে খুশি হলেন না।\\n\\nগ. মাতৃম্েহের আধিক্যে \"পরনির্ভরশীল হইয়া মনুষ্যত্ব বিকাশের পথ হইতে দূরে সরিয়া যায়।\"- উদ্দীপকের এই\\nমন্তব্যের সাদৃশ্যমূলক প্রভাব রয়েছে \\'অপরিচিতা\\' গল্পের অনুপম চরিত্রে- মন্তব্যটি যথার্থ।\\n\\nমা সন্তানকে অধিক স্তরে করবেন এটাই স্বাভাবিক। কিন্তু সন্তানকে শুধু জ্লেহ করলেই চলে না, সেই সঙ্গে\\nসন্তানকে শাসন ও সুশিক্ষাও দিতে হয়। কারণ অতিরিক্ত স্ত্রেহ সন্তানকে লাগামছাড়া করে দেয় যা সন্তানের\\nজন্য ভালো নয়। অধিক স্ত্রেহ সন্তানের অমঙ্গল ডেকে আনে।\\n\\nসন্তানের পরিপুষ্টির জন্য মাতৃক্তেহ অপরিহার্য একথা ঠিক। কিন্তু স্নেহের আধিক্য সন্তানের জন্য ক্ষতির কারণ\\nহয়ে দাঁড়ায়। এতে করে সন্তান অন্যের ওপর নির্ভরশীল হয়ে থাকে। ধীরে ধীরে সে অলস, ভীরু ও কাপুরুষ হয়ে\\nপড়ে। উদ্দীপকে উল্লিখিত মাতৃক্রেহের আধিক্যে \"পরনির্ভরশীল হইয়া মনুষ্যত্ব বিকাশের পথ হইতে দুরে সরিয়া\\nযায়\" কথাটির অনেকখানিই \\'অপরিচিতা\\' গল্পের অনুপমের চরিত্রে দেখা যায়। বয়স সাতাশ হওয়া সত্তেও\\nঅতিরিক্ত স্রেহ-মমতায় বেড়ে ওঠা অনুপম যেন মায়ের কোলসংলগ্ন শিশুমাত্র। এসবের প্রধান কারণ\\nমাতৃক্সেহের আধিক্য। তাই বলা যায়, প্রশ্নোক্ত মন্তব্যটি যথার্থ।\\n\\n45\\n\\x0c\\n\\n05026.\\nত্ললাইল ভ্রয়নটা\" 1110)\\n19৫10\\n\\nঘ.\"উদ্দীপকে বর্ণিত মাতৃক্লেহের আধিক্যে অনুপম চরিত্রের বিকাশ ব্যাহত হয়েছে ঠিকই কিন্তু গল্পের\\nপরিণতিতে বৃত্তভাঙা ভিন্ন এক ব্যক্তি হিসেবে তাকে পাওয়া যায়।\"- মন্তব্যটি যুক্তিযুক্ত।\\nবিভিন্ন ধরনের সীমাবদ্ধতা মানুষের বিকাশের পথে অন্তরায় হয়ে দীড়ায়। মানুষ তখনই সুন্দর মানুষ হিসেবে\\nপ্রতিষ্ঠিত হয় যখন সে সীমাবদ্ধতার গণ্ডি পেরিয়ে অসীমের সন্ধান পায়। তখন মানুষের চিত্ত হয় ভয়শূন্য, আত্মা\\nখুঁজে পায় মুক্তিরস্বাদ।\\nউদ্দীপকে অতিরিক্ত মাতৃক্সেহের কুফল সম্পর্কে বলা হয়েছে। অতিরিক্ত ক্লেহ সন্তানের জীবন বিকাশের ক্ষেত্রে\\nএকটা দেয়াল তুলে দেয়। সেই দেয়াল পার হয়ে সন্তানের সঠিক বিকাশ ঘটে না। সে অসহায় ও দুর্বল থেকে\\nযায়। আর এই গপ্ডির মধ্যে সীমাবদ্ধ থাকার কারণে সে পরনির্ভরশীল হয়ে থাকে। \\'অপরিচিতা\\' গল্পের প্রথমার্ধে\\nঅনুপম চরিত্রে অনুরূপ সীমাবদ্ধতা লক্ষ করা যায়। সে অন্যায় জানা সত্তেও প্রতিবাদ না করে বিয়ের আসর\\nথেকে অপমানিত হয়ে ফিরে যায়। অনুপম একটি নির্দিষ্ট বলয়ে আটকে ছিল, কিন্তু গল্পের শেষে অনুপম তার\\nমা ও মামার তৈরি দেয়াল ভাঙতে সক্ষম হয়েছে।\\nঅপরিচিতা\\' গল্পে অবশেষে অনুপম তার মামা এবং মামার পরামর্শ ত্যাগ করে পূর্বের কৃতকর্মের জন্য\\nক্ষমাপ্রার্থনা করে কল্যাণী ও তার পিতার কাছে। উদ্দীপকে মাতৃ্তরেহের যে সীমাবদ্ধতার কথা বলা হয়েছে,\\nঅনুপম চরিত্রে তার প্রমাণ মিললেও গল্পের শেষার্ধে অনুপম সেই সীমাবদ্ধতা ভাঙতে সক্ষম হয়েছে। তাই বলা\\nযায় যে, প্রশ্নোক্ত মন্তব্যটি যুক্তিযুক্ত\\nপ্রশ্ন- ৪: সবেমাত্র ডাক্তারি পাস করে একটি বেসরকারি প্রতিষ্ঠানে চাকরিতে যোগদান করেছে পরেশ। এর\\nমধ্যেই তার বাবা তাকে না জানিয়ে পাশের গ্রামের সুন্দরী শিক্ষিতা এক মেয়ের সাথে বিয়ের ব্যবস্থা পাকা করে\\nফেলেছেন। ঘটকের মাধ্যমে পরেশ জানতে পেরেছে, ঘর সাজিয়ে দেওয়া ছাড়াও বরপক্ষকে মোটা অঙ্কের\\nটাকা দেওয়ার কথা রয়েছে। সবকিছু জানার পর, কোনো বিনিময় ছাড়াই পরেশ বিয়ের পক্ষে মত দেয় এবং\\nশেষ পর্যন্ত তার কথা সবাই মেনে নেয়।\\n\\n[কুমিল্লা বোর্ড: ২০২২]\\nক. বিবাহ ভাঙার পর হতে কল্যাণী কোন ব্রত গ্রহণ করে?\\nখ. \"এটা আপনাদের জিনিস, আপনাদের কাছেই থাক।\"- এরূপ মন্তব্যের কারণ কী?\\nগ. উদ্দীপকের পরেশ \"\\'অপরিচিতা\\' গল্পের কোন চরিত্রের বিপরীত? ব্যাখ্যা কর।\\nঘ. \\'অপরিচিতা\\' গল্পের উচ্দিষ্ট চরিত্র যদি উদ্দীপকের পরেশের মতো হতো, তাহলে গল্পের পরিণতি\\nকেমন হতো? বিশ্লেষণ কর।\\n\\nসমাধান:\\nক. বিবাহ ভাঙার পর হতে কল্যাণী মেয়েদের শিক্ষার ব্রত গ্রহণ করে।\\n\\nখ.\"এটা আপনাদের জিনিস, আপনাদের কাছেই থাক।\"- অনুপমের মামাকে উদ্দেশ করে এ মন্তব্যটি করেছেন\\nকল্যাণীর বাবা শস্তুনাথ সেন।\\n\\n\\'অপরিচিতা\\' গল্পে কল্যাণীর পিতা যখন দেখেন যে বরের মামা কন্যার গহনা যাচাই করার জন্য সঙ্গে করে\\nসেকরা নিয়ে এসেছেন তখনই মেয়ের বাবা শস্তুনাথ সেন সিদ্ধান্ত নেন যে, এমন লোভী ও হীন\\nমানসিকতাসম্পন্ন মানুষের ঘরে মেয়ে দেবেন না। কন্যাপক্ষের সমস্ত গহনা একে একে পরীক্ষা করা শেষ হলে\\n\\n46\\n\\x0c\\n\\n05026.\\nত্ললাইল ভ্রয়নটা\" 1110)\\n19৫10\\n\\nশস্তুনাথ সেন একজোড়া কানের দুল সেকরাকে পরীক্ষা করতে বলেন। সেকরা জানায় এ দুলে সোনার পরিমাণ\\nঅনেক কম আছে। এঁ কানের দুল অনুপমের মামা মেয়েকে আশীর্বাদ করার সময় দিয়েছিলেন। শস্তুনাথ সেন\\nঅনুপমের মামার হাতে কানের দুল জোড়া দিয়ে প্রশ্নোক্ত কথাটি বলেন। এ ঘটনায় অনুপমের মামা অপমানিত\\nবোধ করেন।\\n\\nগ. উদ্দীপকের পরেশ \\'অপরিচিতা\\' গল্পের অনুপম চরিত্রের বিপরীত।\\n\\nযথার্থ মূল্যবোধসম্পন্ন মানুষ কখনই অসংগতিকে মেনে নিতে পারেন না। যদি বলিষ্ঠ ব্যক্তিত্বের অধিকারী কেউ\\nহন তবে তিনি নিজেকে প্রতিষ্ঠিত করতে পারেন। আর যে ব্যক্তি বলিষ্ঠ ব্যক্তিত্বের অধিকারী হতে পারে না তার\\nজীবন হয় ব্যর্থ ও হতাশাগ্রস্ত।\\n\\nউদ্দীপকের পরেশ একজন বেসরকারি চাকরিজীবী। বাবা-মায়ের পছন্দের শিক্ষিতা সুন্দরী এক মেয়ের সঙ্গে\\nবিয়ে ঠিক হয় যৌতুক নেওয়ার বিনিময়ে। সবকিছু জানার পর পরেশ বিনিময় ছাড়া বিয়েতে রাজি হয় এবং\\nতার প্রস্তাবে সবাই সম্মতি দেয়। অন্যদিকে \\'অপরিচিতা\\' গল্পে অনুপম একজন ব্যক্তিত্বহীন মানুষ। সে তার মা\\nও মামার কথার বাইরে যেতে পারে না। চোখের সামনে অন্যায় হতে দেখেও প্রতিবাদ করতে পারে না। সে\\nশিক্ষিত হলেও নিজে কোনো সিদ্ধান্ত নিতে পারে না, যে কারণে কল্যাণীর সঙ্গে তার বিয়ে ভেঙে যায়। এমনকি\\nবিয়ের সভা থেকে আতিথেয়তা সম্পন্ন করে কল্যাণীর পিতা শস্তুনাথ সেন মেয়েকে ব্যক্তিত্বহীন ছেলের কাছে\\nসম্প্রদানে অসম্মতি জানান। তাই বলা যায়, উদ্দীপকের পরেশ \\'অপরিচিতা\\' গল্পের অনুপম চরিত্রের বিপরীত।\\n\\nঘ. \\'অপরিচিতা\\' গল্পের উদ্টিষ্ট চরিত্র যদি উদ্দীপকের পরেশের মতো হতো, তাহলে গল্পের পরিণতি ভিন্ন হতো।\\nস্বাধীন মত প্রকাশের জন্য সবার আগে প্রয়োজন সাহস ও উন্নত মানসিকতা। যাদের সেই সাহস নেই তারা\\nসহজেই অন্যের কাছে নিজের ইচ্ছাকে বিসর্জন দেয়। চোখের সামনে অন্যায় দেখলে ইচ্ছা থাকা সত্তেও তারা\\nএর প্রতিবাদ করতে পারে না।\\n\\n\\'অপরিচিতা\\' গল্পে অনুপম শিক্ষিত হলেও একজন ব্যক্তিত্বহীন চরিত্র। সে পরিবারতন্ত্রের কাছে অসহায়\\nপুতুলমাত্র। সে তার মা ও মামার ওপর নির্ভরশীল। গল্পের প্রথমার্ধে অনুপম চরিত্রে সীমাবদ্ধতা লক্ষ করা যায়।\\nমামার মতামতের ওপর ভিত্তি করে অনুপমের বিয়ের দিন ধার্য হলেও যৌতুক নিয়ে নারীর চরম\\nঅবমাননাকালে মেয়ের বাবা কন্যা সম্প্রদানে অসম্মতি জানান। সবকিছু দেখেও অনুপমের নীরব ভূমিকা তার\\nব্যক্তিত্বহীনতা প্রকাশ করে। সে অন্যায়ের প্রতিবাদ করতে পারে না বলে বিয়ের আসর থেকে অপমানিত হয়ে\\nফিরে আসে। অপরদিকে উদ্দীপকের পরেশ চরিত্রে ফুটে উঠেছে অনুপমের বিপরীত চরিত্র। সে বিনিময় ছাড়াই\\nবিয়ের পক্ষে মত দিয়ে তার ব্যক্তিত্বের বহিঃপ্রকাশ ঘটাতে সক্ষম হয়। এমনকি পরেশের সিদ্ধান্তই পরিবার মেনে\\nনেয়।\\n\\n\\'অপরিচিতা\\' গল্পের অনুপম যদি ব্যক্তিত্বসম্পন্ন যুবক হতো তাহলে কল্যাণী লগ্রভ্রষ্ট হতো না এমনকি\\nঅনুপমেরও বিয়ের আসর থেকে ফিরে আসতে হতো না। তাই বলা যায়, \\'অপরিচিতা\\' গল্পের উদ্দিষ্ট চরিত্র যদি\\nউদ্দীপকের পরেশের মতো হতো, তাহলে গল্পের পরিণতি ভিন্ন হতো।\\n\\nচে\\n\\x0c\\n\\n05026.\\nত্ললাইল ভ্রয়নটা\" 1110)\\n19৫10\\n\\nপ্রশ্ন- ৫:\\nতার দেওরের মেয়ে\\nঅভাগার সাথে তার বিবাহ ছিল ঠিকঠাক\\nলগ্ন শুভ, নিশ্চিত প্রমাণ পাওয়া গেল-\\nসেই লগ্নে এসেছি পালিয়ে।\\nমেয়েটা তো রক্ষা পেল\\nআমি তখৈবচ\\nঘরেতে এলো না সে তো, মনে তার নিত্য আসা যাওয়া\\nপরনে ঢাকাই শাড়ি, কপালে সিঁদুর।\"\\n[সিলেট বোর্ড ২০২২]\\nক. কল্যাণীর পিতার নাম কী?\\nখ. \"ঠাট্টা তো আপনিই করিয়া সারিয়াছেন।\"- ব্যাখ্যা কর।\\nগ. অনুপমের কল্পনায় অপরিচিতার সাথে উদ্দীপকের মেয়েটির তুলনা কর।\\nঘ. \\'সেই লগ্নে এসেছি পালিয়ে\\'- এ চরণের আলোকে বুঝিয়ে লেখ যে, উদ্দীপকের নায়কের মতো\\nঅনুপমের বিরহের জন্য নিজের অক্ষমতাই দায়ী।\\n\\nসমাধান:\\n\\nক. কল্যাণীর পিতার নাম শস্তুনাথ সেন।\\n\\nখ. \"ঠাট্টা তো আপনিই করিয়া সারিয়াছেন।\"- উক্তিটি শস্তুনাথ সেন বরের মামাকে উদ্দেশ করে বলেছিলেন।\\nউপস্থিত হন এবং গহনা পরীক্ষা করে দেখেন। মেয়ের বিয়েতে বাবা বেশি খাদ মেশানো সোনা দেবে বা মেয়ের\\nবিয়ের গহনায় চুরি করবে বলে যারা মনে করে তাদের কাছে মেয়ে বিয়ে দেওয়ার সিদ্ধান্ত থেকে সরে আসেন\\nশস্তুনাথ সেন। তিনি বরপক্ষকে খাওয়ানো শেষ করে বিদায় দেওয়া উপলক্ষে গাড়ি ডাকার কথা বললে বরের\\nমামা কিছু বুঝতে না পেরে আশ্চর্য হয়ে শস্তুনাথ বাবু ঠাট্টা করছেন কি না জানতে চান। জবারে তিনি প্রশ্নোক্ত\\nউক্তিটি করেন।\\n\\nগ. অনুপমের কল্পনায় অপরিচিতার সাথে উদ্দীপকের মেয়েটির বিয়ে ভাঙা সত্তেও পাত্রের হৃদয়ে স্থান করে\\nনেওয়ার বিষয়টির মিল লক্ষ করা যায়।\\n\\nবলিষ্ঠ ব্যক্তিত্ব মানুষের যাবতীয় সৌন্দর্যের শ্রেশ্ঠতম প্রকাশ। কিন্তু ব্যক্তিত্হীন মানুষের স্ব একবার ভেঙে\\nগেলে সে পুনরায় স্বপ্ দেখতে সংকোচবোধ করে। যে কারণে সে আপন সন্তার অপমান ঘটতে না দিয়ে জীবন\\nপলাতক হিসেবে পরিচয় বহন করে।\\n\\nউদ্দীপকে অভাগার সাথে পিসির দেওরের মেয়ের বিবাহের শুভ লগ্ন স্থির হলো। কিন্তু অভাগা নিজের\\nযোগ্যতার বিচার সাপেক্ষে মেয়ের জীবন বা ভবিষ্যৎ শঙ্কামুক্ত রাখার নিমিত্তে বিয়ের লগ্নে পালিয়ে গেল।\\nঅভাগা জীবন-পলাতক হলেও সে তার পিসির দেবরের মেয়েকে হৃদয়ে ধারণ করে। অন্যদিকে \\'অপরিচিতা\\'\\nগল্পে কল্যাণীর বিয়ে ঠিক হয়, কিন্তু বিয়ে হয়নি। বিয়ে না হলেও সন্বন্ধযুক্ত পাত্র অনুপম কল্যাণীকে ভালোবেসে\\n\\n48\\n\\x0c\\n\\n05026.\\nত্ললাইল ভ্রয়নটা\" 1110)\\n19৫10\\n\\nনিজ হৃদয়ে স্থান দিয়েছে। নিজের ব্যক্তিত্রহীনতাকে স্বীকার করে সারাটা জীবন কল্যাণীকে কল্পনায় রেখে\\nজীবনের পথ অতিক্রম করেছে। বিয়ে ভেঙে গেলেও উদ্দীপকের মেয়েটি এবং কল্যাণী উভয়ই উভয়ের\\nনির্ধারিত পাত্রের হৃদয়ে স্থান করে নিয়েছিল। তাই এ বিষয়টির মিল লক্ষ করা যায়।\\n\\nঘ. \\'সেই লগ্নে এসেছি পালিয়ে\\'- এ চরণের আলোকে উদ্দীপকের নায়কের মতো অনুপমের বিরহের জন্য\\nনিজের অক্ষমতাই দায়ী। মন্তব্যটি যথার্থ।\\n\\nসঠিক সময়ে সঠিক কাজ না করলে কখনই কাভিক্ষত লক্ষ্যে পৌছানো সম্ভব না। এজন্য সময়ের কাজ সময়ে\\nকরতে হয়। পরিবেশ পরিস্থিতিকে নিজের যোগ্যতাবলে অনুকূলে আনতে না পারলে জীবনভর অনুশোচনায়\\nভুগে মরতে হয়।\\n\\n\\'অপরিচিতা\\' গল্পে অনুপমের বিয়ে ভেঙে গেলে সে বিরহে জর্জরিত হয়। তবে অনুপমের বিরহের জন্য সে\\nনিজেই দায়ী। বিয়ের সভায় যৌতুক নিয়ে গোলযোগ বাধলে সেখানে অনুপম নীরব ছিল। সে কারণে কল্যাণীর\\nবাবা কন্যা-সম্প্রদানে অসম্মতি প্রকাশ করেন। অন্যদিকে উদ্দীপকেও অভাগা নিজের অযোগ্যতা অনুধাবন\\nকরতে পারে এবং বিয়ো লগ্নে পালিয়ে যায়।\\n\\nউদ্দীপকের অভাগার বিরহের জন্য তার অযোগ্যতাই দায়ী। \\'অপরিচিতা\\' গল্পে মনস্তাপে বা বিরহে ভেঙে পড়া\\nএক ব্যক্তিত্বহীন যুবক অনুপম। তার বিরহের জন্য সে নিজেই দায়ী, কারণ বিরহের মূল কারণ তার অক্ষমতা।\\nতাই বলা যায়, \\'সেই লগ্নে এসেছি পালিয়ে\\'- এ চরণের আলোকে উদ্দীপকের নায়কের মতো অনুপমের\\nবিরহের জন্য তার নিজের অক্ষমতাই দায়ী। সুতরাং মন্তব্যটি যথার্থ।\\n\\n49\\n\\x0c\\n\\n'"
            ],
            "application/vnd.google.colaboratory.intrinsic+json": {
              "type": "string"
            }
          },
          "metadata": {},
          "execution_count": 62
        }
      ]
    },
    {
      "cell_type": "markdown",
      "source": [
        "Let's Preprocess the text first, then we will make chunking for embedding"
      ],
      "metadata": {
        "id": "5tjGcUS12BDZ"
      }
    },
    {
      "cell_type": "code",
      "source": [
        "import re\n",
        "\n",
        "def clean_text_for_rag(text):\n",
        "    # Normalize multiple line breaks to paragraph breaks\n",
        "    text = text.replace('\\r', '')\n",
        "    text = re.sub(r'\\n{3,}', '\\n\\n', text)   # 3+ newlines → 2 newlines\n",
        "    text = re.sub(r'(?<!\\n)\\n(?!\\n)', ' ', text)  # single \\n not between paragraphs → space\n",
        "    return text.strip()"
      ],
      "metadata": {
        "id": "xGRZbNMCzeWL"
      },
      "execution_count": 66,
      "outputs": []
    },
    {
      "cell_type": "code",
      "source": [
        "cleaned_text = clean_text_for_rag(full_text)"
      ],
      "metadata": {
        "id": "yk7Pwbjk2R0E"
      },
      "execution_count": 67,
      "outputs": []
    },
    {
      "cell_type": "code",
      "source": [
        "# Save the extracted text\n",
        "with open(\"cleaned.txt\", \"w\", encoding=\"utf-8\") as f:\n",
        "    f.write(cleaned_text)"
      ],
      "metadata": {
        "id": "gdpf5UoF2een"
      },
      "execution_count": 69,
      "outputs": []
    },
    {
      "cell_type": "code",
      "metadata": {
        "id": "90adb3e8"
      },
      "source": [
        "# Load the text from the .txt file\n",
        "try:\n",
        "    with open(\"ocr_text_pymupdf.txt\", \"r\", encoding=\"utf-8\") as f:\n",
        "        full_text = f.read()\n",
        "    print(\"Successfully loaded text from ocr_text_pymupdf.txt\")\n",
        "except FileNotFoundError:\n",
        "    print(\"Error: ocr_text_pymupdf.txt not found.\")\n",
        "    full_text = None\n",
        "\n",
        "# Display the first 1000 characters to verify\n",
        "if full_text:\n",
        "    print(full_text[:1000])"
      ],
      "execution_count": null,
      "outputs": []
    }
  ]
}