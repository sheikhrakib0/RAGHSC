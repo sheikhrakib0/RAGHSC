{
  "cells": [
    {
      "cell_type": "markdown",
      "metadata": {
        "id": "view-in-github",
        "colab_type": "text"
      },
      "source": [
        "<a href=\"https://colab.research.google.com/github/sheikhrakib0/RAGHSC/blob/main/10MRAGPipeline.ipynb\" target=\"_parent\"><img src=\"https://colab.research.google.com/assets/colab-badge.svg\" alt=\"Open In Colab\"/></a>"
      ]
    },
    {
      "cell_type": "markdown",
      "metadata": {
        "id": "t6ddiIXbInb9"
      },
      "source": [
        "**AI Engineer (Level-1) — Technical Assessment**\n",
        "\n",
        "**Project Structure**\n",
        "\n",
        "\n",
        "**Step 1:** Data Loading and Preprocessing Section\n",
        "\n",
        "**Step 2:** Chunking for retrieval process\n",
        "\n",
        "**Step 3:** Embedding\n",
        "\n",
        "**Step 4:** RETRIEVE Function\n",
        "\n",
        "**Step 5:** Generating Funtion\n",
        "\n",
        "**Step 6:** RAG Pipeline\n",
        "\n",
        "**Step 7:** Testing with Sample\n",
        "\n",
        "\n",
        "**Bonus Task:**\n",
        "Time shortage (:"
      ]
    },
    {
      "cell_type": "code",
      "execution_count": null,
      "metadata": {
        "id": "XsgB9Cm8fVK-"
      },
      "outputs": [],
      "source": [
        "import numpy as np\n",
        "import pandas as pd"
      ]
    },
    {
      "cell_type": "markdown",
      "metadata": {
        "id": "Er_8QNiUbJKF"
      },
      "source": [
        "**Step 1: Data Loading and Preprocessing Section**"
      ]
    },
    {
      "cell_type": "code",
      "execution_count": null,
      "metadata": {
        "colab": {
          "base_uri": "https://localhost:8080/",
          "height": 110
        },
        "id": "d5f446ca",
        "outputId": "7fe1f5cb-7126-4f28-c33a-e3184c0f6711"
      },
      "outputs": [
        {
          "name": "stderr",
          "output_type": "stream",
          "text": [
            "Downloading...\n",
            "From: https://drive.google.com/uc?id=19h7t3xVNBS5KR9o2sLMh3i2uaje7ww7n\n",
            "To: /content/downloaded_pdf.pdf\n",
            "100%|██████████| 1.26M/1.26M [00:00<00:00, 13.5MB/s]\n"
          ]
        },
        {
          "data": {
            "application/vnd.google.colaboratory.intrinsic+json": {
              "type": "string"
            },
            "text/plain": [
              "'downloaded_pdf.pdf'"
            ]
          },
          "execution_count": 3,
          "metadata": {},
          "output_type": "execute_result"
        }
      ],
      "source": [
        "#First we need to download the pdf from the location then preprocess it\n",
        "import gdown\n",
        "\n",
        "# Replacing with Google Drive file ID\n",
        "google_drive_file_id = '19h7t3xVNBS5KR9o2sLMh3i2uaje7ww7n'\n",
        "output_filename = 'downloaded_pdf.pdf'\n",
        "\n",
        "gdown.download(f'https://drive.google.com/uc?id={google_drive_file_id}', output_filename, quiet=False)"
      ]
    },
    {
      "cell_type": "code",
      "execution_count": null,
      "metadata": {
        "colab": {
          "base_uri": "https://localhost:8080/"
        },
        "collapsed": true,
        "id": "SdIxz2gZwgTT",
        "outputId": "ed5782f8-4553-4744-dd48-f5d36c259391"
      },
      "outputs": [
        {
          "name": "stdout",
          "output_type": "stream",
          "text": [
            "Reading package lists... Done\n",
            "Building dependency tree... Done\n",
            "Reading state information... Done\n",
            "tesseract-ocr is already the newest version (4.1.1-2.1build1).\n",
            "0 upgraded, 0 newly installed, 0 to remove and 35 not upgraded.\n",
            "Reading package lists... Done\n",
            "Building dependency tree... Done\n",
            "Reading state information... Done\n",
            "The following additional packages will be installed:\n",
            "  libarchive-dev libleptonica-dev\n",
            "The following NEW packages will be installed:\n",
            "  libarchive-dev libleptonica-dev libtesseract-dev\n",
            "0 upgraded, 3 newly installed, 0 to remove and 35 not upgraded.\n",
            "Need to get 3,743 kB of archives.\n",
            "After this operation, 16.0 MB of additional disk space will be used.\n",
            "Get:1 http://archive.ubuntu.com/ubuntu jammy-updates/main amd64 libarchive-dev amd64 3.6.0-1ubuntu1.5 [581 kB]\n",
            "Get:2 http://archive.ubuntu.com/ubuntu jammy/universe amd64 libleptonica-dev amd64 1.82.0-3build1 [1,562 kB]\n",
            "Get:3 http://archive.ubuntu.com/ubuntu jammy/universe amd64 libtesseract-dev amd64 4.1.1-2.1build1 [1,600 kB]\n",
            "Fetched 3,743 kB in 1s (3,956 kB/s)\n",
            "debconf: unable to initialize frontend: Dialog\n",
            "debconf: (No usable dialog-like program is installed, so the dialog based frontend cannot be used. at /usr/share/perl5/Debconf/FrontEnd/Dialog.pm line 78, <> line 3.)\n",
            "debconf: falling back to frontend: Readline\n",
            "debconf: unable to initialize frontend: Readline\n",
            "debconf: (This frontend requires a controlling tty.)\n",
            "debconf: falling back to frontend: Teletype\n",
            "dpkg-preconfigure: unable to re-open stdin: \n",
            "Selecting previously unselected package libarchive-dev:amd64.\n",
            "(Reading database ... 126284 files and directories currently installed.)\n",
            "Preparing to unpack .../libarchive-dev_3.6.0-1ubuntu1.5_amd64.deb ...\n",
            "Unpacking libarchive-dev:amd64 (3.6.0-1ubuntu1.5) ...\n",
            "Selecting previously unselected package libleptonica-dev.\n",
            "Preparing to unpack .../libleptonica-dev_1.82.0-3build1_amd64.deb ...\n",
            "Unpacking libleptonica-dev (1.82.0-3build1) ...\n",
            "Selecting previously unselected package libtesseract-dev:amd64.\n",
            "Preparing to unpack .../libtesseract-dev_4.1.1-2.1build1_amd64.deb ...\n",
            "Unpacking libtesseract-dev:amd64 (4.1.1-2.1build1) ...\n",
            "Setting up libleptonica-dev (1.82.0-3build1) ...\n",
            "Setting up libarchive-dev:amd64 (3.6.0-1ubuntu1.5) ...\n",
            "Setting up libtesseract-dev:amd64 (4.1.1-2.1build1) ...\n",
            "Processing triggers for man-db (2.10.2-1) ...\n",
            "Collecting pymupdf\n",
            "  Downloading pymupdf-1.26.3-cp39-abi3-manylinux_2_28_x86_64.whl.metadata (3.4 kB)\n",
            "Downloading pymupdf-1.26.3-cp39-abi3-manylinux_2_28_x86_64.whl (24.1 MB)\n",
            "\u001b[2K   \u001b[90m━━━━━━━━━━━━━━━━━━━━━━━━━━━━━━━━━━━━━━━━\u001b[0m \u001b[32m24.1/24.1 MB\u001b[0m \u001b[31m72.2 MB/s\u001b[0m eta \u001b[36m0:00:00\u001b[0m\n",
            "\u001b[?25hInstalling collected packages: pymupdf\n",
            "Successfully installed pymupdf-1.26.3\n",
            "Reading package lists... Done\n",
            "Building dependency tree... Done\n",
            "Reading state information... Done\n",
            "The following NEW packages will be installed:\n",
            "  tesseract-ocr-ben\n",
            "0 upgraded, 1 newly installed, 0 to remove and 35 not upgraded.\n",
            "Need to get 516 kB of archives.\n",
            "After this operation, 870 kB of additional disk space will be used.\n",
            "Get:1 http://archive.ubuntu.com/ubuntu jammy/universe amd64 tesseract-ocr-ben all 1:4.00~git30-7274cfa-1.1 [516 kB]\n",
            "Fetched 516 kB in 1s (759 kB/s)\n",
            "debconf: unable to initialize frontend: Dialog\n",
            "debconf: (No usable dialog-like program is installed, so the dialog based frontend cannot be used. at /usr/share/perl5/Debconf/FrontEnd/Dialog.pm line 78, <> line 1.)\n",
            "debconf: falling back to frontend: Readline\n",
            "debconf: unable to initialize frontend: Readline\n",
            "debconf: (This frontend requires a controlling tty.)\n",
            "debconf: falling back to frontend: Teletype\n",
            "dpkg-preconfigure: unable to re-open stdin: \n",
            "Selecting previously unselected package tesseract-ocr-ben.\n",
            "(Reading database ... 126417 files and directories currently installed.)\n",
            "Preparing to unpack .../tesseract-ocr-ben_1%3a4.00~git30-7274cfa-1.1_all.deb ...\n",
            "Unpacking tesseract-ocr-ben (1:4.00~git30-7274cfa-1.1) ...\n",
            "Setting up tesseract-ocr-ben (1:4.00~git30-7274cfa-1.1) ...\n",
            "Collecting pytesseract\n",
            "  Downloading pytesseract-0.3.13-py3-none-any.whl.metadata (11 kB)\n",
            "Requirement already satisfied: packaging>=21.3 in /usr/local/lib/python3.11/dist-packages (from pytesseract) (25.0)\n",
            "Requirement already satisfied: Pillow>=8.0.0 in /usr/local/lib/python3.11/dist-packages (from pytesseract) (11.3.0)\n",
            "Downloading pytesseract-0.3.13-py3-none-any.whl (14 kB)\n",
            "Installing collected packages: pytesseract\n",
            "Successfully installed pytesseract-0.3.13\n"
          ]
        }
      ],
      "source": [
        "# For pdf Loading\n",
        "######################## Finally something working Perfectly ###################################\n",
        "# The technique used is Optical Character Recognition (OCR) with tesseract, which extracts\n",
        "# text from the image representation of the PDF rather than relying on embedded text data.\n",
        "!sudo apt install tesseract-ocr -y\n",
        "!sudo apt install libtesseract-dev -y\n",
        "\n",
        "!pip install pymupdf  #for pdf to image before OCR\n",
        "!sudo apt install tesseract-ocr-ben -y  # For Bengali (ben)\n",
        "!pip install pytesseract"
      ]
    },
    {
      "cell_type": "code",
      "execution_count": null,
      "metadata": {
        "id": "Q725HLU9cZZE"
      },
      "outputs": [],
      "source": [
        "import pytesseract\n",
        "\n",
        "# Set the Tesseract path explicitly (Colab installs it in /usr/bin/tesseract)\n",
        "pytesseract.pytesseract.tesseract_cmd = '/usr/bin/tesseract'"
      ]
    },
    {
      "cell_type": "code",
      "execution_count": null,
      "metadata": {
        "id": "daqUodh_dLgB"
      },
      "outputs": [],
      "source": [
        "import re\n",
        "\n",
        "#Cleaning Function\n",
        "def clean_text_for_rag(text):\n",
        "    # Normalize multiple line breaks to paragraph breaks\n",
        "    text = text.replace('\\r', '')\n",
        "    text = re.sub(r'\\n{3,}', '\\n\\n', text)   # 3+ newlines → 2 newlines\n",
        "    text = re.sub(r'(?<!\\n)\\n(?!\\n)', ' ', text)  # single \\n not between paragraphs → space\n",
        "    return text.strip()"
      ]
    },
    {
      "cell_type": "code",
      "execution_count": null,
      "metadata": {
        "collapsed": true,
        "id": "Fp2VVJDbl-G8"
      },
      "outputs": [],
      "source": [
        "import fitz  # PyMuPDF\n",
        "from PIL import Image\n",
        "import pytesseract\n",
        "\n",
        "doc = fitz.open(\"downloaded_pdf.pdf\")"
      ]
    },
    {
      "cell_type": "code",
      "execution_count": null,
      "metadata": {
        "id": "xTr-O3ERclNK"
      },
      "outputs": [],
      "source": [
        "\n",
        "# Open the PDF and extract text\n",
        "def preprocessor(doc):\n",
        "  full_text = \"\"\n",
        "  for page_num in range(len(doc)):\n",
        "    page = doc.load_page(page_num)\n",
        "    pix = page.get_pixmap(dpi=300)\n",
        "    img = Image.frombytes(\"RGB\", [pix.width, pix.height], pix.samples)\n",
        "    text = pytesseract.image_to_string(img, lang='ben')\n",
        "    full_text += text + \"\\n\\n\"\n",
        "    cleaned_text = clean_text_for_rag(full_text)\n",
        "  return cleaned_text"
      ]
    },
    {
      "cell_type": "code",
      "execution_count": null,
      "metadata": {
        "id": "P9H2tI5HdU2_"
      },
      "outputs": [],
      "source": [
        "#checking\n",
        "cleaned_text = preprocessor(doc) #doc should be defined first. it's the raw file"
      ]
    },
    {
      "cell_type": "code",
      "execution_count": null,
      "metadata": {
        "id": "BlPrdYtWdb94"
      },
      "outputs": [],
      "source": [
        "# Save the extracted text for future use\n",
        "with open(\"cleaned.txt\", \"w\", encoding=\"utf-8\") as f:\n",
        "    f.write(cleaned_text)"
      ]
    },
    {
      "cell_type": "markdown",
      "metadata": {
        "id": "L1KQDGKVeHrY"
      },
      "source": [
        "**Loading and Preprocessing Complete**\n",
        "\n",
        "The Text file contains clean, formated text"
      ]
    },
    {
      "cell_type": "code",
      "execution_count": null,
      "metadata": {
        "colab": {
          "base_uri": "https://localhost:8080/"
        },
        "collapsed": true,
        "id": "D_Fm-QHEDjx9",
        "outputId": "9bd2637e-33b7-4e67-ecfc-74974fbdaad9"
      },
      "outputs": [
        {
          "name": "stdout",
          "output_type": "stream",
          "text": [
            "Successfully loaded text from ocr_text_pymupdf.txt\n",
            "অপরিচিতা\n",
            "\n",
            "অনলাইন ব্যাচ সম্পর্কিত যেকোনো জিজ্ঞাসায়,\n",
            "\n",
            "কল করো 16919\n",
            "\n",
            "আনলাইন ব্যাচ”\n",
            "\n",
            "শিখনফল\n",
            "1. নিম্নবিত্ত ব্যক্তির হঠাৎ বিত্তশালী হয়ে ওঠার ফলে সমাজে পরিচয় সংকট সম্পর্কে ধারণা লাভ করবে। \n",
            "2. তৎকালীন সমাজ-সভ্যতা ও মানবতার অবমাননা সম্পর্কে জানতে পারবে। \n",
            "3. তৎকালীন সমাজের পণপ্রথার কুপ্রভাব সম্পর্কে জানতে পারবে।\n",
            "4. তৎকালে সমাজে ভদ্রলোকের স্বভাববৈশিষ্ট্য সম্পর্কে জ্ঞানলাভ করবে।\n",
            "5. নারী কোমল ঠিক, কিন্তু দুর্বল নয়- কল্যাণীর জীবনচরিত দ্বারা প্রতিষ্ঠিত এই সত্য অনুধাবন করতে পারবে। \n",
            "6. মানুষ আশা নিয়ে বেঁচে \n"
          ]
        }
      ],
      "source": [
        "# Load the text from the cleaned.txt file from the local, if stored\n",
        "try:\n",
        "    with open(\"cleaned.txt\", \"r\", encoding=\"utf-8\") as f:\n",
        "        cleaned_text = f.read()\n",
        "    print(\"Successfully loaded text from ocr_text_pymupdf.txt\")\n",
        "except FileNotFoundError:\n",
        "    print(\"Error: ocr_text_pymupdf.txt not found.\")\n",
        "    cleaned_text = None\n",
        "\n",
        "# Display the first 1000 characters to verify\n",
        "if cleaned_text:\n",
        "    print(cleaned_text[:500])"
      ]
    },
    {
      "cell_type": "markdown",
      "metadata": {
        "id": "8wEXAhHtG9MT"
      },
      "source": [
        "**Step 2: Chunking for retrieval process**\n",
        "\n",
        "N.B: Chunking has been done by character here. There are more chunking methods.\n"
      ]
    },
    {
      "cell_type": "code",
      "execution_count": null,
      "metadata": {
        "id": "m1w7WVK6HCtU"
      },
      "outputs": [],
      "source": [
        "# as a text splitter we are using CharacterTextSplitter from Langchain framework\n",
        "from langchain.text_splitter import RecursiveCharacterTextSplitter"
      ]
    },
    {
      "cell_type": "code",
      "execution_count": null,
      "metadata": {
        "id": "Z31Yuz1BHFGf"
      },
      "outputs": [],
      "source": [
        "# chunk by character\n",
        "def split_docs(cleaned_text):\n",
        "    text_splitter = RecursiveCharacterTextSplitter(chunk_size=1000, chunk_overlap=100)\n",
        "    chunks = text_splitter.create_documents([cleaned_text])\n",
        "    return chunks"
      ]
    },
    {
      "cell_type": "code",
      "execution_count": null,
      "metadata": {
        "id": "pjiQWN2gcS4B"
      },
      "outputs": [],
      "source": [
        "#chunk by sentences\n",
        "import re\n",
        "\n",
        "def sentence_chunker(text, max_chunk_size=1000):\n",
        "    # Step 1: Split text into sentences\n",
        "    sentences = re.split(r'(?<=[।!?])\\s+', text.strip())\n",
        "\n",
        "    # Step 2: Combine sentences into chunks under the size limit\n",
        "    chunks = []\n",
        "    current_chunk = \"\"\n",
        "\n",
        "    for sentence in sentences:\n",
        "        # If adding sentence keeps chunk under limit\n",
        "        if len(current_chunk) + len(sentence) <= max_chunk_size:\n",
        "            current_chunk += sentence + \" \"\n",
        "        else:\n",
        "            chunks.append(current_chunk.strip())\n",
        "            current_chunk = sentence + \" \"\n",
        "\n",
        "    # Append remaining chunk\n",
        "    if current_chunk:\n",
        "        chunks.append(current_chunk.strip())\n",
        "\n",
        "    return chunks\n"
      ]
    },
    {
      "cell_type": "code",
      "execution_count": null,
      "metadata": {
        "id": "dBBXU54qH3xl"
      },
      "outputs": [],
      "source": [
        "# testing the function\n",
        "all_chunks = split_docs(cleaned_text)\n",
        "all_chunks2 = sentence_chunker(cleaned_text)"
      ]
    },
    {
      "cell_type": "code",
      "execution_count": null,
      "metadata": {
        "colab": {
          "base_uri": "https://localhost:8080/"
        },
        "collapsed": true,
        "id": "TjwllH7pbvmp",
        "outputId": "ad8e1abf-d5bc-4512-ca49-22439c30dd93"
      },
      "outputs": [
        {
          "data": {
            "text/plain": [
              "Document(metadata={}, page_content='ফলের মতো হয় তাহলে তার অসম্পূর্ণ সারবস্তা প্রকট হয়ে\\n\\nওঠে। নিজের নি্ষল জীবনকে বোঝাতে অনুপমের ব্যবহৃত পমা।\\n\\n \\n\\nঅন্নপূর্ণা\\n\\nঅন্নে পরিপূর্ণা। দেবী দুর্গা\\n\\nদেবী দুর্গার দুই পুত্র; অগ্রজ গণেশ ও অনুজ কাতিকেয়। দুর্গার কোলে থাকা দেব-সেনাপতি কার্তিকেয়কে বোঝানো হয়েছে। ব্যঙ্গার্থে প্রয়োগ।\\n\\n \\n\\nভূষণ, প্রসাধন, শোভা। ভাষার মাধুর্য ও উৎকর্ষ বৃদ্ধি করে এমন গুণ।\\n\\n \\n\\nভারতের গয়া অঞ্চলের অন্তঃসলিলা নদী। নদীটির ওপরের অংশে বালির আস্তরণ কিন্তু ভিতরে জলম্বোত প্রবাহিত।\\n\\n \\n\\nঅনুপম তার মামার চরিত্র-বৈশিষ্ট্য প্রসঙ্গে কথাটি বলেছে। সংসারের সমস্ত দায়-দায়িত্ব পালনে তার ভূমিকা এখানে উপমার মাধ্যমে ব্যক্ত করা হয়েছে\\n\\n \\n\\nস্বয়ংবরা\\n\\nযে মেয়ে নিজেই স্বামী নির্বাচন করে\\n\\n \\n\\nগুড়গুড়ি\\n\\nআলবোলা। ফরসি। দীর্ঘ নলযুক্ত হুকাবিশেষ\\n\\n \\n\\nবাঁধা হুকা\\n\\nসাধারণ মানুষের ব্যবহার্য নারকেল-খোলে তৈরি ধূমপানের যন্ত্রবিশেষ\\n\\n \\n\\nউমেদারি\\n\\nপ্রার্থনা। চাকরির আশায় অন্যের কাছে ধরনা দেওয়া।\\n\\n \\n\\nঅবকাশের মরুভূমি এক কালে ইহাদের বংশে লক্ষ্বীর\\n\\nমঙ্গলঘট ভরা ছিল।')"
            ]
          },
          "execution_count": 74,
          "metadata": {},
          "output_type": "execute_result"
        }
      ],
      "source": [
        "all_chunks[2]"
      ]
    },
    {
      "cell_type": "markdown",
      "metadata": {
        "id": "VMF-0oh5Sdy1"
      },
      "source": [
        "**Step 3: Embedding**"
      ]
    },
    {
      "cell_type": "code",
      "execution_count": null,
      "metadata": {
        "id": "7QR0pd3JYcK1"
      },
      "outputs": [],
      "source": [
        "from sentence_transformers import SentenceTransformer"
      ]
    },
    {
      "cell_type": "code",
      "execution_count": null,
      "metadata": {
        "collapsed": true,
        "id": "FlOs925DdL8s"
      },
      "outputs": [],
      "source": [
        "#Another embedding model from Transformers\n",
        "embed_model = SentenceTransformer(\"intfloat/multilingual-e5-base\")  # Supports Bengali & English\n"
      ]
    },
    {
      "cell_type": "code",
      "execution_count": null,
      "metadata": {
        "id": "mznnj-XlbmUV"
      },
      "outputs": [],
      "source": [
        "def embed_chunks(chunks, embed_model= embed_model):\n",
        "    texts = [chunk.page_content for chunk in chunks]\n",
        "    embeddings = embed_model.encode(texts, convert_to_tensor=True)\n",
        "    return embeddings"
      ]
    },
    {
      "cell_type": "code",
      "execution_count": null,
      "metadata": {
        "id": "bysCrYtFdxLx"
      },
      "outputs": [],
      "source": [
        "#checking\n",
        "embedded_chunks = embed_chunks(all_chunks)"
      ]
    },
    {
      "cell_type": "code",
      "execution_count": null,
      "metadata": {
        "colab": {
          "base_uri": "https://localhost:8080/"
        },
        "collapsed": true,
        "id": "1cobiiqiei2i",
        "outputId": "068ffd1f-b1a3-482c-b69e-86184b993753"
      },
      "outputs": [
        {
          "data": {
            "text/plain": [
              "99"
            ]
          },
          "execution_count": 78,
          "metadata": {},
          "output_type": "execute_result"
        }
      ],
      "source": [
        "len(embedded_chunks)"
      ]
    },
    {
      "cell_type": "markdown",
      "metadata": {
        "id": "yKFM50y8fAW5"
      },
      "source": [
        "**Step 4: RETRIEVE Function**\n",
        "\n",
        "Using faiss for fast semantic search."
      ]
    },
    {
      "cell_type": "code",
      "execution_count": null,
      "metadata": {
        "colab": {
          "base_uri": "https://localhost:8080/"
        },
        "id": "b508f412",
        "outputId": "c2f8a9fa-9d3b-4f86-e979-932f4ffb3f56"
      },
      "outputs": [
        {
          "name": "stdout",
          "output_type": "stream",
          "text": [
            "Collecting faiss-cpu\n",
            "  Downloading faiss_cpu-1.11.0.post1-cp311-cp311-manylinux_2_27_x86_64.manylinux_2_28_x86_64.whl.metadata (5.0 kB)\n",
            "Requirement already satisfied: numpy<3.0,>=1.25.0 in /usr/local/lib/python3.11/dist-packages (from faiss-cpu) (2.0.2)\n",
            "Requirement already satisfied: packaging in /usr/local/lib/python3.11/dist-packages (from faiss-cpu) (25.0)\n",
            "Downloading faiss_cpu-1.11.0.post1-cp311-cp311-manylinux_2_27_x86_64.manylinux_2_28_x86_64.whl (31.3 MB)\n",
            "\u001b[2K   \u001b[90m━━━━━━━━━━━━━━━━━━━━━━━━━━━━━━━━━━━━━━━━\u001b[0m \u001b[32m31.3/31.3 MB\u001b[0m \u001b[31m57.1 MB/s\u001b[0m eta \u001b[36m0:00:00\u001b[0m\n",
            "\u001b[?25hInstalling collected packages: faiss-cpu\n",
            "Successfully installed faiss-cpu-1.11.0.post1\n"
          ]
        }
      ],
      "source": [
        "!pip install faiss-cpu"
      ]
    },
    {
      "cell_type": "code",
      "execution_count": null,
      "metadata": {
        "id": "jovYOG6Pe-jM"
      },
      "outputs": [],
      "source": [
        "import faiss\n",
        "\n",
        "def build_index(embeddings):\n",
        "    dim = embeddings.shape[1]\n",
        "    index = faiss.IndexFlatL2(dim)\n",
        "    index.add(embeddings.cpu().detach().numpy())\n",
        "    return index\n"
      ]
    },
    {
      "cell_type": "code",
      "execution_count": null,
      "metadata": {
        "id": "878OMPPpfti1"
      },
      "outputs": [],
      "source": [
        "#checking the function\n",
        "index = build_index(embedded_chunks)"
      ]
    },
    {
      "cell_type": "code",
      "execution_count": null,
      "metadata": {
        "colab": {
          "base_uri": "https://localhost:8080/"
        },
        "id": "F89qu0nogGGH",
        "outputId": "d86a2b96-2eaa-4ef9-fa16-ad6ce7b00073"
      },
      "outputs": [
        {
          "data": {
            "text/plain": [
              "<faiss.swigfaiss_avx2.IndexFlatL2; proxy of <Swig Object of type 'faiss::IndexFlatL2 *' at 0x7c96957e5170> >"
            ]
          },
          "execution_count": 232,
          "metadata": {},
          "output_type": "execute_result"
        }
      ],
      "source": [
        "index"
      ]
    },
    {
      "cell_type": "markdown",
      "metadata": {
        "id": "_xG6ikVmgYJX"
      },
      "source": [
        "Building the Retrieval Function\n",
        "\n",
        "-> Retrieving top 3 chunks by semantic search"
      ]
    },
    {
      "cell_type": "code",
      "execution_count": null,
      "metadata": {
        "id": "idY42yFigXQD"
      },
      "outputs": [],
      "source": [
        "def retrieve_top_k(query, embed_model, chunks, embeddings, index, k=3):\n",
        "    query_embedding = embed_model.encode([query], convert_to_tensor=True).cpu().detach().numpy()\n",
        "    distances, indices = index.search(query_embedding, k)\n",
        "    retrieved_chunks = [chunks[i] for i in indices[0]]\n",
        "    return retrieved_chunks\n"
      ]
    },
    {
      "cell_type": "code",
      "execution_count": null,
      "metadata": {
        "id": "BauN0nAMhPrH"
      },
      "outputs": [],
      "source": [
        "#checking\n",
        "query = \"বিয়ের সময় কল্যাণীর প্রকৃত বয়স কত ছিল?\"\n",
        "retrieved_chunks = retrieve_top_k(query, embed_model, all_chunks, embedded_chunks, index, k=3)"
      ]
    },
    {
      "cell_type": "code",
      "execution_count": null,
      "metadata": {
        "colab": {
          "base_uri": "https://localhost:8080/"
        },
        "collapsed": true,
        "id": "dAp5GPJS_9Pk",
        "outputId": "caa4ec8e-c8e1-497c-ab46-1f27c84e3339"
      },
      "outputs": [
        {
          "data": {
            "text/plain": [
              "3"
            ]
          },
          "execution_count": 124,
          "metadata": {},
          "output_type": "execute_result"
        }
      ],
      "source": [
        "len(retrieved_chunks)"
      ]
    },
    {
      "cell_type": "markdown",
      "metadata": {
        "id": "vEj8jKbpgwBS"
      },
      "source": [
        "**Step 5: RAG = Generating Answer**"
      ]
    },
    {
      "cell_type": "code",
      "execution_count": null,
      "metadata": {
        "colab": {
          "base_uri": "https://localhost:8080/",
          "height": 1000
        },
        "collapsed": true,
        "id": "h75lEMsP0H1a",
        "outputId": "24c21873-fe55-4605-f184-91c3354429bc"
      },
      "outputs": [
        {
          "name": "stdout",
          "output_type": "stream",
          "text": [
            "Collecting langchain-google-genai\n",
            "  Downloading langchain_google_genai-2.1.8-py3-none-any.whl.metadata (7.0 kB)\n",
            "Collecting filetype<2.0.0,>=1.2.0 (from langchain-google-genai)\n",
            "  Downloading filetype-1.2.0-py2.py3-none-any.whl.metadata (6.5 kB)\n",
            "Collecting google-ai-generativelanguage<0.7.0,>=0.6.18 (from langchain-google-genai)\n",
            "  Downloading google_ai_generativelanguage-0.6.18-py3-none-any.whl.metadata (9.8 kB)\n",
            "Requirement already satisfied: langchain-core<0.4.0,>=0.3.68 in /usr/local/lib/python3.11/dist-packages (from langchain-google-genai) (0.3.71)\n",
            "Requirement already satisfied: pydantic<3,>=2 in /usr/local/lib/python3.11/dist-packages (from langchain-google-genai) (2.11.7)\n",
            "Requirement already satisfied: google-api-core!=2.0.*,!=2.1.*,!=2.10.*,!=2.2.*,!=2.3.*,!=2.4.*,!=2.5.*,!=2.6.*,!=2.7.*,!=2.8.*,!=2.9.*,<3.0.0,>=1.34.1 in /usr/local/lib/python3.11/dist-packages (from google-api-core[grpc]!=2.0.*,!=2.1.*,!=2.10.*,!=2.2.*,!=2.3.*,!=2.4.*,!=2.5.*,!=2.6.*,!=2.7.*,!=2.8.*,!=2.9.*,<3.0.0,>=1.34.1->google-ai-generativelanguage<0.7.0,>=0.6.18->langchain-google-genai) (2.25.1)\n",
            "Requirement already satisfied: google-auth!=2.24.0,!=2.25.0,<3.0.0,>=2.14.1 in /usr/local/lib/python3.11/dist-packages (from google-ai-generativelanguage<0.7.0,>=0.6.18->langchain-google-genai) (2.38.0)\n",
            "Requirement already satisfied: proto-plus<2.0.0,>=1.22.3 in /usr/local/lib/python3.11/dist-packages (from google-ai-generativelanguage<0.7.0,>=0.6.18->langchain-google-genai) (1.26.1)\n",
            "Requirement already satisfied: protobuf!=4.21.0,!=4.21.1,!=4.21.2,!=4.21.3,!=4.21.4,!=4.21.5,<7.0.0,>=3.20.2 in /usr/local/lib/python3.11/dist-packages (from google-ai-generativelanguage<0.7.0,>=0.6.18->langchain-google-genai) (5.29.5)\n",
            "Requirement already satisfied: langsmith>=0.3.45 in /usr/local/lib/python3.11/dist-packages (from langchain-core<0.4.0,>=0.3.68->langchain-google-genai) (0.4.8)\n",
            "Requirement already satisfied: tenacity!=8.4.0,<10.0.0,>=8.1.0 in /usr/local/lib/python3.11/dist-packages (from langchain-core<0.4.0,>=0.3.68->langchain-google-genai) (8.5.0)\n",
            "Requirement already satisfied: jsonpatch<2.0,>=1.33 in /usr/local/lib/python3.11/dist-packages (from langchain-core<0.4.0,>=0.3.68->langchain-google-genai) (1.33)\n",
            "Requirement already satisfied: PyYAML>=5.3 in /usr/local/lib/python3.11/dist-packages (from langchain-core<0.4.0,>=0.3.68->langchain-google-genai) (6.0.2)\n",
            "Requirement already satisfied: typing-extensions>=4.7 in /usr/local/lib/python3.11/dist-packages (from langchain-core<0.4.0,>=0.3.68->langchain-google-genai) (4.14.1)\n",
            "Requirement already satisfied: packaging>=23.2 in /usr/local/lib/python3.11/dist-packages (from langchain-core<0.4.0,>=0.3.68->langchain-google-genai) (25.0)\n",
            "Requirement already satisfied: annotated-types>=0.6.0 in /usr/local/lib/python3.11/dist-packages (from pydantic<3,>=2->langchain-google-genai) (0.7.0)\n",
            "Requirement already satisfied: pydantic-core==2.33.2 in /usr/local/lib/python3.11/dist-packages (from pydantic<3,>=2->langchain-google-genai) (2.33.2)\n",
            "Requirement already satisfied: typing-inspection>=0.4.0 in /usr/local/lib/python3.11/dist-packages (from pydantic<3,>=2->langchain-google-genai) (0.4.1)\n",
            "Requirement already satisfied: googleapis-common-protos<2.0.0,>=1.56.2 in /usr/local/lib/python3.11/dist-packages (from google-api-core!=2.0.*,!=2.1.*,!=2.10.*,!=2.2.*,!=2.3.*,!=2.4.*,!=2.5.*,!=2.6.*,!=2.7.*,!=2.8.*,!=2.9.*,<3.0.0,>=1.34.1->google-api-core[grpc]!=2.0.*,!=2.1.*,!=2.10.*,!=2.2.*,!=2.3.*,!=2.4.*,!=2.5.*,!=2.6.*,!=2.7.*,!=2.8.*,!=2.9.*,<3.0.0,>=1.34.1->google-ai-generativelanguage<0.7.0,>=0.6.18->langchain-google-genai) (1.70.0)\n",
            "Requirement already satisfied: requests<3.0.0,>=2.18.0 in /usr/local/lib/python3.11/dist-packages (from google-api-core!=2.0.*,!=2.1.*,!=2.10.*,!=2.2.*,!=2.3.*,!=2.4.*,!=2.5.*,!=2.6.*,!=2.7.*,!=2.8.*,!=2.9.*,<3.0.0,>=1.34.1->google-api-core[grpc]!=2.0.*,!=2.1.*,!=2.10.*,!=2.2.*,!=2.3.*,!=2.4.*,!=2.5.*,!=2.6.*,!=2.7.*,!=2.8.*,!=2.9.*,<3.0.0,>=1.34.1->google-ai-generativelanguage<0.7.0,>=0.6.18->langchain-google-genai) (2.32.3)\n",
            "Requirement already satisfied: grpcio<2.0.0,>=1.33.2 in /usr/local/lib/python3.11/dist-packages (from google-api-core[grpc]!=2.0.*,!=2.1.*,!=2.10.*,!=2.2.*,!=2.3.*,!=2.4.*,!=2.5.*,!=2.6.*,!=2.7.*,!=2.8.*,!=2.9.*,<3.0.0,>=1.34.1->google-ai-generativelanguage<0.7.0,>=0.6.18->langchain-google-genai) (1.73.1)\n",
            "Requirement already satisfied: grpcio-status<2.0.0,>=1.33.2 in /usr/local/lib/python3.11/dist-packages (from google-api-core[grpc]!=2.0.*,!=2.1.*,!=2.10.*,!=2.2.*,!=2.3.*,!=2.4.*,!=2.5.*,!=2.6.*,!=2.7.*,!=2.8.*,!=2.9.*,<3.0.0,>=1.34.1->google-ai-generativelanguage<0.7.0,>=0.6.18->langchain-google-genai) (1.71.2)\n",
            "Requirement already satisfied: cachetools<6.0,>=2.0.0 in /usr/local/lib/python3.11/dist-packages (from google-auth!=2.24.0,!=2.25.0,<3.0.0,>=2.14.1->google-ai-generativelanguage<0.7.0,>=0.6.18->langchain-google-genai) (5.5.2)\n",
            "Requirement already satisfied: pyasn1-modules>=0.2.1 in /usr/local/lib/python3.11/dist-packages (from google-auth!=2.24.0,!=2.25.0,<3.0.0,>=2.14.1->google-ai-generativelanguage<0.7.0,>=0.6.18->langchain-google-genai) (0.4.2)\n",
            "Requirement already satisfied: rsa<5,>=3.1.4 in /usr/local/lib/python3.11/dist-packages (from google-auth!=2.24.0,!=2.25.0,<3.0.0,>=2.14.1->google-ai-generativelanguage<0.7.0,>=0.6.18->langchain-google-genai) (4.9.1)\n",
            "Requirement already satisfied: jsonpointer>=1.9 in /usr/local/lib/python3.11/dist-packages (from jsonpatch<2.0,>=1.33->langchain-core<0.4.0,>=0.3.68->langchain-google-genai) (3.0.0)\n",
            "Requirement already satisfied: httpx<1,>=0.23.0 in /usr/local/lib/python3.11/dist-packages (from langsmith>=0.3.45->langchain-core<0.4.0,>=0.3.68->langchain-google-genai) (0.28.1)\n",
            "Requirement already satisfied: orjson<4.0.0,>=3.9.14 in /usr/local/lib/python3.11/dist-packages (from langsmith>=0.3.45->langchain-core<0.4.0,>=0.3.68->langchain-google-genai) (3.11.0)\n",
            "Requirement already satisfied: requests-toolbelt<2.0.0,>=1.0.0 in /usr/local/lib/python3.11/dist-packages (from langsmith>=0.3.45->langchain-core<0.4.0,>=0.3.68->langchain-google-genai) (1.0.0)\n",
            "Requirement already satisfied: zstandard<0.24.0,>=0.23.0 in /usr/local/lib/python3.11/dist-packages (from langsmith>=0.3.45->langchain-core<0.4.0,>=0.3.68->langchain-google-genai) (0.23.0)\n",
            "Requirement already satisfied: anyio in /usr/local/lib/python3.11/dist-packages (from httpx<1,>=0.23.0->langsmith>=0.3.45->langchain-core<0.4.0,>=0.3.68->langchain-google-genai) (4.9.0)\n",
            "Requirement already satisfied: certifi in /usr/local/lib/python3.11/dist-packages (from httpx<1,>=0.23.0->langsmith>=0.3.45->langchain-core<0.4.0,>=0.3.68->langchain-google-genai) (2025.7.14)\n",
            "Requirement already satisfied: httpcore==1.* in /usr/local/lib/python3.11/dist-packages (from httpx<1,>=0.23.0->langsmith>=0.3.45->langchain-core<0.4.0,>=0.3.68->langchain-google-genai) (1.0.9)\n",
            "Requirement already satisfied: idna in /usr/local/lib/python3.11/dist-packages (from httpx<1,>=0.23.0->langsmith>=0.3.45->langchain-core<0.4.0,>=0.3.68->langchain-google-genai) (3.10)\n",
            "Requirement already satisfied: h11>=0.16 in /usr/local/lib/python3.11/dist-packages (from httpcore==1.*->httpx<1,>=0.23.0->langsmith>=0.3.45->langchain-core<0.4.0,>=0.3.68->langchain-google-genai) (0.16.0)\n",
            "Requirement already satisfied: pyasn1<0.7.0,>=0.6.1 in /usr/local/lib/python3.11/dist-packages (from pyasn1-modules>=0.2.1->google-auth!=2.24.0,!=2.25.0,<3.0.0,>=2.14.1->google-ai-generativelanguage<0.7.0,>=0.6.18->langchain-google-genai) (0.6.1)\n",
            "Requirement already satisfied: charset-normalizer<4,>=2 in /usr/local/lib/python3.11/dist-packages (from requests<3.0.0,>=2.18.0->google-api-core!=2.0.*,!=2.1.*,!=2.10.*,!=2.2.*,!=2.3.*,!=2.4.*,!=2.5.*,!=2.6.*,!=2.7.*,!=2.8.*,!=2.9.*,<3.0.0,>=1.34.1->google-api-core[grpc]!=2.0.*,!=2.1.*,!=2.10.*,!=2.2.*,!=2.3.*,!=2.4.*,!=2.5.*,!=2.6.*,!=2.7.*,!=2.8.*,!=2.9.*,<3.0.0,>=1.34.1->google-ai-generativelanguage<0.7.0,>=0.6.18->langchain-google-genai) (3.4.2)\n",
            "Requirement already satisfied: urllib3<3,>=1.21.1 in /usr/local/lib/python3.11/dist-packages (from requests<3.0.0,>=2.18.0->google-api-core!=2.0.*,!=2.1.*,!=2.10.*,!=2.2.*,!=2.3.*,!=2.4.*,!=2.5.*,!=2.6.*,!=2.7.*,!=2.8.*,!=2.9.*,<3.0.0,>=1.34.1->google-api-core[grpc]!=2.0.*,!=2.1.*,!=2.10.*,!=2.2.*,!=2.3.*,!=2.4.*,!=2.5.*,!=2.6.*,!=2.7.*,!=2.8.*,!=2.9.*,<3.0.0,>=1.34.1->google-ai-generativelanguage<0.7.0,>=0.6.18->langchain-google-genai) (2.5.0)\n",
            "Requirement already satisfied: sniffio>=1.1 in /usr/local/lib/python3.11/dist-packages (from anyio->httpx<1,>=0.23.0->langsmith>=0.3.45->langchain-core<0.4.0,>=0.3.68->langchain-google-genai) (1.3.1)\n",
            "Downloading langchain_google_genai-2.1.8-py3-none-any.whl (47 kB)\n",
            "\u001b[2K   \u001b[90m━━━━━━━━━━━━━━━━━━━━━━━━━━━━━━━━━━━━━━━━\u001b[0m \u001b[32m47.8/47.8 kB\u001b[0m \u001b[31m4.1 MB/s\u001b[0m eta \u001b[36m0:00:00\u001b[0m\n",
            "\u001b[?25hDownloading filetype-1.2.0-py2.py3-none-any.whl (19 kB)\n",
            "Downloading google_ai_generativelanguage-0.6.18-py3-none-any.whl (1.4 MB)\n",
            "\u001b[2K   \u001b[90m━━━━━━━━━━━━━━━━━━━━━━━━━━━━━━━━━━━━━━━━\u001b[0m \u001b[32m1.4/1.4 MB\u001b[0m \u001b[31m56.3 MB/s\u001b[0m eta \u001b[36m0:00:00\u001b[0m\n",
            "\u001b[?25hInstalling collected packages: filetype, google-ai-generativelanguage, langchain-google-genai\n",
            "  Attempting uninstall: google-ai-generativelanguage\n",
            "    Found existing installation: google-ai-generativelanguage 0.6.15\n",
            "    Uninstalling google-ai-generativelanguage-0.6.15:\n",
            "      Successfully uninstalled google-ai-generativelanguage-0.6.15\n",
            "\u001b[31mERROR: pip's dependency resolver does not currently take into account all the packages that are installed. This behaviour is the source of the following dependency conflicts.\n",
            "google-generativeai 0.8.5 requires google-ai-generativelanguage==0.6.15, but you have google-ai-generativelanguage 0.6.18 which is incompatible.\u001b[0m\u001b[31m\n",
            "\u001b[0mSuccessfully installed filetype-1.2.0 google-ai-generativelanguage-0.6.18 langchain-google-genai-2.1.8\n"
          ]
        },
        {
          "data": {
            "application/vnd.colab-display-data+json": {
              "id": "4a8e9bd3e06e450b8914a3223f265034",
              "pip_warning": {
                "packages": [
                  "google"
                ]
              }
            }
          },
          "metadata": {},
          "output_type": "display_data"
        }
      ],
      "source": [
        "!pip install -U langchain-google-genai"
      ]
    },
    {
      "cell_type": "code",
      "execution_count": null,
      "metadata": {
        "colab": {
          "base_uri": "https://localhost:8080/"
        },
        "id": "IcPT-k5-0fl7",
        "outputId": "fdf5ed30-fe83-46dc-f7ea-e716fe8459e3"
      },
      "outputs": [
        {
          "name": "stdout",
          "output_type": "stream",
          "text": [
            "Enter API key for Google Gemini: ··········\n"
          ]
        }
      ],
      "source": [
        "#Need API Key to use the model\n",
        "import getpass\n",
        "import os\n",
        "\n",
        "if not os.environ.get(\"GOOGLE_API_KEY\"):\n",
        "  os.environ[\"GOOGLE_API_KEY\"] = getpass.getpass(\"Enter API key for Google Gemini: \")"
      ]
    },
    {
      "cell_type": "code",
      "execution_count": null,
      "metadata": {
        "id": "bit4WD-G4nlJ"
      },
      "outputs": [],
      "source": [
        "from langchain.chat_models import init_chat_model"
      ]
    },
    {
      "cell_type": "code",
      "execution_count": null,
      "metadata": {
        "id": "VP6AxXYl1zL8"
      },
      "outputs": [],
      "source": [
        "# Final context from top k chunks\n",
        "def final_context(chunks):\n",
        "  context = \"\\n\\n\".join([chunk.page_content for chunk in chunks])\n",
        "  return context"
      ]
    },
    {
      "cell_type": "code",
      "execution_count": null,
      "metadata": {
        "id": "Ti-yh4nEi5mx"
      },
      "outputs": [],
      "source": [
        "context = final_context(retrieved_chunks)"
      ]
    },
    {
      "cell_type": "code",
      "execution_count": null,
      "metadata": {
        "colab": {
          "base_uri": "https://localhost:8080/",
          "height": 144
        },
        "id": "9-DJzevKjCRE",
        "outputId": "44ee7c3f-5581-4ba6-d6a9-bd991c7239aa"
      },
      "outputs": [
        {
          "data": {
            "application/vnd.google.colaboratory.intrinsic+json": {
              "type": "string"
            },
            "text/plain": [
              "'32 \\x0c\\n\\n05026. ত্ললাইল ভ্রয়নটা\" 1110) 19৫10\\n\\n৯। অনুপমের আসল অভিভাবক কে?\\n\\n(ক) বাবা (খ) মামা (গ) মা (ঘ) শিক্ষক\\n\\n১০। \\'অপরিচিতা\\' গল্পে মামার সাথে অনুপমের বয়সের পার্থক্য কত?\\n\\n(ক) বছর চারেক (খ) বছর ছয়েক (গ) বছর আষ্টেক (ঘ) বছর দশেক ১১। কন্যার পিতামাত্রই কোনটি স্বীকার করবেন?\\n\\n(ক) অনুপম রুচিবান (খ) অনুপম সৎপাত্র\\n\\n(গ) অনুপম রূপবান (ঘ) অনুপম ব্যক্তিত্বসম্পন্ন\\n\\n১২। অনুপম কোনটি খায় না বলে গর্ব প্রকাশ করেছে?\\n\\n(ক) তামাক (খ) মদ (গ) চুরুট (ঘ) কফি\\n\\n১৩। বিয়েবাড়িতে ঢুকে মামার খুশি না হওয়ার কারণ ছিল না কোনটি?\\n\\n(ক) স্থান ও আয়োজন দেখে (খ) আপ্যায়নের ত্রুটির কারণে\\n\\n(গ) গহনার পরিমাণ দেখে (ঘ) বেয়াইয়ের আচর-আচরণে\\n\\n১৪। মামা কেমন ঘরের মেয়ে পছন্দ করতেন?\\n\\n(ক) ধনী (খ) গরিব (গ) গ্রামীণ (ঘ) শহুরে\\n\\n১৫। অনুপমের বন্ধুর নাম কী?\\n\\n(ক) সতীশ (খ) জ্যোতিষ (গ) হরিশ (ঘ) মণীষ\\n\\n১৬। মেয়ের চেয়ে মেয়ের বাপের খবরটাই কার কাছে গুরুতর?\\n\\n(ক) হরিশের (খ) অনুপমের (গ) মামার (ঘ) ঘটকের ১৭। অনুপমের শিক্ষাগত যোগ্যতা কি?\\n\\n(ক) বিএ পাশ (খ) এমএ পাশ (গ) বিএসসি পাশ (ঘ) এমএসসি পাশ ১৮। \\'মেয়ে যদি বলো, তবে\\' উক্তিটি কার?\\n\\n46 \\x0c\\n\\n05026. ত্ললাইল ভ্রয়নটা\" 1110) 19৫10\\n\\nশস্তুনাথ সেন একজোড়া কানের দুল সেকরাকে পরীক্ষা করতে বলেন। সেকরা জানায় এ দুলে সোনার পরিমাণ অনেক কম আছে। এঁ কানের দুল অনুপমের মামা মেয়েকে আশীর্বাদ করার সময় দিয়েছিলেন। শস্তুনাথ সেন অনুপমের মামার হাতে কানের দুল জোড়া দিয়ে প্রশ্নোক্ত কথাটি বলেন। এ ঘটনায় অনুপমের মামা অপমানিত বোধ করেন।\\n\\nগ. উদ্দীপকের পরেশ \\'অপরিচিতা\\' গল্পের অনুপম চরিত্রের বিপরীত।\\n\\nযথার্থ মূল্যবোধসম্পন্ন মানুষ কখনই অসংগতিকে মেনে নিতে পারেন না। যদি বলিষ্ঠ ব্যক্তিত্বের অধিকারী কেউ হন তবে তিনি নিজেকে প্রতিষ্ঠিত করতে পারেন। আর যে ব্যক্তি বলিষ্ঠ ব্যক্তিত্বের অধিকারী হতে পারে না তার জীবন হয় ব্যর্থ ও হতাশাগ্রস্ত।\\n\\nসঠিক সময়ে সঠিক কাজ না করলে কখনই কাভিক্ষত লক্ষ্যে পৌছানো সম্ভব না। এজন্য সময়ের কাজ সময়ে করতে হয়। পরিবেশ পরিস্থিতিকে নিজের যোগ্যতাবলে অনুকূলে আনতে না পারলে জীবনভর অনুশোচনায় ভুগে মরতে হয়।\\n\\n\\'অপরিচিতা\\' গল্পে অনুপমের বিয়ে ভেঙে গেলে সে বিরহে জর্জরিত হয়। তবে অনুপমের বিরহের জন্য সে নিজেই দায়ী। বিয়ের সভায় যৌতুক নিয়ে গোলযোগ বাধলে সেখানে অনুপম নীরব ছিল। সে কারণে কল্যাণীর বাবা কন্যা-সম্প্রদানে অসম্মতি প্রকাশ করেন। অন্যদিকে উদ্দীপকেও অভাগা নিজের অযোগ্যতা অনুধাবন করতে পারে এবং বিয়ো লগ্নে পালিয়ে যায়।\\n\\nউদ্দীপকের অভাগার বিরহের জন্য তার অযোগ্যতাই দায়ী। \\'অপরিচিতা\\' গল্পে মনস্তাপে বা বিরহে ভেঙে পড়া এক ব্যক্তিত্বহীন যুবক অনুপম। তার বিরহের জন্য সে নিজেই দায়ী, কারণ বিরহের মূল কারণ তার অক্ষমতা। তাই বলা যায়, \\'সেই লগ্নে এসেছি পালিয়ে\\'- এ চরণের আলোকে উদ্দীপকের নায়কের মতো অনুপমের বিরহের জন্য তার নিজের অক্ষমতাই দায়ী। সুতরাং মন্তব্যটি যথার্থ।\\n\\n49'"
            ]
          },
          "execution_count": 206,
          "metadata": {},
          "output_type": "execute_result"
        }
      ],
      "source": [
        "context"
      ]
    },
    {
      "cell_type": "code",
      "execution_count": null,
      "metadata": {
        "id": "M7mTkCUy15k1"
      },
      "outputs": [],
      "source": [
        "from langchain_core.prompts import PromptTemplate\n",
        "def prompt_template(query, context):\n",
        "  prompt_temp = PromptTemplate(\n",
        "    template = \"\"\"\n",
        "    You are a helpful assistant.\n",
        "    Answer only from the provided context.\n",
        "    context: {context}\n",
        "    Question: {question}\n",
        "    \"\"\",\n",
        "    input_variables = [\"context\", \"question\"]\n",
        "  )\n",
        "  prompt =  prompt_temp.invoke({\"context\": context, \"question\": query})\n",
        "  return prompt"
      ]
    },
    {
      "cell_type": "code",
      "execution_count": null,
      "metadata": {
        "colab": {
          "base_uri": "https://localhost:8080/"
        },
        "collapsed": true,
        "id": "eipdlV3TiXSW",
        "outputId": "d2cca184-fe5c-4734-84a8-e7c7271a319b"
      },
      "outputs": [
        {
          "data": {
            "text/plain": [
              "StringPromptValue(text='\\n    You are a helpful assistant.\\n    Answer only from the provided context.\\n    context: (ক) গণেশ (খ) প্রজাপতি (গ) কার্তিক (ঘ) পঞ্চশর \\n\\n৩৯। \\'এখানে জায়গা আছে\\' উক্তিটি কার?\\n\\n(ক) আর্দালির (খ) গার্ডের (গ) কল্যাণীর ৪০। স্টেশনে অনুপম কী ফেলে গেল? (ক) টিকিট (খ) ক্যামেরা (গ) তোরঙ্গ\\n\\n৪১। ট্রেনে দেখা হওয়ার সময় কল্যাণীর বয়স কত ছিল? (ক) ১৪/১৫ বছর (খ) ১৫/১৬ বছর (গ) ১৬/১৭ বছর ৪২। অপরিচিতা মেয়েটির সঙ্গে কতজন মেয়ে ছিল?\\n\\n(ক) ২/৩ জন (খ) ৩/৪ জন (গ) ৪/৫ জন ৪৩। কল্যাণী স্টেশন হতে কী খাবার কিনে নেয়?\\n\\n(ক) চানা-মুঠ (খ) ঝালমুড়ি (গ) চিনেবাদাম ৪৪। শস্তুনাথ পেশায় কী ছিলেন?\\n\\n(ক) উকিল (খ) শিক্ষক (গ) ডাক্তার\\n\\n৪৫। মাতৃ-আজ্ঞা বলতে কল্যাণী কার প্রতি ইঙ্গিত করেছে?\\n\\n(ক) মায়ের প্রতি (খ) মাতৃভূমির প্রতি (গ) ধরণীর প্রতি ৪৬। বিবাহের সময় অনুপমের বয়স কত ছিল?\\n\\n(ক) ২১ বছর (খ) ২৩ বছর (গ) ২৫ বছর ৪৭। গজাননের মায়ের নাম কী?\\n\\n(ক) অন্নদা (খ) অন্নপূর্ণা (গ) কল্যাণী \\n\\n৪৮। \\'শিগগির চলে আয়, এই গাড়িতে জায়গা আছে\\' উক্তিটি কার? (ক) অনুপমের (খ) কল্যাণীর (গ) বিনুদাদার ৪৯। হরিশ কী উপলক্ষে কলকাতায় এসেছে?\\n\\n(ক) তীর্থ উপলক্ষে (খ) ছুটি উপলক্ষে (গ) পূজা উপলক্ষে\\n\\n&০। কাকে অনুপমের ভাগ্য দেবতা বলে উল্লেখ করা হয়েছে?\\n\\n&০। কাকে অনুপমের ভাগ্য দেবতা বলে উল্লেখ করা হয়েছে?\\n\\n(ক) হরিশকে (খ) মামাকে (গ) বিনুদাকে &১। কার টাকার প্রতি আসক্তি বেশি?\\n\\n(ক) শস্তুনাথের (খ) কল্যাণীর (গ) অনুপমের &২। \"কিছুদিন পূর্বে এমএ পাশ করিয়াছি\\'- উক্তিটি কার?\\n\\n(ক) মামার (খ) বিনুদার (গ) অনুপমের ৫৩। \\'একবার মামার কাছে কথাটা পাড়িয়া দেখ\\'- কথাটি কীসের? (ক) দানের (খ) চাকরির (গ) বিয়ের &৪। বিয়ের সময় কল্যাণীর প্রকৃত বয়স কত ছিল?\\n\\n(ক) ১৪ বছর (খ) ১৫ বছর (গ) ১৬ বছর\\n\\n(ঘ) ১৭/১৮ বছর\\n\\n(ঘ) &/৬ জন\\n\\n(ঘ) অন্নপূর্ণার প্রতি (ঘ) ২৭ বছর\\n\\n(ঘ) হেমন্তী\\n\\n(ঘ) অনুপমের\\n\\n(ঘ) বিয়ে উপলক্ষে \\x0c\\n৫। মামার বাহিরের যাত্রাপথের সীমানা কতদুর?\\n\\n(ক) আন্দামান পর্যন্ত (খ) কোন্নগর পর্যন্ত (গ) কানপুর পর্যন্ত (ঘ) হাওড়া পর্যন্ত ৫৬। বিবাহের কতদিন পূর্বে অনুপমের সাথে তার শ্বশুরের সাক্ষাৎ হয়?\\n\\n(ক) ২ দিন (খ) ৩ দিন (গ) ৪ দিন (ঘ) ৫ দিন\\n\\n&৭। \"তিনি বড়ই চুপচাপ\\' এখানে কার কথা বলা হয়েছে?\\n\\n(ক) মামা (খ) হরিশ (গ) শস্তুনাথ (ঘ) মা\\n\\n৫৮। \"তিনি কিছুতেই ঠকবেন না\\' কার প্রসঙ্গে বলা হয়েছে?\\n\\n(ক) মামা (খ) মা (গ) বিনুদাদা (ঘ) হরিশ\\n\\n&৯। \\'অপরিচিতা\\' গল্পে কোন সময় অনুপম বিনুদাদার বাড়িতে যেত?\\n\\nগাড়ি জুড়িয়া তবে ট্রেন ছাড়িল।\\n\\nমেয়েটি তার দলবল লইয়া আবার এক পত্তন চানা-\\n\\nমুঠ খাইতে শুরু করিল, আর আমি লজ্জায়\\n\\nজানলার বাহিরে মুখে বাড়াইয়া প্রকৃতির শোভা দেখিতে লাগিলাম।\\n\\nকানপুরে গাড়ি আসিয়া থামিল। মেয়েটি জিনিসপত্র বাঁধিয়া প্রস্তত-স্টেশনে একটি হিন্দুস্থানি চাকর ছুটিয়া আসিয়া ইহাদিগকে নামাইবার উদ্যোগ করিতে লাগিল।\\n\\nমা তখন আর থাকিতে পারিলেন না। জিজ্ঞাসা করিলেন, “তোমার নাম কী মা।”\\n\\nমেয়েটি বলিল, “আমার নাম কল্যাণী।\"\\n\\nশুনিয়া মা এবং আমি দুজনেই চমকিয়া উঠিলাম।\\n\\n“তিনি এখানকার ডাক্তার, তাহার নাম শস্তুনাথ সেন।”\\n\\nতার পরেই সবাই নামিয়া গেল।\\n\\n\\n\\nমামার নিষেধ অমান্য করিয়া, মাতৃ-আজ্ঞা ঠেলিয়া, তার পরে আমি কানপুরে আসিয়াছি। কল্যাণীর বাপ এবং কল্যাণীর সঙ্গে দেখা হইয়াছে। হাত জোড় করিয়াছি, মাথা হেট করিয়াছি; শস্তুনাথবাবুর হৃদয় গলিয়াছে। কল্যাণী বলে, “আমি বিবাহ করিব না।”\\n\\nআমি জিজ্ঞাসা করিলাম, “কেন।”\\n\\nসে বলিল, “মাতৃ-আজ্ঞা।”\\n\\nকী সর্বনাশ। এ পক্ষেও মাতুল আছে নাকি।\\n\\nতার পরে বুঝিলাম, মাতৃভূমি আছে। সেই বিবাহ-ভাঙার পর হইতে কল্যাণী মেয়েদের শিক্ষার ব্রত গ্রহণ করিয়াছে।\\n    Question: বিয়ের সময় কল্যাণীর প্রকৃত বয়স কত ছিল?\\n    ')"
            ]
          },
          "execution_count": 93,
          "metadata": {},
          "output_type": "execute_result"
        }
      ],
      "source": [
        "#checking\n",
        "prompt = prompt_template(query, context)\n",
        "prompt"
      ]
    },
    {
      "cell_type": "code",
      "execution_count": null,
      "metadata": {
        "id": "rjD1Yv5iihEN"
      },
      "outputs": [],
      "source": [
        "model = init_chat_model(\"gemini-2.0-flash-001\", model_provider=\"google_genai\")"
      ]
    },
    {
      "cell_type": "code",
      "execution_count": null,
      "metadata": {
        "colab": {
          "base_uri": "https://localhost:8080/"
        },
        "id": "LoEmqmyQkHWw",
        "outputId": "57a680a0-0570-4e6a-eb87-2fb2dd299ad8"
      },
      "outputs": [
        {
          "data": {
            "text/plain": [
              "AIMessage(content='১৬ বছর', additional_kwargs={}, response_metadata={'prompt_feedback': {'block_reason': 0, 'safety_ratings': []}, 'finish_reason': 'STOP', 'model_name': 'gemini-2.0-flash-001', 'safety_ratings': []}, id='run--f2dc572d-dd7a-4601-9d85-791f5886b570-0', usage_metadata={'input_tokens': 1820, 'output_tokens': 6, 'total_tokens': 1826, 'input_token_details': {'cache_read': 0}})"
            ]
          },
          "execution_count": 95,
          "metadata": {},
          "output_type": "execute_result"
        }
      ],
      "source": [
        "model.invoke(prompt)"
      ]
    },
    {
      "cell_type": "markdown",
      "metadata": {
        "id": "_Vm2-tv3jiZW"
      },
      "source": [
        "There are other models. Gemini gives us free api, we are using the Gemini 2.0 flash"
      ]
    },
    {
      "cell_type": "code",
      "execution_count": null,
      "metadata": {
        "id": "mSwEitoUjyI1"
      },
      "outputs": [],
      "source": [
        "# generate answer funtion\n",
        "\n",
        "def generate_answer(query, retrieved_chunks):\n",
        "    contexts = final_context(retrieved_chunks)\n",
        "    prompt = prompt_template(query, contexts)\n",
        "    model = init_chat_model(\"gemini-2.0-flash\", model_provider=\"google_genai\")\n",
        "    result = model.invoke(prompt)\n",
        "    return result.content"
      ]
    },
    {
      "cell_type": "code",
      "execution_count": null,
      "metadata": {
        "id": "mt-lKouijYCv"
      },
      "outputs": [],
      "source": [
        "#checking\n",
        "result = generate_answer(query, retrieved_chunks)"
      ]
    },
    {
      "cell_type": "markdown",
      "source": [
        "**Step 6: RAG Pipeline**"
      ],
      "metadata": {
        "id": "yMyoaf71kwli"
      }
    },
    {
      "cell_type": "code",
      "execution_count": null,
      "metadata": {
        "id": "0Xk6z5wukAiG"
      },
      "outputs": [],
      "source": [
        "## RAG Pipeline\n",
        "def rag_pipeline(query, doc_file):\n",
        "    #cleaned_text = preprocessor(doc_file)\n",
        "    chunks = split_docs(doc_file)\n",
        "    embed_model = SentenceTransformer(\"intfloat/multilingual-e5-base\")  # Supports Bengali & English\n",
        "    embeddings = embed_chunks(chunks, embed_model)\n",
        "    index = build_index(embeddings)\n",
        "    retrieved_chunks = retrieve_top_k(query, embed_model, chunks, embeddings, index)\n",
        "    answer = generate_answer(query, retrieved_chunks)\n",
        "    return answer"
      ]
    },
    {
      "cell_type": "code",
      "execution_count": null,
      "metadata": {
        "id": "NfwGM-0IkuMO"
      },
      "outputs": [],
      "source": [
        "import fitz\n",
        "query1 = \"অনুপমের ভাষায় সুপুরুষ কাকে বলা হয়েছে?\"\n",
        "doc = fitz.open(\"/content/downloaded_pdf.pdf\")\n",
        "with open(\"cleaned.txt\", 'r', encoding='utf-8') as f:\n",
        "        text_file = f.read()\n"
      ]
    },
    {
      "cell_type": "code",
      "execution_count": null,
      "metadata": {
        "colab": {
          "base_uri": "https://localhost:8080/",
          "height": 38
        },
        "collapsed": true,
        "id": "pwLtOCmGlDUK",
        "outputId": "bc17596d-1034-4072-ec56-0c318c98d427"
      },
      "outputs": [
        {
          "data": {
            "application/vnd.google.colaboratory.intrinsic+json": {
              "type": "string"
            },
            "text/plain": [
              "'context এ এই প্রশ্নের উত্তর নেই।'"
            ]
          },
          "execution_count": 126,
          "metadata": {},
          "output_type": "execute_result"
        }
      ],
      "source": [
        "answer1 = rag_pipeline(query1, text_file)\n",
        "answer1"
      ]
    },
    {
      "cell_type": "code",
      "execution_count": null,
      "metadata": {
        "id": "fRQI6hSGfJ26"
      },
      "outputs": [],
      "source": [
        "## Question 2\n",
        "query2 = \"কাকে অনুপমের ভাগ্য দেবতা বলে উল্লেখ করা হয়েছে?\"\n",
        "doc = fitz.open(\"/content/downloaded_pdf.pdf\")\n",
        "with open(\"cleaned.txt\", 'r', encoding='utf-8') as f:\n",
        "        text_file = f.read()"
      ]
    },
    {
      "cell_type": "code",
      "execution_count": null,
      "metadata": {
        "colab": {
          "background_save": true
        },
        "id": "4PyMxDPCDogY",
        "outputId": "13aa8683-0d65-4ed3-f5a8-8bd2cbb74372"
      },
      "outputs": [
        {
          "data": {
            "application/vnd.google.colaboratory.intrinsic+json": {
              "type": "string"
            },
            "text/plain": [
              "'মামাকে'"
            ]
          },
          "execution_count": 128,
          "metadata": {},
          "output_type": "execute_result"
        }
      ],
      "source": [
        "answer2 = rag_pipeline(query2, text_file)\n",
        "answer2"
      ]
    },
    {
      "cell_type": "code",
      "execution_count": null,
      "metadata": {
        "id": "jyDiLtbtDtzC"
      },
      "outputs": [],
      "source": [
        "## Question 3\n",
        "query3 = \"বিয়ের সময় কল্যাণীর প্রকৃত বয়স কত ছিল?\"\n",
        "doc = fitz.open(\"/content/downloaded_pdf.pdf\")\n",
        "with open(\"cleaned.txt\", 'r', encoding='utf-8') as f:\n",
        "        text_file = f.read()"
      ]
    },
    {
      "cell_type": "code",
      "execution_count": null,
      "metadata": {
        "id": "clZvyv5FD2ib"
      },
      "outputs": [],
      "source": [
        "answer3 = rag_pipeline(query3, text_file)\n",
        "answer3"
      ]
    },
    {
      "cell_type": "code",
      "execution_count": null,
      "metadata": {
        "id": "5P5xX0D8EBVx"
      },
      "outputs": [],
      "source": [
        "## Question 1 English\n",
        "query1_en = \"Who is called a good man in Anupam's language?\"\n",
        "doc = fitz.open(\"/content/downloaded_pdf.pdf\")\n",
        "with open(\"cleaned.txt\", 'r', encoding='utf-8') as f:\n",
        "        text_file = f.read()"
      ]
    },
    {
      "cell_type": "code",
      "execution_count": null,
      "metadata": {
        "id": "mtrk2RBwEWki"
      },
      "outputs": [],
      "source": [
        "answer1_En = rag_pipeline(query1_en, text_file)\n",
        "answer1_En"
      ]
    },
    {
      "cell_type": "code",
      "execution_count": null,
      "metadata": {
        "id": "WDOOCggBEoLJ"
      },
      "outputs": [],
      "source": [
        "## Question 2 English\n",
        "query2_en = \"Who is referred to as the god of luck of Anupam?\"\n",
        "doc = fitz.open(\"/content/downloaded_pdf.pdf\")\n",
        "with open(\"cleaned.txt\", 'r', encoding='utf-8') as f:\n",
        "        text_file = f.read()"
      ]
    },
    {
      "cell_type": "code",
      "execution_count": null,
      "metadata": {
        "id": "aXfyvjVPGm0-"
      },
      "outputs": [],
      "source": [
        "answer2_En = rag_pipeline(query2_en, text_file)\n",
        "answer2_En"
      ]
    },
    {
      "cell_type": "code",
      "execution_count": null,
      "metadata": {
        "id": "mQqdTHbRGukM"
      },
      "outputs": [],
      "source": [
        "## Question 3 English\n",
        "query3_en = \"What was Kalyani's actual age at the time of marriage?\"\n",
        "doc = fitz.open(\"/content/downloaded_pdf.pdf\")\n",
        "with open(\"cleaned.txt\", 'r', encoding='utf-8') as f:\n",
        "        text_file = f.read()"
      ]
    },
    {
      "cell_type": "code",
      "execution_count": null,
      "metadata": {
        "colab": {
          "background_save": true
        },
        "id": "q8wCeXBRGyDv",
        "outputId": "ae660de6-72ac-4aad-fe4a-c7c823cc0eeb"
      },
      "outputs": [
        {
          "data": {
            "application/vnd.google.colaboratory.intrinsic+json": {
              "type": "string"
            },
            "text/plain": [
              "'Answer: (গ) ১৬ বছর'"
            ]
          },
          "execution_count": 139,
          "metadata": {},
          "output_type": "execute_result"
        }
      ],
      "source": [
        "answer3_En = rag_pipeline(query3_en, text_file)\n",
        "answer3_En"
      ]
    },
    {
      "cell_type": "code",
      "execution_count": null,
      "metadata": {
        "id": "4ABpEGW2fJ8D"
      },
      "outputs": [],
      "source": []
    },
    {
      "cell_type": "markdown",
      "metadata": {
        "id": "kQ2CMcOQVanf"
      },
      "source": [
        "**This is the wastege section where I tried different methods to complete each steps, some of them worked poorly and some of them didn't worked out. So I keep them in this section if I need anything later from here, I can use.**"
      ]
    },
    {
      "cell_type": "markdown",
      "metadata": {
        "id": "cWE1kyxLfNEN"
      },
      "source": [
        "**Data loading and preprocessing Wastage**"
      ]
    },
    {
      "cell_type": "code",
      "execution_count": null,
      "metadata": {
        "colab": {
          "base_uri": "https://localhost:8080/"
        },
        "collapsed": true,
        "id": "c_lm3rby_v2n",
        "outputId": "53dac950-aa0e-476f-e93c-cd7ce66f80fb"
      },
      "outputs": [
        {
          "name": "stdout",
          "output_type": "stream",
          "text": [
            "Collecting PyPDF2\n",
            "  Downloading pypdf2-3.0.1-py3-none-any.whl.metadata (6.8 kB)\n",
            "Downloading pypdf2-3.0.1-py3-none-any.whl (232 kB)\n",
            "\u001b[2K   \u001b[90m━━━━━━━━━━━━━━━━━━━━━━━━━━━━━━━━━━━━━━━━\u001b[0m \u001b[32m232.6/232.6 kB\u001b[0m \u001b[31m2.9 MB/s\u001b[0m eta \u001b[36m0:00:00\u001b[0m\n",
            "\u001b[?25hInstalling collected packages: PyPDF2\n",
            "Successfully installed PyPDF2-3.0.1\n"
          ]
        }
      ],
      "source": [
        "\n",
        "#!pip install PyPDF2\n",
        "#!pip install gdown"
      ]
    },
    {
      "cell_type": "code",
      "execution_count": null,
      "metadata": {
        "id": "XB4dPvun_d8K"
      },
      "outputs": [],
      "source": [
        "import os\n",
        "from PyPDF2 import PdfReader"
      ]
    },
    {
      "cell_type": "code",
      "execution_count": null,
      "metadata": {
        "id": "95a2a87f"
      },
      "outputs": [],
      "source": [
        "def extract_text_from_pdfs(file_path):\n",
        "\n",
        "    if file_path.endswith('.pdf') and os.path.exists(file_path):\n",
        "        reader = PdfReader(file_path)\n",
        "        text = ''\n",
        "        for page in reader.pages:\n",
        "            text += page.extract_text()\n",
        "    else:\n",
        "        print(f\"Error: File not found or not a PDF at {file_path}\")\n",
        "    return text"
      ]
    },
    {
      "cell_type": "code",
      "execution_count": null,
      "metadata": {
        "id": "f086fca1"
      },
      "outputs": [],
      "source": [
        "all_text = extract_text_from_pdfs(output_filename)"
      ]
    },
    {
      "cell_type": "code",
      "execution_count": null,
      "metadata": {
        "colab": {
          "base_uri": "https://localhost:8080/"
        },
        "collapsed": true,
        "id": "e5e7392e",
        "outputId": "924c410c-98ec-4109-b50b-1fa7cd1e519a"
      },
      "outputs": [
        {
          "name": "stdout",
          "output_type": "stream",
          "text": [
            "Collecting pdfminer.six\n",
            "  Downloading pdfminer_six-20250506-py3-none-any.whl.metadata (4.2 kB)\n",
            "Requirement already satisfied: charset-normalizer>=2.0.0 in /usr/local/lib/python3.11/dist-packages (from pdfminer.six) (3.4.2)\n",
            "Requirement already satisfied: cryptography>=36.0.0 in /usr/local/lib/python3.11/dist-packages (from pdfminer.six) (43.0.3)\n",
            "Requirement already satisfied: cffi>=1.12 in /usr/local/lib/python3.11/dist-packages (from cryptography>=36.0.0->pdfminer.six) (1.17.1)\n",
            "Requirement already satisfied: pycparser in /usr/local/lib/python3.11/dist-packages (from cffi>=1.12->cryptography>=36.0.0->pdfminer.six) (2.22)\n",
            "Downloading pdfminer_six-20250506-py3-none-any.whl (5.6 MB)\n",
            "\u001b[2K   \u001b[90m━━━━━━━━━━━━━━━━━━━━━━━━━━━━━━━━━━━━━━━━\u001b[0m \u001b[32m5.6/5.6 MB\u001b[0m \u001b[31m34.5 MB/s\u001b[0m eta \u001b[36m0:00:00\u001b[0m\n",
            "\u001b[?25hInstalling collected packages: pdfminer.six\n",
            "Successfully installed pdfminer.six-20250506\n"
          ]
        }
      ],
      "source": [
        "# Trying another method\n",
        "!pip install pdfminer.six"
      ]
    },
    {
      "cell_type": "code",
      "execution_count": null,
      "metadata": {
        "colab": {
          "base_uri": "https://localhost:8080/"
        },
        "collapsed": true,
        "id": "d66d5e0d",
        "outputId": "c63cb557-f602-44d5-c4bf-629f972cb876"
      },
      "outputs": [
        {
          "name": "stdout",
          "output_type": "stream",
          "text": [
            "Text extracted using pdfminer.six:\n",
            "িাাং া\n",
            "১ম পত্র\n",
            "\n",
            "আল ািয রিষয়\n",
            "\n",
            "অপরিরিতা\n",
            "\n",
            "অনলাইন ব্যাচ সম্পর্কি ত যেককাকনা জিজ্ঞাাসা ,\n",
            "\n",
            "\fর্িখনফল\n",
            "\n",
            "✓ র্নম্নর্ব্ি ব্যজক্তি হঠাৎ র্ব্িিালী হক  ওঠাি ফকল সমাকি পর্িচ  সংকট সম্পককি ধািণা লাভ কিকব্।\n",
            "✓ তৎকালীন সমাি-সভযতা ও মানব্তাি অব্মাননা সম্পককি িানকত পািকব্।\n",
            "✓ তৎকালীন সমাকিি পণপ্রথাি কু প্রভাব্ সম্পককি িানকত পািকব্।\n",
            "✓ তৎকাকল সমাকি ভদ্রকলাককি স্বভাব্বব্র্িষ্ট্য সম্পককি জ্ঞাানলাভ কিকব্।\n",
            "✓ নািী যকামল ঠিক, র্কন্তু দুব্িল ন - কলযাণীি িীব্নচর্িত দ্বািা প্রর্তজিত এই সতয অনুধাব্ন কিকত \n",
            "\n",
            "পািকব্।\n",
            "✓ মানুষ আিা\n",
            "\n",
            "র্নক  যব্ঁকচ থাকক- অনুপকমি দৃষ্ট্াকন্ত মানব্িীব্কনি এই র্চিন্তন সতযদিিন সম্পককি\n",
            "\n",
            "জ্ঞাানলাভ কিকব্।\n",
            "\n",
            "প্রাক-মূলযা ন\n",
            "\n",
            "১। অনুপলেি িািা কী কলি জীরিকা রনিবাহ কিলতন?\n",
            "\n",
            "ক) ডাক্তার্ি\n",
            "\n",
            "খ) ওকালর্ত\n",
            "\n",
            "গ) মাস্টার্ি\n",
            "\n",
            "ঘ) ব্যব্সা\n",
            "\n",
            "২। োোলক ভাগ্য দেিতাি প্রধান এলজন্ট ি াি কািণ, তাি-\n",
            "\n",
            "ক) প্রর্তপজি\n",
            "\n",
            "খ) প্রভাব্\n",
            "\n",
            "গ) র্ব্চক্ষণতা\n",
            "\n",
            "ঘ) কূ ট ব্ুর্ি\n",
            "\n",
            "র্নকচি অনুকেদটি পক়ে ৩ ও ৪ সংখযক প্রকেি উিি দাও।\n",
            "\n",
            "র্পতৃ হীন দীপুি চাচাই র্িকলন পর্িব্াকিি কতি া। দীপু র্িজক্ষত হকলও তাি র্সিান্ত যনও াি ক্ষমতা র্িল না। চাচা \n",
            "\n",
            "তাি র্ব্ক ি উকদযাগ র\n"
          ]
        }
      ],
      "source": [
        "from pdfminer.high_level import extract_text\n",
        "\n",
        "def extract_text_with_pdfminer(file_path):\n",
        "    if os.path.exists(file_path) and file_path.endswith('.pdf'):\n",
        "        try:\n",
        "            text = extract_text(file_path)\n",
        "            return text\n",
        "        except Exception as e:\n",
        "            print(f\"Error extracting text with pdfminer.six: {e}\")\n",
        "            return None\n",
        "    else:\n",
        "        print(f\"Error: File not found or not a PDF at {file_path}\")\n",
        "        return None\n",
        "\n",
        "# Use the function with your downloaded file\n",
        "pdfminer_text = extract_text_with_pdfminer(output_filename)\n",
        "\n",
        "if pdfminer_text:\n",
        "    print(\"Text extracted using pdfminer.six:\")\n",
        "    print(pdfminer_text[:1000]) # Print first 1000 characters to check\n",
        "else:\n",
        "    print(\"Failed to extract text using pdfminer.six\")"
      ]
    },
    {
      "cell_type": "code",
      "execution_count": null,
      "metadata": {
        "colab": {
          "base_uri": "https://localhost:8080/"
        },
        "collapsed": true,
        "id": "bISiIJMcVuGz",
        "outputId": "987528fd-dcdf-4d59-e0e4-25a36d5149ca"
      },
      "outputs": [
        {
          "name": "stdout",
          "output_type": "stream",
          "text": [
            "Collecting pdfplumber\n",
            "  Downloading pdfplumber-0.11.7-py3-none-any.whl.metadata (42 kB)\n",
            "\u001b[?25l     \u001b[90m━━━━━━━━━━━━━━━━━━━━━━━━━━━━━━━━━━━━━━━━\u001b[0m \u001b[32m0.0/42.8 kB\u001b[0m \u001b[31m?\u001b[0m eta \u001b[36m-:--:--\u001b[0m\r\u001b[2K     \u001b[90m━━━━━━━━━━━━━━━━━━━━━━━━━━━━━━━━━━━━━━━━\u001b[0m \u001b[32m42.8/42.8 kB\u001b[0m \u001b[31m1.6 MB/s\u001b[0m eta \u001b[36m0:00:00\u001b[0m\n",
            "\u001b[?25hRequirement already satisfied: pdfminer.six==20250506 in /usr/local/lib/python3.11/dist-packages (from pdfplumber) (20250506)\n",
            "Requirement already satisfied: Pillow>=9.1 in /usr/local/lib/python3.11/dist-packages (from pdfplumber) (11.3.0)\n",
            "Collecting pypdfium2>=4.18.0 (from pdfplumber)\n",
            "  Downloading pypdfium2-4.30.0-py3-none-manylinux_2_17_x86_64.manylinux2014_x86_64.whl.metadata (48 kB)\n",
            "\u001b[2K     \u001b[90m━━━━━━━━━━━━━━━━━━━━━━━━━━━━━━━━━━━━━━━━\u001b[0m \u001b[32m48.5/48.5 kB\u001b[0m \u001b[31m2.0 MB/s\u001b[0m eta \u001b[36m0:00:00\u001b[0m\n",
            "\u001b[?25hRequirement already satisfied: charset-normalizer>=2.0.0 in /usr/local/lib/python3.11/dist-packages (from pdfminer.six==20250506->pdfplumber) (3.4.2)\n",
            "Requirement already satisfied: cryptography>=36.0.0 in /usr/local/lib/python3.11/dist-packages (from pdfminer.six==20250506->pdfplumber) (43.0.3)\n",
            "Requirement already satisfied: cffi>=1.12 in /usr/local/lib/python3.11/dist-packages (from cryptography>=36.0.0->pdfminer.six==20250506->pdfplumber) (1.17.1)\n",
            "Requirement already satisfied: pycparser in /usr/local/lib/python3.11/dist-packages (from cffi>=1.12->cryptography>=36.0.0->pdfminer.six==20250506->pdfplumber) (2.22)\n",
            "Downloading pdfplumber-0.11.7-py3-none-any.whl (60 kB)\n",
            "\u001b[2K   \u001b[90m━━━━━━━━━━━━━━━━━━━━━━━━━━━━━━━━━━━━━━━━\u001b[0m \u001b[32m60.0/60.0 kB\u001b[0m \u001b[31m5.5 MB/s\u001b[0m eta \u001b[36m0:00:00\u001b[0m\n",
            "\u001b[?25hDownloading pypdfium2-4.30.0-py3-none-manylinux_2_17_x86_64.manylinux2014_x86_64.whl (2.8 MB)\n",
            "\u001b[2K   \u001b[90m━━━━━━━━━━━━━━━━━━━━━━━━━━━━━━━━━━━━━━━━\u001b[0m \u001b[32m2.8/2.8 MB\u001b[0m \u001b[31m33.5 MB/s\u001b[0m eta \u001b[36m0:00:00\u001b[0m\n",
            "\u001b[?25hInstalling collected packages: pypdfium2, pdfplumber\n",
            "Successfully installed pdfplumber-0.11.7 pypdfium2-4.30.0\n"
          ]
        }
      ],
      "source": [
        " # another method\n",
        "!pip install pdfplumber\n"
      ]
    },
    {
      "cell_type": "code",
      "execution_count": null,
      "metadata": {
        "colab": {
          "base_uri": "https://localhost:8080/"
        },
        "collapsed": true,
        "id": "BdqMltO0WBsL",
        "outputId": "38feb93d-4931-49d5-f8b1-3d17add4c1f9"
      },
      "outputs": [
        {
          "name": "stdout",
          "output_type": "stream",
          "text": [
            "িাাং া\n",
            "১ম পত্র\n",
            "আল ািয রিষয়\n",
            "অপরিরিতা\n",
            "অনলাইন ব্যাচ সম্পর্কিত যেককাকনা জিজ্ঞাাসা ,\n",
            "র্িখনফল\n",
            "✓ র্নম্নর্ব্িব্যজক্তিহঠাৎর্ব্িিালীহক ওঠািফকলসমাকিপর্িচ সংকটসম্পককি ধািণালাভকিকব্।\n",
            "✓ তৎকালীনসমাি-সভযতাওমানব্তািঅব্মাননাসম্পককি িানকতপািকব্।\n",
            "✓ তৎকালীনসমাকিিপণপ্রথািকুপ্রভাব্সম্পককি িানকতপািকব্।\n",
            "✓ তৎকাকলসমাকিভদ্রকলাককিস্বভাব্বব্র্িষ্ট্যসম্পককি জ্ঞাানলাভকিকব্।\n",
            "✓ নািী যকামল ঠিক, র্কন্তু দব্ু লি ন - কলযাণীি িীব্নচর্িত দ্বািা প্রর্তজিত এই সতয অনুধাব্ন কিকত\n",
            "পািকব্।\n",
            "✓ মানুষ আিা র্নক যব্কঁ চ থাকক- অনপু কমি দষ্ট্ৃ াকন্ত মানব্িীব্কনি এই র্চিন্তন সতযদিিন সম্পককি\n",
            "জ্ঞাানলাভকিকব্।\n",
            "প্রাক-মূলযা ন\n",
            "১। অনুপলেি িািা কী কলি জীরিকা রনিবাহ কিলতন?\n",
            "ক) ডাক্তার্ি খ) ওকালর্ত গ) মাস্টার্ি ঘ) ব্যব্সা\n",
            "২। োোলক ভাগ্য দেিতাি প্রধান এলজন্ট ি াি কািণ, তাি-\n",
            "ক) প্রর্তপজি খ) প্রভাব্ গ) র্ব্চক্ষণতা ঘ) কূট ব্ুর্ি\n",
            "র্নকচি অনুকেদটি পক়ে ৩ ও ৪ সংখযক প্রকেি উিি দাও।\n",
            "র্পতৃহীন দীপুি চাচাই র্িকলন পর্িব্াকিি কতিা। দীপু র্িজক্ষত হকলও তাি র্সিান্ত যনও াি ক্ষমতা র্িল না। চাচা\n",
            "তাি র্ব্ক ি উকদযাগ র্নকলও যেৌতুক র্নক ব্া়োব্ার়্ে কিাি কািকণ কনযাি র্পতা অপমার্নত যব্াধ ককি র্ব্ক ি\n",
            "আকলাচনা যভকে যদন। দীপু যমক টিি ির্ব্ যদকখ মুগ্ধ হকলও তাি চাচাকক র্কিুই ব্লকত পাকিনর্ন।\n",
            "৩। েীপুি িািাি সলে ‘অপরিরিতা' গ্লেি দকান িরিলেি রে আলে?\n",
            "ক) হর্িকিি খ) মামাি গ) র্িক্ষককি ঘ) র্ব্নুি\n",
            "৪। উক্ত িরিলে প্রাধানয দপলয়লে -\n",
            "i) যদৌিাত্ম ii) হীনম্মনযতা iii) যলাভ\n",
            "র্নকচি যকানটি ঠিক?\n",
            "ক। i ও ii খ। ii ও iii গ। i ও iii ঘ। i, ii ও iii\n",
            "৫. অনুপলেি িয়স কত িেি?\n",
            "ক) পঁর্চি খ) িাব্বিি গ) সাতাি ঘ) আটাি\n",
            "কতগুকলা প্রকেি সঠিক উিি র্দকত পািকল?\n",
            "SL Ans SL Ans SL Ans SL Ans SL Ans\n",
            "১ খ ২ গ ৩ খ ৪ ক ৫ গ\n",
            "2\n",
            "শব্দার্ব ও টীকা\n",
            "েূ শব্দ শলব্দি অর্ব ও িযাখ্যা\n",
            "গকেি কথক চর্িত্র অনুপকমি আত্মসমাকলাচনা। পর্িমাণ ও\n",
            "এ িীব্নটা না দদকঘিযি র্হসাকব্ব্ক়ো, না\n",
            "গুণ উভ র্দক র্দক ই যে তাি িীব্নটি র্নতান্তই তুে যস\n",
            "গুকণি র্হসাকব্\n",
            "কথাই এখাকন ব্যক্ত হক কি।\n",
            "গুটি এক সম পূণি ফকল পর্িণত হ । র্কন্তু গুটিই ের্দ\n",
            "ফকলি মকতা হ তাহকল তাি অসম্পূণি সািব্িা প্রকট হক\n",
            "ফকলি মকতা গুটি\n",
            "ওকঠ। র্নকিি র্নষ্ফল িীব্নকক যব্াঝাকত অনুপকমি ব্যব্হৃত\n",
            "উপমা।\n",
            "অন্নপূণিা অকন্ন পর্িপূণিা। যদব্ী দগু িা।\n",
            "যদব্ী দগু িাি দইু পুত্র; অগ্রি গকণি ও অনুি কার্তিকক ।\n",
            "গ\n"
          ]
        }
      ],
      "source": [
        "import pdfplumber\n",
        "\n",
        "# Path to your PDF file\n",
        "pdf_path = \"downloaded_pdf.pdf\"\n",
        "\n",
        "# Open and extract text\n",
        "full_text = \"\"\n",
        "with pdfplumber.open(pdf_path) as pdf:\n",
        "    for page in pdf.pages:\n",
        "        text = page.extract_text()\n",
        "        if text:  # Check if text was extracted\n",
        "            full_text += text + \"\\n\"\n",
        "\n",
        "# Save to a text file (optional)\n",
        "with open(\"extracted_text.txt\", \"w\", encoding=\"utf-8\") as f:\n",
        "    f.write(full_text)\n",
        "\n",
        "# Print the extracted text (optional)\n",
        "print(full_text[0:2000])\n"
      ]
    },
    {
      "cell_type": "code",
      "execution_count": null,
      "metadata": {
        "colab": {
          "base_uri": "https://localhost:8080/"
        },
        "id": "ThHTQFw-Xdbq",
        "outputId": "fe1b7a24-a907-4e44-f564-4ae6e789b467"
      },
      "outputs": [
        {
          "name": "stdout",
          "output_type": "stream",
          "text": [
            "Requirement already satisfied: pytesseract in /usr/local/lib/python3.11/dist-packages (0.3.13)\n",
            "Requirement already satisfied: pdf2image in /usr/local/lib/python3.11/dist-packages (1.17.0)\n",
            "Requirement already satisfied: pillow in /usr/local/lib/python3.11/dist-packages (11.3.0)\n",
            "Requirement already satisfied: packaging>=21.3 in /usr/local/lib/python3.11/dist-packages (from pytesseract) (25.0)\n"
          ]
        }
      ],
      "source": [
        "# Another method\n",
        "!pip install pytesseract pdf2image pillow\n"
      ]
    },
    {
      "cell_type": "code",
      "execution_count": null,
      "metadata": {
        "id": "BJiLNTq7aYdk"
      },
      "outputs": [],
      "source": [
        "import pytesseract"
      ]
    },
    {
      "cell_type": "code",
      "execution_count": null,
      "metadata": {
        "id": "3YrMSvWxaGGO"
      },
      "outputs": [],
      "source": [
        "pytesseract.pytesseract.tesseract_cmd = r'C:/Program Files/Tesseract-OCR/tesseract.exe'\n"
      ]
    },
    {
      "cell_type": "code",
      "execution_count": null,
      "metadata": {
        "id": "5Sc3z9vgsJwg"
      },
      "outputs": [],
      "source": [
        "import os\n",
        "import sys\n",
        "\n",
        "# Ensure Windows recognizes .exe executables\n",
        "if sys.platform.startswith(\"win\"):\n",
        "    os.environ[\"PATH\"] += os.pathsep + r\"C:\\Users\\Sheikh Rakib\\Downloads\\poppler\\bin\"\n"
      ]
    },
    {
      "cell_type": "code",
      "execution_count": null,
      "metadata": {
        "colab": {
          "base_uri": "https://localhost:8080/",
          "height": 463
        },
        "collapsed": true,
        "id": "P1udyzkxkQ8e",
        "outputId": "e0d1cff8-7d99-48f2-abcc-75c5e4d587cc"
      },
      "outputs": [
        {
          "ename": "PDFInfoNotInstalledError",
          "evalue": "Unable to get page count. Is poppler installed and in PATH?",
          "output_type": "error",
          "traceback": [
            "\u001b[0;31m---------------------------------------------------------------------------\u001b[0m",
            "\u001b[0;31mFileNotFoundError\u001b[0m                         Traceback (most recent call last)",
            "\u001b[0;32m/usr/local/lib/python3.11/dist-packages/pdf2image/pdf2image.py\u001b[0m in \u001b[0;36mpdfinfo_from_path\u001b[0;34m(pdf_path, userpw, ownerpw, poppler_path, rawdates, timeout, first_page, last_page)\u001b[0m\n\u001b[1;32m    580\u001b[0m             \u001b[0menv\u001b[0m\u001b[0;34m[\u001b[0m\u001b[0;34m\"LD_LIBRARY_PATH\"\u001b[0m\u001b[0;34m]\u001b[0m \u001b[0;34m=\u001b[0m \u001b[0mpoppler_path\u001b[0m \u001b[0;34m+\u001b[0m \u001b[0;34m\":\"\u001b[0m \u001b[0;34m+\u001b[0m \u001b[0menv\u001b[0m\u001b[0;34m.\u001b[0m\u001b[0mget\u001b[0m\u001b[0;34m(\u001b[0m\u001b[0;34m\"LD_LIBRARY_PATH\"\u001b[0m\u001b[0;34m,\u001b[0m \u001b[0;34m\"\"\u001b[0m\u001b[0;34m)\u001b[0m\u001b[0;34m\u001b[0m\u001b[0;34m\u001b[0m\u001b[0m\n\u001b[0;32m--> 581\u001b[0;31m         \u001b[0mproc\u001b[0m \u001b[0;34m=\u001b[0m \u001b[0mPopen\u001b[0m\u001b[0;34m(\u001b[0m\u001b[0mcommand\u001b[0m\u001b[0;34m,\u001b[0m \u001b[0menv\u001b[0m\u001b[0;34m=\u001b[0m\u001b[0menv\u001b[0m\u001b[0;34m,\u001b[0m \u001b[0mstdout\u001b[0m\u001b[0;34m=\u001b[0m\u001b[0mPIPE\u001b[0m\u001b[0;34m,\u001b[0m \u001b[0mstderr\u001b[0m\u001b[0;34m=\u001b[0m\u001b[0mPIPE\u001b[0m\u001b[0;34m)\u001b[0m\u001b[0;34m\u001b[0m\u001b[0;34m\u001b[0m\u001b[0m\n\u001b[0m\u001b[1;32m    582\u001b[0m \u001b[0;34m\u001b[0m\u001b[0m\n",
            "\u001b[0;32m/usr/lib/python3.11/subprocess.py\u001b[0m in \u001b[0;36m__init__\u001b[0;34m(self, args, bufsize, executable, stdin, stdout, stderr, preexec_fn, close_fds, shell, cwd, env, universal_newlines, startupinfo, creationflags, restore_signals, start_new_session, pass_fds, user, group, extra_groups, encoding, errors, text, umask, pipesize, process_group)\u001b[0m\n\u001b[1;32m   1025\u001b[0m \u001b[0;34m\u001b[0m\u001b[0m\n\u001b[0;32m-> 1026\u001b[0;31m             self._execute_child(args, executable, preexec_fn, close_fds,\n\u001b[0m\u001b[1;32m   1027\u001b[0m                                 \u001b[0mpass_fds\u001b[0m\u001b[0;34m,\u001b[0m \u001b[0mcwd\u001b[0m\u001b[0;34m,\u001b[0m \u001b[0menv\u001b[0m\u001b[0;34m,\u001b[0m\u001b[0;34m\u001b[0m\u001b[0;34m\u001b[0m\u001b[0m\n",
            "\u001b[0;32m/usr/lib/python3.11/subprocess.py\u001b[0m in \u001b[0;36m_execute_child\u001b[0;34m(self, args, executable, preexec_fn, close_fds, pass_fds, cwd, env, startupinfo, creationflags, shell, p2cread, p2cwrite, c2pread, c2pwrite, errread, errwrite, restore_signals, gid, gids, uid, umask, start_new_session, process_group)\u001b[0m\n\u001b[1;32m   1954\u001b[0m                     \u001b[0;32mif\u001b[0m \u001b[0merr_filename\u001b[0m \u001b[0;32mis\u001b[0m \u001b[0;32mnot\u001b[0m \u001b[0;32mNone\u001b[0m\u001b[0;34m:\u001b[0m\u001b[0;34m\u001b[0m\u001b[0;34m\u001b[0m\u001b[0m\n\u001b[0;32m-> 1955\u001b[0;31m                         \u001b[0;32mraise\u001b[0m \u001b[0mchild_exception_type\u001b[0m\u001b[0;34m(\u001b[0m\u001b[0merrno_num\u001b[0m\u001b[0;34m,\u001b[0m \u001b[0merr_msg\u001b[0m\u001b[0;34m,\u001b[0m \u001b[0merr_filename\u001b[0m\u001b[0;34m)\u001b[0m\u001b[0;34m\u001b[0m\u001b[0;34m\u001b[0m\u001b[0m\n\u001b[0m\u001b[1;32m   1956\u001b[0m                     \u001b[0;32melse\u001b[0m\u001b[0;34m:\u001b[0m\u001b[0;34m\u001b[0m\u001b[0;34m\u001b[0m\u001b[0m\n",
            "\u001b[0;31mFileNotFoundError\u001b[0m: [Errno 2] No such file or directory: 'C:/Users/Sheikh Rakib/Downloads/poppler/bin/pdfinfo'",
            "\nDuring handling of the above exception, another exception occurred:\n",
            "\u001b[0;31mPDFInfoNotInstalledError\u001b[0m                  Traceback (most recent call last)",
            "\u001b[0;32m/tmp/ipython-input-50-2014844069.py\u001b[0m in \u001b[0;36m<cell line: 0>\u001b[0;34m()\u001b[0m\n\u001b[1;32m      6\u001b[0m \u001b[0;34m\u001b[0m\u001b[0m\n\u001b[1;32m      7\u001b[0m \u001b[0;31m# Convert to images using Poppler\u001b[0m\u001b[0;34m\u001b[0m\u001b[0;34m\u001b[0m\u001b[0m\n\u001b[0;32m----> 8\u001b[0;31m \u001b[0mpages\u001b[0m \u001b[0;34m=\u001b[0m \u001b[0mconvert_from_path\u001b[0m\u001b[0;34m(\u001b[0m\u001b[0;34m'downloaded_pdf.pdf'\u001b[0m\u001b[0;34m,\u001b[0m \u001b[0mdpi\u001b[0m\u001b[0;34m=\u001b[0m\u001b[0;36m300\u001b[0m\u001b[0;34m,\u001b[0m \u001b[0mpoppler_path\u001b[0m\u001b[0;34m=\u001b[0m\u001b[0mpoppler_path\u001b[0m\u001b[0;34m)\u001b[0m\u001b[0;34m\u001b[0m\u001b[0;34m\u001b[0m\u001b[0m\n\u001b[0m",
            "\u001b[0;32m/usr/local/lib/python3.11/dist-packages/pdf2image/pdf2image.py\u001b[0m in \u001b[0;36mconvert_from_path\u001b[0;34m(pdf_path, dpi, output_folder, first_page, last_page, fmt, jpegopt, thread_count, userpw, ownerpw, use_cropbox, strict, transparent, single_file, output_file, poppler_path, grayscale, size, paths_only, use_pdftocairo, timeout, hide_annotations)\u001b[0m\n\u001b[1;32m    125\u001b[0m         \u001b[0mpoppler_path\u001b[0m \u001b[0;34m=\u001b[0m \u001b[0mpoppler_path\u001b[0m\u001b[0;34m.\u001b[0m\u001b[0mas_posix\u001b[0m\u001b[0;34m(\u001b[0m\u001b[0;34m)\u001b[0m\u001b[0;34m\u001b[0m\u001b[0;34m\u001b[0m\u001b[0m\n\u001b[1;32m    126\u001b[0m \u001b[0;34m\u001b[0m\u001b[0m\n\u001b[0;32m--> 127\u001b[0;31m     page_count = pdfinfo_from_path(\n\u001b[0m\u001b[1;32m    128\u001b[0m         \u001b[0mpdf_path\u001b[0m\u001b[0;34m,\u001b[0m \u001b[0muserpw\u001b[0m\u001b[0;34m,\u001b[0m \u001b[0mownerpw\u001b[0m\u001b[0;34m,\u001b[0m \u001b[0mpoppler_path\u001b[0m\u001b[0;34m=\u001b[0m\u001b[0mpoppler_path\u001b[0m\u001b[0;34m\u001b[0m\u001b[0;34m\u001b[0m\u001b[0m\n\u001b[1;32m    129\u001b[0m     )[\"Pages\"]\n",
            "\u001b[0;32m/usr/local/lib/python3.11/dist-packages/pdf2image/pdf2image.py\u001b[0m in \u001b[0;36mpdfinfo_from_path\u001b[0;34m(pdf_path, userpw, ownerpw, poppler_path, rawdates, timeout, first_page, last_page)\u001b[0m\n\u001b[1;32m    605\u001b[0m \u001b[0;34m\u001b[0m\u001b[0m\n\u001b[1;32m    606\u001b[0m     \u001b[0;32mexcept\u001b[0m \u001b[0mOSError\u001b[0m\u001b[0;34m:\u001b[0m\u001b[0;34m\u001b[0m\u001b[0;34m\u001b[0m\u001b[0m\n\u001b[0;32m--> 607\u001b[0;31m         raise PDFInfoNotInstalledError(\n\u001b[0m\u001b[1;32m    608\u001b[0m             \u001b[0;34m\"Unable to get page count. Is poppler installed and in PATH?\"\u001b[0m\u001b[0;34m\u001b[0m\u001b[0;34m\u001b[0m\u001b[0m\n\u001b[1;32m    609\u001b[0m         )\n",
            "\u001b[0;31mPDFInfoNotInstalledError\u001b[0m: Unable to get page count. Is poppler installed and in PATH?"
          ]
        }
      ],
      "source": [
        "from pdf2image import convert_from_path\n",
        "import pytesseract\n",
        "\n",
        "# For Windows:\n",
        "poppler_path = r\"C:/Users/Sheikh Rakib/Downloads/poppler/bin\"\n",
        "\n",
        "# Convert to images using Poppler\n",
        "pages = convert_from_path('downloaded_pdf.pdf', dpi=300, poppler_path=poppler_path)"
      ]
    },
    {
      "cell_type": "code",
      "execution_count": null,
      "metadata": {
        "colab": {
          "base_uri": "https://localhost:8080/",
          "height": 463
        },
        "collapsed": true,
        "id": "7UoSLSICalxk",
        "outputId": "5213f63d-1621-4a72-ac52-0070de1b1e85"
      },
      "outputs": [
        {
          "ename": "PDFInfoNotInstalledError",
          "evalue": "Unable to get page count. Is poppler installed and in PATH?",
          "output_type": "error",
          "traceback": [
            "\u001b[0;31m---------------------------------------------------------------------------\u001b[0m",
            "\u001b[0;31mFileNotFoundError\u001b[0m                         Traceback (most recent call last)",
            "\u001b[0;32m/usr/local/lib/python3.11/dist-packages/pdf2image/pdf2image.py\u001b[0m in \u001b[0;36mpdfinfo_from_path\u001b[0;34m(pdf_path, userpw, ownerpw, poppler_path, rawdates, timeout, first_page, last_page)\u001b[0m\n\u001b[1;32m    580\u001b[0m             \u001b[0menv\u001b[0m\u001b[0;34m[\u001b[0m\u001b[0;34m\"LD_LIBRARY_PATH\"\u001b[0m\u001b[0;34m]\u001b[0m \u001b[0;34m=\u001b[0m \u001b[0mpoppler_path\u001b[0m \u001b[0;34m+\u001b[0m \u001b[0;34m\":\"\u001b[0m \u001b[0;34m+\u001b[0m \u001b[0menv\u001b[0m\u001b[0;34m.\u001b[0m\u001b[0mget\u001b[0m\u001b[0;34m(\u001b[0m\u001b[0;34m\"LD_LIBRARY_PATH\"\u001b[0m\u001b[0;34m,\u001b[0m \u001b[0;34m\"\"\u001b[0m\u001b[0;34m)\u001b[0m\u001b[0;34m\u001b[0m\u001b[0;34m\u001b[0m\u001b[0m\n\u001b[0;32m--> 581\u001b[0;31m         \u001b[0mproc\u001b[0m \u001b[0;34m=\u001b[0m \u001b[0mPopen\u001b[0m\u001b[0;34m(\u001b[0m\u001b[0mcommand\u001b[0m\u001b[0;34m,\u001b[0m \u001b[0menv\u001b[0m\u001b[0;34m=\u001b[0m\u001b[0menv\u001b[0m\u001b[0;34m,\u001b[0m \u001b[0mstdout\u001b[0m\u001b[0;34m=\u001b[0m\u001b[0mPIPE\u001b[0m\u001b[0;34m,\u001b[0m \u001b[0mstderr\u001b[0m\u001b[0;34m=\u001b[0m\u001b[0mPIPE\u001b[0m\u001b[0;34m)\u001b[0m\u001b[0;34m\u001b[0m\u001b[0;34m\u001b[0m\u001b[0m\n\u001b[0m\u001b[1;32m    582\u001b[0m \u001b[0;34m\u001b[0m\u001b[0m\n",
            "\u001b[0;32m/usr/lib/python3.11/subprocess.py\u001b[0m in \u001b[0;36m__init__\u001b[0;34m(self, args, bufsize, executable, stdin, stdout, stderr, preexec_fn, close_fds, shell, cwd, env, universal_newlines, startupinfo, creationflags, restore_signals, start_new_session, pass_fds, user, group, extra_groups, encoding, errors, text, umask, pipesize, process_group)\u001b[0m\n\u001b[1;32m   1025\u001b[0m \u001b[0;34m\u001b[0m\u001b[0m\n\u001b[0;32m-> 1026\u001b[0;31m             self._execute_child(args, executable, preexec_fn, close_fds,\n\u001b[0m\u001b[1;32m   1027\u001b[0m                                 \u001b[0mpass_fds\u001b[0m\u001b[0;34m,\u001b[0m \u001b[0mcwd\u001b[0m\u001b[0;34m,\u001b[0m \u001b[0menv\u001b[0m\u001b[0;34m,\u001b[0m\u001b[0;34m\u001b[0m\u001b[0;34m\u001b[0m\u001b[0m\n",
            "\u001b[0;32m/usr/lib/python3.11/subprocess.py\u001b[0m in \u001b[0;36m_execute_child\u001b[0;34m(self, args, executable, preexec_fn, close_fds, pass_fds, cwd, env, startupinfo, creationflags, shell, p2cread, p2cwrite, c2pread, c2pwrite, errread, errwrite, restore_signals, gid, gids, uid, umask, start_new_session, process_group)\u001b[0m\n\u001b[1;32m   1954\u001b[0m                     \u001b[0;32mif\u001b[0m \u001b[0merr_filename\u001b[0m \u001b[0;32mis\u001b[0m \u001b[0;32mnot\u001b[0m \u001b[0;32mNone\u001b[0m\u001b[0;34m:\u001b[0m\u001b[0;34m\u001b[0m\u001b[0;34m\u001b[0m\u001b[0m\n\u001b[0;32m-> 1955\u001b[0;31m                         \u001b[0;32mraise\u001b[0m \u001b[0mchild_exception_type\u001b[0m\u001b[0;34m(\u001b[0m\u001b[0merrno_num\u001b[0m\u001b[0;34m,\u001b[0m \u001b[0merr_msg\u001b[0m\u001b[0;34m,\u001b[0m \u001b[0merr_filename\u001b[0m\u001b[0;34m)\u001b[0m\u001b[0;34m\u001b[0m\u001b[0;34m\u001b[0m\u001b[0m\n\u001b[0m\u001b[1;32m   1956\u001b[0m                     \u001b[0;32melse\u001b[0m\u001b[0;34m:\u001b[0m\u001b[0;34m\u001b[0m\u001b[0;34m\u001b[0m\u001b[0m\n",
            "\u001b[0;31mFileNotFoundError\u001b[0m: [Errno 2] No such file or directory: 'pdfinfo'",
            "\nDuring handling of the above exception, another exception occurred:\n",
            "\u001b[0;31mPDFInfoNotInstalledError\u001b[0m                  Traceback (most recent call last)",
            "\u001b[0;32m/tmp/ipython-input-36-1886970507.py\u001b[0m in \u001b[0;36m<cell line: 0>\u001b[0;34m()\u001b[0m\n\u001b[1;32m      7\u001b[0m \u001b[0;34m\u001b[0m\u001b[0m\n\u001b[1;32m      8\u001b[0m \u001b[0;31m# Convert PDF to images\u001b[0m\u001b[0;34m\u001b[0m\u001b[0;34m\u001b[0m\u001b[0m\n\u001b[0;32m----> 9\u001b[0;31m \u001b[0mpages\u001b[0m \u001b[0;34m=\u001b[0m \u001b[0mconvert_from_path\u001b[0m\u001b[0;34m(\u001b[0m\u001b[0;34m'downloaded_pdf.pdf'\u001b[0m\u001b[0;34m,\u001b[0m \u001b[0mdpi\u001b[0m\u001b[0;34m=\u001b[0m\u001b[0;36m300\u001b[0m\u001b[0;34m)\u001b[0m\u001b[0;34m\u001b[0m\u001b[0;34m\u001b[0m\u001b[0m\n\u001b[0m\u001b[1;32m     10\u001b[0m \u001b[0;34m\u001b[0m\u001b[0m\n\u001b[1;32m     11\u001b[0m \u001b[0;31m# OCR with Bengali language\u001b[0m\u001b[0;34m\u001b[0m\u001b[0;34m\u001b[0m\u001b[0m\n",
            "\u001b[0;32m/usr/local/lib/python3.11/dist-packages/pdf2image/pdf2image.py\u001b[0m in \u001b[0;36mconvert_from_path\u001b[0;34m(pdf_path, dpi, output_folder, first_page, last_page, fmt, jpegopt, thread_count, userpw, ownerpw, use_cropbox, strict, transparent, single_file, output_file, poppler_path, grayscale, size, paths_only, use_pdftocairo, timeout, hide_annotations)\u001b[0m\n\u001b[1;32m    125\u001b[0m         \u001b[0mpoppler_path\u001b[0m \u001b[0;34m=\u001b[0m \u001b[0mpoppler_path\u001b[0m\u001b[0;34m.\u001b[0m\u001b[0mas_posix\u001b[0m\u001b[0;34m(\u001b[0m\u001b[0;34m)\u001b[0m\u001b[0;34m\u001b[0m\u001b[0;34m\u001b[0m\u001b[0m\n\u001b[1;32m    126\u001b[0m \u001b[0;34m\u001b[0m\u001b[0m\n\u001b[0;32m--> 127\u001b[0;31m     page_count = pdfinfo_from_path(\n\u001b[0m\u001b[1;32m    128\u001b[0m         \u001b[0mpdf_path\u001b[0m\u001b[0;34m,\u001b[0m \u001b[0muserpw\u001b[0m\u001b[0;34m,\u001b[0m \u001b[0mownerpw\u001b[0m\u001b[0;34m,\u001b[0m \u001b[0mpoppler_path\u001b[0m\u001b[0;34m=\u001b[0m\u001b[0mpoppler_path\u001b[0m\u001b[0;34m\u001b[0m\u001b[0;34m\u001b[0m\u001b[0m\n\u001b[1;32m    129\u001b[0m     )[\"Pages\"]\n",
            "\u001b[0;32m/usr/local/lib/python3.11/dist-packages/pdf2image/pdf2image.py\u001b[0m in \u001b[0;36mpdfinfo_from_path\u001b[0;34m(pdf_path, userpw, ownerpw, poppler_path, rawdates, timeout, first_page, last_page)\u001b[0m\n\u001b[1;32m    605\u001b[0m \u001b[0;34m\u001b[0m\u001b[0m\n\u001b[1;32m    606\u001b[0m     \u001b[0;32mexcept\u001b[0m \u001b[0mOSError\u001b[0m\u001b[0;34m:\u001b[0m\u001b[0;34m\u001b[0m\u001b[0;34m\u001b[0m\u001b[0m\n\u001b[0;32m--> 607\u001b[0;31m         raise PDFInfoNotInstalledError(\n\u001b[0m\u001b[1;32m    608\u001b[0m             \u001b[0;34m\"Unable to get page count. Is poppler installed and in PATH?\"\u001b[0m\u001b[0;34m\u001b[0m\u001b[0;34m\u001b[0m\u001b[0m\n\u001b[1;32m    609\u001b[0m         )\n",
            "\u001b[0;31mPDFInfoNotInstalledError\u001b[0m: Unable to get page count. Is poppler installed and in PATH?"
          ]
        }
      ],
      "source": [
        "from pdf2image import convert_from_path\n",
        "import pytesseract\n",
        "import os\n",
        "\n",
        "# Optional: Set path to tesseract executable on Windows\n",
        "# pytesseract.pytesseract.tesseract_cmd = r'C:\\Program Files\\Tesseract-OCR\\tesseract.exe'\n",
        "\n",
        "# Convert PDF to images\n",
        "pages = convert_from_path('downloaded_pdf.pdf', dpi=300)\n",
        "\n",
        "# OCR with Bengali language\n",
        "full_text = \"\"\n",
        "for i, page in enumerate(pages):\n",
        "    text = pytesseract.image_to_string(page, lang='ben')\n",
        "    full_text += text + \"\\n\\n\"\n",
        "\n",
        "# Save to a .txt file\n",
        "with open(\"ocr_extracted_bengali.txt\", \"w\", encoding=\"utf-8\") as f:\n",
        "    f.write(full_text)\n",
        "\n",
        "print(\"✅ Bengali OCR extraction complete.\")\n",
        "#didn't work out"
      ]
    },
    {
      "cell_type": "markdown",
      "metadata": {
        "id": "jwRhkjUzoMuY"
      },
      "source": [
        "**Embedding Wastage**"
      ]
    },
    {
      "cell_type": "code",
      "execution_count": null,
      "metadata": {
        "colab": {
          "base_uri": "https://localhost:8080/"
        },
        "collapsed": true,
        "id": "T-lalfrxUgs3",
        "outputId": "1dca160a-32d9-4b72-803a-29381d451312"
      },
      "outputs": [
        {
          "name": "stdout",
          "output_type": "stream",
          "text": [
            "Collecting langchain_openai\n",
            "  Downloading langchain_openai-0.3.28-py3-none-any.whl.metadata (2.3 kB)\n",
            "Requirement already satisfied: langchain-core<1.0.0,>=0.3.68 in /usr/local/lib/python3.11/dist-packages (from langchain_openai) (0.3.70)\n",
            "Requirement already satisfied: openai<2.0.0,>=1.86.0 in /usr/local/lib/python3.11/dist-packages (from langchain_openai) (1.97.0)\n",
            "Requirement already satisfied: tiktoken<1,>=0.7 in /usr/local/lib/python3.11/dist-packages (from langchain_openai) (0.9.0)\n",
            "Requirement already satisfied: langsmith>=0.3.45 in /usr/local/lib/python3.11/dist-packages (from langchain-core<1.0.0,>=0.3.68->langchain_openai) (0.4.8)\n",
            "Requirement already satisfied: tenacity!=8.4.0,<10.0.0,>=8.1.0 in /usr/local/lib/python3.11/dist-packages (from langchain-core<1.0.0,>=0.3.68->langchain_openai) (8.5.0)\n",
            "Requirement already satisfied: jsonpatch<2.0,>=1.33 in /usr/local/lib/python3.11/dist-packages (from langchain-core<1.0.0,>=0.3.68->langchain_openai) (1.33)\n",
            "Requirement already satisfied: PyYAML>=5.3 in /usr/local/lib/python3.11/dist-packages (from langchain-core<1.0.0,>=0.3.68->langchain_openai) (6.0.2)\n",
            "Requirement already satisfied: typing-extensions>=4.7 in /usr/local/lib/python3.11/dist-packages (from langchain-core<1.0.0,>=0.3.68->langchain_openai) (4.14.1)\n",
            "Requirement already satisfied: packaging>=23.2 in /usr/local/lib/python3.11/dist-packages (from langchain-core<1.0.0,>=0.3.68->langchain_openai) (25.0)\n",
            "Requirement already satisfied: pydantic>=2.7.4 in /usr/local/lib/python3.11/dist-packages (from langchain-core<1.0.0,>=0.3.68->langchain_openai) (2.11.7)\n",
            "Requirement already satisfied: anyio<5,>=3.5.0 in /usr/local/lib/python3.11/dist-packages (from openai<2.0.0,>=1.86.0->langchain_openai) (4.9.0)\n",
            "Requirement already satisfied: distro<2,>=1.7.0 in /usr/local/lib/python3.11/dist-packages (from openai<2.0.0,>=1.86.0->langchain_openai) (1.9.0)\n",
            "Requirement already satisfied: httpx<1,>=0.23.0 in /usr/local/lib/python3.11/dist-packages (from openai<2.0.0,>=1.86.0->langchain_openai) (0.28.1)\n",
            "Requirement already satisfied: jiter<1,>=0.4.0 in /usr/local/lib/python3.11/dist-packages (from openai<2.0.0,>=1.86.0->langchain_openai) (0.10.0)\n",
            "Requirement already satisfied: sniffio in /usr/local/lib/python3.11/dist-packages (from openai<2.0.0,>=1.86.0->langchain_openai) (1.3.1)\n",
            "Requirement already satisfied: tqdm>4 in /usr/local/lib/python3.11/dist-packages (from openai<2.0.0,>=1.86.0->langchain_openai) (4.67.1)\n",
            "Requirement already satisfied: regex>=2022.1.18 in /usr/local/lib/python3.11/dist-packages (from tiktoken<1,>=0.7->langchain_openai) (2024.11.6)\n",
            "Requirement already satisfied: requests>=2.26.0 in /usr/local/lib/python3.11/dist-packages (from tiktoken<1,>=0.7->langchain_openai) (2.32.3)\n",
            "Requirement already satisfied: idna>=2.8 in /usr/local/lib/python3.11/dist-packages (from anyio<5,>=3.5.0->openai<2.0.0,>=1.86.0->langchain_openai) (3.10)\n",
            "Requirement already satisfied: certifi in /usr/local/lib/python3.11/dist-packages (from httpx<1,>=0.23.0->openai<2.0.0,>=1.86.0->langchain_openai) (2025.7.14)\n",
            "Requirement already satisfied: httpcore==1.* in /usr/local/lib/python3.11/dist-packages (from httpx<1,>=0.23.0->openai<2.0.0,>=1.86.0->langchain_openai) (1.0.9)\n",
            "Requirement already satisfied: h11>=0.16 in /usr/local/lib/python3.11/dist-packages (from httpcore==1.*->httpx<1,>=0.23.0->openai<2.0.0,>=1.86.0->langchain_openai) (0.16.0)\n",
            "Requirement already satisfied: jsonpointer>=1.9 in /usr/local/lib/python3.11/dist-packages (from jsonpatch<2.0,>=1.33->langchain-core<1.0.0,>=0.3.68->langchain_openai) (3.0.0)\n",
            "Requirement already satisfied: orjson<4.0.0,>=3.9.14 in /usr/local/lib/python3.11/dist-packages (from langsmith>=0.3.45->langchain-core<1.0.0,>=0.3.68->langchain_openai) (3.11.0)\n",
            "Requirement already satisfied: requests-toolbelt<2.0.0,>=1.0.0 in /usr/local/lib/python3.11/dist-packages (from langsmith>=0.3.45->langchain-core<1.0.0,>=0.3.68->langchain_openai) (1.0.0)\n",
            "Requirement already satisfied: zstandard<0.24.0,>=0.23.0 in /usr/local/lib/python3.11/dist-packages (from langsmith>=0.3.45->langchain-core<1.0.0,>=0.3.68->langchain_openai) (0.23.0)\n",
            "Requirement already satisfied: annotated-types>=0.6.0 in /usr/local/lib/python3.11/dist-packages (from pydantic>=2.7.4->langchain-core<1.0.0,>=0.3.68->langchain_openai) (0.7.0)\n",
            "Requirement already satisfied: pydantic-core==2.33.2 in /usr/local/lib/python3.11/dist-packages (from pydantic>=2.7.4->langchain-core<1.0.0,>=0.3.68->langchain_openai) (2.33.2)\n",
            "Requirement already satisfied: typing-inspection>=0.4.0 in /usr/local/lib/python3.11/dist-packages (from pydantic>=2.7.4->langchain-core<1.0.0,>=0.3.68->langchain_openai) (0.4.1)\n",
            "Requirement already satisfied: charset-normalizer<4,>=2 in /usr/local/lib/python3.11/dist-packages (from requests>=2.26.0->tiktoken<1,>=0.7->langchain_openai) (3.4.2)\n",
            "Requirement already satisfied: urllib3<3,>=1.21.1 in /usr/local/lib/python3.11/dist-packages (from requests>=2.26.0->tiktoken<1,>=0.7->langchain_openai) (2.5.0)\n",
            "Downloading langchain_openai-0.3.28-py3-none-any.whl (70 kB)\n",
            "\u001b[2K   \u001b[90m━━━━━━━━━━━━━━━━━━━━━━━━━━━━━━━━━━━━━━━━\u001b[0m \u001b[32m70.6/70.6 kB\u001b[0m \u001b[31m2.8 MB/s\u001b[0m eta \u001b[36m0:00:00\u001b[0m\n",
            "\u001b[?25hInstalling collected packages: langchain_openai\n",
            "Successfully installed langchain_openai-0.3.28\n"
          ]
        }
      ],
      "source": [
        "!pip install langchain_openai"
      ]
    },
    {
      "cell_type": "code",
      "execution_count": null,
      "metadata": {
        "id": "NCfi3YR5osJ-"
      },
      "outputs": [],
      "source": [
        "from langchain_openai import OpenAIEmbeddings"
      ]
    },
    {
      "cell_type": "code",
      "execution_count": null,
      "metadata": {
        "collapsed": true,
        "id": "s6HGbNb9oxIE"
      },
      "outputs": [],
      "source": [
        "import getpass\n",
        "import os\n",
        "\n",
        "if not os.environ.get(\"OPENAI_API_KEY\"):\n",
        "  os.environ[\"OPENAI_API_KEY\"] = getpass.getpass(\"Enter API key for OpenAI: \")\n",
        "\n",
        "from langchain_openai import OpenAIEmbeddings\n",
        "\n",
        "embeddings = OpenAIEmbeddings()"
      ]
    },
    {
      "cell_type": "markdown",
      "metadata": {
        "id": "bx2Em9noo96t"
      },
      "source": [
        "There are several vector stores like Chroma, FAISS, Lance."
      ]
    }
  ],
  "metadata": {
    "colab": {
      "provenance": [],
      "authorship_tag": "ABX9TyMpSoOShzDcaySWG2+86IFK",
      "include_colab_link": true
    },
    "kernelspec": {
      "display_name": "Python 3",
      "name": "python3"
    },
    "language_info": {
      "name": "python"
    }
  },
  "nbformat": 4,
  "nbformat_minor": 0
}